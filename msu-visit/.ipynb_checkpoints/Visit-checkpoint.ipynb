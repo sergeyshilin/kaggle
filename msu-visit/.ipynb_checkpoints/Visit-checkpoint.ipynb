{
 "cells": [
  {
   "cell_type": "code",
   "execution_count": 266,
   "metadata": {
    "collapsed": true
   },
   "outputs": [],
   "source": [
    "import numpy as np\n",
    "import pandas as pd"
   ]
  },
  {
   "cell_type": "code",
   "execution_count": 320,
   "metadata": {
    "collapsed": false
   },
   "outputs": [],
   "source": [
    "data = pd.read_csv('train.csv')\n",
    "submit = pd.read_csv('solutionmmp.csv')"
   ]
  },
  {
   "cell_type": "code",
   "execution_count": 306,
   "metadata": {
    "collapsed": true
   },
   "outputs": [],
   "source": [
    "def get_probs(weeks, days, alpha=1.3):\n",
    "    probs_by_day = []\n",
    "    probs_result = []\n",
    "    \n",
    "    #all_weights = math.log(reduce(lambda x, y: x*y, weeks))\n",
    "    all_weights = sum([x ** alpha for x in weeks])\n",
    "    for day in range(1, 8):\n",
    "        weight_sum = 0\n",
    "        for i, val in enumerate(weeks):\n",
    "            if(days[i] == day):\n",
    "                weight_sum += weeks[i] ** alpha\n",
    "        probs_by_day.append(weight_sum / all_weights)\n",
    "        \n",
    "#     for i in range(len(probs_by_day)):\n",
    "#         multiply = 1\n",
    "#         if(i > 0):\n",
    "#             for k in range(i):\n",
    "#                 multiply *= (1 - probs_by_day[k])\n",
    "#         probs_result.append(probs_by_day[i] * multiply)\n",
    "    \n",
    "    return probs_by_day, probs_result"
   ]
  },
  {
   "cell_type": "markdown",
   "metadata": {},
   "source": [
    "### Пересчет вероятностей с весами "
   ]
  },
  {
   "cell_type": "code",
   "execution_count": null,
   "metadata": {
    "collapsed": true
   },
   "outputs": [],
   "source": [
    "alpha = 1.3"
   ]
  },
  {
   "cell_type": "code",
   "execution_count": 307,
   "metadata": {
    "collapsed": true
   },
   "outputs": [],
   "source": [
    "import math\n",
    "\n",
    "def get_predicted_day(user_id):\n",
    "    visits = data[user_id:user_id+1].visits.values[0].split()\n",
    "    weeks = [int(x) / 7 if (int(x) % 7) == 0 else int(x) / 7 + 1 for x in visits]\n",
    "    days = [7 if (int(x) % 7 == 0) else (int(x) % 7) for x in visits]\n",
    "    \n",
    "    probs_by_day, probs_result = get_probs(weeks, days)        \n",
    "    \n",
    "    return probs_result.index(max(probs_result)) + 1"
   ]
  },
  {
   "cell_type": "code",
   "execution_count": 308,
   "metadata": {
    "collapsed": false
   },
   "outputs": [],
   "source": [
    "for i in range(len(submit)):\n",
    "    submit.loc[submit['id'] == i + 1, 'nextvisit'] = get_predicted_day(i)"
   ]
  },
  {
   "cell_type": "markdown",
   "metadata": {},
   "source": [
    "### Linear SVC"
   ]
  },
  {
   "cell_type": "raw",
   "metadata": {},
   "source": [
    "train = pd.DataFrame()\n",
    "train['id'] = data[:100].id"
   ]
  },
  {
   "cell_type": "raw",
   "metadata": {},
   "source": [
    "from  more_itertools import unique_everseen\n",
    "\n",
    "#for user_id in range(len(data)):\n",
    "for user_id in range(len(train)):\n",
    "    visits = data[user_id:user_id+1].visits.values[0].split()\n",
    "    weeks_train = list(unique_everseen([int(x) / 7 if (int(x) % 7) == 0 else int(x) / 7 + 1 for x in visits][:-1]))\n",
    "    days = [7 if (int(x) % 7 == 0) else (int(x) % 7) for x in visits]\n",
    "    days_train = days[:-1]\n",
    "    day_test = days[-1]\n",
    "    \n",
    "    probs_by_day, probs_result = get_probs(weeks_train, days_train)\n",
    "    feature_names_1 = ['Mon_1', 'Tue_1', 'Wed_1', 'Thu_1', 'Fri_1', 'Sat_1', 'Sun_1']\n",
    "    feature_names_2 = ['Mon_2', 'Tue_2', 'Wed_2', 'Thu_2', 'Fri_2', 'Sat_2', 'Sun_2']\n",
    "        \n",
    "    train.loc[train.id == user_id + 1 ,'d_percent'] = (float(len(days_train)) / 1098)\n",
    "    train.loc[train.id == user_id + 1 ,'w_percent'] = (float(len(weeks_train)) / 156)\n",
    "    \n",
    "    for i in range(len(feature_names_1)):\n",
    "        train.loc[train.id == user_id + 1, feature_names_1[i]] = probs_by_day[i]\n",
    "    for i in range(len(feature_names_2)):\n",
    "        train.loc[train.id == user_id + 1, feature_names_2[i]] = probs_result[i]\n",
    "    \n",
    "    \n",
    "    train.loc[train.id == user_id + 1, 'nextvisit'] = day_test"
   ]
  },
  {
   "cell_type": "raw",
   "metadata": {},
   "source": [
    "cols = list(train.columns)\n",
    "[cols.remove(c) for c in ['id', 'nextvisit']]\n",
    "train[cols][:3]"
   ]
  },
  {
   "cell_type": "raw",
   "metadata": {},
   "source": [
    "from sklearn.svm import LinearSVC\n",
    "from sklearn.ensemble import RandomForestClassifier\n",
    "\n",
    "# clf = RandomForestClassifier(n_estimators=1000, oob_score=True, random_state=42)\n",
    "clf = LinearSVC(C=1)\n",
    "clf.fit(train[cols], train.nextvisit)"
   ]
  },
  {
   "cell_type": "raw",
   "metadata": {},
   "source": [
    "test = pd.DataFrame()\n",
    "test['id'] = data[:1000].id"
   ]
  },
  {
   "cell_type": "raw",
   "metadata": {},
   "source": [
    "for user_id in range(len(test)):\n",
    "    visits = data[user_id:user_id+1].visits.values[0].split()\n",
    "    weeks_test = list(unique_everseen([int(x) / 7 if (int(x) % 7) == 0 else int(x) / 7 + 1 for x in visits]))\n",
    "    days_test = [7 if (int(x) % 7 == 0) else (int(x) % 7) for x in visits]\n",
    "    \n",
    "    probs_by_day, probs_result = get_probs(weeks_test, days_test)\n",
    "    feature_names_1 = ['Mon_1', 'Tue_1', 'Wed_1', 'Thu_1', 'Fri_1', 'Sat_1', 'Sun_1']\n",
    "    feature_names_2 = ['Mon_2', 'Tue_2', 'Wed_2', 'Thu_2', 'Fri_2', 'Sat_2', 'Sun_2']\n",
    "        \n",
    "    test.loc[train.id == user_id + 1 ,'d_percent'] = (float(len(days_test)) / 1099)\n",
    "    test.loc[train.id == user_id + 1 ,'w_percent'] = (float(len(weeks_test)) / 157)\n",
    "    \n",
    "    for i in range(len(feature_names_1)):\n",
    "        test.loc[test.id == user_id + 1, feature_names_1[i]] = probs_by_day[i]\n",
    "    for i in range(len(feature_names_2)):\n",
    "        test.loc[test.id == user_id + 1, feature_names_2[i]] = probs_result[i]"
   ]
  },
  {
   "cell_type": "raw",
   "metadata": {},
   "source": [
    "predict = clf.predict(test[cols])"
   ]
  },
  {
   "cell_type": "raw",
   "metadata": {},
   "source": [
    "for i in range(len(test)):\n",
    "    submit.loc[submit.id == i + 1, 'nextvisit'] = int(predict[i])"
   ]
  },
  {
   "cell_type": "code",
   "execution_count": 325,
   "metadata": {
    "collapsed": false
   },
   "outputs": [],
   "source": [
    "submFile = open('submit.csv', 'w')\n",
    "submFile.write('id,nextvisit\\n')\n",
    "for i in range(len(submit)):\n",
    "    submFile.write(str(submit['id'].values[i]))\n",
    "    submFile.write(', ')\n",
    "    submFile.write(str(submit['nextvisit'].values[i]))\n",
    "    submFile.write('\\n')\n",
    "\n",
    "submFile.close()"
   ]
  },
  {
   "cell_type": "code",
   "execution_count": null,
   "metadata": {
    "collapsed": true
   },
   "outputs": [],
   "source": []
  }
 ],
 "metadata": {
  "kernelspec": {
   "display_name": "Python 2",
   "language": "python",
   "name": "python2"
  },
  "language_info": {
   "codemirror_mode": {
    "name": "ipython",
    "version": 2
   },
   "file_extension": ".py",
   "mimetype": "text/x-python",
   "name": "python",
   "nbconvert_exporter": "python",
   "pygments_lexer": "ipython2",
   "version": "2.7.6"
  }
 },
 "nbformat": 4,
 "nbformat_minor": 0
}
