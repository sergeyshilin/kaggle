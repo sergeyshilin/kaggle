{
 "cells": [
  {
   "cell_type": "code",
   "execution_count": 1,
   "metadata": {
    "collapsed": true
   },
   "outputs": [],
   "source": [
    "import numpy as np\n",
    "import pandas as pd"
   ]
  },
  {
   "cell_type": "code",
   "execution_count": 147,
   "metadata": {
    "collapsed": true
   },
   "outputs": [],
   "source": [
    "data = pd.read_csv('train.csv')\n",
    "submit = pd.DataFrame()\n",
    "submit['id'] = data.id\n",
    "submit['nextvisit'] = 0"
   ]
  },
  {
   "cell_type": "code",
   "execution_count": 148,
   "metadata": {
    "collapsed": true
   },
   "outputs": [],
   "source": [
    "alpha = 1.3"
   ]
  },
  {
   "cell_type": "code",
   "execution_count": 171,
   "metadata": {
    "collapsed": true
   },
   "outputs": [],
   "source": [
    "def get_predicted_day(user_id):\n",
    "    visits = data[user_id:user_id+1].visits.values[0].split()\n",
    "    weeks = [int(x) / 7 for x in visits]\n",
    "    days = [7 if (int(x) % 7 == 0) else (int(x) % 7) for x in visits]\n",
    "    \n",
    "    probs_by_day = []\n",
    "    probs_result = []\n",
    "\n",
    "    all_weights = sum([x ** alpha for x in weeks])\n",
    "    for day in range(1, 8):\n",
    "        weight_sum = 0\n",
    "        for i, val in enumerate(weeks):\n",
    "            if(days[i] == day):\n",
    "                weight_sum += weeks[i] ** alpha\n",
    "        probs_by_day.append(weight_sum / all_weights)\n",
    "        \n",
    "    for i in range(len(probs_by_day)):\n",
    "        multiply = 1\n",
    "        if(i > 0):\n",
    "            for k in range(i):\n",
    "                multiply *= (1 - probs_by_day[k])\n",
    "        probs_result.append(probs_by_day[i] * multiply)    \n",
    "    \n",
    "    return probs_result.index(max(probs_result)) + 1"
   ]
  },
  {
   "cell_type": "code",
   "execution_count": 173,
   "metadata": {
    "collapsed": false
   },
   "outputs": [],
   "source": [
    "#for i in range(len(data)):\n",
    "for i in range(1000):\n",
    "    submit.loc[submit['id'] == i + 1, 'nextvisit'] = get_predicted_day(i)"
   ]
  },
  {
   "cell_type": "code",
   "execution_count": 164,
   "metadata": {
    "collapsed": false,
    "scrolled": true
   },
   "outputs": [
    {
     "data": {
      "text/html": [
       "<div>\n",
       "<table border=\"1\" class=\"dataframe\">\n",
       "  <thead>\n",
       "    <tr style=\"text-align: right;\">\n",
       "      <th></th>\n",
       "      <th>id</th>\n",
       "      <th>nextvisit</th>\n",
       "    </tr>\n",
       "  </thead>\n",
       "  <tbody>\n",
       "    <tr>\n",
       "      <th>0</th>\n",
       "      <td>1</td>\n",
       "      <td>2</td>\n",
       "    </tr>\n",
       "    <tr>\n",
       "      <th>1</th>\n",
       "      <td>2</td>\n",
       "      <td>3</td>\n",
       "    </tr>\n",
       "    <tr>\n",
       "      <th>2</th>\n",
       "      <td>3</td>\n",
       "      <td>2</td>\n",
       "    </tr>\n",
       "    <tr>\n",
       "      <th>3</th>\n",
       "      <td>4</td>\n",
       "      <td>5</td>\n",
       "    </tr>\n",
       "    <tr>\n",
       "      <th>4</th>\n",
       "      <td>5</td>\n",
       "      <td>2</td>\n",
       "    </tr>\n",
       "    <tr>\n",
       "      <th>5</th>\n",
       "      <td>6</td>\n",
       "      <td>3</td>\n",
       "    </tr>\n",
       "    <tr>\n",
       "      <th>6</th>\n",
       "      <td>7</td>\n",
       "      <td>4</td>\n",
       "    </tr>\n",
       "    <tr>\n",
       "      <th>7</th>\n",
       "      <td>8</td>\n",
       "      <td>1</td>\n",
       "    </tr>\n",
       "    <tr>\n",
       "      <th>8</th>\n",
       "      <td>9</td>\n",
       "      <td>6</td>\n",
       "    </tr>\n",
       "    <tr>\n",
       "      <th>9</th>\n",
       "      <td>10</td>\n",
       "      <td>6</td>\n",
       "    </tr>\n",
       "  </tbody>\n",
       "</table>\n",
       "</div>"
      ],
      "text/plain": [
       "   id  nextvisit\n",
       "0   1          2\n",
       "1   2          3\n",
       "2   3          2\n",
       "3   4          5\n",
       "4   5          2\n",
       "5   6          3\n",
       "6   7          4\n",
       "7   8          1\n",
       "8   9          6\n",
       "9  10          6"
      ]
     },
     "execution_count": 164,
     "metadata": {},
     "output_type": "execute_result"
    }
   ],
   "source": [
    "submit[:10]"
   ]
  },
  {
   "cell_type": "code",
   "execution_count": 112,
   "metadata": {
    "collapsed": false
   },
   "outputs": [],
   "source": [
    "submFile = open('submit.csv', 'w')\n",
    "submFile.write('id,nextvisit\\n')\n",
    "for i in range(len(submit)):\n",
    "    submFile.write(str(submit['id'].values[i]))\n",
    "    submFile.write(', ')\n",
    "    submFile.write(str(submit['nextvisit'].values[i]))\n",
    "    submFile.write('\\n')\n",
    "\n",
    "submFile.close()"
   ]
  },
  {
   "cell_type": "code",
   "execution_count": null,
   "metadata": {
    "collapsed": true
   },
   "outputs": [],
   "source": []
  }
 ],
 "metadata": {
  "kernelspec": {
   "display_name": "Python 2",
   "language": "python",
   "name": "python2"
  },
  "language_info": {
   "codemirror_mode": {
    "name": "ipython",
    "version": 2
   },
   "file_extension": ".py",
   "mimetype": "text/x-python",
   "name": "python",
   "nbconvert_exporter": "python",
   "pygments_lexer": "ipython2",
   "version": "2.7.6"
  }
 },
 "nbformat": 4,
 "nbformat_minor": 0
}
