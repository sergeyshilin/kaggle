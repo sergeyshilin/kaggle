{
 "cells": [
  {
   "cell_type": "code",
   "execution_count": 326,
   "metadata": {
    "collapsed": true
   },
   "outputs": [],
   "source": [
    "import numpy as np\n",
    "import pandas as pd"
   ]
  },
  {
   "cell_type": "code",
   "execution_count": 335,
   "metadata": {
    "collapsed": false
   },
   "outputs": [],
   "source": [
    "data = pd.read_csv('train.csv')\n",
    "submit = pd.DataFrame()\n",
    "submit['id'] = data.id\n",
    "submit['nextvisit'] = 0"
   ]
  },
  {
   "cell_type": "code",
   "execution_count": 332,
   "metadata": {
    "collapsed": true
   },
   "outputs": [],
   "source": [
    "alpha = 1.2\n",
    "all_weights = sum([x ** alpha for x in range(1, 158)])\n",
    "\n",
    "def get_probs(weeks, days, alpha=1.2):\n",
    "    probs_by_day = []\n",
    "    probs_result = []\n",
    "    \n",
    "    #all_weights = math.log(reduce(lambda x, y: x*y, weeks))\n",
    "    # all_weights = sum([x ** alpha for x in weeks])\n",
    "    for day in range(1, 8):\n",
    "        weight_sum = 0\n",
    "        for i, val in enumerate(weeks):\n",
    "            if(days[i] == day):\n",
    "                weight_sum += weeks[i] ** alpha\n",
    "        probs_by_day.append(weight_sum / all_weights)\n",
    "        \n",
    "#     for i in range(len(probs_by_day)):\n",
    "#         multiply = 1\n",
    "#         if(i > 0):\n",
    "#             for k in range(i):\n",
    "#                 multiply *= (1 - probs_by_day[k])\n",
    "#         probs_result.append(probs_by_day[i] * multiply)\n",
    "    \n",
    "    return probs_by_day, probs_result"
   ]
  },
  {
   "cell_type": "markdown",
   "metadata": {},
   "source": [
    "### Пересчет вероятностей с весами "
   ]
  },
  {
   "cell_type": "code",
   "execution_count": 333,
   "metadata": {
    "collapsed": true
   },
   "outputs": [],
   "source": [
    "alpha = 1.2"
   ]
  },
  {
   "cell_type": "code",
   "execution_count": 334,
   "metadata": {
    "collapsed": true
   },
   "outputs": [],
   "source": [
    "import math\n",
    "\n",
    "def get_predicted_day(user_id):\n",
    "    visits = data[user_id:user_id+1].visits.values[0].split()\n",
    "    weeks = [int(x) / 7 if (int(x) % 7) == 0 else int(x) / 7 + 1 for x in visits]\n",
    "    days = [7 if (int(x) % 7 == 0) else (int(x) % 7) for x in visits]\n",
    "    \n",
    "    probs_by_day, probs_result = get_probs(weeks, days)        \n",
    "    \n",
    "    return probs_by_day.index(max(probs_by_day)) + 1"
   ]
  },
  {
   "cell_type": "code",
   "execution_count": 336,
   "metadata": {
    "collapsed": false
   },
   "outputs": [],
   "source": [
    "for i in range(len(data)):\n",
    "    submit.loc[submit['id'] == i + 1, 'nextvisit'] = get_predicted_day(i)"
   ]
  },
  {
   "cell_type": "code",
   "execution_count": 339,
   "metadata": {
    "collapsed": false
   },
   "outputs": [
    {
     "data": {
      "text/html": [
       "<div>\n",
       "<table border=\"1\" class=\"dataframe\">\n",
       "  <thead>\n",
       "    <tr style=\"text-align: right;\">\n",
       "      <th></th>\n",
       "      <th>id</th>\n",
       "      <th>nextvisit</th>\n",
       "    </tr>\n",
       "  </thead>\n",
       "  <tbody>\n",
       "    <tr>\n",
       "      <th>0</th>\n",
       "      <td>1</td>\n",
       "      <td>2</td>\n",
       "    </tr>\n",
       "    <tr>\n",
       "      <th>1</th>\n",
       "      <td>2</td>\n",
       "      <td>3</td>\n",
       "    </tr>\n",
       "    <tr>\n",
       "      <th>2</th>\n",
       "      <td>3</td>\n",
       "      <td>6</td>\n",
       "    </tr>\n",
       "    <tr>\n",
       "      <th>3</th>\n",
       "      <td>4</td>\n",
       "      <td>5</td>\n",
       "    </tr>\n",
       "    <tr>\n",
       "      <th>4</th>\n",
       "      <td>5</td>\n",
       "      <td>2</td>\n",
       "    </tr>\n",
       "    <tr>\n",
       "      <th>5</th>\n",
       "      <td>6</td>\n",
       "      <td>3</td>\n",
       "    </tr>\n",
       "    <tr>\n",
       "      <th>6</th>\n",
       "      <td>7</td>\n",
       "      <td>4</td>\n",
       "    </tr>\n",
       "    <tr>\n",
       "      <th>7</th>\n",
       "      <td>8</td>\n",
       "      <td>3</td>\n",
       "    </tr>\n",
       "    <tr>\n",
       "      <th>8</th>\n",
       "      <td>9</td>\n",
       "      <td>6</td>\n",
       "    </tr>\n",
       "    <tr>\n",
       "      <th>9</th>\n",
       "      <td>10</td>\n",
       "      <td>6</td>\n",
       "    </tr>\n",
       "  </tbody>\n",
       "</table>\n",
       "</div>"
      ],
      "text/plain": [
       "   id  nextvisit\n",
       "0   1          2\n",
       "1   2          3\n",
       "2   3          6\n",
       "3   4          5\n",
       "4   5          2\n",
       "5   6          3\n",
       "6   7          4\n",
       "7   8          3\n",
       "8   9          6\n",
       "9  10          6"
      ]
     },
     "execution_count": 339,
     "metadata": {},
     "output_type": "execute_result"
    }
   ],
   "source": [
    "submit[:10]"
   ]
  },
  {
   "cell_type": "markdown",
   "metadata": {},
   "source": [
    "### Linear SVC"
   ]
  },
  {
   "cell_type": "raw",
   "metadata": {},
   "source": [
    "train = pd.DataFrame()\n",
    "train['id'] = data[:100].id"
   ]
  },
  {
   "cell_type": "raw",
   "metadata": {},
   "source": [
    "from  more_itertools import unique_everseen\n",
    "\n",
    "#for user_id in range(len(data)):\n",
    "for user_id in range(len(train)):\n",
    "    visits = data[user_id:user_id+1].visits.values[0].split()\n",
    "    weeks_train = list(unique_everseen([int(x) / 7 if (int(x) % 7) == 0 else int(x) / 7 + 1 for x in visits][:-1]))\n",
    "    days = [7 if (int(x) % 7 == 0) else (int(x) % 7) for x in visits]\n",
    "    days_train = days[:-1]\n",
    "    day_test = days[-1]\n",
    "    \n",
    "    probs_by_day, probs_result = get_probs(weeks_train, days_train)\n",
    "    feature_names_1 = ['Mon_1', 'Tue_1', 'Wed_1', 'Thu_1', 'Fri_1', 'Sat_1', 'Sun_1']\n",
    "    feature_names_2 = ['Mon_2', 'Tue_2', 'Wed_2', 'Thu_2', 'Fri_2', 'Sat_2', 'Sun_2']\n",
    "        \n",
    "    train.loc[train.id == user_id + 1 ,'d_percent'] = (float(len(days_train)) / 1098)\n",
    "    train.loc[train.id == user_id + 1 ,'w_percent'] = (float(len(weeks_train)) / 156)\n",
    "    \n",
    "    for i in range(len(feature_names_1)):\n",
    "        train.loc[train.id == user_id + 1, feature_names_1[i]] = probs_by_day[i]\n",
    "    for i in range(len(feature_names_2)):\n",
    "        train.loc[train.id == user_id + 1, feature_names_2[i]] = probs_result[i]\n",
    "    \n",
    "    \n",
    "    train.loc[train.id == user_id + 1, 'nextvisit'] = day_test"
   ]
  },
  {
   "cell_type": "raw",
   "metadata": {},
   "source": [
    "cols = list(train.columns)\n",
    "[cols.remove(c) for c in ['id', 'nextvisit']]\n",
    "train[cols][:3]"
   ]
  },
  {
   "cell_type": "raw",
   "metadata": {},
   "source": [
    "from sklearn.svm import LinearSVC\n",
    "from sklearn.ensemble import RandomForestClassifier\n",
    "\n",
    "# clf = RandomForestClassifier(n_estimators=1000, oob_score=True, random_state=42)\n",
    "clf = LinearSVC(C=1)\n",
    "clf.fit(train[cols], train.nextvisit)"
   ]
  },
  {
   "cell_type": "raw",
   "metadata": {},
   "source": [
    "test = pd.DataFrame()\n",
    "test['id'] = data[:1000].id"
   ]
  },
  {
   "cell_type": "raw",
   "metadata": {},
   "source": [
    "for user_id in range(len(test)):\n",
    "    visits = data[user_id:user_id+1].visits.values[0].split()\n",
    "    weeks_test = list(unique_everseen([int(x) / 7 if (int(x) % 7) == 0 else int(x) / 7 + 1 for x in visits]))\n",
    "    days_test = [7 if (int(x) % 7 == 0) else (int(x) % 7) for x in visits]\n",
    "    \n",
    "    probs_by_day, probs_result = get_probs(weeks_test, days_test)\n",
    "    feature_names_1 = ['Mon_1', 'Tue_1', 'Wed_1', 'Thu_1', 'Fri_1', 'Sat_1', 'Sun_1']\n",
    "    feature_names_2 = ['Mon_2', 'Tue_2', 'Wed_2', 'Thu_2', 'Fri_2', 'Sat_2', 'Sun_2']\n",
    "        \n",
    "    test.loc[train.id == user_id + 1 ,'d_percent'] = (float(len(days_test)) / 1099)\n",
    "    test.loc[train.id == user_id + 1 ,'w_percent'] = (float(len(weeks_test)) / 157)\n",
    "    \n",
    "    for i in range(len(feature_names_1)):\n",
    "        test.loc[test.id == user_id + 1, feature_names_1[i]] = probs_by_day[i]\n",
    "    for i in range(len(feature_names_2)):\n",
    "        test.loc[test.id == user_id + 1, feature_names_2[i]] = probs_result[i]"
   ]
  },
  {
   "cell_type": "raw",
   "metadata": {},
   "source": [
    "predict = clf.predict(test[cols])"
   ]
  },
  {
   "cell_type": "raw",
   "metadata": {},
   "source": [
    "for i in range(len(test)):\n",
    "    submit.loc[submit.id == i + 1, 'nextvisit'] = int(predict[i])"
   ]
  },
  {
   "cell_type": "code",
   "execution_count": 337,
   "metadata": {
    "collapsed": false
   },
   "outputs": [],
   "source": [
    "submFile = open('submit.csv', 'w')\n",
    "submFile.write('id,nextvisit\\n')\n",
    "for i in range(len(submit)):\n",
    "    submFile.write(str(submit['id'].values[i]))\n",
    "    submFile.write(', ')\n",
    "    submFile.write(str(submit['nextvisit'].values[i]))\n",
    "    submFile.write('\\n')\n",
    "\n",
    "submFile.close()"
   ]
  },
  {
   "cell_type": "code",
   "execution_count": null,
   "metadata": {
    "collapsed": true
   },
   "outputs": [],
   "source": []
  }
 ],
 "metadata": {
  "kernelspec": {
   "display_name": "Python 2",
   "language": "python",
   "name": "python2"
  },
  "language_info": {
   "codemirror_mode": {
    "name": "ipython",
    "version": 2
   },
   "file_extension": ".py",
   "mimetype": "text/x-python",
   "name": "python",
   "nbconvert_exporter": "python",
   "pygments_lexer": "ipython2",
   "version": "2.7.6"
  }
 },
 "nbformat": 4,
 "nbformat_minor": 0
}
