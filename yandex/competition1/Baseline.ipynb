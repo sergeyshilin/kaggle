{
 "cells": [
  {
   "cell_type": "markdown",
   "metadata": {},
   "source": [
    "Подключим необходимые библиотеки"
   ]
  },
  {
   "cell_type": "code",
   "execution_count": 2,
   "metadata": {
    "collapsed": false
   },
   "outputs": [
    {
     "name": "stdout",
     "output_type": "stream",
     "text": [
      "Populating the interactive namespace from numpy and matplotlib\n"
     ]
    },
    {
     "name": "stderr",
     "output_type": "stream",
     "text": [
      "WARNING: pylab import has clobbered these variables: ['plt']\n",
      "`%matplotlib` prevents importing * from pylab and numpy\n"
     ]
    }
   ],
   "source": [
    "%pylab inline\n",
    "\n",
    "import numpy as np\n",
    "import pandas as pd\n",
    "import matplotlib as plt\n",
    "\n",
    "from sklearn.preprocessing import LabelEncoder\n",
    "from sklearn.metrics import mean_squared_error\n",
    "\n",
    "#import xgboost as xgb"
   ]
  },
  {
   "cell_type": "markdown",
   "metadata": {},
   "source": [
    "Считаем файлы с данными"
   ]
  },
  {
   "cell_type": "code",
   "execution_count": 3,
   "metadata": {
    "collapsed": false
   },
   "outputs": [
    {
     "name": "stderr",
     "output_type": "stream",
     "text": [
      "C:\\Python27\\lib\\site-packages\\pandas\\io\\parsers.py:1159: DtypeWarning: Columns (328,330,332,335,337,343,344,345,347,354,355,356,357,360,361,363,366,371,376,379,382,384,386,389,391,398,399,407,408,415,417,418,432,436,437,440,441,447,448,449,452,456,463,477,479,480,481,482,484,485,488,495,496,497,498,499,502,506,507,508,509,513,514,516,518,519,520,521,522,526,529,533,534,538,540,543,547,548,549,550,557,559,568,571,572,575,578,582,595,596,597,599,600,601,604,605,608,612,618,619,624,626,627,630,631,635,640,641,642,643,644,645,647,648,650,654,660,661,664,674,675,680,681,684,686,687,689,690,691,693,694,697,700,701,702,705,710,711,712,718,719,720,732,734,735,736,737,739,741,745,746,747,748,750,751,753,754,759,763,767,769,780,781,788,792,796,806,811,813,816,821,822,823,824,831,839,842,843,844,849,850,852,860,866,867,872,873,875,878,879,885,889,892,898,899,900,901,903,904,907,908,909,912,913,921,922,930,932,934,938,941,942,945,950,954,959,963,964,967,968,969,972,976,985,986,993,995,1007,1013,1015,1016,1019,1020,1022,1027,1032,1034,1035,1036,1037,1038,1039,1047,1050,1054,1057,1058,1071,1072,1077,1079,1080,1089,1096,1097,1102,1103,1108,1111,1112,1113,1117,1129,1133,1136,1138,1139,1146,1147,1148,1150,1151,1152,1153,1156,1161,1162,1163,1165,1168,1173,1179,1180,1181,1182,1187,1194,1196,1197,1202,1209,1211,1214,1216,1219,1221,1224,1228,1229,1232,1233,1240,1245,1250,1251,1253,1258,1261,1264,1265,1268,1269,1272,1273,1275,1276,1278,1279,1281,1284,1285,1288,1290,1291,1292,1293,1294,1300,1301,1303,1304,1305,1307,1308,1315,1317,1319,1321,1322,1324,1329,1331,1334,1336,1339,1340,1342,1344,1350,1351,1353,1356,1357,1358,1359,1367,1368,1369,1371,1376) have mixed types. Specify dtype option on import or set low_memory=False.\n",
      "  data = self._reader.read(nrows)\n",
      "C:\\Python27\\lib\\site-packages\\pandas\\io\\parsers.py:1159: DtypeWarning: Columns (328,329,330,331,332,335,337,339,342,343,344,345,347,351,353,354,355,356,357,360,361,363,366,367,371,375,379,381,382,383,384,386,388,389,391,393,394,395,397,398,399,405,407,411,412,414,415,416,417,418,428,430,434,436,437,440,441,447,449,453,463,466,468,472,473,475,477,478,479,480,481,482,484,488,491,494,495,496,497,498,499,502,504,507,508,509,510,513,514,515,516,518,519,520,521,522,523,525,526,531,533,534,535,536,537,538,540,541,543,546,547,548,549,550,552,556,557,559,563,566,567,568,569,570,571,572,575,576,578,580,584,585,587,593,596,599,600,601,603,605,607,608,612,613,614,617,618,619,620,624,628,632,635,637,640,642,643,644,645,646,647,648,650,652,654,660,661,663,664,666,667,669,670,673,674,675,678,680,681,684,687,688,689,690,691,692,694,700,702,706,711,712,715,716,718,720,729,732,734,735,737,739,740,741,744,745,746,747,748,750,751,754,759,760,767,769,771,777,780,781,782,789,790,792,793,800,801,804,805,806,807,808,813,816,817,818,824,827,831,839,841,842,843,844,846,849,850,852,853,855,856,857,860,861,864,866,867,871,872,873,875,876,878,879,880,882,885,886,888,889,892,893,895,896,898,899,900,901,903,904,907,908,909,911,912,914,915,921,922,924,925,927,928,930,932,936,938,941,942,943,945,954,963,964,966,967,968,969,972,973,974,976,979,981,985,986,988,990,993,994,995,998,999,1006,1007,1008,1010,1013,1014,1015,1016,1019,1020,1022,1026,1027,1028,1030,1032,1034,1035,1036,1037,1038,1039,1040,1042,1046,1047,1050,1054,1056,1057,1058,1071,1073,1076,1077,1079,1080,1082,1084,1085,1087,1089,1091,1093,1096,1097,1098,1102,1103,1108,1111,1112,1113,1115,1117,1119,1124,1126,1127,1133,1134,1136,1138,1139,1140,1146,1147,1150,1151,1152,1153,1154,1157,1160,1163,1165,1167,1173,1176,1180,1181,1182,1184,1187,1188,1191,1193,1195,1196,1197,1199,1202,1204,1207,1208,1209,1211,1214,1216,1219,1220,1221,1224,1228,1229,1232,1233,1240,1242,1245,1249,1251,1254,1255,1256,1258,1262,1263,1264,1265,1268,1269,1271,1272,1273,1275,1276,1278,1283,1284,1285,1288,1289,1290,1291,1292,1293,1294,1296,1298,1300,1303,1304,1305,1307,1310,1312,1315,1317,1319,1321,1322,1324,1329,1331,1336,1337,1339,1340,1342,1344,1345,1346,1349,1350,1351,1352,1353,1356,1357,1358,1359,1360,1362,1367,1368,1369,1376) have mixed types. Specify dtype option on import or set low_memory=False.\n",
      "  data = self._reader.read(nrows)\n"
     ]
    }
   ],
   "source": [
    "dtrain = pd.read_csv('Xtrain.csv')\n",
    "dtest = pd.read_csv('Xtest.csv')\n",
    "\n",
    "dytrain = pd.read_csv('ytrain.csv')"
   ]
  },
  {
   "cell_type": "markdown",
   "metadata": {},
   "source": [
    "Создадим матрицу с известными значениями результатов"
   ]
  },
  {
   "cell_type": "code",
   "execution_count": 4,
   "metadata": {
    "collapsed": false
   },
   "outputs": [],
   "source": [
    "ytrain = np.array(dytrain.ix[:, 1:])"
   ]
  },
  {
   "cell_type": "markdown",
   "metadata": {},
   "source": [
    "Соединим вместе трейн и тест, заменим пропуски на -999"
   ]
  },
  {
   "cell_type": "code",
   "execution_count": 5,
   "metadata": {
    "collapsed": false
   },
   "outputs": [],
   "source": [
    "#dall = pd.concat((dtrain, dtest))\n",
    "#dtrain.fillna(-999., inplace = True)\n",
    "#dtest.fillna(-999., inplace=True)"
   ]
  },
  {
   "cell_type": "code",
   "execution_count": null,
   "metadata": {
    "collapsed": true
   },
   "outputs": [],
   "source": []
  },
  {
   "cell_type": "markdown",
   "metadata": {},
   "source": [
    "Категориальные фичи перекодируем в числа"
   ]
  },
  {
   "cell_type": "code",
   "execution_count": 6,
   "metadata": {
    "collapsed": false
   },
   "outputs": [
    {
     "name": "stderr",
     "output_type": "stream",
     "text": [
      "C:\\Python27\\lib\\site-packages\\numpy\\lib\\arraysetops.py:198: FutureWarning: numpy not_equal will not check object identity in the future. The comparison did not return the same result as suggested by the identity (`is`)) and will change.\n",
      "  flag = np.concatenate(([True], aux[1:] != aux[:-1]))\n"
     ]
    }
   ],
   "source": [
    "from sklearn.preprocessing import Imputer\n",
    "\n",
    "\n",
    "Xtrain = np.array(dtrain.ix[:, 1:])\n",
    "Xtest = np.array(dtest.ix[:, 1:])\n",
    "\n",
    "\n",
    "for i in range(327, 1378):\n",
    "    Xtrain[:, i] = LabelEncoder().fit_transform(Xtrain[:, i])\n",
    "    Xtest[:, i] = LabelEncoder().fit_transform(Xtest[:, i])\n"
   ]
  },
  {
   "cell_type": "code",
   "execution_count": 7,
   "metadata": {
    "collapsed": false
   },
   "outputs": [],
   "source": [
    "imputer = Imputer(missing_values='NaN', strategy='most_frequent', axis=0)\n",
    "imputer.fit(Xtrain)\n",
    "Xtrain = imputer.transform(Xtrain)\n",
    "imputer.fit(Xtest)\n",
    "Xtest = imputer.transform(Xtest)"
   ]
  },
  {
   "cell_type": "code",
   "execution_count": 8,
   "metadata": {
    "collapsed": false
   },
   "outputs": [
    {
     "data": {
      "text/plain": [
       "array([[ 0.07692308,  0.9047619 ,  0.02544943,  0.04761905,  0.16666667,\n",
       "         0.36842105,  0.        ,  0.        ,  0.        ,  0.04979253],\n",
       "       [ 0.07692308,  0.9047619 ,  0.02447477,  0.04761905,  0.16666667,\n",
       "         0.34210526,  0.        ,  0.        ,  0.        ,  0.04979253],\n",
       "       [ 0.07692308,  0.9047619 ,  0.04169374,  0.04761905,  0.16666667,\n",
       "         0.44736842,  0.        ,  0.        ,  0.        ,  0.04979253],\n",
       "       [ 0.07692308,  0.9047619 ,  0.03941954,  0.04761905,  0.16666667,\n",
       "         0.36842105,  0.        ,  0.        ,  0.        ,  0.04979253],\n",
       "       [ 0.07692308,  0.9047619 ,  0.04916613,  0.04761905,  0.16666667,\n",
       "         0.71052632,  0.        ,  0.        ,  0.        ,  0.04979253],\n",
       "       [ 0.07692308,  0.9047619 ,  0.05024908,  0.04761905,  0.16666667,\n",
       "         0.39473684,  0.        ,  0.        ,  0.        ,  0.04979253],\n",
       "       [ 0.07692308,  0.9047619 ,  0.04949101,  0.04761905,  0.16666667,\n",
       "         0.5       ,  0.        ,  0.        ,  0.        ,  0.04979253],\n",
       "       [ 0.07692308,  0.9047619 ,  0.01613602,  0.04761905,  0.16666667,\n",
       "         0.36842105,  0.        ,  0.        ,  0.        ,  0.04979253],\n",
       "       [ 0.07692308,  0.9047619 ,  0.02003465,  0.04761905,  0.16666667,\n",
       "         0.47368421,  0.        ,  0.        ,  0.        ,  0.04979253],\n",
       "       [ 0.07692308,  0.80952381,  0.03411306,  0.04761905,  0.16666667,\n",
       "         0.47368421,  0.        ,  0.        ,  0.        ,  0.36099585]])"
      ]
     },
     "execution_count": 8,
     "metadata": {},
     "output_type": "execute_result"
    }
   ],
   "source": [
    "Xtrain[:10,:10]"
   ]
  },
  {
   "cell_type": "markdown",
   "metadata": {},
   "source": [
    "Кросс-валидация:"
   ]
  },
  {
   "cell_type": "code",
   "execution_count": 10,
   "metadata": {
    "collapsed": true
   },
   "outputs": [],
   "source": [
    "from sklearn.cross_validation import KFold\n",
    "\n",
    "cv = KFold(n=len(Xtrain), n_folds=5, shuffle=True, random_state=49)"
   ]
  },
  {
   "cell_type": "code",
   "execution_count": 14,
   "metadata": {
    "collapsed": false
   },
   "outputs": [
    {
     "name": "stdout",
     "output_type": "stream",
     "text": [
      "(10000, 1376) (10000, 14)\n"
     ]
    }
   ],
   "source": [
    "print Xtrain.shape, ytrain.shape"
   ]
  },
  {
   "cell_type": "code",
   "execution_count": null,
   "metadata": {
    "collapsed": false
   },
   "outputs": [],
   "source": [
    "from sklearn import grid_search\n",
    "from sklearn.ensemble import GradientBoostingRegressor as GBR\n",
    "from sklearn.ensemble import BaggingRegressor as BR\n",
    "from sklearn.tree import DecisionTreeRegressor as DT\n",
    "\n",
    "\n",
    "ypred = np.zeros((len(Xtest), 14))\n",
    "for i in range(14):\n",
    "    #params = {'n_estimators': [100, 200, 300], 'max_depth': [10, 20, 30]}\n",
    "    #grid_searcher = grid_search.GridSearchCV(GBR(learning_rate=0.1, loss='ls'), params, cv=cv, scoring='mean_squared_error')\n",
    "\n",
    "    gbr = GBR(learning_rate=0.1, max_depth=10, n_estimators=100, loss='ls')\n",
    "    gbr.fit(Xtrain, ytrain[:,i])\n",
    "    br = BR(DT(), n_estimators = 100, n_jobs=8)\n",
    "    br.fit(Xtrain, ytrain[:,i])\n",
    "    print i, mse(gbr.predict(Xtrain)[:, i],  ytrain[:,i]), mse(bt.predict(Xtrain)[:, i],  ytrain[:,i])\n",
    "    #ypred = grid_searcher.predict_proba(Xtest)[:, 1]\n",
    "\n",
    "    #print grid_searcher.best_score_\n",
    "    #print grid_searcher.best_estimator_"
   ]
  },
  {
   "cell_type": "markdown",
   "metadata": {},
   "source": [
    "Настроим параметры бустинга"
   ]
  },
  {
   "cell_type": "code",
   "execution_count": 6,
   "metadata": {
    "collapsed": true
   },
   "outputs": [],
   "source": [
    "param = {}\n",
    "param['objective'] = 'binary:logistic'\n",
    "param['eta'] = 0.1\n",
    "param['subsample'] = 0.8\n",
    "param['colsample_bytree'] = 0.6\n",
    "param['silent'] = 1\n",
    "param['max_depth'] = 6\n",
    "param['seed'] = 0\n",
    "param['num_parallel_tree'] = 1\n",
    "param['nthread'] = 30\n",
    "\n",
    "numround = 50\n",
    "\n",
    "plst = list(param.items())"
   ]
  },
  {
   "cell_type": "code",
   "execution_count": 7,
   "metadata": {
    "collapsed": true
   },
   "outputs": [],
   "source": [
    "del dtrain\n",
    "del dtest"
   ]
  },
  {
   "cell_type": "markdown",
   "metadata": {},
   "source": [
    "Для каждой колонки обучим и предскажем значения"
   ]
  },
  {
   "cell_type": "code",
   "execution_count": 9,
   "metadata": {
    "collapsed": false
   },
   "outputs": [
    {
     "name": "stdout",
     "output_type": "stream",
     "text": [
      "0\n",
      "1\n",
      "2\n",
      "3\n",
      "4\n",
      "5\n",
      "6\n",
      "7\n",
      "8\n",
      "9\n",
      "10\n",
      "11\n",
      "12\n",
      "13\n"
     ]
    }
   ],
   "source": [
    "ypred = np.zeros((len(Xtest), 14))\n",
    "\n",
    "for i in range(14):\n",
    "    Xgbtrain = xgb.DMatrix(data = Xtrain, label = ytrain[:, i])\n",
    "    Xgbtest = xgb.DMatrix(data = Xtest)\n",
    "    \n",
    "    bst = xgb.train(plst, Xgbtrain, numround)\n",
    "    \n",
    "    ypred[:, i] = bst.predict(Xgbtest)\n",
    "    \n",
    "    print i"
   ]
  },
  {
   "cell_type": "markdown",
   "metadata": {},
   "source": [
    "Создадим файл с предсказаниями и сохраним его"
   ]
  },
  {
   "cell_type": "code",
   "execution_count": 13,
   "metadata": {
    "collapsed": false
   },
   "outputs": [],
   "source": [
    "dresult = pd.DataFrame()\n",
    "\n",
    "dresult['id'] = dtest['id']\n",
    "\n",
    "for i in range(14):\n",
    "    dresult['y' + str(i)] = ypred[:, i]\n",
    "    \n",
    "dresult.to_csv('result.csv', index = False)"
   ]
  },
  {
   "cell_type": "code",
   "execution_count": null,
   "metadata": {
    "collapsed": true
   },
   "outputs": [],
   "source": [
    "from sklearn.metrics import mean_squared_error as mse\n",
    "\n",
    "print mse(ypred)"
   ]
  }
 ],
 "metadata": {
  "kernelspec": {
   "display_name": "Python 2",
   "language": "python",
   "name": "python2"
  },
  "language_info": {
   "codemirror_mode": {
    "name": "ipython",
    "version": 2
   },
   "file_extension": ".py",
   "mimetype": "text/x-python",
   "name": "python",
   "nbconvert_exporter": "python",
   "pygments_lexer": "ipython2",
   "version": "2.7.8"
  }
 },
 "nbformat": 4,
 "nbformat_minor": 0
}
