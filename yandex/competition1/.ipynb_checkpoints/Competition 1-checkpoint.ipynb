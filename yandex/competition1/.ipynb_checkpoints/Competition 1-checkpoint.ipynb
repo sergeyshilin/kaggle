{
 "cells": [
  {
   "cell_type": "code",
   "execution_count": 2,
   "metadata": {
    "collapsed": false
   },
   "outputs": [],
   "source": [
    "%matplotlib inline\n",
    "import pandas as pd\n",
    "import numpy as np"
   ]
  },
  {
   "cell_type": "markdown",
   "metadata": {},
   "source": [
    "## 1. Get the data "
   ]
  },
  {
   "cell_type": "code",
   "execution_count": 3,
   "metadata": {
    "collapsed": false
   },
   "outputs": [],
   "source": [
    "train_x = pd.read_csv('data/Xtrain.csv', low_memory=False)\n",
    "test = pd.read_csv('data/Xtest.csv', low_memory=False)\n",
    "train_y = pd.read_csv('data/ytrain.csv', low_memory=False)"
   ]
  },
  {
   "cell_type": "code",
   "execution_count": 4,
   "metadata": {
    "collapsed": false
   },
   "outputs": [],
   "source": [
    "full = pd.concat([train_x, test])"
   ]
  },
  {
   "cell_type": "markdown",
   "metadata": {},
   "source": [
    "## 2. Prepare the data"
   ]
  },
  {
   "cell_type": "code",
   "execution_count": 5,
   "metadata": {
    "collapsed": false
   },
   "outputs": [
    {
     "data": {
      "text/html": [
       "<div>\n",
       "<table border=\"1\" class=\"dataframe\">\n",
       "  <thead>\n",
       "    <tr style=\"text-align: right;\">\n",
       "      <th></th>\n",
       "      <th>id</th>\n",
       "      <th>X0</th>\n",
       "      <th>X1</th>\n",
       "      <th>X2</th>\n",
       "      <th>X3</th>\n",
       "      <th>X4</th>\n",
       "      <th>X5</th>\n",
       "      <th>X6</th>\n",
       "      <th>X7</th>\n",
       "      <th>X8</th>\n",
       "      <th>...</th>\n",
       "      <th>X1368</th>\n",
       "      <th>X1369</th>\n",
       "      <th>X1370</th>\n",
       "      <th>X1371</th>\n",
       "      <th>X1372</th>\n",
       "      <th>X1373</th>\n",
       "      <th>X1374</th>\n",
       "      <th>X1375</th>\n",
       "      <th>X1376</th>\n",
       "      <th>X1377</th>\n",
       "    </tr>\n",
       "  </thead>\n",
       "  <tbody>\n",
       "    <tr>\n",
       "      <th>0</th>\n",
       "      <td>7865</td>\n",
       "      <td>NaN</td>\n",
       "      <td>NaN</td>\n",
       "      <td>0.025449</td>\n",
       "      <td>NaN</td>\n",
       "      <td>NaN</td>\n",
       "      <td>0.368421</td>\n",
       "      <td>NaN</td>\n",
       "      <td>NaN</td>\n",
       "      <td>NaN</td>\n",
       "      <td>...</td>\n",
       "      <td>NaN</td>\n",
       "      <td>NaN</td>\n",
       "      <td>NaN</td>\n",
       "      <td>a</td>\n",
       "      <td>NaN</td>\n",
       "      <td>q</td>\n",
       "      <td>NaN</td>\n",
       "      <td>NaN</td>\n",
       "      <td>NaN</td>\n",
       "      <td>a</td>\n",
       "    </tr>\n",
       "    <tr>\n",
       "      <th>1</th>\n",
       "      <td>10105</td>\n",
       "      <td>NaN</td>\n",
       "      <td>NaN</td>\n",
       "      <td>0.024475</td>\n",
       "      <td>NaN</td>\n",
       "      <td>NaN</td>\n",
       "      <td>0.342105</td>\n",
       "      <td>NaN</td>\n",
       "      <td>NaN</td>\n",
       "      <td>NaN</td>\n",
       "      <td>...</td>\n",
       "      <td>NaN</td>\n",
       "      <td>a</td>\n",
       "      <td>NaN</td>\n",
       "      <td>a</td>\n",
       "      <td>NaN</td>\n",
       "      <td>b</td>\n",
       "      <td>NaN</td>\n",
       "      <td>NaN</td>\n",
       "      <td>NaN</td>\n",
       "      <td>a</td>\n",
       "    </tr>\n",
       "    <tr>\n",
       "      <th>2</th>\n",
       "      <td>8721</td>\n",
       "      <td>NaN</td>\n",
       "      <td>NaN</td>\n",
       "      <td>0.041694</td>\n",
       "      <td>NaN</td>\n",
       "      <td>NaN</td>\n",
       "      <td>0.447368</td>\n",
       "      <td>NaN</td>\n",
       "      <td>NaN</td>\n",
       "      <td>NaN</td>\n",
       "      <td>...</td>\n",
       "      <td>NaN</td>\n",
       "      <td>NaN</td>\n",
       "      <td>NaN</td>\n",
       "      <td>a</td>\n",
       "      <td>NaN</td>\n",
       "      <td>NaN</td>\n",
       "      <td>NaN</td>\n",
       "      <td>NaN</td>\n",
       "      <td>NaN</td>\n",
       "      <td>a</td>\n",
       "    </tr>\n",
       "  </tbody>\n",
       "</table>\n",
       "<p>3 rows × 1379 columns</p>\n",
       "</div>"
      ],
      "text/plain": [
       "      id  X0  X1        X2  X3  X4        X5  X6  X7  X8  ...    X1368  X1369  \\\n",
       "0   7865 NaN NaN  0.025449 NaN NaN  0.368421 NaN NaN NaN  ...      NaN    NaN   \n",
       "1  10105 NaN NaN  0.024475 NaN NaN  0.342105 NaN NaN NaN  ...      NaN      a   \n",
       "2   8721 NaN NaN  0.041694 NaN NaN  0.447368 NaN NaN NaN  ...      NaN    NaN   \n",
       "\n",
       "   X1370  X1371  X1372  X1373  X1374  X1375  X1376  X1377  \n",
       "0    NaN      a    NaN      q    NaN    NaN    NaN      a  \n",
       "1    NaN      a    NaN      b    NaN    NaN    NaN      a  \n",
       "2    NaN      a    NaN    NaN    NaN    NaN    NaN      a  \n",
       "\n",
       "[3 rows x 1379 columns]"
      ]
     },
     "execution_count": 5,
     "metadata": {},
     "output_type": "execute_result"
    }
   ],
   "source": [
    "full[:3]"
   ]
  },
  {
   "cell_type": "code",
   "execution_count": 6,
   "metadata": {
    "collapsed": false
   },
   "outputs": [],
   "source": [
    "for col in full.columns:\n",
    "    if (full[col].isnull().sum(axis=0) > 7000):\n",
    "        del full[col]"
   ]
  },
  {
   "cell_type": "code",
   "execution_count": 7,
   "metadata": {
    "collapsed": true
   },
   "outputs": [],
   "source": [
    "full.fillna(0, inplace=True)"
   ]
  },
  {
   "cell_type": "code",
   "execution_count": 8,
   "metadata": {
    "collapsed": false
   },
   "outputs": [],
   "source": [
    "# Replace labels with floats\n",
    "from sklearn.preprocessing import LabelEncoder\n",
    "lbl_enc = LabelEncoder()\n",
    "\n",
    "for c in list(full.columns):\n",
    "    if(full[c].dtypes == np.object):\n",
    "        full[c] = lbl_enc.fit_transform(full[c])"
   ]
  },
  {
   "cell_type": "markdown",
   "metadata": {},
   "source": [
    "## 3. Cross Validation "
   ]
  },
  {
   "cell_type": "code",
   "execution_count": 9,
   "metadata": {
    "collapsed": false
   },
   "outputs": [],
   "source": [
    "train_x_new = full[:10000]"
   ]
  },
  {
   "cell_type": "code",
   "execution_count": 10,
   "metadata": {
    "collapsed": false
   },
   "outputs": [],
   "source": [
    "cols = list(train_x_new.columns)\n",
    "cols.remove('id')"
   ]
  },
  {
   "cell_type": "code",
   "execution_count": 21,
   "metadata": {
    "collapsed": false
   },
   "outputs": [],
   "source": [
    "from sklearn.cross_validation import train_test_split\n",
    "\n",
    "xtrain, xcv, ytrain, ycv = train_test_split(train_x_new[cols], train_y[train_y.columns[1:]], test_size = 0.1,  random_state = 10)"
   ]
  },
  {
   "cell_type": "code",
   "execution_count": 27,
   "metadata": {
    "collapsed": true
   },
   "outputs": [],
   "source": [
    "from sklearn.metrics import mean_squared_error\n",
    "\n",
    "def rmse(y_true, pred):\n",
    "    return mean_squared_error(y_true, pred) ** 0.5"
   ]
  },
  {
   "cell_type": "markdown",
   "metadata": {},
   "source": [
    "#### 1. Try Random Forest "
   ]
  },
  {
   "cell_type": "code",
   "execution_count": 82,
   "metadata": {
    "collapsed": false,
    "scrolled": true
   },
   "outputs": [
    {
     "name": "stdout",
     "output_type": "stream",
     "text": [
      "mean error is:  0.305625652119\n"
     ]
    }
   ],
   "source": [
    "from sklearn.feature_selection import SelectKBest\n",
    "from sklearn.ensemble import RandomForestClassifier\n",
    "from sklearn.pipeline import Pipeline\n",
    "\n",
    "ypred = np.zeros((len(xcv), 14))\n",
    "errors = []\n",
    "for i in range(14):\n",
    "    kbest = SelectKBest(k=90)\n",
    "    rf = RandomForestClassifier(\n",
    "        n_estimators=100,\n",
    "        max_depth=8,\n",
    "        oob_score=True, \n",
    "        random_state=0, \n",
    "        n_jobs=3)\n",
    "    pipeline = Pipeline([('kbest', kbest), ('clf', rf)])\n",
    "    pipeline.fit(xtrain.values, ytrain.values[:,i])\n",
    "    ypred[:, i] = pipeline.predict_proba(xcv)[:, 1]\n",
    "\n",
    "print \"mean error is: \", rmse(ycv, ypred)"
   ]
  },
  {
   "cell_type": "raw",
   "metadata": {},
   "source": [
    "0.305625652119"
   ]
  },
  {
   "cell_type": "markdown",
   "metadata": {},
   "source": [
    "#### 2. Try XGBoost"
   ]
  },
  {
   "cell_type": "code",
   "execution_count": 162,
   "metadata": {
    "collapsed": true
   },
   "outputs": [],
   "source": [
    "params = {\"objective\": \"binary:logistic\",\n",
    "          \"booster\": \"gbtree\",\n",
    "          \"eta\": 0.05,\n",
    "          \"max_depth\": 5,\n",
    "          \"subsample\": 1,\n",
    "          \"colsample_bytree\": 0.9,\n",
    "          \"silent\": 1,\n",
    "          \"seed\": 4,\n",
    "          \"eval_metric\": 'rmse'\n",
    "          }\n",
    "num_trees = 200\n",
    "stop = 20"
   ]
  },
  {
   "cell_type": "code",
   "execution_count": 163,
   "metadata": {
    "collapsed": false
   },
   "outputs": [
    {
     "name": "stderr",
     "output_type": "stream",
     "text": [
      "Will train until train error hasn't decreased in 20 rounds.\n",
      "Will train until train error hasn't decreased in 20 rounds.\n",
      "Will train until train error hasn't decreased in 20 rounds.\n",
      "Will train until train error hasn't decreased in 20 rounds.\n",
      "Will train until train error hasn't decreased in 20 rounds.\n",
      "Will train until train error hasn't decreased in 20 rounds.\n",
      "Will train until train error hasn't decreased in 20 rounds.\n",
      "Will train until train error hasn't decreased in 20 rounds.\n",
      "Will train until train error hasn't decreased in 20 rounds.\n",
      "Will train until train error hasn't decreased in 20 rounds.\n",
      "Will train until train error hasn't decreased in 20 rounds.\n",
      "Will train until train error hasn't decreased in 20 rounds.\n",
      "Will train until train error hasn't decreased in 20 rounds.\n",
      "Will train until train error hasn't decreased in 20 rounds.\n"
     ]
    }
   ],
   "source": [
    "import xgboost as xgb\n",
    "\n",
    "ypred_xgb = np.zeros((len(xcv), 14))\n",
    "for i in range(14):\n",
    "    dtrain = xgb.DMatrix(xtrain.values, label = ytrain.values[:, i])\n",
    "    dvalid = xgb.DMatrix(xcv.values, label=ycv.values[:, i])\n",
    "    watchlist = [(dvalid, 'eval'), (dtrain, 'train')]\n",
    "    gbm = xgb.train(params, dtrain, num_trees, evals=watchlist, early_stopping_rounds=stop, verbose_eval=False)\n",
    "    \n",
    "    dcv = xgb.DMatrix(xcv.values)\n",
    "    ypred_xgb[:, i] = gbm.predict(dcv)\n",
    "    indices = ypred_xgb[:, i] < 0\n",
    "    ypred_xgb[:, i][indices] = 0"
   ]
  },
  {
   "cell_type": "code",
   "execution_count": 164,
   "metadata": {
    "collapsed": false
   },
   "outputs": [
    {
     "name": "stdout",
     "output_type": "stream",
     "text": [
      "mean error is:  0.295937774878\n"
     ]
    }
   ],
   "source": [
    "print \"mean error is: \", rmse(ycv, ypred_xgb)"
   ]
  },
  {
   "cell_type": "raw",
   "metadata": {},
   "source": [
    "0.295937774878"
   ]
  },
  {
   "cell_type": "code",
   "execution_count": 352,
   "metadata": {
    "collapsed": false
   },
   "outputs": [
    {
     "name": "stdout",
     "output_type": "stream",
     "text": [
      "mean error is:  0.302254525191\n"
     ]
    }
   ],
   "source": [
    "ensemble = (0.47 * ypred ** 0.68  + \\\n",
    "        0.5 * ypred_xgb ** 11.0 + \\\n",
    "        0.34 * ypred ** 0.01 * ypred_xgb ** 1.08) ** 1.01\n",
    "\n",
    "print \"mean error is: \", rmse(ycv, ensemble)"
   ]
  },
  {
   "cell_type": "raw",
   "metadata": {},
   "source": [
    "0.302272962046"
   ]
  },
  {
   "cell_type": "markdown",
   "metadata": {},
   "source": [
    "## 4. Predict probas with ensemble "
   ]
  },
  {
   "cell_type": "code",
   "execution_count": null,
   "metadata": {
    "collapsed": true
   },
   "outputs": [],
   "source": [
    "import xgboost as xgb\n",
    "\n",
    "ypred_xgb = np.zeros((len(xcv), 14))\n",
    "for i in range(14):\n",
    "    dtrain = xgb.DMatrix(xtrain.values, label = ytrain.values[:, i])\n",
    "    dvalid = xgb.DMatrix(xcv.values, label=ycv.values[:, i])\n",
    "    dtest = xgb.DMatrix(full[10000:].values)\n",
    "    watchlist = [(dvalid, 'eval'), (dtrain, 'train')]\n",
    "    gbm = xgb.train(params, dtrain, num_trees, evals=watchlist, early_stopping_rounds=stop, verbose_eval=False)\n",
    "\n",
    "    ypred_xgb[:, i] = gbm.predict(dtest)\n",
    "    indices = ypred_xgb[:, i] < 0\n",
    "    ypred_xgb[:, i][indices] = 0"
   ]
  },
  {
   "cell_type": "code",
   "execution_count": null,
   "metadata": {
    "collapsed": true
   },
   "outputs": [],
   "source": []
  }
 ],
 "metadata": {
  "kernelspec": {
   "display_name": "Python 2",
   "language": "python",
   "name": "python2"
  },
  "language_info": {
   "codemirror_mode": {
    "name": "ipython",
    "version": 2
   },
   "file_extension": ".py",
   "mimetype": "text/x-python",
   "name": "python",
   "nbconvert_exporter": "python",
   "pygments_lexer": "ipython2",
   "version": "2.7.6"
  }
 },
 "nbformat": 4,
 "nbformat_minor": 0
}
