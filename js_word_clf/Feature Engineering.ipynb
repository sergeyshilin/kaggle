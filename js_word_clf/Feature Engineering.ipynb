{
 "cells": [
  {
   "cell_type": "code",
   "execution_count": 85,
   "metadata": {
    "collapsed": true
   },
   "outputs": [],
   "source": [
    "import itertools\n",
    "import numpy as np\n",
    "import pandas as pd\n",
    "from sklearn.cross_validation import cross_val_score\n",
    "from sklearn import linear_model"
   ]
  },
  {
   "cell_type": "code",
   "execution_count": 24,
   "metadata": {
    "collapsed": false
   },
   "outputs": [],
   "source": [
    "data = pd.read_csv('data/export2.csv', sep='\\t')\n",
    "words = data[['word', 'valid']]"
   ]
  },
  {
   "cell_type": "markdown",
   "metadata": {},
   "source": [
    "### Try Feature Engineering "
   ]
  },
  {
   "cell_type": "code",
   "execution_count": 89,
   "metadata": {
    "collapsed": true
   },
   "outputs": [],
   "source": [
    "def countDoubles(word):\n",
    "    l = [let for let in word.lower()]\n",
    "    return len([(x,y) for x,y in itertools.izip(l, l[1:]) if x == y])\n",
    "\n",
    "def countTriples(word):\n",
    "    l = [let for let in word.lower()]\n",
    "    return len([(x,y, z) for x, y, z in itertools.izip(l, l[1:], l[2:]) if x == y and y == z])"
   ]
  },
  {
   "cell_type": "code",
   "execution_count": 93,
   "metadata": {
    "collapsed": false
   },
   "outputs": [],
   "source": [
    "words['word'] = words.word.apply(lambda word: word.lower())\n",
    "words['length'] = words.word.apply(lambda word: len(word))\n",
    "\n",
    "vowels = ['a', 'e', 'i', 'o', 'u', 'y']\n",
    "words['vowels'] = words.word.apply(lambda word: len([letter for letter in word if letter in vowels]))\n",
    "words['consonants'] = words['length'] - words['vowels']\n",
    "\n",
    "words['has_apos'] = words.word.apply(lambda x: (\"'\" in x))\n",
    "words['count_apos'] = words.word.apply(lambda x: x.count(\"'\"))\n",
    "words['count_apos_>_1'] = words.word.apply(lambda x: x.count(\"'\") > 1)\n",
    "\n",
    "words['doubles'] = words.word.apply(lambda word: countDoubles(word))\n",
    "words['triples'] = words.word.apply(lambda word: countTriples(word))"
   ]
  },
  {
   "cell_type": "code",
   "execution_count": 120,
   "metadata": {
    "collapsed": false
   },
   "outputs": [
    {
     "data": {
      "text/html": [
       "<div>\n",
       "<table border=\"1\" class=\"dataframe\">\n",
       "  <thead>\n",
       "    <tr style=\"text-align: right;\">\n",
       "      <th></th>\n",
       "      <th>word</th>\n",
       "      <th>valid</th>\n",
       "      <th>has_apos</th>\n",
       "      <th>count_apos</th>\n",
       "      <th>count_apos_&gt;_1</th>\n",
       "      <th>length</th>\n",
       "      <th>vowels</th>\n",
       "      <th>consonants</th>\n",
       "      <th>doubles</th>\n",
       "      <th>triples</th>\n",
       "    </tr>\n",
       "  </thead>\n",
       "  <tbody>\n",
       "    <tr>\n",
       "      <th>0</th>\n",
       "      <td>'</td>\n",
       "      <td>False</td>\n",
       "      <td>True</td>\n",
       "      <td>1</td>\n",
       "      <td>False</td>\n",
       "      <td>1</td>\n",
       "      <td>0</td>\n",
       "      <td>1</td>\n",
       "      <td>0</td>\n",
       "      <td>0</td>\n",
       "    </tr>\n",
       "    <tr>\n",
       "      <th>1</th>\n",
       "      <td>''</td>\n",
       "      <td>False</td>\n",
       "      <td>True</td>\n",
       "      <td>2</td>\n",
       "      <td>True</td>\n",
       "      <td>2</td>\n",
       "      <td>0</td>\n",
       "      <td>2</td>\n",
       "      <td>1</td>\n",
       "      <td>0</td>\n",
       "    </tr>\n",
       "    <tr>\n",
       "      <th>2</th>\n",
       "      <td>'''xwmg'niwblrfczcrymryrk'n</td>\n",
       "      <td>False</td>\n",
       "      <td>True</td>\n",
       "      <td>5</td>\n",
       "      <td>True</td>\n",
       "      <td>27</td>\n",
       "      <td>3</td>\n",
       "      <td>24</td>\n",
       "      <td>2</td>\n",
       "      <td>1</td>\n",
       "    </tr>\n",
       "    <tr>\n",
       "      <th>3</th>\n",
       "      <td>''abwzluwxbksrwoijfyuhkn''l</td>\n",
       "      <td>False</td>\n",
       "      <td>True</td>\n",
       "      <td>4</td>\n",
       "      <td>True</td>\n",
       "      <td>27</td>\n",
       "      <td>6</td>\n",
       "      <td>21</td>\n",
       "      <td>2</td>\n",
       "      <td>0</td>\n",
       "    </tr>\n",
       "    <tr>\n",
       "      <th>4</th>\n",
       "      <td>''aosyncbbuhygp'fet</td>\n",
       "      <td>False</td>\n",
       "      <td>True</td>\n",
       "      <td>3</td>\n",
       "      <td>True</td>\n",
       "      <td>19</td>\n",
       "      <td>6</td>\n",
       "      <td>13</td>\n",
       "      <td>2</td>\n",
       "      <td>0</td>\n",
       "    </tr>\n",
       "  </tbody>\n",
       "</table>\n",
       "</div>"
      ],
      "text/plain": [
       "                          word  valid has_apos  count_apos count_apos_>_1  \\\n",
       "0                            '  False     True           1          False   \n",
       "1                           ''  False     True           2           True   \n",
       "2  '''xwmg'niwblrfczcrymryrk'n  False     True           5           True   \n",
       "3  ''abwzluwxbksrwoijfyuhkn''l  False     True           4           True   \n",
       "4          ''aosyncbbuhygp'fet  False     True           3           True   \n",
       "\n",
       "   length  vowels  consonants  doubles  triples  \n",
       "0       1       0           1        0        0  \n",
       "1       2       0           2        1        0  \n",
       "2      27       3          24        2        1  \n",
       "3      27       6          21        2        0  \n",
       "4      19       6          13        2        0  "
      ]
     },
     "execution_count": 120,
     "metadata": {},
     "output_type": "execute_result"
    }
   ],
   "source": [
    "words[:5]"
   ]
  },
  {
   "cell_type": "code",
   "execution_count": 119,
   "metadata": {
    "collapsed": false
   },
   "outputs": [
    {
     "data": {
      "text/html": [
       "<div>\n",
       "<table border=\"1\" class=\"dataframe\">\n",
       "  <thead>\n",
       "    <tr style=\"text-align: right;\">\n",
       "      <th></th>\n",
       "      <th>word</th>\n",
       "      <th>valid</th>\n",
       "      <th>col0</th>\n",
       "      <th>col1</th>\n",
       "      <th>col2</th>\n",
       "      <th>col3</th>\n",
       "      <th>col4</th>\n",
       "    </tr>\n",
       "  </thead>\n",
       "  <tbody>\n",
       "    <tr>\n",
       "      <th>0</th>\n",
       "      <td>'</td>\n",
       "      <td>False</td>\n",
       "      <td>class4</td>\n",
       "      <td>class3</td>\n",
       "      <td>class2</td>\n",
       "      <td>class1</td>\n",
       "      <td>class0</td>\n",
       "    </tr>\n",
       "    <tr>\n",
       "      <th>1</th>\n",
       "      <td>''</td>\n",
       "      <td>False</td>\n",
       "      <td>class5</td>\n",
       "      <td>class3</td>\n",
       "      <td>class2</td>\n",
       "      <td>class1</td>\n",
       "      <td>class0</td>\n",
       "    </tr>\n",
       "    <tr>\n",
       "      <th>2</th>\n",
       "      <td>'''xwmg'niwblrfczcrymryrk'n</td>\n",
       "      <td>False</td>\n",
       "      <td>class4</td>\n",
       "      <td>class5</td>\n",
       "      <td>class5</td>\n",
       "      <td>class3</td>\n",
       "      <td>class1</td>\n",
       "    </tr>\n",
       "    <tr>\n",
       "      <th>3</th>\n",
       "      <td>''abwzluwxbksrwoijfyuhkn''l</td>\n",
       "      <td>False</td>\n",
       "      <td>class4</td>\n",
       "      <td>class5</td>\n",
       "      <td>class5</td>\n",
       "      <td>class3</td>\n",
       "      <td>class1</td>\n",
       "    </tr>\n",
       "    <tr>\n",
       "      <th>4</th>\n",
       "      <td>''aosyncbbuhygp'fet</td>\n",
       "      <td>False</td>\n",
       "      <td>class4</td>\n",
       "      <td>class5</td>\n",
       "      <td>class5</td>\n",
       "      <td>class3</td>\n",
       "      <td>class0</td>\n",
       "    </tr>\n",
       "  </tbody>\n",
       "</table>\n",
       "</div>"
      ],
      "text/plain": [
       "                          word  valid    col0    col1    col2    col3    col4\n",
       "0                            '  False  class4  class3  class2  class1  class0\n",
       "1                           ''  False  class5  class3  class2  class1  class0\n",
       "2  '''xwmg'niwblrfczcrymryrk'n  False  class4  class5  class5  class3  class1\n",
       "3  ''abwzluwxbksrwoijfyuhkn''l  False  class4  class5  class5  class3  class1\n",
       "4          ''aosyncbbuhygp'fet  False  class4  class5  class5  class3  class0"
      ]
     },
     "execution_count": 119,
     "metadata": {},
     "output_type": "execute_result"
    }
   ],
   "source": [
    "data[:5]"
   ]
  },
  {
   "cell_type": "code",
   "execution_count": 200,
   "metadata": {
    "collapsed": true
   },
   "outputs": [],
   "source": [
    "dum = pd.get_dummies(train, columns=train.columns)"
   ]
  },
  {
   "cell_type": "code",
   "execution_count": 201,
   "metadata": {
    "collapsed": false,
    "scrolled": true
   },
   "outputs": [
    {
     "data": {
      "text/plain": [
       "(102986, 24)"
      ]
     },
     "execution_count": 201,
     "metadata": {},
     "output_type": "execute_result"
    }
   ],
   "source": [
    "dum.shape"
   ]
  },
  {
   "cell_type": "markdown",
   "metadata": {},
   "source": [
    "### Try N-Grams "
   ]
  },
  {
   "cell_type": "code",
   "execution_count": 185,
   "metadata": {
    "collapsed": false
   },
   "outputs": [],
   "source": [
    "from sklearn.feature_extraction.text import CountVectorizer\n",
    "\n",
    "ngram_vectorizer = CountVectorizer(\n",
    "    analyzer='char_wb',\n",
    "    ngram_range=(1, 5),\n",
    "    min_df=1\n",
    ") \n",
    "\n",
    "ngram_data = ngram_vectorizer.fit_transform(data.word)"
   ]
  },
  {
   "cell_type": "code",
   "execution_count": 186,
   "metadata": {
    "collapsed": false
   },
   "outputs": [
    {
     "data": {
      "text/plain": [
       "(102986, 552998)"
      ]
     },
     "execution_count": 186,
     "metadata": {},
     "output_type": "execute_result"
    }
   ],
   "source": [
    "ngram_data.shape"
   ]
  },
  {
   "cell_type": "markdown",
   "metadata": {},
   "source": [
    "### Union data"
   ]
  },
  {
   "cell_type": "code",
   "execution_count": 197,
   "metadata": {
    "collapsed": true
   },
   "outputs": [],
   "source": [
    "target = data.valid.astype(int).values\n",
    "# train = words[words.columns[2:]]\n",
    "train = data[data.columns[2:]]\n",
    "# train = pd.concat([train, data[data.columns[2:]]], axis=1)"
   ]
  },
  {
   "cell_type": "code",
   "execution_count": 198,
   "metadata": {
    "collapsed": false
   },
   "outputs": [
    {
     "data": {
      "text/plain": [
       "array([0, 0, 0, ..., 0, 0, 0])"
      ]
     },
     "execution_count": 198,
     "metadata": {},
     "output_type": "execute_result"
    }
   ],
   "source": [
    "target"
   ]
  },
  {
   "cell_type": "code",
   "execution_count": 199,
   "metadata": {
    "collapsed": false,
    "scrolled": true
   },
   "outputs": [
    {
     "data": {
      "text/html": [
       "<div>\n",
       "<table border=\"1\" class=\"dataframe\">\n",
       "  <thead>\n",
       "    <tr style=\"text-align: right;\">\n",
       "      <th></th>\n",
       "      <th>col0</th>\n",
       "      <th>col1</th>\n",
       "      <th>col2</th>\n",
       "      <th>col3</th>\n",
       "      <th>col4</th>\n",
       "    </tr>\n",
       "  </thead>\n",
       "  <tbody>\n",
       "    <tr>\n",
       "      <th>0</th>\n",
       "      <td>class4</td>\n",
       "      <td>class3</td>\n",
       "      <td>class2</td>\n",
       "      <td>class1</td>\n",
       "      <td>class0</td>\n",
       "    </tr>\n",
       "    <tr>\n",
       "      <th>1</th>\n",
       "      <td>class5</td>\n",
       "      <td>class3</td>\n",
       "      <td>class2</td>\n",
       "      <td>class1</td>\n",
       "      <td>class0</td>\n",
       "    </tr>\n",
       "    <tr>\n",
       "      <th>2</th>\n",
       "      <td>class4</td>\n",
       "      <td>class5</td>\n",
       "      <td>class5</td>\n",
       "      <td>class3</td>\n",
       "      <td>class1</td>\n",
       "    </tr>\n",
       "    <tr>\n",
       "      <th>3</th>\n",
       "      <td>class4</td>\n",
       "      <td>class5</td>\n",
       "      <td>class5</td>\n",
       "      <td>class3</td>\n",
       "      <td>class1</td>\n",
       "    </tr>\n",
       "    <tr>\n",
       "      <th>4</th>\n",
       "      <td>class4</td>\n",
       "      <td>class5</td>\n",
       "      <td>class5</td>\n",
       "      <td>class3</td>\n",
       "      <td>class0</td>\n",
       "    </tr>\n",
       "  </tbody>\n",
       "</table>\n",
       "</div>"
      ],
      "text/plain": [
       "     col0    col1    col2    col3    col4\n",
       "0  class4  class3  class2  class1  class0\n",
       "1  class5  class3  class2  class1  class0\n",
       "2  class4  class5  class5  class3  class1\n",
       "3  class4  class5  class5  class3  class1\n",
       "4  class4  class5  class5  class3  class0"
      ]
     },
     "execution_count": 199,
     "metadata": {},
     "output_type": "execute_result"
    }
   ],
   "source": [
    "train[:5]"
   ]
  },
  {
   "cell_type": "code",
   "execution_count": 202,
   "metadata": {
    "collapsed": false
   },
   "outputs": [],
   "source": [
    "from sklearn.linear_model import LogisticRegression\n",
    "\n",
    "lr = LogisticRegression(\n",
    "    C=0.05,\n",
    "    penalty='l2', # 'l1'\n",
    "    solver='lbfgs',  # 'newton-cg', 'lbfgs', 'liblinear', 'sag'\n",
    "    fit_intercept=False,\n",
    "    multi_class='ovr'\n",
    ")"
   ]
  },
  {
   "cell_type": "code",
   "execution_count": 203,
   "metadata": {
    "collapsed": false
   },
   "outputs": [
    {
     "data": {
      "text/plain": [
       "0.89577228188192537"
      ]
     },
     "execution_count": 203,
     "metadata": {},
     "output_type": "execute_result"
    }
   ],
   "source": [
    "cross_val_score(lr, dum, target, cv=3).mean()"
   ]
  },
  {
   "cell_type": "markdown",
   "metadata": {},
   "source": [
    "### Scores:"
   ]
  },
  {
   "cell_type": "markdown",
   "metadata": {},
   "source": [
    "Syllables + FE: 0.89665590099649817 <br>\n",
    "Syllables clear: 0.89577228188192537 <br>\n",
    "FE clear: 0.62845441706336602 <br>\n",
    "1-grams: 0.60693684485933941 <br>\n",
    "2-grams: 0.51982793759311707 <br>\n",
    "3-grams: 0.54606455087492101 <br>\n",
    "4-grams: 0.57074752730215528 <br>\n",
    "5-grams: 0.57987500433819938 <br>\n",
    "1-5-grams: 0.5726409908125395"
   ]
  },
  {
   "cell_type": "markdown",
   "metadata": {},
   "source": [
    "### Afterwards: Try RF "
   ]
  },
  {
   "cell_type": "code",
   "execution_count": 12,
   "metadata": {
    "collapsed": true
   },
   "outputs": [],
   "source": [
    "from sklearn.preprocessing import LabelEncoder\n",
    "lbl_enc = LabelEncoder()\n",
    "\n",
    "for c in train.columns:\n",
    "    train[c] = lbl_enc.fit_transform(train[c])"
   ]
  },
  {
   "cell_type": "code",
   "execution_count": 107,
   "metadata": {
    "collapsed": true
   },
   "outputs": [],
   "source": [
    "from sklearn.cross_validation import train_test_split\n",
    "\n",
    "xtr, xcv, ytr, ycv = train_test_split(train, target, test_size = 0.05,  random_state = 42)"
   ]
  },
  {
   "cell_type": "code",
   "execution_count": 108,
   "metadata": {
    "collapsed": false
   },
   "outputs": [
    {
     "data": {
      "text/plain": [
       "RandomForestClassifier(bootstrap=True, class_weight=None, criterion='gini',\n",
       "            max_depth=None, max_features='auto', max_leaf_nodes=None,\n",
       "            min_samples_leaf=1, min_samples_split=2,\n",
       "            min_weight_fraction_leaf=0.0, n_estimators=100, n_jobs=1,\n",
       "            oob_score=False, random_state=None, verbose=0,\n",
       "            warm_start=False)"
      ]
     },
     "execution_count": 108,
     "metadata": {},
     "output_type": "execute_result"
    }
   ],
   "source": [
    "from sklearn.ensemble import RandomForestClassifier\n",
    "\n",
    "rf = RandomForestClassifier(n_estimators=100)\n",
    "rf.fit(xtr, ytr)"
   ]
  },
  {
   "cell_type": "code",
   "execution_count": 109,
   "metadata": {
    "collapsed": false
   },
   "outputs": [
    {
     "data": {
      "text/plain": [
       "0.62213592233009707"
      ]
     },
     "execution_count": 109,
     "metadata": {},
     "output_type": "execute_result"
    }
   ],
   "source": [
    "from sklearn.metrics import accuracy_score\n",
    "\n",
    "predictions = rf.predict(xcv)\n",
    "accuracy_score(ycv, predictions)"
   ]
  },
  {
   "cell_type": "markdown",
   "metadata": {},
   "source": [
    "0.62679611650485434 best"
   ]
  },
  {
   "cell_type": "code",
   "execution_count": null,
   "metadata": {
    "collapsed": true
   },
   "outputs": [],
   "source": []
  }
 ],
 "metadata": {
  "kernelspec": {
   "display_name": "Python 2",
   "language": "python",
   "name": "python2"
  },
  "language_info": {
   "codemirror_mode": {
    "name": "ipython",
    "version": 2
   },
   "file_extension": ".py",
   "mimetype": "text/x-python",
   "name": "python",
   "nbconvert_exporter": "python",
   "pygments_lexer": "ipython2",
   "version": "2.7.11"
  }
 },
 "nbformat": 4,
 "nbformat_minor": 0
}
