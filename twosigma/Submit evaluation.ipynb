{
 "cells": [
  {
   "cell_type": "code",
   "execution_count": 5,
   "metadata": {
    "collapsed": false
   },
   "outputs": [
    {
     "name": "stdout",
     "output_type": "stream",
     "text": [
      "\n"
     ]
    }
   ],
   "source": [
    "import numpy as np\n",
    "import pandas as pd\n",
    "import matplotlib.pylab as plt\n",
    "import seaborn as sns\n",
    "%matplotlib inline\n",
    "\n",
    "from sklearn.metrics import log_loss\n",
    "from sklearn.metrics import mean_absolute_error as mae"
   ]
  },
  {
   "cell_type": "code",
   "execution_count": 65,
   "metadata": {
    "collapsed": true
   },
   "outputs": [],
   "source": [
    "columns = ['high', 'medium', 'low']\n",
    "good = pd.read_csv('data/submits/rf_kernelready.csv')[columns]\n",
    "good_labels = good.apply(lambda row: np.argmax([row['high'], row['medium'], row['low']]), axis=1)\n",
    "\n",
    "xgb_simple_bad = pd.read_csv('data/submits/xgb_simple.csv')[columns]\n",
    "rf_simple_bad = pd.read_csv('data/submits/rf_bad_simple.csv')[columns]"
   ]
  },
  {
   "cell_type": "code",
   "execution_count": 66,
   "metadata": {
    "collapsed": true
   },
   "outputs": [],
   "source": [
    "current = pd.read_csv('data/submits/rf_simple.csv')[columns]"
   ]
  },
  {
   "cell_type": "code",
   "execution_count": 67,
   "metadata": {
    "collapsed": false
   },
   "outputs": [
    {
     "name": "stdout",
     "output_type": "stream",
     "text": [
      "log_loss good - good: 0.357251614193\n",
      "log_loss good - current: 0.388042186891\n",
      "log_loss good - xgb bad: 0.402207323901\n",
      "log_loss good - rf bad: 0.3858769649\n"
     ]
    }
   ],
   "source": [
    "print 'log_loss good - good:', log_loss(good_labels, good)\n",
    "print 'log_loss good - current:', log_loss(good_labels, current)\n",
    "print 'log_loss good - xgb bad:', log_loss(good_labels, xgb_simple_bad)\n",
    "print 'log_loss good - rf bad:', log_loss(good_labels, rf_simple_bad)"
   ]
  },
  {
   "cell_type": "code",
   "execution_count": null,
   "metadata": {
    "collapsed": true
   },
   "outputs": [],
   "source": []
  }
 ],
 "metadata": {
  "kernelspec": {
   "display_name": "Python 2",
   "language": "python",
   "name": "python2"
  },
  "language_info": {
   "codemirror_mode": {
    "name": "ipython",
    "version": 2
   },
   "file_extension": ".py",
   "mimetype": "text/x-python",
   "name": "python",
   "nbconvert_exporter": "python",
   "pygments_lexer": "ipython2",
   "version": "2.7.13"
  }
 },
 "nbformat": 4,
 "nbformat_minor": 1
}
