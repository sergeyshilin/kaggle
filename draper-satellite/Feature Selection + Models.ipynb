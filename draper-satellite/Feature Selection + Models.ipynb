{
 "cells": [
  {
   "cell_type": "code",
   "execution_count": 1,
   "metadata": {
    "collapsed": true
   },
   "outputs": [],
   "source": [
    "import numpy as np\n",
    "import pandas as pd\n",
    "import matplotlib.pylab as plt\n",
    "import seaborn as sns\n",
    "%matplotlib inline"
   ]
  },
  {
   "cell_type": "markdown",
   "metadata": {},
   "source": [
    "#### Read data "
   ]
  },
  {
   "cell_type": "code",
   "execution_count": 2,
   "metadata": {
    "collapsed": false
   },
   "outputs": [],
   "source": [
    "train_1 = pd.read_csv('data/train1.csv', sep='\\t')\n",
    "train_2 = pd.read_csv('data/train2.csv', sep='\\t')\n",
    "train_3 = pd.read_csv('data/train3.csv', sep='\\t')\n",
    "\n",
    "test_1 = pd.read_csv('data/test1.csv', sep='\\t')\n",
    "test_2 = pd.read_csv('data/test2.csv', sep='\\t')\n",
    "test_3 = pd.read_csv('data/test3.csv', sep='\\t')"
   ]
  },
  {
   "cell_type": "markdown",
   "metadata": {},
   "source": [
    "#### Prepare columns, feature engineering "
   ]
  },
  {
   "cell_type": "code",
   "execution_count": 3,
   "metadata": {
    "collapsed": true
   },
   "outputs": [],
   "source": [
    "train = train_1.copy()\n",
    "for c in train_2.columns:\n",
    "    if c not in train_1.columns:\n",
    "        train[c] = train_2[c]\n",
    "for c in train_3.columns:\n",
    "    if c not in train_1.columns:\n",
    "        train[c] = train_3[c]\n",
    "\n",
    "test = test_1.copy()\n",
    "for c in test_2.columns:\n",
    "    if c not in test_1.columns:\n",
    "        test[c] = test_2[c]\n",
    "for c in test_3.columns:\n",
    "    if c not in test_1.columns:\n",
    "        test[c] = test_3[c]"
   ]
  },
  {
   "cell_type": "code",
   "execution_count": 4,
   "metadata": {
    "collapsed": true
   },
   "outputs": [],
   "source": [
    "def prepare_columns(data):\n",
    "    data.drop(['mean_scale', 'mean_angle', 'mymax(angles_abs)', \n",
    "               'mymin(angles_abs)', 'set_index', 'set_name'], \n",
    "              axis=1, \n",
    "              inplace=True)\n",
    "    \n",
    "    data.rename(columns={'getParamOrderAdd(angles)': 'angle_ordered', \n",
    "                     'getParamOrderMult(scales)': 'scale_ordered',\n",
    "                     ' mymin(angles_abs)_relative': 'mymin(angles_abs)_relative'}, \n",
    "                inplace=True)\n",
    "    \n",
    "    dummy_columns = ['correct_scale', 'correct_angle', 'has_median_angle', \n",
    "                 'has_extreme_angle', 'mean_scale_more_then_1', \n",
    "                 'angle_ordered', 'scale_ordered',\n",
    "                 'has_median_angle_scaled', 'has_min_related_angle']\n",
    "    \n",
    "    return pd.get_dummies(data, columns=dummy_columns)"
   ]
  },
  {
   "cell_type": "code",
   "execution_count": 5,
   "metadata": {
    "collapsed": false
   },
   "outputs": [],
   "source": [
    "train = prepare_columns(train)\n",
    "test = prepare_columns(test)"
   ]
  },
  {
   "cell_type": "code",
   "execution_count": 6,
   "metadata": {
    "collapsed": false
   },
   "outputs": [],
   "source": [
    "train_x = train.drop('image_id', axis=1).astype(np.float64)\n",
    "test = test.drop('image_id', axis=1).astype(np.float64)"
   ]
  },
  {
   "cell_type": "code",
   "execution_count": 7,
   "metadata": {
    "collapsed": false
   },
   "outputs": [],
   "source": [
    "from sklearn.preprocessing import StandardScaler\n",
    "sc = StandardScaler()\n",
    "train_x = sc.fit_transform(train_x)\n",
    "test = sc.transform(test)"
   ]
  },
  {
   "cell_type": "code",
   "execution_count": 8,
   "metadata": {
    "collapsed": false
   },
   "outputs": [],
   "source": [
    "train_y_5 = train['image_id'].astype(np.int32).values\n",
    "train_y_3 = [1 if (x == 1 or x == 2) else 2 if (x == 3) else 3 for x in train_y_5]"
   ]
  },
  {
   "cell_type": "markdown",
   "metadata": {},
   "source": [
    "### Models "
   ]
  },
  {
   "cell_type": "code",
   "execution_count": 39,
   "metadata": {
    "collapsed": true
   },
   "outputs": [],
   "source": [
    "from sklearn.cross_validation import train_test_split\n",
    "from sklearn.cross_validation import cross_val_score\n",
    "from sklearn.metrics import accuracy_score\n",
    "from sklearn.metrics import mean_squared_error\n",
    "\n",
    "from sklearn.linear_model import LogisticRegression\n",
    "from sklearn.linear_model import ElasticNet\n",
    "from sklearn.linear_model import Lasso\n",
    "from sklearn.linear_model import LinearRegression\n",
    "from sklearn.linear_model import Perceptron\n",
    "from sklearn.linear_model import Ridge\n",
    "from sklearn.linear_model import SGDClassifier\n",
    "\n",
    "from sklearn.ensemble import AdaBoostClassifier\n",
    "from sklearn.ensemble import BaggingClassifier\n",
    "from sklearn.ensemble import ExtraTreesClassifier\n",
    "from sklearn.ensemble import GradientBoostingClassifier\n",
    "from sklearn.ensemble import RandomForestClassifier\n",
    "from sklearn.ensemble import VotingClassifier\n",
    "\n",
    "from sklearn.svm import SVC\n",
    "\n",
    "from sklearn.neighbors import KNeighborsClassifier\n",
    "from sklearn.neighbors import NearestCentroid\n",
    "\n",
    "from sklearn.naive_bayes import BernoulliNB\n",
    "from sklearn.naive_bayes import GaussianNB"
   ]
  },
  {
   "cell_type": "code",
   "execution_count": 124,
   "metadata": {
    "collapsed": true
   },
   "outputs": [],
   "source": [
    "x_tr, x_cv, y_tr, y_cv = train_test_split(train_x, train_y_3, test_size = 0.33, random_state = 42)"
   ]
  },
  {
   "cell_type": "code",
   "execution_count": 40,
   "metadata": {
    "collapsed": true
   },
   "outputs": [],
   "source": [
    "def get_value_counts(preds, n):\n",
    "\n",
    "    if (n == 3): \n",
    "        preds = filter(lambda a: a in [1, 2, 3], preds)\n",
    "    elif (n == 5): \n",
    "        preds = filter(lambda a: a in [1, 2, 3, 4, 5], preds)\n",
    "            \n",
    "    vals = pd.Series(preds).value_counts().values.tolist()\n",
    "    for i in range(n - len(vals)):\n",
    "        vals.append(0)\n",
    "    return vals\n",
    "    \n",
    "def get_numbers_module(preds):\n",
    "    c = 0\n",
    "\n",
    "    test_sets = []\n",
    "    cur_list = []\n",
    "    for i in range(len(preds)):\n",
    "        cur_list.append(preds[i])\n",
    "        if((i+1) % 5 == 0):\n",
    "            test_sets.append(cur_list[:])\n",
    "            cur_list[:] = []\n",
    "    \n",
    "    for s in test_sets:\n",
    "        for x in range(1,6):\n",
    "            c += abs(s.count(x)-1)\n",
    "    return c\n",
    "    \n",
    "def check_models_score(cls):\n",
    "    etal_3 = [548, 548, 274]\n",
    "    etal_5 = [274, 274, 274, 274, 274]\n",
    "    print ('absnum_3 \\t absnum_5 \\t mse_3 \\t mse_5 \\t cv_3 \\t cv_5')\n",
    "    for cl in cls:\n",
    "        cv3 = cross_val_score(cl, train_x, train_y_3, cv=3).mean()\n",
    "        cv5 = cross_val_score(cl, train_x, train_y_5, cv=3).mean()\n",
    "        \n",
    "        cl.fit(train_x, train_y_3)\n",
    "        pred3 = [np.rint(x) for x in cl.predict(test)]\n",
    "        mse3 = mean_squared_error(etal_3, get_value_counts(pred3, 3))\n",
    "        absnum3 = get_numbers_module(pred3)\n",
    "        \n",
    "        cl.fit(train_x, train_y_5)\n",
    "        pred5 = [np.rint(x) for x in cl.predict(test)]\n",
    "        mse5 = mean_squared_error(etal_5, get_value_counts(pred5, 5))\n",
    "        absnum5 = get_numbers_module(pred5)\n",
    "        \n",
    "        print ('%f \\t %f \\t %f \\t %f \\t %f \\t %f') % (absnum3, absnum5, mse3, mse5, cv3, cv5)"
   ]
  },
  {
   "cell_type": "markdown",
   "metadata": {},
   "source": [
    "#### Linear models"
   ]
  },
  {
   "cell_type": "code",
   "execution_count": 41,
   "metadata": {
    "collapsed": true
   },
   "outputs": [],
   "source": [
    "log_r = LogisticRegression()\n",
    "lasso = Lasso()\n",
    "lin_r = LinearRegression()\n",
    "perc = Perceptron()\n",
    "ridge = Ridge()\n",
    "sgd = SGDClassifier()"
   ]
  },
  {
   "cell_type": "code",
   "execution_count": 42,
   "metadata": {
    "collapsed": false
   },
   "outputs": [
    {
     "name": "stdout",
     "output_type": "stream",
     "text": [
      "absnum_3 \t absnum_5 \t mse_3 \t mse_5 \t cv_3 \t cv_5\n",
      "1212.000000 \t 576.000000 \t 312.000000 \t 5432.400000 \t 0.985656 \t 0.905314\n",
      "2188.000000 \t 1143.000000 \t 348712.666667 \t 55741.000000 \t 0.511157 \t 0.653116\n",
      "2192.000000 \t 2192.000000 \t 350354.666667 \t 300304.000000 \t -0.000412 \t 0.233291\n",
      "1474.000000 \t 1056.000000 \t 16436.666667 \t 42090.000000 \t 0.779314 \t 0.544285\n",
      "1270.000000 \t 794.000000 \t 10766.000000 \t 5864.000000 \t 0.971384 \t 0.885386\n",
      "1511.000000 \t 1045.000000 \t 21274.666667 \t 42747.800000 \t 0.942933 \t 0.902968\n",
      "1272.000000 \t 754.000000 \t 3330.666667 \t 15057.200000 \t 0.974283 \t 0.894444\n"
     ]
    }
   ],
   "source": [
    "check_models_score([log_r, elastic, lasso, lin_r, perc, ridge, sgd])"
   ]
  },
  {
   "cell_type": "markdown",
   "metadata": {},
   "source": [
    "#### Ensembles"
   ]
  },
  {
   "cell_type": "code",
   "execution_count": 43,
   "metadata": {
    "collapsed": false
   },
   "outputs": [],
   "source": [
    "ada = AdaBoostClassifier()\n",
    "bag = BaggingClassifier()\n",
    "extr = ExtraTreesClassifier()\n",
    "gbc = GradientBoostingClassifier()\n",
    "rf = RandomForestClassifier()\n",
    "vc_ens_soft = VotingClassifier(estimators=[('ada', ada), ('bag', bag), ('extr', extr), ('gbc', gbc), ('rf', rf)], voting='soft')\n",
    "vc_ens_hard = VotingClassifier(estimators=[('ada', ada), ('bag', bag), ('extr', extr), ('gbc', gbc), ('rf', rf)], voting='hard')"
   ]
  },
  {
   "cell_type": "code",
   "execution_count": 45,
   "metadata": {
    "collapsed": false
   },
   "outputs": [
    {
     "name": "stdout",
     "output_type": "stream",
     "text": [
      "absnum_3 \t absnum_5 \t mse_3 \t mse_5 \t cv_3 \t cv_5\n",
      "1600.000000 \t 2004.000000 \t 37204.666667 \t 238942.800000 \t 0.982806 \t 0.652657\n",
      "2038.000000 \t 1412.000000 \t 271530.666667 \t 91195.200000 \t 0.991403 \t 0.916546\n",
      "1360.000000 \t 606.000000 \t 9068.666667 \t 6342.400000 \t 0.982978 \t 0.899638\n",
      "1802.000000 \t 1002.000000 \t 186452.666667 \t 36532.800000 \t 0.988455 \t 0.899396\n",
      "1314.000000 \t 828.000000 \t 7922.666667 \t 18900.800000 \t 0.988579 \t 0.910990\n",
      "1484.000000 \t 1286.000000 \t 21248.666667 \t 73712.000000 \t 0.991354 \t 0.922343\n",
      "1372.000000 \t 940.000000 \t 12158.000000 \t 35303.200000 \t 0.994252 \t 0.928140\n"
     ]
    }
   ],
   "source": [
    "check_models_score([ada, bag, extr, gbc, rf, vc_ens_soft, vc_ens_hard])"
   ]
  },
  {
   "cell_type": "markdown",
   "metadata": {},
   "source": [
    "#### SVM "
   ]
  },
  {
   "cell_type": "code",
   "execution_count": 46,
   "metadata": {
    "collapsed": true
   },
   "outputs": [],
   "source": [
    "svc = SVC()"
   ]
  },
  {
   "cell_type": "code",
   "execution_count": 47,
   "metadata": {
    "collapsed": false
   },
   "outputs": [
    {
     "name": "stdout",
     "output_type": "stream",
     "text": [
      "absnum_3 \t absnum_5 \t mse_3 \t mse_5 \t cv_3 \t cv_5\n",
      "1340.000000 \t 330.000000 \t 6044.666667 \t 2114.800000 \t 0.977181 \t 0.910870\n"
     ]
    }
   ],
   "source": [
    "check_models_score([svc])"
   ]
  },
  {
   "cell_type": "markdown",
   "metadata": {},
   "source": [
    "#### Distance models"
   ]
  },
  {
   "cell_type": "code",
   "execution_count": 48,
   "metadata": {
    "collapsed": false
   },
   "outputs": [],
   "source": [
    "knn = KNeighborsClassifier()\n",
    "nc = NearestCentroid()"
   ]
  },
  {
   "cell_type": "code",
   "execution_count": 49,
   "metadata": {
    "collapsed": false
   },
   "outputs": [
    {
     "name": "stdout",
     "output_type": "stream",
     "text": [
      "absnum_3 \t absnum_5 \t mse_3 \t mse_5 \t cv_3 \t cv_5\n",
      "1170.000000 \t 350.000000 \t 116.666667 \t 1605.200000 \t 0.979982 \t 0.913889\n",
      "1146.000000 \t 430.000000 \t 1292.666667 \t 1932.400000 \t 0.968314 \t 0.870531\n"
     ]
    }
   ],
   "source": [
    "check_models_score([knn, nc])"
   ]
  },
  {
   "cell_type": "markdown",
   "metadata": {},
   "source": [
    "#### Naive Bayes "
   ]
  },
  {
   "cell_type": "code",
   "execution_count": 50,
   "metadata": {
    "collapsed": false
   },
   "outputs": [],
   "source": [
    "ber = BernoulliNB()\n",
    "gnb = GaussianNB()"
   ]
  },
  {
   "cell_type": "code",
   "execution_count": 51,
   "metadata": {
    "collapsed": false
   },
   "outputs": [
    {
     "name": "stdout",
     "output_type": "stream",
     "text": [
      "absnum_3 \t absnum_5 \t mse_3 \t mse_5 \t cv_3 \t cv_5\n",
      "1180.000000 \t 512.000000 \t 11624.000000 \t 3700.800000 \t 0.965416 \t 0.867754\n",
      "1290.000000 \t 918.000000 \t 2818.666667 \t 23903.600000 \t 0.851367 \t 0.701087\n"
     ]
    }
   ],
   "source": [
    "check_models_score([ber, gnb])"
   ]
  },
  {
   "cell_type": "markdown",
   "metadata": {},
   "source": [
    "### Compare mse best "
   ]
  },
  {
   "cell_type": "code",
   "execution_count": 52,
   "metadata": {
    "collapsed": false
   },
   "outputs": [
    {
     "name": "stdout",
     "output_type": "stream",
     "text": [
      "absnum_3 \t absnum_5 \t mse_3 \t mse_5 \t cv_3 \t cv_5\n",
      "1180.000000 \t 512.000000 \t 11624.000000 \t 3700.800000 \t 0.965416 \t 0.867754\n",
      "1290.000000 \t 918.000000 \t 2818.666667 \t 23903.600000 \t 0.851367 \t 0.701087\n",
      "1170.000000 \t 350.000000 \t 116.666667 \t 1605.200000 \t 0.979982 \t 0.913889\n",
      "1146.000000 \t 430.000000 \t 1292.666667 \t 1932.400000 \t 0.968314 \t 0.870531\n",
      "1340.000000 \t 330.000000 \t 6044.666667 \t 2114.800000 \t 0.977181 \t 0.910870\n",
      "1202.000000 \t 628.000000 \t 760.666667 \t 9544.000000 \t 0.971434 \t 0.928019\n",
      "1212.000000 \t 576.000000 \t 312.000000 \t 5432.400000 \t 0.985656 \t 0.905314\n",
      "1270.000000 \t 794.000000 \t 10766.000000 \t 5864.000000 \t 0.971384 \t 0.885386\n",
      "1198.000000 \t 686.000000 \t 2238.000000 \t 6355.600000 \t 0.971458 \t 0.896739\n"
     ]
    }
   ],
   "source": [
    "check_models_score([ber, gnb, knn, nc, svc, extr, log_r, perc, sgd])"
   ]
  },
  {
   "cell_type": "markdown",
   "metadata": {},
   "source": [
    "### XGB one-vs-rest "
   ]
  },
  {
   "cell_type": "code",
   "execution_count": 51,
   "metadata": {
    "collapsed": true
   },
   "outputs": [],
   "source": [
    "import xgboost as xgb\n",
    "\n",
    "params = {\"objective\": \"binary:logistic\",\n",
    "          \"booster\": \"gbtree\",\n",
    "          \"eval_metric\": \"auc\",\n",
    "          \"eta\": 0.05,\n",
    "          \"max_depth\": 6,\n",
    "          \"subsample\": 0.9,\n",
    "          \"colsample_bytree\": 0.8,\n",
    "          \"silent\": 1\n",
    "          }\n",
    "num_trees = 100"
   ]
  },
  {
   "cell_type": "markdown",
   "metadata": {},
   "source": [
    "#### 1-vs-other "
   ]
  },
  {
   "cell_type": "code",
   "execution_count": 54,
   "metadata": {
    "collapsed": false
   },
   "outputs": [
    {
     "data": {
      "text/plain": [
       "350"
      ]
     },
     "execution_count": 54,
     "metadata": {},
     "output_type": "execute_result"
    }
   ],
   "source": [
    "len(train_y_5)"
   ]
  },
  {
   "cell_type": "code",
   "execution_count": 60,
   "metadata": {
    "collapsed": false
   },
   "outputs": [],
   "source": [
    "tr_id_1or2 = [i for i in range(len(train_y_5)) if train_y_5[i] == 1 or train_y_5[i] == 2]\n",
    "train_y_is_1 = [1 if x == 1 else 0 for x in train_y_5[tr_id_1or2]]"
   ]
  },
  {
   "cell_type": "code",
   "execution_count": 62,
   "metadata": {
    "collapsed": false,
    "scrolled": true
   },
   "outputs": [
    {
     "name": "stderr",
     "output_type": "stream",
     "text": [
      "[0]\teval-auc:0.876880\ttrain-auc:0.968021\n",
      "[1]\teval-auc:0.905075\ttrain-auc:0.991363\n",
      "[2]\teval-auc:0.922932\ttrain-auc:0.993697\n",
      "[3]\teval-auc:0.941729\ttrain-auc:0.995331\n",
      "[4]\teval-auc:0.925752\ttrain-auc:0.995798\n",
      "[5]\teval-auc:0.937030\ttrain-auc:0.995798\n",
      "[6]\teval-auc:0.930451\ttrain-auc:0.995798\n",
      "[7]\teval-auc:0.930451\ttrain-auc:0.995798\n",
      "[8]\teval-auc:0.935150\ttrain-auc:0.995798\n",
      "[9]\teval-auc:0.942669\ttrain-auc:0.995798\n",
      "[10]\teval-auc:0.952068\ttrain-auc:0.995798\n",
      "[11]\teval-auc:0.940789\ttrain-auc:0.995798\n",
      "[12]\teval-auc:0.937030\ttrain-auc:0.995798\n",
      "[13]\teval-auc:0.940789\ttrain-auc:0.995798\n",
      "[14]\teval-auc:0.937030\ttrain-auc:0.995798\n",
      "[15]\teval-auc:0.950188\ttrain-auc:0.995798\n",
      "[16]\teval-auc:0.940789\ttrain-auc:0.996265\n",
      "[17]\teval-auc:0.937030\ttrain-auc:0.996265\n",
      "[18]\teval-auc:0.938910\ttrain-auc:0.997666\n",
      "[19]\teval-auc:0.937030\ttrain-auc:0.997199\n",
      "[20]\teval-auc:0.937030\ttrain-auc:0.997199\n",
      "[21]\teval-auc:0.931391\ttrain-auc:0.996732\n",
      "[22]\teval-auc:0.931391\ttrain-auc:0.996732\n",
      "[23]\teval-auc:0.931391\ttrain-auc:0.997666\n",
      "[24]\teval-auc:0.935150\ttrain-auc:0.998133\n",
      "[25]\teval-auc:0.937030\ttrain-auc:0.998133\n",
      "[26]\teval-auc:0.942669\ttrain-auc:0.998599\n",
      "[27]\teval-auc:0.940789\ttrain-auc:0.998133\n",
      "[28]\teval-auc:0.942669\ttrain-auc:0.998599\n",
      "[29]\teval-auc:0.942669\ttrain-auc:0.999066\n",
      "[30]\teval-auc:0.941729\ttrain-auc:0.999066\n",
      "[31]\teval-auc:0.939850\ttrain-auc:0.999066\n",
      "[32]\teval-auc:0.937970\ttrain-auc:0.999066\n",
      "[33]\teval-auc:0.937970\ttrain-auc:0.999066\n",
      "[34]\teval-auc:0.941729\ttrain-auc:0.999533\n",
      "[35]\teval-auc:0.939850\ttrain-auc:0.999066\n",
      "[36]\teval-auc:0.936090\ttrain-auc:0.999066\n",
      "[37]\teval-auc:0.936090\ttrain-auc:0.999066\n",
      "[38]\teval-auc:0.937970\ttrain-auc:0.999066\n",
      "[39]\teval-auc:0.939850\ttrain-auc:0.999066\n",
      "[40]\teval-auc:0.943609\ttrain-auc:0.999066\n",
      "[41]\teval-auc:0.939850\ttrain-auc:0.999533\n",
      "[42]\teval-auc:0.937970\ttrain-auc:0.999533\n",
      "[43]\teval-auc:0.937970\ttrain-auc:0.999533\n",
      "[44]\teval-auc:0.936090\ttrain-auc:0.999533\n",
      "[45]\teval-auc:0.934211\ttrain-auc:1.000000\n",
      "[46]\teval-auc:0.939850\ttrain-auc:0.999533\n",
      "[47]\teval-auc:0.934211\ttrain-auc:0.999533\n",
      "[48]\teval-auc:0.937970\ttrain-auc:0.999533\n",
      "[49]\teval-auc:0.939850\ttrain-auc:1.000000\n",
      "[50]\teval-auc:0.936090\ttrain-auc:1.000000\n",
      "[51]\teval-auc:0.934211\ttrain-auc:1.000000\n",
      "[52]\teval-auc:0.939850\ttrain-auc:1.000000\n",
      "[53]\teval-auc:0.943609\ttrain-auc:1.000000\n",
      "[54]\teval-auc:0.941729\ttrain-auc:1.000000\n",
      "[55]\teval-auc:0.941729\ttrain-auc:1.000000\n",
      "[56]\teval-auc:0.941729\ttrain-auc:1.000000\n",
      "[57]\teval-auc:0.939850\ttrain-auc:1.000000\n",
      "[58]\teval-auc:0.937970\ttrain-auc:1.000000\n",
      "[59]\teval-auc:0.937970\ttrain-auc:1.000000\n",
      "[60]\teval-auc:0.936090\ttrain-auc:1.000000\n",
      "[61]\teval-auc:0.936090\ttrain-auc:1.000000\n",
      "[62]\teval-auc:0.934211\ttrain-auc:1.000000\n",
      "[63]\teval-auc:0.934211\ttrain-auc:1.000000\n",
      "[64]\teval-auc:0.932331\ttrain-auc:1.000000\n",
      "[65]\teval-auc:0.934211\ttrain-auc:1.000000\n",
      "[66]\teval-auc:0.932331\ttrain-auc:1.000000\n",
      "[67]\teval-auc:0.932331\ttrain-auc:1.000000\n",
      "[68]\teval-auc:0.932331\ttrain-auc:1.000000\n",
      "[69]\teval-auc:0.934211\ttrain-auc:1.000000\n",
      "[70]\teval-auc:0.936090\ttrain-auc:1.000000\n",
      "[71]\teval-auc:0.936090\ttrain-auc:1.000000\n",
      "[72]\teval-auc:0.937970\ttrain-auc:1.000000\n",
      "[73]\teval-auc:0.937970\ttrain-auc:1.000000\n",
      "[74]\teval-auc:0.936090\ttrain-auc:1.000000\n",
      "[75]\teval-auc:0.937970\ttrain-auc:1.000000\n",
      "[76]\teval-auc:0.936090\ttrain-auc:1.000000\n",
      "[77]\teval-auc:0.937970\ttrain-auc:1.000000\n",
      "[78]\teval-auc:0.936090\ttrain-auc:1.000000\n",
      "[79]\teval-auc:0.936090\ttrain-auc:1.000000\n",
      "[80]\teval-auc:0.937970\ttrain-auc:1.000000\n",
      "[81]\teval-auc:0.939850\ttrain-auc:1.000000\n",
      "[82]\teval-auc:0.939850\ttrain-auc:1.000000\n",
      "[83]\teval-auc:0.939850\ttrain-auc:1.000000\n",
      "[84]\teval-auc:0.939850\ttrain-auc:1.000000\n",
      "[85]\teval-auc:0.939850\ttrain-auc:1.000000\n",
      "[86]\teval-auc:0.939850\ttrain-auc:1.000000\n",
      "[87]\teval-auc:0.939850\ttrain-auc:1.000000\n",
      "[88]\teval-auc:0.939850\ttrain-auc:1.000000\n",
      "[89]\teval-auc:0.939850\ttrain-auc:1.000000\n",
      "[90]\teval-auc:0.941729\ttrain-auc:1.000000\n",
      "[91]\teval-auc:0.941729\ttrain-auc:1.000000\n",
      "[92]\teval-auc:0.941729\ttrain-auc:1.000000\n",
      "[93]\teval-auc:0.941729\ttrain-auc:1.000000\n",
      "[94]\teval-auc:0.941729\ttrain-auc:1.000000\n",
      "[95]\teval-auc:0.941729\ttrain-auc:1.000000\n",
      "[96]\teval-auc:0.941729\ttrain-auc:1.000000\n",
      "[97]\teval-auc:0.941729\ttrain-auc:1.000000\n",
      "[98]\teval-auc:0.939850\ttrain-auc:1.000000\n",
      "[99]\teval-auc:0.941729\ttrain-auc:1.000000\n"
     ]
    }
   ],
   "source": [
    "tr_id_1or2 = [i for i in range(len(train_y_5)) if train_y_5[i] == 1 or train_y_5[i] == 2]\n",
    "train_y_is_1 = [1 if x == 1 else 0 for x in train_y_5[tr_id_1or2]]\n",
    "x_tr, x_cv, y_tr, y_cv = train_test_split(train_x[tr_id_1or2], train_y_is_1, test_size = 0.33, random_state = 42)\n",
    "\n",
    "dtrain = xgb.DMatrix(x_tr, y_tr)\n",
    "dvalid = xgb.DMatrix(x_cv, y_cv)\n",
    "watchlist = [(dvalid, 'eval'), (dtrain, 'train')]\n",
    "gbm1 = xgb.train(params, dtrain, num_trees, evals=watchlist, verbose_eval=True)"
   ]
  },
  {
   "cell_type": "markdown",
   "metadata": {},
   "source": [
    "#### 2-vs-other "
   ]
  },
  {
   "cell_type": "code",
   "execution_count": 63,
   "metadata": {
    "collapsed": false,
    "scrolled": true
   },
   "outputs": [
    {
     "name": "stderr",
     "output_type": "stream",
     "text": [
      "[0]\teval-auc:0.876880\ttrain-auc:0.968021\n",
      "[1]\teval-auc:0.905075\ttrain-auc:0.991363\n",
      "[2]\teval-auc:0.922932\ttrain-auc:0.993697\n",
      "[3]\teval-auc:0.941729\ttrain-auc:0.995331\n",
      "[4]\teval-auc:0.925752\ttrain-auc:0.995798\n",
      "[5]\teval-auc:0.937030\ttrain-auc:0.995798\n",
      "[6]\teval-auc:0.930451\ttrain-auc:0.995798\n",
      "[7]\teval-auc:0.930451\ttrain-auc:0.995798\n",
      "[8]\teval-auc:0.935150\ttrain-auc:0.995798\n",
      "[9]\teval-auc:0.942669\ttrain-auc:0.995798\n",
      "[10]\teval-auc:0.952068\ttrain-auc:0.995798\n",
      "[11]\teval-auc:0.940789\ttrain-auc:0.995798\n",
      "[12]\teval-auc:0.937030\ttrain-auc:0.995798\n",
      "[13]\teval-auc:0.940789\ttrain-auc:0.995798\n",
      "[14]\teval-auc:0.937030\ttrain-auc:0.995798\n",
      "[15]\teval-auc:0.950188\ttrain-auc:0.995798\n",
      "[16]\teval-auc:0.940789\ttrain-auc:0.996265\n",
      "[17]\teval-auc:0.937030\ttrain-auc:0.996265\n",
      "[18]\teval-auc:0.938910\ttrain-auc:0.997666\n",
      "[19]\teval-auc:0.937030\ttrain-auc:0.997199\n",
      "[20]\teval-auc:0.937030\ttrain-auc:0.997199\n",
      "[21]\teval-auc:0.931391\ttrain-auc:0.996732\n",
      "[22]\teval-auc:0.931391\ttrain-auc:0.996732\n",
      "[23]\teval-auc:0.931391\ttrain-auc:0.997666\n",
      "[24]\teval-auc:0.935150\ttrain-auc:0.998133\n",
      "[25]\teval-auc:0.937030\ttrain-auc:0.998133\n",
      "[26]\teval-auc:0.942669\ttrain-auc:0.998599\n",
      "[27]\teval-auc:0.940789\ttrain-auc:0.998133\n",
      "[28]\teval-auc:0.942669\ttrain-auc:0.998599\n",
      "[29]\teval-auc:0.942669\ttrain-auc:0.999066\n",
      "[30]\teval-auc:0.941729\ttrain-auc:0.999066\n",
      "[31]\teval-auc:0.939850\ttrain-auc:0.999066\n",
      "[32]\teval-auc:0.937970\ttrain-auc:0.999066\n",
      "[33]\teval-auc:0.937970\ttrain-auc:0.999066\n",
      "[34]\teval-auc:0.941729\ttrain-auc:0.999533\n",
      "[35]\teval-auc:0.939850\ttrain-auc:0.999066\n",
      "[36]\teval-auc:0.936090\ttrain-auc:0.999066\n",
      "[37]\teval-auc:0.936090\ttrain-auc:0.999066\n",
      "[38]\teval-auc:0.937970\ttrain-auc:0.999066\n",
      "[39]\teval-auc:0.939850\ttrain-auc:0.999066\n",
      "[40]\teval-auc:0.943609\ttrain-auc:0.999066\n",
      "[41]\teval-auc:0.939850\ttrain-auc:0.999533\n",
      "[42]\teval-auc:0.937970\ttrain-auc:0.999533\n",
      "[43]\teval-auc:0.937970\ttrain-auc:0.999533\n",
      "[44]\teval-auc:0.936090\ttrain-auc:0.999533\n",
      "[45]\teval-auc:0.934211\ttrain-auc:1.000000\n",
      "[46]\teval-auc:0.939850\ttrain-auc:0.999533\n",
      "[47]\teval-auc:0.934211\ttrain-auc:0.999533\n",
      "[48]\teval-auc:0.937970\ttrain-auc:0.999533\n",
      "[49]\teval-auc:0.939850\ttrain-auc:1.000000\n",
      "[50]\teval-auc:0.936090\ttrain-auc:1.000000\n",
      "[51]\teval-auc:0.934211\ttrain-auc:1.000000\n",
      "[52]\teval-auc:0.939850\ttrain-auc:1.000000\n",
      "[53]\teval-auc:0.943609\ttrain-auc:1.000000\n",
      "[54]\teval-auc:0.941729\ttrain-auc:1.000000\n",
      "[55]\teval-auc:0.941729\ttrain-auc:1.000000\n",
      "[56]\teval-auc:0.941729\ttrain-auc:1.000000\n",
      "[57]\teval-auc:0.939850\ttrain-auc:1.000000\n",
      "[58]\teval-auc:0.937970\ttrain-auc:1.000000\n",
      "[59]\teval-auc:0.937970\ttrain-auc:1.000000\n",
      "[60]\teval-auc:0.936090\ttrain-auc:1.000000\n",
      "[61]\teval-auc:0.936090\ttrain-auc:1.000000\n",
      "[62]\teval-auc:0.934211\ttrain-auc:1.000000\n",
      "[63]\teval-auc:0.934211\ttrain-auc:1.000000\n",
      "[64]\teval-auc:0.932331\ttrain-auc:1.000000\n",
      "[65]\teval-auc:0.934211\ttrain-auc:1.000000\n",
      "[66]\teval-auc:0.932331\ttrain-auc:1.000000\n",
      "[67]\teval-auc:0.932331\ttrain-auc:1.000000\n",
      "[68]\teval-auc:0.932331\ttrain-auc:1.000000\n",
      "[69]\teval-auc:0.934211\ttrain-auc:1.000000\n",
      "[70]\teval-auc:0.936090\ttrain-auc:1.000000\n",
      "[71]\teval-auc:0.936090\ttrain-auc:1.000000\n",
      "[72]\teval-auc:0.937970\ttrain-auc:1.000000\n",
      "[73]\teval-auc:0.937970\ttrain-auc:1.000000\n",
      "[74]\teval-auc:0.936090\ttrain-auc:1.000000\n",
      "[75]\teval-auc:0.937970\ttrain-auc:1.000000\n",
      "[76]\teval-auc:0.936090\ttrain-auc:1.000000\n",
      "[77]\teval-auc:0.937970\ttrain-auc:1.000000\n",
      "[78]\teval-auc:0.936090\ttrain-auc:1.000000\n",
      "[79]\teval-auc:0.936090\ttrain-auc:1.000000\n",
      "[80]\teval-auc:0.937970\ttrain-auc:1.000000\n",
      "[81]\teval-auc:0.939850\ttrain-auc:1.000000\n",
      "[82]\teval-auc:0.939850\ttrain-auc:1.000000\n",
      "[83]\teval-auc:0.939850\ttrain-auc:1.000000\n",
      "[84]\teval-auc:0.939850\ttrain-auc:1.000000\n",
      "[85]\teval-auc:0.939850\ttrain-auc:1.000000\n",
      "[86]\teval-auc:0.939850\ttrain-auc:1.000000\n",
      "[87]\teval-auc:0.939850\ttrain-auc:1.000000\n",
      "[88]\teval-auc:0.939850\ttrain-auc:1.000000\n",
      "[89]\teval-auc:0.939850\ttrain-auc:1.000000\n",
      "[90]\teval-auc:0.941729\ttrain-auc:1.000000\n",
      "[91]\teval-auc:0.941729\ttrain-auc:1.000000\n",
      "[92]\teval-auc:0.941729\ttrain-auc:1.000000\n",
      "[93]\teval-auc:0.941729\ttrain-auc:1.000000\n",
      "[94]\teval-auc:0.941729\ttrain-auc:1.000000\n",
      "[95]\teval-auc:0.941729\ttrain-auc:1.000000\n",
      "[96]\teval-auc:0.941729\ttrain-auc:1.000000\n",
      "[97]\teval-auc:0.941729\ttrain-auc:1.000000\n",
      "[98]\teval-auc:0.939850\ttrain-auc:1.000000\n",
      "[99]\teval-auc:0.941729\ttrain-auc:1.000000\n"
     ]
    }
   ],
   "source": [
    "train_y_is_2 = [1 if x == 2 else 0 for x in train_y_5[tr_id_1or2]]\n",
    "x_tr, x_cv, y_tr, y_cv = train_test_split(train_x[tr_id_1or2], train_y_is_2, test_size = 0.33, random_state = 42)\n",
    "\n",
    "dtrain = xgb.DMatrix(x_tr, y_tr)\n",
    "dvalid = xgb.DMatrix(x_cv, y_cv)\n",
    "watchlist = [(dvalid, 'eval'), (dtrain, 'train')]\n",
    "gbm2 = xgb.train(params, dtrain, num_trees, evals=watchlist, verbose_eval=True)"
   ]
  },
  {
   "cell_type": "markdown",
   "metadata": {},
   "source": [
    "#### 3-vs-other "
   ]
  },
  {
   "cell_type": "code",
   "execution_count": 332,
   "metadata": {
    "collapsed": false,
    "scrolled": true
   },
   "outputs": [
    {
     "name": "stdout",
     "output_type": "stream",
     "text": [
      "[0]\teval-auc:1\ttrain-auc:0.999761\n",
      "[1]\teval-auc:1\ttrain-auc:0.999761\n",
      "[2]\teval-auc:1\ttrain-auc:0.99988\n",
      "[3]\teval-auc:1\ttrain-auc:0.99988\n",
      "[4]\teval-auc:1\ttrain-auc:0.99988\n",
      "[5]\teval-auc:1\ttrain-auc:0.99988\n",
      "[6]\teval-auc:1\ttrain-auc:0.99988\n",
      "[7]\teval-auc:1\ttrain-auc:0.99988\n",
      "[8]\teval-auc:1\ttrain-auc:0.99988\n",
      "[9]\teval-auc:1\ttrain-auc:0.99988\n",
      "[10]\teval-auc:1\ttrain-auc:0.99988\n",
      "[11]\teval-auc:1\ttrain-auc:0.99988\n",
      "[12]\teval-auc:1\ttrain-auc:0.99988\n",
      "[13]\teval-auc:1\ttrain-auc:0.99988\n",
      "[14]\teval-auc:1\ttrain-auc:0.99988\n",
      "[15]\teval-auc:1\ttrain-auc:0.99988\n",
      "[16]\teval-auc:1\ttrain-auc:0.99988\n",
      "[17]\teval-auc:1\ttrain-auc:0.99988\n",
      "[18]\teval-auc:1\ttrain-auc:0.99988\n",
      "[19]\teval-auc:1\ttrain-auc:0.99988\n",
      "[20]\teval-auc:1\ttrain-auc:1\n",
      "[21]\teval-auc:1\ttrain-auc:1\n",
      "[22]\teval-auc:1\ttrain-auc:1\n",
      "[23]\teval-auc:1\ttrain-auc:1\n",
      "[24]\teval-auc:1\ttrain-auc:1\n",
      "[25]\teval-auc:1\ttrain-auc:1\n",
      "[26]\teval-auc:1\ttrain-auc:1\n",
      "[27]\teval-auc:1\ttrain-auc:1\n",
      "[28]\teval-auc:1\ttrain-auc:1\n",
      "[29]\teval-auc:1\ttrain-auc:1\n",
      "[30]\teval-auc:1\ttrain-auc:1\n",
      "[31]\teval-auc:1\ttrain-auc:1\n",
      "[32]\teval-auc:1\ttrain-auc:1\n",
      "[33]\teval-auc:1\ttrain-auc:1\n",
      "[34]\teval-auc:1\ttrain-auc:1\n",
      "[35]\teval-auc:1\ttrain-auc:1\n",
      "[36]\teval-auc:1\ttrain-auc:1\n",
      "[37]\teval-auc:1\ttrain-auc:1\n",
      "[38]\teval-auc:1\ttrain-auc:1\n",
      "[39]\teval-auc:1\ttrain-auc:1\n",
      "[40]\teval-auc:1\ttrain-auc:1\n",
      "[41]\teval-auc:1\ttrain-auc:1\n",
      "[42]\teval-auc:1\ttrain-auc:1\n",
      "[43]\teval-auc:1\ttrain-auc:1\n",
      "[44]\teval-auc:1\ttrain-auc:1\n",
      "[45]\teval-auc:1\ttrain-auc:1\n",
      "[46]\teval-auc:1\ttrain-auc:1\n",
      "[47]\teval-auc:1\ttrain-auc:1\n",
      "[48]\teval-auc:1\ttrain-auc:1\n",
      "[49]\teval-auc:1\ttrain-auc:1\n",
      "[50]\teval-auc:1\ttrain-auc:1\n",
      "[51]\teval-auc:1\ttrain-auc:1\n",
      "[52]\teval-auc:1\ttrain-auc:1\n",
      "[53]\teval-auc:1\ttrain-auc:1\n",
      "[54]\teval-auc:1\ttrain-auc:1\n",
      "[55]\teval-auc:1\ttrain-auc:1\n",
      "[56]\teval-auc:1\ttrain-auc:1\n",
      "[57]\teval-auc:1\ttrain-auc:1\n",
      "[58]\teval-auc:1\ttrain-auc:1\n",
      "[59]\teval-auc:1\ttrain-auc:1\n",
      "[60]\teval-auc:1\ttrain-auc:1\n",
      "[61]\teval-auc:1\ttrain-auc:1\n",
      "[62]\teval-auc:1\ttrain-auc:1\n",
      "[63]\teval-auc:1\ttrain-auc:1\n",
      "[64]\teval-auc:1\ttrain-auc:1\n",
      "[65]\teval-auc:1\ttrain-auc:1\n",
      "[66]\teval-auc:1\ttrain-auc:1\n",
      "[67]\teval-auc:1\ttrain-auc:1\n",
      "[68]\teval-auc:1\ttrain-auc:1\n",
      "[69]\teval-auc:1\ttrain-auc:1\n",
      "[70]\teval-auc:1\ttrain-auc:1\n",
      "[71]\teval-auc:1\ttrain-auc:1\n",
      "[72]\teval-auc:1\ttrain-auc:1\n",
      "[73]\teval-auc:1\ttrain-auc:1\n",
      "[74]\teval-auc:1\ttrain-auc:1\n",
      "[75]\teval-auc:1\ttrain-auc:1\n",
      "[76]\teval-auc:1\ttrain-auc:1\n",
      "[77]\teval-auc:1\ttrain-auc:1\n",
      "[78]\teval-auc:1\ttrain-auc:1\n",
      "[79]\teval-auc:1\ttrain-auc:1\n",
      "[80]\teval-auc:1\ttrain-auc:1\n",
      "[81]\teval-auc:1\ttrain-auc:1\n",
      "[82]\teval-auc:1\ttrain-auc:1\n",
      "[83]\teval-auc:1\ttrain-auc:1\n",
      "[84]\teval-auc:1\ttrain-auc:1\n",
      "[85]\teval-auc:1\ttrain-auc:1\n",
      "[86]\teval-auc:1\ttrain-auc:1\n",
      "[87]\teval-auc:1\ttrain-auc:1\n",
      "[88]\teval-auc:1\ttrain-auc:1\n",
      "[89]\teval-auc:1\ttrain-auc:1\n",
      "[90]\teval-auc:1\ttrain-auc:1\n",
      "[91]\teval-auc:1\ttrain-auc:1\n",
      "[92]\teval-auc:1\ttrain-auc:1\n",
      "[93]\teval-auc:1\ttrain-auc:1\n",
      "[94]\teval-auc:1\ttrain-auc:1\n",
      "[95]\teval-auc:1\ttrain-auc:1\n",
      "[96]\teval-auc:1\ttrain-auc:1\n",
      "[97]\teval-auc:1\ttrain-auc:1\n",
      "[98]\teval-auc:1\ttrain-auc:1\n",
      "[99]\teval-auc:1\ttrain-auc:1\n"
     ]
    }
   ],
   "source": [
    "x_tr, x_cv, y_tr, y_cv = train_test_split(train_x, train_y_is_3, test_size = 0.33, random_state = 42)\n",
    "\n",
    "dtrain = xgb.DMatrix(x_tr, y_tr)\n",
    "dvalid = xgb.DMatrix(x_cv, y_cv)\n",
    "watchlist = [(dvalid, 'eval'), (dtrain, 'train')]\n",
    "gbm3 = xgb.train(params, dtrain, num_trees, evals=watchlist, verbose_eval=True)"
   ]
  },
  {
   "cell_type": "markdown",
   "metadata": {},
   "source": [
    "#### 4-vs-other "
   ]
  },
  {
   "cell_type": "code",
   "execution_count": 65,
   "metadata": {
    "collapsed": false,
    "scrolled": true
   },
   "outputs": [
    {
     "name": "stderr",
     "output_type": "stream",
     "text": [
      "[0]\teval-auc:0.954887\ttrain-auc:0.978525\n",
      "[1]\teval-auc:0.968985\ttrain-auc:0.995798\n",
      "[2]\teval-auc:0.990601\ttrain-auc:0.995798\n",
      "[3]\teval-auc:0.990601\ttrain-auc:0.996265\n",
      "[4]\teval-auc:0.990601\ttrain-auc:0.996265\n",
      "[5]\teval-auc:0.990601\ttrain-auc:0.996732\n",
      "[6]\teval-auc:0.986842\ttrain-auc:0.998366\n",
      "[7]\teval-auc:0.986842\ttrain-auc:0.998366\n",
      "[8]\teval-auc:0.986842\ttrain-auc:0.998366\n",
      "[9]\teval-auc:0.986842\ttrain-auc:0.998366\n",
      "[10]\teval-auc:0.986842\ttrain-auc:0.998133\n",
      "[11]\teval-auc:0.986842\ttrain-auc:0.997899\n",
      "[12]\teval-auc:0.986842\ttrain-auc:0.997899\n",
      "[13]\teval-auc:0.986842\ttrain-auc:0.997899\n",
      "[14]\teval-auc:0.986842\ttrain-auc:0.998133\n",
      "[15]\teval-auc:0.986842\ttrain-auc:0.998599\n",
      "[16]\teval-auc:0.990601\ttrain-auc:0.998133\n",
      "[17]\teval-auc:0.986842\ttrain-auc:0.998133\n",
      "[18]\teval-auc:0.990601\ttrain-auc:0.998133\n",
      "[19]\teval-auc:0.992481\ttrain-auc:0.998133\n",
      "[20]\teval-auc:0.990601\ttrain-auc:0.998599\n",
      "[21]\teval-auc:0.992481\ttrain-auc:0.998133\n",
      "[22]\teval-auc:0.992481\ttrain-auc:0.998599\n",
      "[23]\teval-auc:0.992481\ttrain-auc:0.998599\n",
      "[24]\teval-auc:0.988722\ttrain-auc:0.998599\n",
      "[25]\teval-auc:0.992481\ttrain-auc:0.998599\n",
      "[26]\teval-auc:0.992481\ttrain-auc:0.998599\n",
      "[27]\teval-auc:0.992481\ttrain-auc:0.998599\n",
      "[28]\teval-auc:0.992481\ttrain-auc:0.998133\n",
      "[29]\teval-auc:0.992481\ttrain-auc:0.998133\n",
      "[30]\teval-auc:0.992481\ttrain-auc:0.999066\n",
      "[31]\teval-auc:0.992481\ttrain-auc:0.999066\n",
      "[32]\teval-auc:0.992481\ttrain-auc:0.999066\n",
      "[33]\teval-auc:0.992481\ttrain-auc:0.999066\n",
      "[34]\teval-auc:0.990601\ttrain-auc:0.999066\n",
      "[35]\teval-auc:0.990601\ttrain-auc:0.999066\n",
      "[36]\teval-auc:0.990601\ttrain-auc:0.999066\n",
      "[37]\teval-auc:0.990601\ttrain-auc:0.999066\n",
      "[38]\teval-auc:0.986842\ttrain-auc:0.999066\n",
      "[39]\teval-auc:0.986842\ttrain-auc:0.999066\n",
      "[40]\teval-auc:0.986842\ttrain-auc:0.999066\n",
      "[41]\teval-auc:0.986842\ttrain-auc:0.999066\n",
      "[42]\teval-auc:0.988722\ttrain-auc:0.999066\n",
      "[43]\teval-auc:0.990601\ttrain-auc:0.999066\n",
      "[44]\teval-auc:0.990601\ttrain-auc:0.999066\n",
      "[45]\teval-auc:0.990601\ttrain-auc:0.999066\n",
      "[46]\teval-auc:0.990601\ttrain-auc:0.999066\n",
      "[47]\teval-auc:0.990601\ttrain-auc:0.999066\n",
      "[48]\teval-auc:0.990601\ttrain-auc:0.999066\n",
      "[49]\teval-auc:0.988722\ttrain-auc:0.999066\n",
      "[50]\teval-auc:0.990601\ttrain-auc:0.999066\n",
      "[51]\teval-auc:0.990601\ttrain-auc:0.999066\n",
      "[52]\teval-auc:0.988722\ttrain-auc:0.999066\n",
      "[53]\teval-auc:0.986842\ttrain-auc:0.999066\n",
      "[54]\teval-auc:0.988722\ttrain-auc:0.999066\n",
      "[55]\teval-auc:0.990601\ttrain-auc:0.999066\n",
      "[56]\teval-auc:0.988722\ttrain-auc:0.999066\n",
      "[57]\teval-auc:0.988722\ttrain-auc:0.999066\n",
      "[58]\teval-auc:0.988722\ttrain-auc:0.999066\n",
      "[59]\teval-auc:0.988722\ttrain-auc:0.999066\n",
      "[60]\teval-auc:0.988722\ttrain-auc:0.999066\n",
      "[61]\teval-auc:0.988722\ttrain-auc:0.998599\n",
      "[62]\teval-auc:0.988722\ttrain-auc:0.999066\n",
      "[63]\teval-auc:0.990601\ttrain-auc:0.999066\n",
      "[64]\teval-auc:0.990601\ttrain-auc:0.999066\n",
      "[65]\teval-auc:0.990601\ttrain-auc:0.999066\n",
      "[66]\teval-auc:0.990601\ttrain-auc:0.999066\n",
      "[67]\teval-auc:0.990601\ttrain-auc:0.999066\n",
      "[68]\teval-auc:0.990601\ttrain-auc:0.999066\n",
      "[69]\teval-auc:0.990601\ttrain-auc:0.999066\n",
      "[70]\teval-auc:0.990601\ttrain-auc:0.999066\n",
      "[71]\teval-auc:0.988722\ttrain-auc:0.999066\n",
      "[72]\teval-auc:0.990601\ttrain-auc:0.999066\n",
      "[73]\teval-auc:0.988722\ttrain-auc:0.999066\n",
      "[74]\teval-auc:0.988722\ttrain-auc:0.999066\n",
      "[75]\teval-auc:0.990601\ttrain-auc:0.999066\n",
      "[76]\teval-auc:0.988722\ttrain-auc:0.999066\n",
      "[77]\teval-auc:0.988722\ttrain-auc:0.999066\n",
      "[78]\teval-auc:0.988722\ttrain-auc:0.999066\n",
      "[79]\teval-auc:0.988722\ttrain-auc:0.999066\n",
      "[80]\teval-auc:0.988722\ttrain-auc:0.999066\n",
      "[81]\teval-auc:0.988722\ttrain-auc:0.999066\n",
      "[82]\teval-auc:0.988722\ttrain-auc:0.999066\n",
      "[83]\teval-auc:0.988722\ttrain-auc:0.999066\n",
      "[84]\teval-auc:0.988722\ttrain-auc:0.999066\n",
      "[85]\teval-auc:0.988722\ttrain-auc:0.999066\n",
      "[86]\teval-auc:0.988722\ttrain-auc:0.999066\n",
      "[87]\teval-auc:0.988722\ttrain-auc:0.999066\n",
      "[88]\teval-auc:0.988722\ttrain-auc:0.999066\n",
      "[89]\teval-auc:0.988722\ttrain-auc:0.999066\n",
      "[90]\teval-auc:0.988722\ttrain-auc:0.999066\n",
      "[91]\teval-auc:0.988722\ttrain-auc:0.999533\n",
      "[92]\teval-auc:0.988722\ttrain-auc:0.999533\n",
      "[93]\teval-auc:0.988722\ttrain-auc:0.999533\n",
      "[94]\teval-auc:0.988722\ttrain-auc:0.999533\n",
      "[95]\teval-auc:0.988722\ttrain-auc:0.999533\n",
      "[96]\teval-auc:0.988722\ttrain-auc:0.999533\n",
      "[97]\teval-auc:0.988722\ttrain-auc:0.999533\n",
      "[98]\teval-auc:0.988722\ttrain-auc:0.999533\n",
      "[99]\teval-auc:0.988722\ttrain-auc:0.999533\n"
     ]
    }
   ],
   "source": [
    "tr_id_4or5 = [i for i in range(len(train_y_5)) if train_y_5[i] == 4 or train_y_5[i] == 5]\n",
    "train_y_is_4 = [1 if x == 4 else 0 for x in train_y_5[tr_id_4or5]]\n",
    "x_tr, x_cv, y_tr, y_cv = train_test_split(train_x[tr_id_4or5], train_y_is_4, test_size = 0.33, random_state = 42)\n",
    "\n",
    "dtrain = xgb.DMatrix(x_tr, y_tr)\n",
    "dvalid = xgb.DMatrix(x_cv, y_cv)\n",
    "watchlist = [(dvalid, 'eval'), (dtrain, 'train')]\n",
    "gbm4 = xgb.train(params, dtrain, num_trees, evals=watchlist, verbose_eval=True)"
   ]
  },
  {
   "cell_type": "markdown",
   "metadata": {},
   "source": [
    "#### 5-vs-other "
   ]
  },
  {
   "cell_type": "code",
   "execution_count": 66,
   "metadata": {
    "collapsed": false,
    "scrolled": true
   },
   "outputs": [
    {
     "name": "stderr",
     "output_type": "stream",
     "text": [
      "[0]\teval-auc:0.954887\ttrain-auc:0.978525\n",
      "[1]\teval-auc:0.968985\ttrain-auc:0.995798\n",
      "[2]\teval-auc:0.990601\ttrain-auc:0.995798\n",
      "[3]\teval-auc:0.990601\ttrain-auc:0.996265\n",
      "[4]\teval-auc:0.990601\ttrain-auc:0.996265\n",
      "[5]\teval-auc:0.990601\ttrain-auc:0.996732\n",
      "[6]\teval-auc:0.986842\ttrain-auc:0.998366\n",
      "[7]\teval-auc:0.986842\ttrain-auc:0.998366\n",
      "[8]\teval-auc:0.986842\ttrain-auc:0.998366\n",
      "[9]\teval-auc:0.986842\ttrain-auc:0.998366\n",
      "[10]\teval-auc:0.986842\ttrain-auc:0.998133\n",
      "[11]\teval-auc:0.986842\ttrain-auc:0.997899\n",
      "[12]\teval-auc:0.986842\ttrain-auc:0.997899\n",
      "[13]\teval-auc:0.986842\ttrain-auc:0.997899\n",
      "[14]\teval-auc:0.986842\ttrain-auc:0.998133\n",
      "[15]\teval-auc:0.986842\ttrain-auc:0.998599\n",
      "[16]\teval-auc:0.990601\ttrain-auc:0.998133\n",
      "[17]\teval-auc:0.986842\ttrain-auc:0.998133\n",
      "[18]\teval-auc:0.990601\ttrain-auc:0.998133\n",
      "[19]\teval-auc:0.992481\ttrain-auc:0.998133\n",
      "[20]\teval-auc:0.990601\ttrain-auc:0.998599\n",
      "[21]\teval-auc:0.992481\ttrain-auc:0.998133\n",
      "[22]\teval-auc:0.992481\ttrain-auc:0.998599\n",
      "[23]\teval-auc:0.992481\ttrain-auc:0.998599\n",
      "[24]\teval-auc:0.988722\ttrain-auc:0.998599\n",
      "[25]\teval-auc:0.992481\ttrain-auc:0.998599\n",
      "[26]\teval-auc:0.992481\ttrain-auc:0.998599\n",
      "[27]\teval-auc:0.992481\ttrain-auc:0.998599\n",
      "[28]\teval-auc:0.992481\ttrain-auc:0.998133\n",
      "[29]\teval-auc:0.992481\ttrain-auc:0.998133\n",
      "[30]\teval-auc:0.992481\ttrain-auc:0.999066\n",
      "[31]\teval-auc:0.992481\ttrain-auc:0.999066\n",
      "[32]\teval-auc:0.992481\ttrain-auc:0.999066\n",
      "[33]\teval-auc:0.992481\ttrain-auc:0.999066\n",
      "[34]\teval-auc:0.990601\ttrain-auc:0.999066\n",
      "[35]\teval-auc:0.990601\ttrain-auc:0.999066\n",
      "[36]\teval-auc:0.990601\ttrain-auc:0.999066\n",
      "[37]\teval-auc:0.990601\ttrain-auc:0.999066\n",
      "[38]\teval-auc:0.986842\ttrain-auc:0.999066\n",
      "[39]\teval-auc:0.986842\ttrain-auc:0.999066\n",
      "[40]\teval-auc:0.986842\ttrain-auc:0.999066\n",
      "[41]\teval-auc:0.986842\ttrain-auc:0.999066\n",
      "[42]\teval-auc:0.988722\ttrain-auc:0.999066\n",
      "[43]\teval-auc:0.990601\ttrain-auc:0.999066\n",
      "[44]\teval-auc:0.990601\ttrain-auc:0.999066\n",
      "[45]\teval-auc:0.990601\ttrain-auc:0.999066\n",
      "[46]\teval-auc:0.990601\ttrain-auc:0.999066\n",
      "[47]\teval-auc:0.990601\ttrain-auc:0.999066\n",
      "[48]\teval-auc:0.990601\ttrain-auc:0.999066\n",
      "[49]\teval-auc:0.988722\ttrain-auc:0.999066\n",
      "[50]\teval-auc:0.990601\ttrain-auc:0.999066\n",
      "[51]\teval-auc:0.990601\ttrain-auc:0.999066\n",
      "[52]\teval-auc:0.988722\ttrain-auc:0.999066\n",
      "[53]\teval-auc:0.986842\ttrain-auc:0.999066\n",
      "[54]\teval-auc:0.988722\ttrain-auc:0.999066\n",
      "[55]\teval-auc:0.990601\ttrain-auc:0.999066\n",
      "[56]\teval-auc:0.988722\ttrain-auc:0.999066\n",
      "[57]\teval-auc:0.988722\ttrain-auc:0.999066\n",
      "[58]\teval-auc:0.988722\ttrain-auc:0.999066\n",
      "[59]\teval-auc:0.988722\ttrain-auc:0.999066\n",
      "[60]\teval-auc:0.988722\ttrain-auc:0.999066\n",
      "[61]\teval-auc:0.988722\ttrain-auc:0.998599\n",
      "[62]\teval-auc:0.988722\ttrain-auc:0.999066\n",
      "[63]\teval-auc:0.990601\ttrain-auc:0.999066\n",
      "[64]\teval-auc:0.990601\ttrain-auc:0.999066\n",
      "[65]\teval-auc:0.990601\ttrain-auc:0.999066\n",
      "[66]\teval-auc:0.990601\ttrain-auc:0.999066\n",
      "[67]\teval-auc:0.990601\ttrain-auc:0.999066\n",
      "[68]\teval-auc:0.990601\ttrain-auc:0.999066\n",
      "[69]\teval-auc:0.990601\ttrain-auc:0.999066\n",
      "[70]\teval-auc:0.990601\ttrain-auc:0.999066\n",
      "[71]\teval-auc:0.988722\ttrain-auc:0.999066\n",
      "[72]\teval-auc:0.990601\ttrain-auc:0.999066\n",
      "[73]\teval-auc:0.988722\ttrain-auc:0.999066\n",
      "[74]\teval-auc:0.988722\ttrain-auc:0.999066\n",
      "[75]\teval-auc:0.990601\ttrain-auc:0.999066\n",
      "[76]\teval-auc:0.988722\ttrain-auc:0.999066\n",
      "[77]\teval-auc:0.988722\ttrain-auc:0.999066\n",
      "[78]\teval-auc:0.988722\ttrain-auc:0.999066\n",
      "[79]\teval-auc:0.988722\ttrain-auc:0.999066\n",
      "[80]\teval-auc:0.988722\ttrain-auc:0.999066\n",
      "[81]\teval-auc:0.988722\ttrain-auc:0.999066\n",
      "[82]\teval-auc:0.988722\ttrain-auc:0.999066\n",
      "[83]\teval-auc:0.988722\ttrain-auc:0.999066\n",
      "[84]\teval-auc:0.988722\ttrain-auc:0.999066\n",
      "[85]\teval-auc:0.988722\ttrain-auc:0.999066\n",
      "[86]\teval-auc:0.988722\ttrain-auc:0.999066\n",
      "[87]\teval-auc:0.988722\ttrain-auc:0.999066\n",
      "[88]\teval-auc:0.988722\ttrain-auc:0.999066\n",
      "[89]\teval-auc:0.988722\ttrain-auc:0.999066\n",
      "[90]\teval-auc:0.988722\ttrain-auc:0.999066\n",
      "[91]\teval-auc:0.988722\ttrain-auc:0.999533\n",
      "[92]\teval-auc:0.988722\ttrain-auc:0.999533\n",
      "[93]\teval-auc:0.988722\ttrain-auc:0.999533\n",
      "[94]\teval-auc:0.988722\ttrain-auc:0.999533\n",
      "[95]\teval-auc:0.988722\ttrain-auc:0.999533\n",
      "[96]\teval-auc:0.988722\ttrain-auc:0.999533\n",
      "[97]\teval-auc:0.988722\ttrain-auc:0.999533\n",
      "[98]\teval-auc:0.988722\ttrain-auc:0.999533\n",
      "[99]\teval-auc:0.988722\ttrain-auc:0.999533\n"
     ]
    }
   ],
   "source": [
    "train_y_is_5 = [1 if x == 5 else 0 for x in train_y_5[tr_id_4or5]]\n",
    "x_tr, x_cv, y_tr, y_cv = train_test_split(train_x[tr_id_4or5], train_y_is_5, test_size = 0.33, random_state = 42)\n",
    "\n",
    "dtrain = xgb.DMatrix(x_tr, y_tr)\n",
    "dvalid = xgb.DMatrix(x_cv, y_cv)\n",
    "watchlist = [(dvalid, 'eval'), (dtrain, 'train')]\n",
    "gbm5 = xgb.train(params, dtrain, num_trees, evals=watchlist, verbose_eval=True)"
   ]
  },
  {
   "cell_type": "markdown",
   "metadata": {},
   "source": [
    "### Make prediction "
   ]
  },
  {
   "cell_type": "markdown",
   "metadata": {},
   "source": [
    "#### Predict 12 - 3- 45 classes"
   ]
  },
  {
   "cell_type": "code",
   "execution_count": 132,
   "metadata": {
    "collapsed": false
   },
   "outputs": [],
   "source": [
    "from sklearn.decomposition import PCA\n",
    "from sklearn.svm import SVC\n",
    "\n",
    "clf = Pipeline([\n",
    "  ('feature_selection', SelectFromModel(LinearSVC(penalty=\"l1\"))),\n",
    "  ('classification', RandomForestClassifier())\n",
    "])"
   ]
  },
  {
   "cell_type": "code",
   "execution_count": 130,
   "metadata": {
    "collapsed": false
   },
   "outputs": [],
   "source": [
    "pd_preds = pd.Series(preds_5)"
   ]
  },
  {
   "cell_type": "code",
   "execution_count": 131,
   "metadata": {
    "collapsed": false
   },
   "outputs": [
    {
     "data": {
      "text/plain": [
       "4    309\n",
       "5    306\n",
       "1    292\n",
       "2    233\n",
       "3    230\n",
       "dtype: int64"
      ]
     },
     "execution_count": 131,
     "metadata": {},
     "output_type": "execute_result"
    }
   ],
   "source": [
    "pd_preds.value_counts()"
   ]
  },
  {
   "cell_type": "code",
   "execution_count": 69,
   "metadata": {
    "collapsed": false
   },
   "outputs": [],
   "source": [
    "idx_1or2 = pd_preds[pd_preds == 1].index.values\n",
    "idx_3 = pd_preds[pd_preds == 2].index.values\n",
    "idx_4or5 = pd_preds[pd_preds == 3].index.values\n",
    "\n",
    "pd_preds[idx_4or5] = 5\n",
    "pd_preds[idx_3] = 3"
   ]
  },
  {
   "cell_type": "code",
   "execution_count": 71,
   "metadata": {
    "collapsed": true
   },
   "outputs": [],
   "source": [
    "test_1or2 = test[idx_1or2]\n",
    "test_4or5 = test[idx_4or5]"
   ]
  },
  {
   "cell_type": "markdown",
   "metadata": {},
   "source": [
    "#### Predict 1 class in 1-2 classes "
   ]
  },
  {
   "cell_type": "code",
   "execution_count": 72,
   "metadata": {
    "collapsed": false
   },
   "outputs": [],
   "source": [
    "dtest = xgb.DMatrix(test_1or2)\n",
    "XGB1 = gbm1.predict(dtest)\n",
    "indices = XGB1 < 0\n",
    "XGB1[indices] = 0"
   ]
  },
  {
   "cell_type": "markdown",
   "metadata": {},
   "source": [
    "#### Predict 2 class in 1-2 classes "
   ]
  },
  {
   "cell_type": "code",
   "execution_count": 73,
   "metadata": {
    "collapsed": true
   },
   "outputs": [],
   "source": [
    "XGB2 = gbm2.predict(dtest)\n",
    "indices = XGB2 < 0\n",
    "XGB2[indices] = 0"
   ]
  },
  {
   "cell_type": "code",
   "execution_count": 74,
   "metadata": {
    "collapsed": false
   },
   "outputs": [
    {
     "name": "stdout",
     "output_type": "stream",
     "text": [
      "293\n",
      "245\n"
     ]
    }
   ],
   "source": [
    "print len([x for x in XGB1 if np.rint(x) == 1])\n",
    "print len([x for x in XGB2 if np.rint(x) == 1])"
   ]
  },
  {
   "cell_type": "code",
   "execution_count": 75,
   "metadata": {
    "collapsed": true
   },
   "outputs": [],
   "source": [
    "preds_1or2 = []\n",
    "for i in range(len(XGB1)):\n",
    "    x = 0\n",
    "    \n",
    "    x1 = XGB1[i]\n",
    "    x2 = XGB2[i]\n",
    "    x1_round = np.rint(XGB1[i])\n",
    "    x2_round = np.rint(XGB2[i])\n",
    "    \n",
    "    if(x2_round == 1 and x1_round == 0): x = 2\n",
    "    elif(x2_round == 0 and x1_round == 1): x = 1\n",
    "    elif (x2 >= x1): x = 2\n",
    "    else: x = 1\n",
    "\n",
    "    preds_1or2.append(x)"
   ]
  },
  {
   "cell_type": "code",
   "execution_count": 76,
   "metadata": {
    "collapsed": false
   },
   "outputs": [
    {
     "name": "stdout",
     "output_type": "stream",
     "text": [
      "293\n",
      "245\n"
     ]
    }
   ],
   "source": [
    "print len([x for x in preds_1or2 if x == 1])\n",
    "print len([x for x in preds_1or2 if x == 2])"
   ]
  },
  {
   "cell_type": "markdown",
   "metadata": {},
   "source": [
    "#### Predict 4 class in 4-5 classes "
   ]
  },
  {
   "cell_type": "code",
   "execution_count": 77,
   "metadata": {
    "collapsed": true
   },
   "outputs": [],
   "source": [
    "dtest = xgb.DMatrix(test_4or5)\n",
    "XGB4 = gbm4.predict(dtest)\n",
    "indices = XGB4 < 0\n",
    "XGB4[indices] = 0"
   ]
  },
  {
   "cell_type": "markdown",
   "metadata": {},
   "source": [
    "#### Predict 5 class in 4-5 classes "
   ]
  },
  {
   "cell_type": "code",
   "execution_count": 78,
   "metadata": {
    "collapsed": true
   },
   "outputs": [],
   "source": [
    "XGB5 = gbm5.predict(dtest)\n",
    "indices = XGB5 < 0\n",
    "XGB5[indices] = 0"
   ]
  },
  {
   "cell_type": "code",
   "execution_count": 79,
   "metadata": {
    "collapsed": false
   },
   "outputs": [
    {
     "name": "stdout",
     "output_type": "stream",
     "text": [
      "330\n",
      "213\n"
     ]
    }
   ],
   "source": [
    "print len([x for x in XGB4 if np.rint(x) == 1])\n",
    "print len([x for x in XGB5 if np.rint(x) == 1])"
   ]
  },
  {
   "cell_type": "code",
   "execution_count": 80,
   "metadata": {
    "collapsed": true
   },
   "outputs": [],
   "source": [
    "preds_4or5 = []\n",
    "for i in range(len(XGB5)):\n",
    "    x = 0\n",
    "    \n",
    "    x1 = XGB4[i]\n",
    "    x2 = XGB5[i]\n",
    "    x1_round = np.rint(XGB4[i])\n",
    "    x2_round = np.rint(XGB5[i])\n",
    "    \n",
    "    if(x2_round == 1 and x1_round == 0): x = 5\n",
    "    elif(x2_round == 0 and x1_round == 1): x = 4\n",
    "    elif (x2 >= x1): x = 5\n",
    "    else: x = 4\n",
    "\n",
    "    preds_4or5.append(x)"
   ]
  },
  {
   "cell_type": "code",
   "execution_count": 81,
   "metadata": {
    "collapsed": false
   },
   "outputs": [
    {
     "name": "stdout",
     "output_type": "stream",
     "text": [
      "330\n",
      "213\n"
     ]
    }
   ],
   "source": [
    "print len([x for x in preds_4or5 if x == 4])\n",
    "print len([x for x in preds_4or5 if x == 5])"
   ]
  },
  {
   "cell_type": "code",
   "execution_count": 82,
   "metadata": {
    "collapsed": true
   },
   "outputs": [],
   "source": [
    "pd_preds[idx_1or2] = preds_1or2\n",
    "pd_preds[idx_4or5] = preds_4or5"
   ]
  },
  {
   "cell_type": "code",
   "execution_count": 83,
   "metadata": {
    "collapsed": false
   },
   "outputs": [
    {
     "data": {
      "text/plain": [
       "4    330\n",
       "1    293\n",
       "3    289\n",
       "2    245\n",
       "5    213\n",
       "dtype: int64"
      ]
     },
     "execution_count": 83,
     "metadata": {},
     "output_type": "execute_result"
    }
   ],
   "source": [
    "pd_preds.value_counts()"
   ]
  },
  {
   "cell_type": "markdown",
   "metadata": {},
   "source": [
    "#### Submit file "
   ]
  },
  {
   "cell_type": "code",
   "execution_count": 90,
   "metadata": {
    "collapsed": false
   },
   "outputs": [],
   "source": [
    "test_sets = []\n",
    "cur_list = []\n",
    "for i in range(len(pd_preds)):\n",
    "    cur_list.append(pd_preds[i])\n",
    "    if((i+1) % 5 == 0):\n",
    "        test_sets.append(cur_list[:])\n",
    "        cur_list[:] = []\n",
    "\n",
    "def to_str(l):\n",
    "    return ' '.join([str(x) for x in l])\n",
    "\n",
    "test_sets_str = [to_str(x) for x in test_sets]\n",
    "\n",
    "submit = pd.read_csv('data/sample_submission.csv')\n",
    "submit.day = test_sets_str\n",
    "submit.to_csv('submission.csv', index=False)"
   ]
  },
  {
   "cell_type": "code",
   "execution_count": 92,
   "metadata": {
    "collapsed": false
   },
   "outputs": [
    {
     "name": "stdout",
     "output_type": "stream",
     "text": [
      "338 112 0\n"
     ]
    }
   ],
   "source": [
    "c = 0\n",
    "for s in test_sets:\n",
    "    for x in range(1,6):\n",
    "        c += abs(s.count(x)-1)\n",
    "cnt_bad = 0\n",
    "for s in test_sets:\n",
    "    if (s.count(1) > 2 or s.count(2) > 2 or s.count(3) > 2 or s.count(4) > 2 or s.count(5) > 2): \n",
    "        cnt_bad += 1\n",
    "\n",
    "cnt_good = 0\n",
    "for s in test_sets:\n",
    "    if (1 in s and 2 in s and 3 in s and 4 in s and 5 in s): \n",
    "        cnt_good += 1\n",
    "print c, cnt_good, cnt_bad"
   ]
  },
  {
   "cell_type": "code",
   "execution_count": 71,
   "metadata": {
    "collapsed": false,
    "scrolled": false
   },
   "outputs": [
    {
     "name": "stdout",
     "output_type": "stream",
     "text": [
      "abs_num \t mse_5 \t cnt_good \t cnt_bad \t validation \t model\n",
      "372.000000 \t 1872.800000 \t 101.000000 \t 2.000000 \t 0.905556 \t 3 uniform ball_tree\n",
      "372.000000 \t 1872.800000 \t 101.000000 \t 2.000000 \t 0.905556 \t 3 uniform kd_tree\n",
      "372.000000 \t 1872.800000 \t 101.000000 \t 2.000000 \t 0.905556 \t 3 uniform brute\n",
      "370.000000 \t 1851.600000 \t 101.000000 \t 1.000000 \t 0.908454 \t 3 distance ball_tree\n",
      "370.000000 \t 1851.600000 \t 101.000000 \t 1.000000 \t 0.908454 \t 3 distance kd_tree\n",
      "370.000000 \t 1851.600000 \t 101.000000 \t 1.000000 \t 0.908454 \t 3 distance brute\n",
      "370.000000 \t 2299.200000 \t 98.000000 \t 4.000000 \t 0.916667 \t 4 uniform ball_tree\n",
      "370.000000 \t 2299.200000 \t 98.000000 \t 4.000000 \t 0.916667 \t 4 uniform kd_tree\n",
      "370.000000 \t 2299.200000 \t 98.000000 \t 4.000000 \t 0.916667 \t 4 uniform brute\n",
      "366.000000 \t 1816.400000 \t 103.000000 \t 4.000000 \t 0.908333 \t 4 distance ball_tree\n",
      "366.000000 \t 1816.400000 \t 103.000000 \t 4.000000 \t 0.908333 \t 4 distance kd_tree\n",
      "366.000000 \t 1816.400000 \t 103.000000 \t 4.000000 \t 0.908333 \t 4 distance brute\n",
      "350.000000 \t 1605.200000 \t 106.000000 \t 2.000000 \t 0.913889 \t 5 uniform ball_tree\n",
      "350.000000 \t 1605.200000 \t 106.000000 \t 2.000000 \t 0.913889 \t 5 uniform kd_tree\n",
      "350.000000 \t 1605.200000 \t 106.000000 \t 2.000000 \t 0.913889 \t 5 uniform brute\n",
      "346.000000 \t 1840.000000 \t 109.000000 \t 2.000000 \t 0.913889 \t 5 distance ball_tree\n",
      "346.000000 \t 1840.000000 \t 109.000000 \t 2.000000 \t 0.913889 \t 5 distance kd_tree\n",
      "346.000000 \t 1840.000000 \t 109.000000 \t 2.000000 \t 0.913889 \t 5 distance brute\n",
      "342.000000 \t 1929.200000 \t 106.000000 \t 1.000000 \t 0.925242 \t 6 uniform ball_tree\n",
      "342.000000 \t 1929.200000 \t 106.000000 \t 1.000000 \t 0.925242 \t 6 uniform kd_tree\n",
      "342.000000 \t 1929.200000 \t 106.000000 \t 1.000000 \t 0.925242 \t 6 uniform brute\n",
      "342.000000 \t 1638.000000 \t 109.000000 \t 2.000000 \t 0.925362 \t 6 distance ball_tree\n",
      "342.000000 \t 1638.000000 \t 109.000000 \t 2.000000 \t 0.925362 \t 6 distance kd_tree\n",
      "342.000000 \t 1638.000000 \t 109.000000 \t 2.000000 \t 0.925362 \t 6 distance brute\n",
      "346.000000 \t 1532.400000 \t 109.000000 \t 0.000000 \t 0.910990 \t 7 uniform ball_tree\n",
      "346.000000 \t 1532.400000 \t 109.000000 \t 0.000000 \t 0.910990 \t 7 uniform kd_tree\n",
      "346.000000 \t 1532.400000 \t 109.000000 \t 0.000000 \t 0.910990 \t 7 uniform brute\n",
      "340.000000 \t 1692.400000 \t 112.000000 \t 0.000000 \t 0.913889 \t 7 distance ball_tree\n",
      "340.000000 \t 1692.400000 \t 112.000000 \t 0.000000 \t 0.913889 \t 7 distance kd_tree\n",
      "340.000000 \t 1692.400000 \t 112.000000 \t 0.000000 \t 0.913889 \t 7 distance brute\n",
      "346.000000 \t 1539.200000 \t 107.000000 \t 0.000000 \t 0.919444 \t 8 uniform ball_tree\n",
      "346.000000 \t 1539.200000 \t 107.000000 \t 0.000000 \t 0.919444 \t 8 uniform kd_tree\n",
      "346.000000 \t 1539.200000 \t 107.000000 \t 0.000000 \t 0.919444 \t 8 uniform brute\n",
      "342.000000 \t 1472.800000 \t 111.000000 \t 2.000000 \t 0.919565 \t 8 distance ball_tree\n",
      "342.000000 \t 1472.800000 \t 111.000000 \t 2.000000 \t 0.919565 \t 8 distance kd_tree\n",
      "342.000000 \t 1472.800000 \t 111.000000 \t 2.000000 \t 0.919565 \t 8 distance brute\n",
      "336.000000 \t 1308.400000 \t 112.000000 \t 1.000000 \t 0.908092 \t 9 uniform ball_tree\n",
      "336.000000 \t 1308.400000 \t 112.000000 \t 1.000000 \t 0.908092 \t 9 uniform kd_tree\n",
      "336.000000 \t 1308.400000 \t 112.000000 \t 1.000000 \t 0.908092 \t 9 uniform brute\n",
      "332.000000 \t 1359.600000 \t 115.000000 \t 1.000000 \t 0.916667 \t 9 distance ball_tree\n",
      "332.000000 \t 1359.600000 \t 115.000000 \t 1.000000 \t 0.916667 \t 9 distance kd_tree\n",
      "332.000000 \t 1359.600000 \t 115.000000 \t 1.000000 \t 0.916667 \t 9 distance brute\n",
      "356.000000 \t 1412.000000 \t 102.000000 \t 0.000000 \t 0.913768 \t 10 uniform ball_tree\n",
      "356.000000 \t 1412.000000 \t 102.000000 \t 0.000000 \t 0.913768 \t 10 uniform kd_tree\n",
      "356.000000 \t 1412.000000 \t 102.000000 \t 0.000000 \t 0.913768 \t 10 uniform brute\n",
      "338.000000 \t 1270.000000 \t 112.000000 \t 0.000000 \t 0.908092 \t 10 distance ball_tree\n",
      "338.000000 \t 1270.000000 \t 112.000000 \t 0.000000 \t 0.908092 \t 10 distance kd_tree\n",
      "338.000000 \t 1270.000000 \t 112.000000 \t 0.000000 \t 0.908092 \t 10 distance brute\n"
     ]
    }
   ],
   "source": [
    "neighbours = [3, 4, 5, 6, 7, 8, 9, 10]\n",
    "weights = ['uniform', 'distance']\n",
    "algorithms = ['ball_tree', 'kd_tree', 'brute']\n",
    "mse_etal = [274, 274, 274, 274, 274]\n",
    "\n",
    "print 'abs_num \\t mse_5 \\t cnt_good \\t cnt_bad \\t validation \\t model'\n",
    "for n in neighbours:\n",
    "    for w in weights:\n",
    "        for alg in algorithms:\n",
    "            str_model = ' '.join([str(n), w, alg])\n",
    "            knn = KNeighborsClassifier(n_neighbors=n, weights=w, algorithm=alg)\n",
    "            cv = cross_val_score(knn, train_x, train_y_5, cv=3, scoring='accuracy').mean()\n",
    "            \n",
    "            knn.fit(train_x, train_y_5)\n",
    "            preds_5 = knn.predict(test)\n",
    "            \n",
    "            test_sets = []\n",
    "            cur_list = []\n",
    "            for i in range(len(preds_5)):\n",
    "                cur_list.append(preds_5[i])\n",
    "                if((i+1) % 5 == 0):\n",
    "                    test_sets.append(cur_list[:])\n",
    "                    cur_list[:] = []\n",
    "\n",
    "            c = 0\n",
    "            for s in test_sets:\n",
    "                for x in range(1,6):\n",
    "                    c += abs(s.count(x)-1)\n",
    "                    \n",
    "            mse_cur = mean_squared_error(mse_etal, get_value_counts(preds_5, 5))\n",
    "            \n",
    "            cnt_bad = 0\n",
    "            for s in test_sets:\n",
    "                if (s.count(1) > 2 or s.count(2) > 2 or s.count(3) > 2 or s.count(4) > 2 or s.count(5) > 2): \n",
    "                    cnt_bad += 1\n",
    "\n",
    "            cnt_good = 0\n",
    "            for s in test_sets:\n",
    "                if (1 in s and 2 in s and 3 in s and 4 in s and 5 in s): \n",
    "                    cnt_good += 1\n",
    "                    \n",
    "            print ('%f \\t %f \\t %f \\t %f \\t %f \\t %s') % (c, mse_cur, cnt_good, cnt_bad, cv, str_model)"
   ]
  },
  {
   "cell_type": "code",
   "execution_count": null,
   "metadata": {
    "collapsed": true
   },
   "outputs": [],
   "source": []
  }
 ],
 "metadata": {
  "kernelspec": {
   "display_name": "Python 2",
   "language": "python",
   "name": "python2"
  },
  "language_info": {
   "codemirror_mode": {
    "name": "ipython",
    "version": 2
   },
   "file_extension": ".py",
   "mimetype": "text/x-python",
   "name": "python",
   "nbconvert_exporter": "python",
   "pygments_lexer": "ipython2",
   "version": "2.7.6"
  }
 },
 "nbformat": 4,
 "nbformat_minor": 0
}
