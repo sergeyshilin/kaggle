{
 "cells": [
  {
   "cell_type": "code",
   "execution_count": 12,
   "metadata": {
    "collapsed": true
   },
   "outputs": [],
   "source": [
    "import numpy as np\n",
    "import pandas as pd\n",
    "import scipy as scp"
   ]
  },
  {
   "cell_type": "code",
   "execution_count": 88,
   "metadata": {
    "collapsed": true
   },
   "outputs": [],
   "source": [
    "clusters = {\n",
    "    'a1': [332, 304, 71, 54, 129, 300, 214, 169, 67, 321, 28],\n",
    "    'a2': [184, 335, 166, 104, 249, 209, 22, 3, 49, 200],\n",
    "    'a3': [113, 167, 225, 236, 253, 135, 115, 261, 123, 152],\n",
    "    'a4': [17, 310, 206],\n",
    "    'b1': [243, 163, 26, 199, 256, 319],\n",
    "    'b2': [196, 14, 154, 153, 13, 313, 238, 193, 84, 230, 65, 101, 18, 280],\n",
    "    'b3': [38, 179, 287, 32, 283, 156, 242, 244, 317, 161],\n",
    "    'b4': [96, 269, 322, 151, 212, 60, 202, 189],\n",
    "    'b5': [308, 146, 316, 150, 47, 259, 155],\n",
    "    'c1': [33, 148, 134, 258, 325, 56, 37, 46],\n",
    "    'c2': [126, 187, 326, 140, 260, 174, 6, 133, 127],\n",
    "    'c3': [125, 226, 122, 120, 254],\n",
    "    'c4': [284, 231, 88, 208, 333, 48, 233, 138, 172, 23],\n",
    "    'c5': [164, 331, 1, 85, 90, 324, 291, 111, 52],\n",
    "    'c6': [82, 168, 305, 299, 19, 271, 86],\n",
    "    'd1': [221, 136, 302, 159],\n",
    "    'd2': [275, 147, 63, 216, 72, 227, 219, 149, 114, 81, 9],\n",
    "    'd3': [341, 27, 198, 328],\n",
    "    'd4': [87, 330, 215, 100, 128, 24, 323, 102, 186, 142, 337],\n",
    "    'd5': [139, 293, 130, 278, 119, 191, 183, 2, 320],\n",
    "    'd6': [182, 294, 66, 124],\n",
    "    'e1': [232, 276, 197, 314, 8, 343, 336, 247, 39, 70, 240, 273, 228, 315, 344],\n",
    "    'e2': [192, 290, 7, 265, 106, 132, 338, 51, 89, 98, 282, 292, 295, 141, 105, 270, 266],\n",
    "    'e3': [117, 250, 95, 80, 93, 339, 246, 210, 286, 92, 40, 34, 110, 99, 180, 73, 234, 248, 263, 108, 15, 195],\n",
    "    'e4': [11, 181, 185, 272, 91, 188, 64, 30, 75, 145, 235, 77, 207, 204, 222, 306],\n",
    "    'e5': [41, 177, 281, 42, 83, 245, 121, 157, 296, 334, 170],\n",
    "    'f1': [76,45,68],\n",
    "    'f2': [289,61,55,262],\n",
    "    'f3': [309,288],\n",
    "    'f4': [109,118],\n",
    "    'f5': [62,103,116],\n",
    "    'f6': [312,36],\n",
    "    'g1': [74],\n",
    "    'g2': [267,237,329,213],\n",
    "    'g3': [162],\n",
    "    'g5': [318]\n",
    "}"
   ]
  },
  {
   "cell_type": "code",
   "execution_count": 64,
   "metadata": {
    "collapsed": false
   },
   "outputs": [],
   "source": [
    "from scipy.stats import spearmanr\n",
    "\n",
    "def get_list(str_order):\n",
    "    return [int(x) for x in str_order.split(' ')]\n",
    "\n",
    "def get_order(submit):\n",
    "    submit = get_list(submit)\n",
    "    abs_order = np.zeros(5)\n",
    "    for i in range(5):\n",
    "        abs_order[submit[i] - 1] = i+1\n",
    "    return ' '.join([str(int(x)) for x in abs_order])\n",
    "\n",
    "def print_correlation(cluster_arr, data1, data2):\n",
    "    for cl in cluster_arr:\n",
    "        cluster_sets = clusters[cl]\n",
    "        print 'Claster: ' + cl.upper()\n",
    "        print ('Set\\tData_1 submit\\tData_1 order\\tCorrelation\\tData_2 order\\tData_2 submit')\n",
    "        for i, row in data1.iterrows():\n",
    "            if(row['setId'] in cluster_sets):\n",
    "                order_1 = row['day']\n",
    "                order_2 = data2[data2['setId'] == row['setId']]['day'].values[0]\n",
    "                sp_r = spearmanr(get_list(order_1), get_list(order_2)).correlation\n",
    "                print ('%d\\t%s\\t%s\\t%f\\t%s\\t%s') % (row['setId'], order_1, get_order(order_1), sp_r, get_order(order_2), order_2)"
   ]
  },
  {
   "cell_type": "code",
   "execution_count": 82,
   "metadata": {
    "collapsed": true
   },
   "outputs": [],
   "source": [
    "data1 = pd.read_csv('nata/submission3.csv')\n",
    "data2 = pd.read_csv('submissions/submit_final.csv')"
   ]
  },
  {
   "cell_type": "code",
   "execution_count": 89,
   "metadata": {
    "collapsed": false,
    "scrolled": false
   },
   "outputs": [
    {
     "name": "stdout",
     "output_type": "stream",
     "text": [
      "Claster: F1\n",
      "Set\tData_1 submit\tData_1 order\tCorrelation\tData_2 order\tData_2 submit\n",
      "45\t4 1 3 5 2\t2 5 3 1 4\t1.000000\t2 5 3 1 4\t4 1 3 5 2\n",
      "68\t2 5 1 4 3\t3 1 5 4 2\t1.000000\t3 1 5 4 2\t2 5 1 4 3\n",
      "76\t5 2 1 5 3\t3 2 5 0 4\t0.974679\t3 2 5 4 1\t5 2 1 4 3\n",
      "Claster: F2\n",
      "Set\tData_1 submit\tData_1 order\tCorrelation\tData_2 order\tData_2 submit\n",
      "55\t3 1 4 2 5\t2 4 1 3 5\t1.000000\t2 4 1 3 5\t3 1 4 2 5\n",
      "61\t2 4 1 5 3\t3 1 5 2 4\t1.000000\t3 1 5 2 4\t2 4 1 5 3\n",
      "262\t4 3 5 2 1\t5 4 2 1 3\t1.000000\t5 4 2 1 3\t4 3 5 2 1\n",
      "289\t4 2 1 3 5\t3 2 4 1 5\t1.000000\t3 2 4 1 5\t4 2 1 3 5\n",
      "Claster: F3\n",
      "Set\tData_1 submit\tData_1 order\tCorrelation\tData_2 order\tData_2 submit\n",
      "288\t2 5 5 4 1\t5 1 0 4 3\t0.820783\t5 1 3 4 2\t2 5 3 4 1\n",
      "309\t1 5 3 4 2\t1 5 3 4 2\t1.000000\t1 5 3 4 2\t1 5 3 4 2\n",
      "Claster: F4\n",
      "Set\tData_1 submit\tData_1 order\tCorrelation\tData_2 order\tData_2 submit\n",
      "109\t5 4 1 3 2\t3 5 4 2 1\t1.000000\t3 5 4 2 1\t5 4 1 3 2\n",
      "118\t4 3 1 5 2\t3 5 2 1 4\t1.000000\t3 5 2 1 4\t4 3 1 5 2\n",
      "Claster: F5\n",
      "Set\tData_1 submit\tData_1 order\tCorrelation\tData_2 order\tData_2 submit\n",
      "62\t1 4 2 3 5\t1 3 4 2 5\t1.000000\t1 3 4 2 5\t1 4 2 3 5\n",
      "103\t4 1 5 3 2\t2 5 4 1 3\t1.000000\t2 5 4 1 3\t4 1 5 3 2\n",
      "116\t3 5 1 4 2\t3 5 1 4 2\t1.000000\t3 5 1 4 2\t3 5 1 4 2\n",
      "Claster: F6\n",
      "Set\tData_1 submit\tData_1 order\tCorrelation\tData_2 order\tData_2 submit\n",
      "36\t4 2 5 4 5\t0 2 0 4 5\t0.579751\t4 2 3 1 5\t4 2 3 1 5\n",
      "312\t3 1 4 5 2\t2 5 1 3 4\t1.000000\t2 5 1 3 4\t3 1 4 5 2\n",
      "Claster: G1\n",
      "Set\tData_1 submit\tData_1 order\tCorrelation\tData_2 order\tData_2 submit\n",
      "74\t1 4 5 2 3\t1 4 5 2 3\t1.000000\t1 4 5 2 3\t1 4 5 2 3\n",
      "Claster: G2\n",
      "Set\tData_1 submit\tData_1 order\tCorrelation\tData_2 order\tData_2 submit\n",
      "213\t1 5 3 4 2\t1 5 3 4 2\t1.000000\t1 5 3 4 2\t1 5 3 4 2\n",
      "237\t2 4 5 1 3\t4 1 5 2 3\t1.000000\t4 1 5 2 3\t2 4 5 1 3\n",
      "267\t4 3 2 1 5\t4 3 2 1 5\t1.000000\t4 3 2 1 5\t4 3 2 1 5\n",
      "329\t5 2 3 5 1\t5 2 3 0 4\t0.974679\t5 2 3 4 1\t5 2 3 4 1\n",
      "Claster: G3\n",
      "Set\tData_1 submit\tData_1 order\tCorrelation\tData_2 order\tData_2 submit\n",
      "162\t5 5 5 5 4\t0 0 0 5 4\t-0.353553\t4 1 3 5 2\t2 5 3 1 4\n",
      "Claster: G5\n",
      "Set\tData_1 submit\tData_1 order\tCorrelation\tData_2 order\tData_2 submit\n",
      "318\t4 1 1 5 3\t3 0 5 1 4\t0.974679\t3 2 5 1 4\t4 2 1 5 3\n"
     ]
    }
   ],
   "source": [
    "print_correlation(['f1', 'f2', 'f3', 'f4', 'f5', 'f6', 'g1', 'g2', 'g3', 'g5'], data1, data2)"
   ]
  },
  {
   "cell_type": "code",
   "execution_count": null,
   "metadata": {
    "collapsed": true
   },
   "outputs": [],
   "source": []
  }
 ],
 "metadata": {
  "kernelspec": {
   "display_name": "Python 2",
   "language": "python",
   "name": "python2"
  },
  "language_info": {
   "codemirror_mode": {
    "name": "ipython",
    "version": 2
   },
   "file_extension": ".py",
   "mimetype": "text/x-python",
   "name": "python",
   "nbconvert_exporter": "python",
   "pygments_lexer": "ipython2",
   "version": "2.7.6"
  }
 },
 "nbformat": 4,
 "nbformat_minor": 0
}
