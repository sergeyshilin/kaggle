{
 "cells": [
  {
   "cell_type": "code",
   "execution_count": 271,
   "metadata": {
    "collapsed": false
   },
   "outputs": [],
   "source": [
    "%matplotlib inline\n",
    "import numpy as np\n",
    "import pandas as pd\n",
    "import matplotlib.pyplot as plt"
   ]
  },
  {
   "cell_type": "markdown",
   "metadata": {},
   "source": [
    "## Get Data"
   ]
  },
  {
   "cell_type": "code",
   "execution_count": 272,
   "metadata": {
    "collapsed": true
   },
   "outputs": [],
   "source": [
    "train = pd.read_csv('train.csv', header=False)\n",
    "test = pd.read_csv('test.csv', header=False)\n",
    "\n",
    "#Concatenate train and test samples ( test started with 892 Id )\n",
    "full = pd.concat([train.drop('Survived', 1), test])"
   ]
  },
  {
   "cell_type": "code",
   "execution_count": 273,
   "metadata": {
    "collapsed": false
   },
   "outputs": [
    {
     "data": {
      "text/html": [
       "<div>\n",
       "<table border=\"1\" class=\"dataframe\">\n",
       "  <thead>\n",
       "    <tr style=\"text-align: right;\">\n",
       "      <th></th>\n",
       "      <th>PassengerId</th>\n",
       "      <th>Pclass</th>\n",
       "      <th>Name</th>\n",
       "      <th>Sex</th>\n",
       "      <th>Age</th>\n",
       "      <th>SibSp</th>\n",
       "      <th>Parch</th>\n",
       "      <th>Ticket</th>\n",
       "      <th>Fare</th>\n",
       "      <th>Cabin</th>\n",
       "      <th>Embarked</th>\n",
       "    </tr>\n",
       "  </thead>\n",
       "  <tbody>\n",
       "    <tr>\n",
       "      <th>0</th>\n",
       "      <td>1</td>\n",
       "      <td>3</td>\n",
       "      <td>Braund, Mr. Owen Harris</td>\n",
       "      <td>male</td>\n",
       "      <td>22</td>\n",
       "      <td>1</td>\n",
       "      <td>0</td>\n",
       "      <td>A/5 21171</td>\n",
       "      <td>7.2500</td>\n",
       "      <td>NaN</td>\n",
       "      <td>S</td>\n",
       "    </tr>\n",
       "    <tr>\n",
       "      <th>1</th>\n",
       "      <td>2</td>\n",
       "      <td>1</td>\n",
       "      <td>Cumings, Mrs. John Bradley (Florence Briggs Th...</td>\n",
       "      <td>female</td>\n",
       "      <td>38</td>\n",
       "      <td>1</td>\n",
       "      <td>0</td>\n",
       "      <td>PC 17599</td>\n",
       "      <td>71.2833</td>\n",
       "      <td>C85</td>\n",
       "      <td>C</td>\n",
       "    </tr>\n",
       "    <tr>\n",
       "      <th>2</th>\n",
       "      <td>3</td>\n",
       "      <td>3</td>\n",
       "      <td>Heikkinen, Miss. Laina</td>\n",
       "      <td>female</td>\n",
       "      <td>26</td>\n",
       "      <td>0</td>\n",
       "      <td>0</td>\n",
       "      <td>STON/O2. 3101282</td>\n",
       "      <td>7.9250</td>\n",
       "      <td>NaN</td>\n",
       "      <td>S</td>\n",
       "    </tr>\n",
       "    <tr>\n",
       "      <th>3</th>\n",
       "      <td>4</td>\n",
       "      <td>1</td>\n",
       "      <td>Futrelle, Mrs. Jacques Heath (Lily May Peel)</td>\n",
       "      <td>female</td>\n",
       "      <td>35</td>\n",
       "      <td>1</td>\n",
       "      <td>0</td>\n",
       "      <td>113803</td>\n",
       "      <td>53.1000</td>\n",
       "      <td>C123</td>\n",
       "      <td>S</td>\n",
       "    </tr>\n",
       "    <tr>\n",
       "      <th>4</th>\n",
       "      <td>5</td>\n",
       "      <td>3</td>\n",
       "      <td>Allen, Mr. William Henry</td>\n",
       "      <td>male</td>\n",
       "      <td>35</td>\n",
       "      <td>0</td>\n",
       "      <td>0</td>\n",
       "      <td>373450</td>\n",
       "      <td>8.0500</td>\n",
       "      <td>NaN</td>\n",
       "      <td>S</td>\n",
       "    </tr>\n",
       "  </tbody>\n",
       "</table>\n",
       "</div>"
      ],
      "text/plain": [
       "   PassengerId  Pclass                                               Name  \\\n",
       "0            1       3                            Braund, Mr. Owen Harris   \n",
       "1            2       1  Cumings, Mrs. John Bradley (Florence Briggs Th...   \n",
       "2            3       3                             Heikkinen, Miss. Laina   \n",
       "3            4       1       Futrelle, Mrs. Jacques Heath (Lily May Peel)   \n",
       "4            5       3                           Allen, Mr. William Henry   \n",
       "\n",
       "      Sex  Age  SibSp  Parch            Ticket     Fare Cabin Embarked  \n",
       "0    male   22      1      0         A/5 21171   7.2500   NaN        S  \n",
       "1  female   38      1      0          PC 17599  71.2833   C85        C  \n",
       "2  female   26      0      0  STON/O2. 3101282   7.9250   NaN        S  \n",
       "3  female   35      1      0            113803  53.1000  C123        S  \n",
       "4    male   35      0      0            373450   8.0500   NaN        S  "
      ]
     },
     "execution_count": 273,
     "metadata": {},
     "output_type": "execute_result"
    }
   ],
   "source": [
    "full[:5]"
   ]
  },
  {
   "cell_type": "markdown",
   "metadata": {},
   "source": [
    "### Prepare data"
   ]
  },
  {
   "cell_type": "code",
   "execution_count": 274,
   "metadata": {
    "collapsed": false
   },
   "outputs": [
    {
     "data": {
      "text/plain": [
       "PassengerId       0\n",
       "Pclass            0\n",
       "Name              0\n",
       "Sex               0\n",
       "Age             263\n",
       "SibSp             0\n",
       "Parch             0\n",
       "Ticket            0\n",
       "Fare              1\n",
       "Cabin          1014\n",
       "Embarked          2\n",
       "dtype: int64"
      ]
     },
     "execution_count": 274,
     "metadata": {},
     "output_type": "execute_result"
    }
   ],
   "source": [
    "# Another one number of Nulls in each column\n",
    "full.isnull().sum(axis=0)"
   ]
  },
  {
   "cell_type": "code",
   "execution_count": 275,
   "metadata": {
    "collapsed": false
   },
   "outputs": [
    {
     "name": "stdout",
     "output_type": "stream",
     "text": [
      "S\n"
     ]
    }
   ],
   "source": [
    "# Fill empty Embarked values\n",
    "\n",
    "embarked_maxs = full.groupby('Embarked').count()\n",
    "max_emb = embarked_maxs.loc[embarked_maxs.PassengerId == embarked_maxs.PassengerId.max(), 'PassengerId'].argmax()\n",
    "print max_emb\n",
    "\n",
    "full.Embarked = full.Embarked.fillna(max_emb)"
   ]
  },
  {
   "cell_type": "markdown",
   "metadata": {},
   "source": [
    "#### 1. Feature Engineering"
   ]
  },
  {
   "cell_type": "code",
   "execution_count": 276,
   "metadata": {
    "collapsed": false
   },
   "outputs": [],
   "source": [
    "import re\n",
    "import math\n",
    "\n",
    "# A function to get the title from a name.\n",
    "def get_title(name):\n",
    "    # Use a regular expression to search for a title.  Titles always consist of capital and lowercase letters, and end with a period.\n",
    "    title_search = re.search(' ([A-Za-z]+)\\.', name)\n",
    "    # If the title exists, extract and return it.\n",
    "    if title_search:\n",
    "        return title_search.group(1)\n",
    "    return \"\"\n",
    "\n",
    "def get_deck(name):\n",
    "    if not isinstance(name, str):\n",
    "        return np.nan\n",
    "    # Use a regular expression to search for a title.  Titles always consist of capital and lowercase letters, and end with a period.\n",
    "    title_search = re.search('([A-Za-z]+)', name)\n",
    "    # If the title exists, extract and return it.\n",
    "    if title_search:\n",
    "        return title_search.group(1)\n",
    "    return np.nan\n",
    "\n",
    "def get_cabin_pos(name):\n",
    "    if not isinstance(name, str):\n",
    "        return np.nan\n",
    "    # Use a regular expression to search for a title.  Titles always consist of capital and lowercase letters, and end with a period.\n",
    "    title_search = re.search('([0-9]+)', name)\n",
    "    # If the title exists, extract and return it.\n",
    "    if title_search:\n",
    "        return int(title_search.group(1))\n",
    "    return np.nan"
   ]
  },
  {
   "cell_type": "code",
   "execution_count": 277,
   "metadata": {
    "collapsed": false,
    "scrolled": true
   },
   "outputs": [
    {
     "data": {
      "text/plain": [
       "Mr        757\n",
       "Miss      260\n",
       "Mrs       197\n",
       "Master     61\n",
       "Dr          8\n",
       "Rev         8\n",
       "Sir         5\n",
       "Col         4\n",
       "Lady        4\n",
       "Mlle        3\n",
       "Ms          2\n",
       "dtype: int64"
      ]
     },
     "execution_count": 277,
     "metadata": {},
     "output_type": "execute_result"
    }
   ],
   "source": [
    "# Get all the titles and print how often each one occurs.\n",
    "titles = full[\"Name\"].apply(get_title)\n",
    "\n",
    "full[\"Title\"] = titles\n",
    "full.loc[ (full.Title == \"Mme\") | (full.Title == \"Mlle\"), \"Title\" ] = \"Mlle\"\n",
    "full.loc[ (full.Title == \"Capt\") | (full.Title == \"Don\") | (full.Title == \"Major\") | (full.Title == \"Sir\"), \"Title\" ] = \"Sir\"\n",
    "full.loc[ (full.Title == \"Dona\") | (full.Title == \"Lady\") | (full.Title == \"Countess\") | (full.Title == \"Jonkheer\"), \"Title\" ] = \"Lady\"\n",
    "\n",
    "full.Title.value_counts()"
   ]
  },
  {
   "cell_type": "code",
   "execution_count": 278,
   "metadata": {
    "collapsed": true
   },
   "outputs": [],
   "source": [
    "full['Title2'] = full.Title\n",
    "full['Title3'] = full.Title"
   ]
  },
  {
   "cell_type": "code",
   "execution_count": 279,
   "metadata": {
    "collapsed": true
   },
   "outputs": [],
   "source": [
    "# Generate FamilySize as a sum of parents, children and siblings\n",
    "\n",
    "full['FamilySize'] = full['SibSp'] + full['Parch'] + 1\n",
    "full.loc[full.FamilySize <= 2, 'FamilySize'] = 0"
   ]
  },
  {
   "cell_type": "code",
   "execution_count": 280,
   "metadata": {
    "collapsed": false
   },
   "outputs": [],
   "source": [
    "# Add feature 'is Mother'\n",
    "full['Mother'] = 0\n",
    "full.loc[ (full.Sex == 'female') & (full.Parch > 0) & (full.Age > 18) & (full.Title != 'Miss'), 'Mother' ] = 1"
   ]
  },
  {
   "cell_type": "code",
   "execution_count": 281,
   "metadata": {
    "collapsed": true
   },
   "outputs": [],
   "source": [
    "# Add feature 'is Child'\n",
    "\n",
    "full['Child'] = 0\n",
    "full.loc[ (full.Parch > 0) & (full.Age <= 18), 'Child' ] = 1"
   ]
  },
  {
   "cell_type": "code",
   "execution_count": 282,
   "metadata": {
    "collapsed": false
   },
   "outputs": [],
   "source": [
    "# Add feature 'Deck'\n",
    "decks = full[\"Cabin\"].apply(get_deck)\n",
    "full[\"Deck\"] = decks"
   ]
  },
  {
   "cell_type": "code",
   "execution_count": 283,
   "metadata": {
    "collapsed": false
   },
   "outputs": [],
   "source": [
    "# Get all numbers of a cabin and cluster them in 3 three groups\n",
    "cabins = full[\"Cabin\"].apply(get_cabin_pos)\n",
    "full[\"CabinPos\"] = cabins"
   ]
  },
  {
   "cell_type": "markdown",
   "metadata": {},
   "source": [
    "#### 2. Fill (predict) Nulls"
   ]
  },
  {
   "cell_type": "code",
   "execution_count": 284,
   "metadata": {
    "collapsed": false
   },
   "outputs": [],
   "source": [
    "# Replace labels with floats\n",
    "from sklearn.preprocessing import LabelEncoder\n",
    "lbl_enc = LabelEncoder()\n",
    "\n",
    "for c in ['Embarked', 'Sex', 'Title', 'Title2', 'Title3']:\n",
    "    full[c] = lbl_enc.fit_transform(full[c])"
   ]
  },
  {
   "cell_type": "code",
   "execution_count": 285,
   "metadata": {
    "collapsed": false
   },
   "outputs": [],
   "source": [
    "# Predict missing Fare values\n",
    "\n",
    "from sklearn.tree import DecisionTreeRegressor\n",
    "cols = ['Pclass', 'Title', 'Sex', 'SibSp', 'Parch']\n",
    "clf = DecisionTreeRegressor(max_depth=5, max_features=0.5)\n",
    "clf = clf.fit(full[cols].loc[full.Fare.notnull()], full.loc[full.Fare.notnull()].Fare)\n",
    "full.loc[full.Fare.isnull(), 'Fare'] = clf.predict(full[cols].loc[full.Fare.isnull()])"
   ]
  },
  {
   "cell_type": "code",
   "execution_count": 286,
   "metadata": {
    "collapsed": true
   },
   "outputs": [],
   "source": [
    "# Predict missing Age values\n",
    "\n",
    "from sklearn.tree import DecisionTreeRegressor\n",
    "cols = ['Pclass', 'Title', 'Sex', 'SibSp', 'Parch', 'Fare']\n",
    "clf = DecisionTreeRegressor(max_depth=5, max_features=0.5)\n",
    "clf = clf.fit(full[cols].loc[full.Age.notnull()], full.loc[full.Age.notnull()].Age)\n",
    "full.loc[full.Age.isnull(), 'Age'] = clf.predict(full[cols].loc[full.Age.isnull()])"
   ]
  },
  {
   "cell_type": "code",
   "execution_count": 287,
   "metadata": {
    "collapsed": false
   },
   "outputs": [],
   "source": [
    "# Predict missing Deck values\n",
    "\n",
    "from sklearn.tree import DecisionTreeClassifier\n",
    "cols = ['Pclass', 'Fare']\n",
    "clf = DecisionTreeClassifier(max_depth=5)\n",
    "clf = clf.fit(full[cols].loc[full.Deck.notnull()], full.loc[full.Deck.notnull()].Deck)\n",
    "full.loc[full.Deck.isnull(), 'Deck'] = clf.predict(full[cols].loc[full.Deck.isnull()])"
   ]
  },
  {
   "cell_type": "code",
   "execution_count": 288,
   "metadata": {
    "collapsed": false
   },
   "outputs": [],
   "source": [
    "from sklearn.cluster import KMeans\n",
    "\n",
    "numbers = full.loc[full.CabinPos.notnull(), 'CabinPos'].values.reshape(-1, 1)\n",
    "clust = KMeans(n_clusters=3, init='k-means++', random_state=1).fit(numbers)\n",
    "full.loc[full.CabinPos.notnull(), 'CabinPos'] = clust.labels_\n",
    "full.fillna(-1, inplace=True)"
   ]
  },
  {
   "cell_type": "code",
   "execution_count": 289,
   "metadata": {
    "collapsed": false
   },
   "outputs": [
    {
     "data": {
      "text/html": [
       "<div>\n",
       "<table border=\"1\" class=\"dataframe\">\n",
       "  <thead>\n",
       "    <tr style=\"text-align: right;\">\n",
       "      <th></th>\n",
       "      <th>PassengerId</th>\n",
       "      <th>Pclass</th>\n",
       "      <th>Name</th>\n",
       "      <th>Sex</th>\n",
       "      <th>Age</th>\n",
       "      <th>SibSp</th>\n",
       "      <th>Parch</th>\n",
       "      <th>Ticket</th>\n",
       "      <th>Fare</th>\n",
       "      <th>Cabin</th>\n",
       "      <th>Embarked</th>\n",
       "      <th>Title</th>\n",
       "      <th>Title2</th>\n",
       "      <th>Title3</th>\n",
       "      <th>FamilySize</th>\n",
       "      <th>Mother</th>\n",
       "      <th>Child</th>\n",
       "      <th>Deck</th>\n",
       "      <th>CabinPos</th>\n",
       "    </tr>\n",
       "  </thead>\n",
       "  <tbody>\n",
       "    <tr>\n",
       "      <th>0</th>\n",
       "      <td>1</td>\n",
       "      <td>3</td>\n",
       "      <td>Braund, Mr. Owen Harris</td>\n",
       "      <td>1</td>\n",
       "      <td>22</td>\n",
       "      <td>1</td>\n",
       "      <td>0</td>\n",
       "      <td>A/5 21171</td>\n",
       "      <td>7.2500</td>\n",
       "      <td>-1</td>\n",
       "      <td>2</td>\n",
       "      <td>6</td>\n",
       "      <td>6</td>\n",
       "      <td>6</td>\n",
       "      <td>0</td>\n",
       "      <td>0</td>\n",
       "      <td>0</td>\n",
       "      <td>5</td>\n",
       "      <td>-1</td>\n",
       "    </tr>\n",
       "    <tr>\n",
       "      <th>1</th>\n",
       "      <td>2</td>\n",
       "      <td>1</td>\n",
       "      <td>Cumings, Mrs. John Bradley (Florence Briggs Th...</td>\n",
       "      <td>0</td>\n",
       "      <td>38</td>\n",
       "      <td>1</td>\n",
       "      <td>0</td>\n",
       "      <td>PC 17599</td>\n",
       "      <td>71.2833</td>\n",
       "      <td>C85</td>\n",
       "      <td>0</td>\n",
       "      <td>7</td>\n",
       "      <td>7</td>\n",
       "      <td>7</td>\n",
       "      <td>0</td>\n",
       "      <td>0</td>\n",
       "      <td>0</td>\n",
       "      <td>2</td>\n",
       "      <td>0</td>\n",
       "    </tr>\n",
       "    <tr>\n",
       "      <th>2</th>\n",
       "      <td>3</td>\n",
       "      <td>3</td>\n",
       "      <td>Heikkinen, Miss. Laina</td>\n",
       "      <td>0</td>\n",
       "      <td>26</td>\n",
       "      <td>0</td>\n",
       "      <td>0</td>\n",
       "      <td>STON/O2. 3101282</td>\n",
       "      <td>7.9250</td>\n",
       "      <td>-1</td>\n",
       "      <td>2</td>\n",
       "      <td>4</td>\n",
       "      <td>4</td>\n",
       "      <td>4</td>\n",
       "      <td>0</td>\n",
       "      <td>0</td>\n",
       "      <td>0</td>\n",
       "      <td>4</td>\n",
       "      <td>-1</td>\n",
       "    </tr>\n",
       "  </tbody>\n",
       "</table>\n",
       "</div>"
      ],
      "text/plain": [
       "   PassengerId  Pclass                                               Name  \\\n",
       "0            1       3                            Braund, Mr. Owen Harris   \n",
       "1            2       1  Cumings, Mrs. John Bradley (Florence Briggs Th...   \n",
       "2            3       3                             Heikkinen, Miss. Laina   \n",
       "\n",
       "   Sex  Age  SibSp  Parch            Ticket     Fare Cabin  Embarked  Title  \\\n",
       "0    1   22      1      0         A/5 21171   7.2500    -1         2      6   \n",
       "1    0   38      1      0          PC 17599  71.2833   C85         0      7   \n",
       "2    0   26      0      0  STON/O2. 3101282   7.9250    -1         2      4   \n",
       "\n",
       "   Title2  Title3  FamilySize  Mother  Child  Deck  CabinPos  \n",
       "0       6       6           0       0      0     5        -1  \n",
       "1       7       7           0       0      0     2         0  \n",
       "2       4       4           0       0      0     4        -1  "
      ]
     },
     "execution_count": 289,
     "metadata": {},
     "output_type": "execute_result"
    }
   ],
   "source": [
    "# Replace labels with floats\n",
    "from sklearn.preprocessing import LabelEncoder\n",
    "lbl_enc = LabelEncoder()\n",
    "\n",
    "for c in ['Deck']:\n",
    "    full[c] = lbl_enc.fit_transform(full[c])\n",
    "    \n",
    "full[:3]"
   ]
  },
  {
   "cell_type": "markdown",
   "metadata": {},
   "source": [
    "#### 3. Split data"
   ]
  },
  {
   "cell_type": "code",
   "execution_count": 290,
   "metadata": {
    "collapsed": false
   },
   "outputs": [],
   "source": [
    "train_filled = full.loc[full.PassengerId < 892]\n",
    "test_filled = full.loc[full.PassengerId >= 892]"
   ]
  },
  {
   "cell_type": "code",
   "execution_count": 291,
   "metadata": {
    "collapsed": true
   },
   "outputs": [],
   "source": [
    "cols = ['Pclass', 'Sex', 'Age', 'SibSp', 'Parch', 'Fare', 'Embarked', 'Title', 'Mother', 'Child', 'Deck', 'FamilySize', 'CabinPos']"
   ]
  },
  {
   "cell_type": "code",
   "execution_count": 318,
   "metadata": {
    "collapsed": true
   },
   "outputs": [],
   "source": [
    "cols = ['Pclass','Sex', 'Age', 'SibSp', 'Parch', 'Fare', 'Embarked', 'Title', 'Mother', 'Child', 'Deck', 'Title2', 'Title3', 'Deck', 'FamilySize', 'CabinPos']"
   ]
  },
  {
   "cell_type": "markdown",
   "metadata": {},
   "source": [
    "#### 4. Scale data"
   ]
  },
  {
   "cell_type": "code",
   "execution_count": 319,
   "metadata": {
    "collapsed": false
   },
   "outputs": [
    {
     "data": {
      "text/plain": [
       "array([[ 0.82737724,  0.73769513, -0.54797103,  0.43279337, -0.47367361,\n",
       "        -0.50244517,  0.58595414,  0.33110437, -0.24895491, -0.33312545,\n",
       "         0.62712133,  0.33110437,  0.33110437,  0.62712133, -0.46921611,\n",
       "        -0.50071238],\n",
       "       [-1.56610693, -1.35557354,  0.62238773,  0.43279337, -0.47367361,\n",
       "         0.78684529, -1.9423032 ,  1.10541931, -0.24895491, -0.33312545,\n",
       "        -1.47349936,  1.10541931,  1.10541931, -1.47349936, -0.46921611,\n",
       "         0.57951699],\n",
       "       [ 0.82737724, -1.35557354, -0.25538134, -0.4745452 , -0.47367361,\n",
       "        -0.48885426,  0.58595414, -1.21752551, -0.24895491, -0.33312545,\n",
       "        -0.07308557, -1.21752551, -1.21752551, -0.07308557, -0.46921611,\n",
       "        -0.50071238]])"
      ]
     },
     "execution_count": 319,
     "metadata": {},
     "output_type": "execute_result"
    }
   ],
   "source": [
    "from sklearn.preprocessing import StandardScaler\n",
    "\n",
    "scaler = StandardScaler()\n",
    "train_fit = scaler.fit_transform(train_filled[cols].values)\n",
    "test_fit = scaler.transform(test_filled[cols].values)\n",
    "train_fit[:3]"
   ]
  },
  {
   "cell_type": "markdown",
   "metadata": {},
   "source": [
    "## Try to evaluate score with different params of RF "
   ]
  },
  {
   "cell_type": "code",
   "execution_count": 112,
   "metadata": {
    "collapsed": false
   },
   "outputs": [
    {
     "name": "stdout",
     "output_type": "stream",
     "text": [
      "time: 530485.253811\n",
      "score: 0.833894500561\n",
      "best_params: {'n_estimators': 10, 'max_features': None, 'criterion': 'entropy', 'max_depth': 10}\n"
     ]
    }
   ],
   "source": [
    "# Try to evaluate CV with RF Classifier\n",
    "\n",
    "from sklearn.cross_validation import cross_val_score\n",
    "from sklearn.ensemble import RandomForestClassifier\n",
    "import time\n",
    "\n",
    "best_score = 0\n",
    "best_params = {}\n",
    "\n",
    "time1 = time.time()\n",
    "for feature in [3, 4, 5, 6, 7, 8, 'sqrt', 'log2']:\n",
    "    for crt in ['gini', 'entropy']:\n",
    "            for depth in [2, 3, 4, 5, 6, 7, 8, 9, 10, 25, 50, 75, 100, 250]:\n",
    "                clf = RandomForestClassifier(n_estimators=1250, criterion=crt, oob_score=True, max_depth=depth, max_features=feature)\n",
    "                score = cross_val_score(clf, train_fit, train.Survived).mean()\n",
    "                if (score > best_score):\n",
    "                    best_score = score\n",
    "                    best_params = {'n_estimators': 1250, 'criterion': crt, 'max_features': feature, 'max_depth': depth}\n",
    "time2 = time.time()\n",
    "print(\"time: \" + str((time2 - time1) * 1000.0))\n",
    "print(\"score: \" + str(best_score))\n",
    "print(\"best_params: \" + str(best_params))"
   ]
  },
  {
   "cell_type": "markdown",
   "metadata": {},
   "source": [
    "## Train RF and predict values for Test"
   ]
  },
  {
   "cell_type": "code",
   "execution_count": 325,
   "metadata": {
    "collapsed": false
   },
   "outputs": [
    {
     "data": {
      "text/plain": [
       "RandomForestClassifier(bootstrap=True, class_weight='subsample',\n",
       "            criterion='entropy', max_depth=5, max_features=4,\n",
       "            max_leaf_nodes=None, min_samples_leaf=1, min_samples_split=2,\n",
       "            min_weight_fraction_leaf=0.0, n_estimators=1250, n_jobs=-1,\n",
       "            oob_score=True, random_state=42, verbose=0, warm_start=False)"
      ]
     },
     "execution_count": 325,
     "metadata": {},
     "output_type": "execute_result"
    }
   ],
   "source": [
    "# Train our classifier with optimal parameters\n",
    "from sklearn.ensemble import RandomForestClassifier\n",
    "from sklearn.ensemble import BaggingClassifier\n",
    "\n",
    "# Try \n",
    "# 20 7 7 entropy\n",
    "# and\n",
    "# 5 7 15 gini\n",
    "# best (0.80383) == 1250 est, 5 depth, 4 features, 'gini', OOB\n",
    "\n",
    "rf = RandomForestClassifier(\n",
    "                n_estimators=1250,\n",
    "                criterion='entropy',\n",
    "                oob_score=True,\n",
    "                max_depth=5,\n",
    "                max_features=4,\n",
    "                random_state=42,\n",
    "                class_weight='subsample',\n",
    "                n_jobs=-1 )\n",
    "rf.fit(train_fit, train.Survived)\n",
    "\n",
    "# clf = BaggingClassifier(\n",
    "#                 base_estimator=rf,\n",
    "#                 n_estimators=1250,\n",
    "#                 oob_score=True,\n",
    "#                 #max_samples=5,\n",
    "#                 max_features=4,\n",
    "#                 bootstrap_features=True\n",
    "# )\n",
    "# clf.fit(train_fit, train.Survived)"
   ]
  },
  {
   "cell_type": "code",
   "execution_count": 326,
   "metadata": {
    "collapsed": false
   },
   "outputs": [
    {
     "name": "stdout",
     "output_type": "stream",
     "text": [
      "Feature ranking:\n"
     ]
    },
    {
     "data": {
      "image/png": "[encoded data removed]",
      "text/plain": [
       "<matplotlib.figure.Figure at 0x7f957d335910>"
      ]
     },
     "metadata": {},
     "output_type": "display_data"
    }
   ],
   "source": [
    "# Show feature importances\n",
    "import pylab\n",
    "import scipy\n",
    "\n",
    "importances = rf.feature_importances_\n",
    "# std = np.std([tree.feature_importances_ for tree in clf.estimators_], axis=0)\n",
    "indices = np.argsort(importances)[::-1]\n",
    "\n",
    "print(\"Feature ranking:\")\n",
    "\n",
    "labels = [cols[i] for i in indices.tolist()]\n",
    "x = scipy.array(indices)\n",
    "y = scipy.array(importances[indices])\n",
    "f = pylab.figure(figsize=(12,5))\n",
    "ax = f.add_axes([0.1, 0.1, 0.8, 0.8])\n",
    "ax.bar(x, y, align='center')\n",
    "ax.set_xticks(x)\n",
    "ax.set_xticklabels(labels, rotation=90)\n",
    "f.show()"
   ]
  },
  {
   "cell_type": "code",
   "execution_count": 179,
   "metadata": {
    "collapsed": false
   },
   "outputs": [
    {
     "name": "stdout",
     "output_type": "stream",
     "text": [
      "\n",
      "4 Important features(> 15 % of max importance):\n",
      "['Pclass' 'Sex' 'Fare' 'Title']\n",
      "\n",
      "Features sorted by importance (DESC):\n",
      "['Sex' 'Title' 'Fare' 'Pclass']\n"
     ]
    },
    {
     "data": {
      "image/png": "[encoded data removed]",
      "text/plain": [
       "<matplotlib.figure.Figure at 0x7f957f2a4950>"
      ]
     },
     "metadata": {},
     "output_type": "display_data"
    }
   ],
   "source": [
    "features_list = train_filled[cols].columns.values[0::]\n",
    "\n",
    "feature_importance = rf.feature_importances_\n",
    " \n",
    "# make importances relative to max importance\n",
    "feature_importance = 100.0 * (feature_importance / feature_importance.max())\n",
    " \n",
    "# A threshold below which to drop features from the final data set. Specifically, this number represents\n",
    "# the percentage of the most important feature's importance value\n",
    "fi_threshold = 15\n",
    " \n",
    "# Get the indexes of all features over the importance threshold\n",
    "important_idx = np.where(feature_importance > fi_threshold)[0]\n",
    " \n",
    "# Create a list of all the feature names above the importance threshold\n",
    "important_features = features_list[important_idx]\n",
    "print \"\\n\", important_features.shape[0], \"Important features(>\", fi_threshold, \"% of max importance):\\n\", \\\n",
    "        important_features\n",
    "\n",
    "# Get the sorted indexes of important features\n",
    "sorted_idx = np.argsort(feature_importance[important_idx])[::-1]\n",
    "print \"\\nFeatures sorted by importance (DESC):\\n\", important_features[sorted_idx]\n",
    " \n",
    "# Adapted from http://scikit-learn.org/stable/auto_examples/ensemble/plot_gradient_boosting_regression.html\n",
    "pos = np.arange(sorted_idx.shape[0]) + .5\n",
    "plt.figure(figsize=(20,10))\n",
    "plt.subplot(1, 2, 2)\n",
    "plt.barh(pos, feature_importance[important_idx][sorted_idx[::-1]], align='center')\n",
    "plt.yticks(pos, important_features[sorted_idx[::-1]])\n",
    "plt.xlabel('Relative Importance')\n",
    "plt.title('Variable Importance')\n",
    "plt.draw()\n",
    "plt.show()\n",
    " \n",
    "# Remove non-important features from the feature set, and reorder those remaining\n",
    "# X = X[:, important_idx][:, sorted_idx]"
   ]
  },
  {
   "cell_type": "code",
   "execution_count": 327,
   "metadata": {
    "collapsed": false
   },
   "outputs": [
    {
     "data": {
      "text/plain": [
       "array([0, 1, 0, 0, 1, 0, 1, 0, 1, 0, 0, 0, 1, 0, 1, 1, 0, 0, 1, 1, 0, 1, 1,\n",
       "       0, 1, 0, 1, 0, 0, 0, 0, 0, 1, 1, 1, 0, 1, 1, 0, 0, 0, 1, 0, 1, 1, 0,\n",
       "       0, 0, 1, 1])"
      ]
     },
     "execution_count": 327,
     "metadata": {},
     "output_type": "execute_result"
    }
   ],
   "source": [
    "# Make a prediction with RF\n",
    "prediction = rf.predict(test_fit)\n",
    "prediction[:50]"
   ]
  },
  {
   "cell_type": "code",
   "execution_count": 267,
   "metadata": {
    "collapsed": false
   },
   "outputs": [
    {
     "data": {
      "text/html": [
       "<div>\n",
       "<table border=\"1\" class=\"dataframe\">\n",
       "  <thead>\n",
       "    <tr style=\"text-align: right;\">\n",
       "      <th></th>\n",
       "      <th>PassengerId</th>\n",
       "      <th>Survived</th>\n",
       "    </tr>\n",
       "  </thead>\n",
       "  <tbody>\n",
       "    <tr>\n",
       "      <th>0</th>\n",
       "      <td>892</td>\n",
       "      <td>0</td>\n",
       "    </tr>\n",
       "    <tr>\n",
       "      <th>1</th>\n",
       "      <td>893</td>\n",
       "      <td>0</td>\n",
       "    </tr>\n",
       "    <tr>\n",
       "      <th>2</th>\n",
       "      <td>894</td>\n",
       "      <td>0</td>\n",
       "    </tr>\n",
       "    <tr>\n",
       "      <th>3</th>\n",
       "      <td>895</td>\n",
       "      <td>0</td>\n",
       "    </tr>\n",
       "    <tr>\n",
       "      <th>4</th>\n",
       "      <td>896</td>\n",
       "      <td>1</td>\n",
       "    </tr>\n",
       "  </tbody>\n",
       "</table>\n",
       "</div>"
      ],
      "text/plain": [
       "   PassengerId  Survived\n",
       "0          892         0\n",
       "1          893         0\n",
       "2          894         0\n",
       "3          895         0\n",
       "4          896         1"
      ]
     },
     "execution_count": 267,
     "metadata": {},
     "output_type": "execute_result"
    }
   ],
   "source": [
    "# Collect output to csv\n",
    "submit = pd.read_csv('test.csv')[['PassengerId']]\n",
    "submit['Survived'] = prediction\n",
    "submit[:5]"
   ]
  },
  {
   "cell_type": "code",
   "execution_count": 268,
   "metadata": {
    "collapsed": true
   },
   "outputs": [],
   "source": [
    "# Save it\n",
    "submit.to_csv('submit.csv', index=False)"
   ]
  },
  {
   "cell_type": "code",
   "execution_count": null,
   "metadata": {
    "collapsed": true
   },
   "outputs": [],
   "source": []
  }
 ],
 "metadata": {
  "kernelspec": {
   "display_name": "Python 2",
   "language": "python",
   "name": "python2"
  },
  "language_info": {
   "codemirror_mode": {
    "name": "ipython",
    "version": 2
   },
   "file_extension": ".py",
   "mimetype": "text/x-python",
   "name": "python",
   "nbconvert_exporter": "python",
   "pygments_lexer": "ipython2",
   "version": "2.7.6"
  }
 },
 "nbformat": 4,
 "nbformat_minor": 0
}
