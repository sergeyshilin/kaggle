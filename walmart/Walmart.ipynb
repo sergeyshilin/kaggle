{
 "cells": [
  {
   "cell_type": "code",
   "execution_count": 147,
   "metadata": {
    "collapsed": false
   },
   "outputs": [],
   "source": [
    "import numpy as np\n",
    "import pandas as pd"
   ]
  },
  {
   "cell_type": "code",
   "execution_count": 3,
   "metadata": {
    "collapsed": true
   },
   "outputs": [],
   "source": [
    "import gc\n",
    "gc.enable()"
   ]
  },
  {
   "cell_type": "markdown",
   "metadata": {},
   "source": [
    "## 1. Get the Data "
   ]
  },
  {
   "cell_type": "code",
   "execution_count": 149,
   "metadata": {
    "collapsed": false
   },
   "outputs": [],
   "source": [
    "train = pd.read_csv('data/train.csv')\n",
    "test = pd.read_csv('data/test.csv')"
   ]
  },
  {
   "cell_type": "code",
   "execution_count": 150,
   "metadata": {
    "collapsed": false
   },
   "outputs": [
    {
     "data": {
      "text/html": [
       "<div>\n",
       "<table border=\"1\" class=\"dataframe\">\n",
       "  <thead>\n",
       "    <tr style=\"text-align: right;\">\n",
       "      <th></th>\n",
       "      <th>TripType</th>\n",
       "      <th>VisitNumber</th>\n",
       "      <th>Weekday</th>\n",
       "      <th>Upc</th>\n",
       "      <th>ScanCount</th>\n",
       "      <th>DepartmentDescription</th>\n",
       "      <th>FinelineNumber</th>\n",
       "    </tr>\n",
       "  </thead>\n",
       "  <tbody>\n",
       "    <tr>\n",
       "      <th>0</th>\n",
       "      <td>999</td>\n",
       "      <td>5</td>\n",
       "      <td>Friday</td>\n",
       "      <td>68113152929</td>\n",
       "      <td>-1</td>\n",
       "      <td>FINANCIAL SERVICES</td>\n",
       "      <td>1000</td>\n",
       "    </tr>\n",
       "    <tr>\n",
       "      <th>1</th>\n",
       "      <td>30</td>\n",
       "      <td>7</td>\n",
       "      <td>Friday</td>\n",
       "      <td>60538815980</td>\n",
       "      <td>1</td>\n",
       "      <td>SHOES</td>\n",
       "      <td>8931</td>\n",
       "    </tr>\n",
       "    <tr>\n",
       "      <th>2</th>\n",
       "      <td>30</td>\n",
       "      <td>7</td>\n",
       "      <td>Friday</td>\n",
       "      <td>7410811099</td>\n",
       "      <td>1</td>\n",
       "      <td>PERSONAL CARE</td>\n",
       "      <td>4504</td>\n",
       "    </tr>\n",
       "    <tr>\n",
       "      <th>3</th>\n",
       "      <td>26</td>\n",
       "      <td>8</td>\n",
       "      <td>Friday</td>\n",
       "      <td>2238403510</td>\n",
       "      <td>2</td>\n",
       "      <td>PAINT AND ACCESSORIES</td>\n",
       "      <td>3565</td>\n",
       "    </tr>\n",
       "    <tr>\n",
       "      <th>4</th>\n",
       "      <td>26</td>\n",
       "      <td>8</td>\n",
       "      <td>Friday</td>\n",
       "      <td>2006613744</td>\n",
       "      <td>2</td>\n",
       "      <td>PAINT AND ACCESSORIES</td>\n",
       "      <td>1017</td>\n",
       "    </tr>\n",
       "  </tbody>\n",
       "</table>\n",
       "</div>"
      ],
      "text/plain": [
       "   TripType  VisitNumber Weekday          Upc  ScanCount  \\\n",
       "0       999            5  Friday  68113152929         -1   \n",
       "1        30            7  Friday  60538815980          1   \n",
       "2        30            7  Friday   7410811099          1   \n",
       "3        26            8  Friday   2238403510          2   \n",
       "4        26            8  Friday   2006613744          2   \n",
       "\n",
       "   DepartmentDescription  FinelineNumber  \n",
       "0     FINANCIAL SERVICES            1000  \n",
       "1                  SHOES            8931  \n",
       "2          PERSONAL CARE            4504  \n",
       "3  PAINT AND ACCESSORIES            3565  \n",
       "4  PAINT AND ACCESSORIES            1017  "
      ]
     },
     "execution_count": 150,
     "metadata": {},
     "output_type": "execute_result"
    }
   ],
   "source": [
    "train[:5]"
   ]
  },
  {
   "cell_type": "code",
   "execution_count": 151,
   "metadata": {
    "collapsed": false
   },
   "outputs": [
    {
     "data": {
      "text/plain": [
       "TripType                   int64\n",
       "VisitNumber                int64\n",
       "Weekday                   object\n",
       "Upc                      float64\n",
       "ScanCount                  int64\n",
       "DepartmentDescription     object\n",
       "FinelineNumber           float64\n",
       "dtype: object"
      ]
     },
     "execution_count": 151,
     "metadata": {},
     "output_type": "execute_result"
    }
   ],
   "source": [
    "train.dtypes"
   ]
  },
  {
   "cell_type": "markdown",
   "metadata": {},
   "source": [
    "## 2. Feature Engineering"
   ]
  },
  {
   "cell_type": "code",
   "execution_count": 152,
   "metadata": {
    "collapsed": false
   },
   "outputs": [
    {
     "data": {
      "text/html": [
       "<div>\n",
       "<table border=\"1\" class=\"dataframe\">\n",
       "  <thead>\n",
       "    <tr style=\"text-align: right;\">\n",
       "      <th></th>\n",
       "      <th>TripType</th>\n",
       "      <th>VisitNumber</th>\n",
       "      <th>Weekday</th>\n",
       "      <th>Upc</th>\n",
       "      <th>ScanCount</th>\n",
       "      <th>DepartmentDescription</th>\n",
       "      <th>FinelineNumber</th>\n",
       "    </tr>\n",
       "  </thead>\n",
       "  <tbody>\n",
       "    <tr>\n",
       "      <th>0</th>\n",
       "      <td>999</td>\n",
       "      <td>5</td>\n",
       "      <td>0</td>\n",
       "      <td>68113152929</td>\n",
       "      <td>-1</td>\n",
       "      <td>21</td>\n",
       "      <td>1000</td>\n",
       "    </tr>\n",
       "    <tr>\n",
       "      <th>1</th>\n",
       "      <td>30</td>\n",
       "      <td>7</td>\n",
       "      <td>0</td>\n",
       "      <td>60538815980</td>\n",
       "      <td>1</td>\n",
       "      <td>63</td>\n",
       "      <td>8931</td>\n",
       "    </tr>\n",
       "    <tr>\n",
       "      <th>2</th>\n",
       "      <td>30</td>\n",
       "      <td>7</td>\n",
       "      <td>0</td>\n",
       "      <td>7410811099</td>\n",
       "      <td>1</td>\n",
       "      <td>51</td>\n",
       "      <td>4504</td>\n",
       "    </tr>\n",
       "  </tbody>\n",
       "</table>\n",
       "</div>"
      ],
      "text/plain": [
       "   TripType  VisitNumber  Weekday          Upc  ScanCount  \\\n",
       "0       999            5        0  68113152929         -1   \n",
       "1        30            7        0  60538815980          1   \n",
       "2        30            7        0   7410811099          1   \n",
       "\n",
       "   DepartmentDescription  FinelineNumber  \n",
       "0                     21            1000  \n",
       "1                     63            8931  \n",
       "2                     51            4504  "
      ]
     },
     "execution_count": 152,
     "metadata": {},
     "output_type": "execute_result"
    }
   ],
   "source": [
    "# Replace labels with floats\n",
    "from sklearn.preprocessing import LabelEncoder\n",
    "lbl_enc = LabelEncoder()\n",
    "\n",
    "for c in ['Weekday', 'DepartmentDescription']:\n",
    "    train[c] = lbl_enc.fit_transform(train[c])\n",
    "    test[c] = lbl_enc.transform(test[c])\n",
    "    \n",
    "train[:3]"
   ]
  },
  {
   "cell_type": "code",
   "execution_count": 153,
   "metadata": {
    "collapsed": false
   },
   "outputs": [
    {
     "data": {
      "text/plain": [
       "TripType                    0\n",
       "VisitNumber                 0\n",
       "Weekday                     0\n",
       "Upc                      4129\n",
       "ScanCount                   0\n",
       "DepartmentDescription       0\n",
       "FinelineNumber           4129\n",
       "dtype: int64"
      ]
     },
     "execution_count": 153,
     "metadata": {},
     "output_type": "execute_result"
    }
   ],
   "source": [
    "train.isnull().sum(axis=0)"
   ]
  },
  {
   "cell_type": "code",
   "execution_count": 154,
   "metadata": {
    "collapsed": false
   },
   "outputs": [],
   "source": [
    "from sklearn.preprocessing import Imputer\n",
    "imputer = Imputer(strategy='mean')\n",
    "train = pd.DataFrame(imputer.fit_transform(train), columns=train.columns)\n",
    "test = pd.DataFrame(imputer.fit_transform(test), columns=test.columns)"
   ]
  },
  {
   "cell_type": "code",
   "execution_count": 155,
   "metadata": {
    "collapsed": false
   },
   "outputs": [],
   "source": [
    "train = train.astype(int)\n",
    "test = test.astype(int)"
   ]
  },
  {
   "cell_type": "code",
   "execution_count": 156,
   "metadata": {
    "collapsed": false
   },
   "outputs": [
    {
     "data": {
      "text/plain": [
       "TripType                 int32\n",
       "VisitNumber              int32\n",
       "Weekday                  int32\n",
       "Upc                      int32\n",
       "ScanCount                int32\n",
       "DepartmentDescription    int32\n",
       "FinelineNumber           int32\n",
       "dtype: object"
      ]
     },
     "execution_count": 156,
     "metadata": {},
     "output_type": "execute_result"
    }
   ],
   "source": [
    "train.dtypes"
   ]
  },
  {
   "cell_type": "code",
   "execution_count": 166,
   "metadata": {
    "collapsed": false
   },
   "outputs": [
    {
     "name": "stdout",
     "output_type": "stream",
     "text": [
      "Wall time: 3.29 s\n"
     ]
    }
   ],
   "source": [
    "%%time\n",
    "train_builded = pd.get_dummies(train, columns=['TripType', 'DepartmentDescription'], prefix=['TripType', 'Department'])\n",
    "test_builded = pd.get_dummies(test, columns=['DepartmentDescription'], prefix=['Department'])\n",
    "\n",
    "train_builded['DepartmentDescription'] = train['DepartmentDescription']\n",
    "test_builded['DepartmentDescription'] = test['DepartmentDescription']"
   ]
  },
  {
   "cell_type": "code",
   "execution_count": 167,
   "metadata": {
    "collapsed": false
   },
   "outputs": [
    {
     "data": {
      "text/html": [
       "<div>\n",
       "<table border=\"1\" class=\"dataframe\">\n",
       "  <thead>\n",
       "    <tr style=\"text-align: right;\">\n",
       "      <th></th>\n",
       "      <th>TripType</th>\n",
       "      <th>VisitNumber</th>\n",
       "      <th>Weekday</th>\n",
       "      <th>Upc</th>\n",
       "      <th>ScanCount</th>\n",
       "      <th>DepartmentDescription</th>\n",
       "      <th>FinelineNumber</th>\n",
       "    </tr>\n",
       "  </thead>\n",
       "  <tbody>\n",
       "    <tr>\n",
       "      <th>0</th>\n",
       "      <td>999</td>\n",
       "      <td>5</td>\n",
       "      <td>0</td>\n",
       "      <td>-2147483648</td>\n",
       "      <td>-1</td>\n",
       "      <td>21</td>\n",
       "      <td>1000</td>\n",
       "    </tr>\n",
       "    <tr>\n",
       "      <th>1</th>\n",
       "      <td>30</td>\n",
       "      <td>7</td>\n",
       "      <td>0</td>\n",
       "      <td>-2147483648</td>\n",
       "      <td>1</td>\n",
       "      <td>63</td>\n",
       "      <td>8931</td>\n",
       "    </tr>\n",
       "    <tr>\n",
       "      <th>2</th>\n",
       "      <td>30</td>\n",
       "      <td>7</td>\n",
       "      <td>0</td>\n",
       "      <td>-2147483648</td>\n",
       "      <td>1</td>\n",
       "      <td>51</td>\n",
       "      <td>4504</td>\n",
       "    </tr>\n",
       "    <tr>\n",
       "      <th>3</th>\n",
       "      <td>26</td>\n",
       "      <td>8</td>\n",
       "      <td>0</td>\n",
       "      <td>-2147483648</td>\n",
       "      <td>2</td>\n",
       "      <td>50</td>\n",
       "      <td>3565</td>\n",
       "    </tr>\n",
       "    <tr>\n",
       "      <th>4</th>\n",
       "      <td>26</td>\n",
       "      <td>8</td>\n",
       "      <td>0</td>\n",
       "      <td>2006613744</td>\n",
       "      <td>2</td>\n",
       "      <td>50</td>\n",
       "      <td>1017</td>\n",
       "    </tr>\n",
       "  </tbody>\n",
       "</table>\n",
       "</div>"
      ],
      "text/plain": [
       "   TripType  VisitNumber  Weekday         Upc  ScanCount  \\\n",
       "0       999            5        0 -2147483648         -1   \n",
       "1        30            7        0 -2147483648          1   \n",
       "2        30            7        0 -2147483648          1   \n",
       "3        26            8        0 -2147483648          2   \n",
       "4        26            8        0  2006613744          2   \n",
       "\n",
       "   DepartmentDescription  FinelineNumber  \n",
       "0                     21            1000  \n",
       "1                     63            8931  \n",
       "2                     51            4504  \n",
       "3                     50            3565  \n",
       "4                     50            1017  "
      ]
     },
     "execution_count": 167,
     "metadata": {},
     "output_type": "execute_result"
    }
   ],
   "source": [
    "train[:5]"
   ]
  },
  {
   "cell_type": "code",
   "execution_count": null,
   "metadata": {
    "collapsed": false
   },
   "outputs": [],
   "source": [
    "train_pivot = pd.pivot_table(train, values='ScanCount', index='VisitNumber', columns='FinelineNumber')"
   ]
  },
  {
   "cell_type": "code",
   "execution_count": null,
   "metadata": {
    "collapsed": false
   },
   "outputs": [],
   "source": [
    "%%time\n",
    "train_builded.fillna(0, inplace=True)\n",
    "test_builded.fillna(0, inplace=True)"
   ]
  },
  {
   "cell_type": "code",
   "execution_count": 160,
   "metadata": {
    "collapsed": false
   },
   "outputs": [
    {
     "data": {
      "text/html": [
       "<div>\n",
       "<table border=\"1\" class=\"dataframe\">\n",
       "  <thead>\n",
       "    <tr style=\"text-align: right;\">\n",
       "      <th></th>\n",
       "      <th>VisitNumber</th>\n",
       "      <th>Weekday</th>\n",
       "      <th>Upc</th>\n",
       "      <th>ScanCount</th>\n",
       "      <th>FinelineNumber</th>\n",
       "      <th>TripType_3</th>\n",
       "      <th>TripType_4</th>\n",
       "      <th>TripType_5</th>\n",
       "      <th>TripType_6</th>\n",
       "      <th>TripType_7</th>\n",
       "      <th>...</th>\n",
       "      <th>Department_60</th>\n",
       "      <th>Department_61</th>\n",
       "      <th>Department_62</th>\n",
       "      <th>Department_63</th>\n",
       "      <th>Department_64</th>\n",
       "      <th>Department_65</th>\n",
       "      <th>Department_66</th>\n",
       "      <th>Department_67</th>\n",
       "      <th>Department_68</th>\n",
       "      <th>DepartmentDescription</th>\n",
       "    </tr>\n",
       "  </thead>\n",
       "  <tbody>\n",
       "    <tr>\n",
       "      <th>0</th>\n",
       "      <td>5</td>\n",
       "      <td>0</td>\n",
       "      <td>-2147483648</td>\n",
       "      <td>-1</td>\n",
       "      <td>1000</td>\n",
       "      <td>0</td>\n",
       "      <td>0</td>\n",
       "      <td>0</td>\n",
       "      <td>0</td>\n",
       "      <td>0</td>\n",
       "      <td>...</td>\n",
       "      <td>0</td>\n",
       "      <td>0</td>\n",
       "      <td>0</td>\n",
       "      <td>0</td>\n",
       "      <td>0</td>\n",
       "      <td>0</td>\n",
       "      <td>0</td>\n",
       "      <td>0</td>\n",
       "      <td>0</td>\n",
       "      <td>21</td>\n",
       "    </tr>\n",
       "    <tr>\n",
       "      <th>1</th>\n",
       "      <td>7</td>\n",
       "      <td>0</td>\n",
       "      <td>-2147483648</td>\n",
       "      <td>1</td>\n",
       "      <td>8931</td>\n",
       "      <td>0</td>\n",
       "      <td>0</td>\n",
       "      <td>0</td>\n",
       "      <td>0</td>\n",
       "      <td>0</td>\n",
       "      <td>...</td>\n",
       "      <td>0</td>\n",
       "      <td>0</td>\n",
       "      <td>0</td>\n",
       "      <td>1</td>\n",
       "      <td>0</td>\n",
       "      <td>0</td>\n",
       "      <td>0</td>\n",
       "      <td>0</td>\n",
       "      <td>0</td>\n",
       "      <td>63</td>\n",
       "    </tr>\n",
       "    <tr>\n",
       "      <th>2</th>\n",
       "      <td>7</td>\n",
       "      <td>0</td>\n",
       "      <td>-2147483648</td>\n",
       "      <td>1</td>\n",
       "      <td>4504</td>\n",
       "      <td>0</td>\n",
       "      <td>0</td>\n",
       "      <td>0</td>\n",
       "      <td>0</td>\n",
       "      <td>0</td>\n",
       "      <td>...</td>\n",
       "      <td>0</td>\n",
       "      <td>0</td>\n",
       "      <td>0</td>\n",
       "      <td>0</td>\n",
       "      <td>0</td>\n",
       "      <td>0</td>\n",
       "      <td>0</td>\n",
       "      <td>0</td>\n",
       "      <td>0</td>\n",
       "      <td>51</td>\n",
       "    </tr>\n",
       "  </tbody>\n",
       "</table>\n",
       "<p>3 rows × 113 columns</p>\n",
       "</div>"
      ],
      "text/plain": [
       "   VisitNumber  Weekday         Upc  ScanCount  FinelineNumber  TripType_3  \\\n",
       "0            5        0 -2147483648         -1            1000           0   \n",
       "1            7        0 -2147483648          1            8931           0   \n",
       "2            7        0 -2147483648          1            4504           0   \n",
       "\n",
       "   TripType_4  TripType_5  TripType_6  TripType_7          ...            \\\n",
       "0           0           0           0           0          ...             \n",
       "1           0           0           0           0          ...             \n",
       "2           0           0           0           0          ...             \n",
       "\n",
       "   Department_60  Department_61  Department_62  Department_63  Department_64  \\\n",
       "0              0              0              0              0              0   \n",
       "1              0              0              0              1              0   \n",
       "2              0              0              0              0              0   \n",
       "\n",
       "   Department_65  Department_66  Department_67  Department_68  \\\n",
       "0              0              0              0              0   \n",
       "1              0              0              0              0   \n",
       "2              0              0              0              0   \n",
       "\n",
       "   DepartmentDescription  \n",
       "0                     21  \n",
       "1                     63  \n",
       "2                     51  \n",
       "\n",
       "[3 rows x 113 columns]"
      ]
     },
     "execution_count": 160,
     "metadata": {},
     "output_type": "execute_result"
    }
   ],
   "source": [
    "train_builded[:3]"
   ]
  },
  {
   "cell_type": "code",
   "execution_count": 161,
   "metadata": {
    "collapsed": false
   },
   "outputs": [],
   "source": [
    "cols_tr = list(train_builded.columns)\n",
    "cols_te = list(test.columns)\n",
    "cols_to_remove = ['Upc', 'FinelineNumber']\n",
    "[cols_tr.remove(c) for c in cols_to_remove]\n",
    "[cols_te.remove(c) for c in cols_to_remove]\n",
    "\n",
    "train_builded = train_builded[cols_tr]\n",
    "test_builded = test[cols_te]"
   ]
  },
  {
   "cell_type": "code",
   "execution_count": 162,
   "metadata": {
    "collapsed": false
   },
   "outputs": [
    {
     "name": "stderr",
     "output_type": "stream",
     "text": [
      "C:\\Program Files\\Anaconda\\lib\\site-packages\\ipykernel\\__main__.py:3: SettingWithCopyWarning: \n",
      "A value is trying to be set on a copy of a slice from a DataFrame.\n",
      "Try using .loc[row_indexer,col_indexer] = value instead\n",
      "\n",
      "See the caveats in the documentation: http://pandas.pydata.org/pandas-docs/stable/indexing.html#indexing-view-versus-copy\n",
      "  app.launch_new_instance()\n"
     ]
    }
   ],
   "source": [
    "for col in cols_tr:\n",
    "    if col not in cols_te:\n",
    "        test_builded[col] = 0\n",
    "        cols_te.append(col)"
   ]
  },
  {
   "cell_type": "code",
   "execution_count": 163,
   "metadata": {
    "collapsed": true
   },
   "outputs": [],
   "source": [
    "for col in cols_te:\n",
    "    if col not in cols_tr:\n",
    "        train_builded[col] = 0\n",
    "        cols_tr.append(col)"
   ]
  },
  {
   "cell_type": "code",
   "execution_count": 164,
   "metadata": {
    "collapsed": false
   },
   "outputs": [
    {
     "name": "stdout",
     "output_type": "stream",
     "text": [
      "111\n",
      "111\n"
     ]
    }
   ],
   "source": [
    "print len(cols_tr)\n",
    "print len(cols_te)"
   ]
  },
  {
   "cell_type": "code",
   "execution_count": 165,
   "metadata": {
    "collapsed": false
   },
   "outputs": [
    {
     "name": "stdout",
     "output_type": "stream",
     "text": [
      "Wall time: 854 ms\n"
     ]
    }
   ],
   "source": [
    "%%time\n",
    "train_builded = train_builded.reindex_axis(sorted(cols_tr), axis=1)\n",
    "test_builded = test_builded.reindex_axis(sorted(cols_tr), axis=1)"
   ]
  },
  {
   "cell_type": "code",
   "execution_count": 77,
   "metadata": {
    "collapsed": false
   },
   "outputs": [
    {
     "name": "stdout",
     "output_type": "stream",
     "text": [
      "Wall time: 2.49 s\n"
     ]
    }
   ],
   "source": [
    "%%time\n",
    "sorted_depts = sorted(train_builded.FinelineNumber.unique())\n",
    "department_means = []\n",
    "for i in range(len(train_builded.DepartmentDescription.unique())):\n",
    "    dep = sorted_depts[i]\n",
    "    group_len = len(train_builded[train_builded.DepartmentDescription == dep])\n",
    "    one_group = train_builded[train_builded.DepartmentDescription == dep].groupby('DepartmentDescription', as_index=False).sum() / group_len\n",
    "    department_means.append(one_group[one_group.columns[71:109]].values[0])\n",
    "\n",
    "def get_triptypes_list(dep):\n",
    "    idx = sorted_depts.index(dep)\n",
    "    return department_means[idx]\n",
    "\n",
    "def get_triptypes_pandas(series):\n",
    "    array = []\n",
    "    for el in series.values:\n",
    "        array.append(get_triptypes_list(el))\n",
    "    return np.array(array)"
   ]
  },
  {
   "cell_type": "code",
   "execution_count": 78,
   "metadata": {
    "collapsed": false
   },
   "outputs": [
    {
     "name": "stdout",
     "output_type": "stream",
     "text": [
      "Wall time: 20.5 s\n"
     ]
    }
   ],
   "source": [
    "%%time\n",
    "train_builded[train_builded.columns[71:109]] = get_triptypes_pandas(train_builded.DepartmentDescription)\n",
    "test_builded[test_builded.columns[71:109]] = get_triptypes_pandas(test_builded.DepartmentDescription)"
   ]
  },
  {
   "cell_type": "code",
   "execution_count": 79,
   "metadata": {
    "collapsed": false
   },
   "outputs": [
    {
     "data": {
      "text/html": [
       "<div>\n",
       "<table border=\"1\" class=\"dataframe\">\n",
       "  <thead>\n",
       "    <tr style=\"text-align: right;\">\n",
       "      <th></th>\n",
       "      <th>DepartmentDescription</th>\n",
       "      <th>Department_0</th>\n",
       "      <th>Department_1</th>\n",
       "      <th>Department_10</th>\n",
       "      <th>Department_11</th>\n",
       "      <th>Department_12</th>\n",
       "      <th>Department_13</th>\n",
       "      <th>Department_14</th>\n",
       "      <th>Department_15</th>\n",
       "      <th>Department_16</th>\n",
       "      <th>...</th>\n",
       "      <th>TripType_43</th>\n",
       "      <th>TripType_44</th>\n",
       "      <th>TripType_5</th>\n",
       "      <th>TripType_6</th>\n",
       "      <th>TripType_7</th>\n",
       "      <th>TripType_8</th>\n",
       "      <th>TripType_9</th>\n",
       "      <th>TripType_999</th>\n",
       "      <th>VisitNumber</th>\n",
       "      <th>Weekday</th>\n",
       "    </tr>\n",
       "  </thead>\n",
       "  <tbody>\n",
       "    <tr>\n",
       "      <th>0</th>\n",
       "      <td>21</td>\n",
       "      <td>0</td>\n",
       "      <td>0</td>\n",
       "      <td>0</td>\n",
       "      <td>0</td>\n",
       "      <td>0</td>\n",
       "      <td>0</td>\n",
       "      <td>0</td>\n",
       "      <td>0</td>\n",
       "      <td>0</td>\n",
       "      <td>...</td>\n",
       "      <td>0.008580</td>\n",
       "      <td>0.012030</td>\n",
       "      <td>0.004663</td>\n",
       "      <td>0.001306</td>\n",
       "      <td>0.006062</td>\n",
       "      <td>0.000000</td>\n",
       "      <td>0.005689</td>\n",
       "      <td>0.213466</td>\n",
       "      <td>5</td>\n",
       "      <td>0</td>\n",
       "    </tr>\n",
       "    <tr>\n",
       "      <th>1</th>\n",
       "      <td>63</td>\n",
       "      <td>0</td>\n",
       "      <td>0</td>\n",
       "      <td>0</td>\n",
       "      <td>0</td>\n",
       "      <td>0</td>\n",
       "      <td>0</td>\n",
       "      <td>0</td>\n",
       "      <td>0</td>\n",
       "      <td>0</td>\n",
       "      <td>...</td>\n",
       "      <td>0.018036</td>\n",
       "      <td>0.068208</td>\n",
       "      <td>0.006558</td>\n",
       "      <td>0.002131</td>\n",
       "      <td>0.004755</td>\n",
       "      <td>0.008198</td>\n",
       "      <td>0.104279</td>\n",
       "      <td>0.048533</td>\n",
       "      <td>7</td>\n",
       "      <td>0</td>\n",
       "    </tr>\n",
       "    <tr>\n",
       "      <th>2</th>\n",
       "      <td>51</td>\n",
       "      <td>0</td>\n",
       "      <td>0</td>\n",
       "      <td>0</td>\n",
       "      <td>0</td>\n",
       "      <td>0</td>\n",
       "      <td>0</td>\n",
       "      <td>0</td>\n",
       "      <td>0</td>\n",
       "      <td>0</td>\n",
       "      <td>...</td>\n",
       "      <td>0.012462</td>\n",
       "      <td>0.044247</td>\n",
       "      <td>0.021969</td>\n",
       "      <td>0.001739</td>\n",
       "      <td>0.004908</td>\n",
       "      <td>0.063142</td>\n",
       "      <td>0.008173</td>\n",
       "      <td>0.015654</td>\n",
       "      <td>7</td>\n",
       "      <td>0</td>\n",
       "    </tr>\n",
       "    <tr>\n",
       "      <th>3</th>\n",
       "      <td>50</td>\n",
       "      <td>0</td>\n",
       "      <td>0</td>\n",
       "      <td>0</td>\n",
       "      <td>0</td>\n",
       "      <td>0</td>\n",
       "      <td>0</td>\n",
       "      <td>0</td>\n",
       "      <td>0</td>\n",
       "      <td>0</td>\n",
       "      <td>...</td>\n",
       "      <td>0.034302</td>\n",
       "      <td>0.077907</td>\n",
       "      <td>0.005814</td>\n",
       "      <td>0.000581</td>\n",
       "      <td>0.006977</td>\n",
       "      <td>0.013953</td>\n",
       "      <td>0.115698</td>\n",
       "      <td>0.045930</td>\n",
       "      <td>8</td>\n",
       "      <td>0</td>\n",
       "    </tr>\n",
       "    <tr>\n",
       "      <th>4</th>\n",
       "      <td>50</td>\n",
       "      <td>0</td>\n",
       "      <td>0</td>\n",
       "      <td>0</td>\n",
       "      <td>0</td>\n",
       "      <td>0</td>\n",
       "      <td>0</td>\n",
       "      <td>0</td>\n",
       "      <td>0</td>\n",
       "      <td>0</td>\n",
       "      <td>...</td>\n",
       "      <td>0.034302</td>\n",
       "      <td>0.077907</td>\n",
       "      <td>0.005814</td>\n",
       "      <td>0.000581</td>\n",
       "      <td>0.006977</td>\n",
       "      <td>0.013953</td>\n",
       "      <td>0.115698</td>\n",
       "      <td>0.045930</td>\n",
       "      <td>8</td>\n",
       "      <td>0</td>\n",
       "    </tr>\n",
       "  </tbody>\n",
       "</table>\n",
       "<p>5 rows × 111 columns</p>\n",
       "</div>"
      ],
      "text/plain": [
       "   DepartmentDescription  Department_0  Department_1  Department_10  \\\n",
       "0                     21             0             0              0   \n",
       "1                     63             0             0              0   \n",
       "2                     51             0             0              0   \n",
       "3                     50             0             0              0   \n",
       "4                     50             0             0              0   \n",
       "\n",
       "   Department_11  Department_12  Department_13  Department_14  Department_15  \\\n",
       "0              0              0              0              0              0   \n",
       "1              0              0              0              0              0   \n",
       "2              0              0              0              0              0   \n",
       "3              0              0              0              0              0   \n",
       "4              0              0              0              0              0   \n",
       "\n",
       "   Department_16   ...     TripType_43  TripType_44  TripType_5  TripType_6  \\\n",
       "0              0   ...        0.008580     0.012030    0.004663    0.001306   \n",
       "1              0   ...        0.018036     0.068208    0.006558    0.002131   \n",
       "2              0   ...        0.012462     0.044247    0.021969    0.001739   \n",
       "3              0   ...        0.034302     0.077907    0.005814    0.000581   \n",
       "4              0   ...        0.034302     0.077907    0.005814    0.000581   \n",
       "\n",
       "   TripType_7  TripType_8  TripType_9  TripType_999  VisitNumber  Weekday  \n",
       "0    0.006062    0.000000    0.005689      0.213466            5        0  \n",
       "1    0.004755    0.008198    0.104279      0.048533            7        0  \n",
       "2    0.004908    0.063142    0.008173      0.015654            7        0  \n",
       "3    0.006977    0.013953    0.115698      0.045930            8        0  \n",
       "4    0.006977    0.013953    0.115698      0.045930            8        0  \n",
       "\n",
       "[5 rows x 111 columns]"
      ]
     },
     "execution_count": 79,
     "metadata": {},
     "output_type": "execute_result"
    }
   ],
   "source": [
    "train_builded[:5]"
   ]
  },
  {
   "cell_type": "markdown",
   "metadata": {},
   "source": [
    "#### Make grouped data "
   ]
  },
  {
   "cell_type": "code",
   "execution_count": 80,
   "metadata": {
    "collapsed": true
   },
   "outputs": [],
   "source": [
    "train_builded['Counter'] = 1\n",
    "test_builded['Counter'] = 1\n",
    "\n",
    "newcols = list(train_builded.columns)\n",
    "newcols.remove('DepartmentDescription')\n",
    "train_builded = train_builded[newcols]\n",
    "test_builded = test_builded[newcols]"
   ]
  },
  {
   "cell_type": "code",
   "execution_count": 81,
   "metadata": {
    "collapsed": false
   },
   "outputs": [
    {
     "data": {
      "text/html": [
       "<div>\n",
       "<table border=\"1\" class=\"dataframe\">\n",
       "  <thead>\n",
       "    <tr style=\"text-align: right;\">\n",
       "      <th></th>\n",
       "      <th>Department_0</th>\n",
       "      <th>Department_1</th>\n",
       "      <th>Department_10</th>\n",
       "      <th>Department_11</th>\n",
       "      <th>Department_12</th>\n",
       "      <th>Department_13</th>\n",
       "      <th>Department_14</th>\n",
       "      <th>Department_15</th>\n",
       "      <th>Department_16</th>\n",
       "      <th>Department_17</th>\n",
       "      <th>...</th>\n",
       "      <th>TripType_44</th>\n",
       "      <th>TripType_5</th>\n",
       "      <th>TripType_6</th>\n",
       "      <th>TripType_7</th>\n",
       "      <th>TripType_8</th>\n",
       "      <th>TripType_9</th>\n",
       "      <th>TripType_999</th>\n",
       "      <th>VisitNumber</th>\n",
       "      <th>Weekday</th>\n",
       "      <th>Counter</th>\n",
       "    </tr>\n",
       "  </thead>\n",
       "  <tbody>\n",
       "    <tr>\n",
       "      <th>0</th>\n",
       "      <td>0</td>\n",
       "      <td>0</td>\n",
       "      <td>0</td>\n",
       "      <td>0</td>\n",
       "      <td>0</td>\n",
       "      <td>0</td>\n",
       "      <td>0</td>\n",
       "      <td>0</td>\n",
       "      <td>0</td>\n",
       "      <td>0</td>\n",
       "      <td>...</td>\n",
       "      <td>0.012030</td>\n",
       "      <td>0.004663</td>\n",
       "      <td>0.001306</td>\n",
       "      <td>0.006062</td>\n",
       "      <td>0.000000</td>\n",
       "      <td>0.005689</td>\n",
       "      <td>0.213466</td>\n",
       "      <td>5</td>\n",
       "      <td>0</td>\n",
       "      <td>1</td>\n",
       "    </tr>\n",
       "    <tr>\n",
       "      <th>1</th>\n",
       "      <td>0</td>\n",
       "      <td>0</td>\n",
       "      <td>0</td>\n",
       "      <td>0</td>\n",
       "      <td>0</td>\n",
       "      <td>0</td>\n",
       "      <td>0</td>\n",
       "      <td>0</td>\n",
       "      <td>0</td>\n",
       "      <td>0</td>\n",
       "      <td>...</td>\n",
       "      <td>0.068208</td>\n",
       "      <td>0.006558</td>\n",
       "      <td>0.002131</td>\n",
       "      <td>0.004755</td>\n",
       "      <td>0.008198</td>\n",
       "      <td>0.104279</td>\n",
       "      <td>0.048533</td>\n",
       "      <td>7</td>\n",
       "      <td>0</td>\n",
       "      <td>1</td>\n",
       "    </tr>\n",
       "    <tr>\n",
       "      <th>2</th>\n",
       "      <td>0</td>\n",
       "      <td>0</td>\n",
       "      <td>0</td>\n",
       "      <td>0</td>\n",
       "      <td>0</td>\n",
       "      <td>0</td>\n",
       "      <td>0</td>\n",
       "      <td>0</td>\n",
       "      <td>0</td>\n",
       "      <td>0</td>\n",
       "      <td>...</td>\n",
       "      <td>0.044247</td>\n",
       "      <td>0.021969</td>\n",
       "      <td>0.001739</td>\n",
       "      <td>0.004908</td>\n",
       "      <td>0.063142</td>\n",
       "      <td>0.008173</td>\n",
       "      <td>0.015654</td>\n",
       "      <td>7</td>\n",
       "      <td>0</td>\n",
       "      <td>1</td>\n",
       "    </tr>\n",
       "  </tbody>\n",
       "</table>\n",
       "<p>3 rows × 111 columns</p>\n",
       "</div>"
      ],
      "text/plain": [
       "   Department_0  Department_1  Department_10  Department_11  Department_12  \\\n",
       "0             0             0              0              0              0   \n",
       "1             0             0              0              0              0   \n",
       "2             0             0              0              0              0   \n",
       "\n",
       "   Department_13  Department_14  Department_15  Department_16  Department_17  \\\n",
       "0              0              0              0              0              0   \n",
       "1              0              0              0              0              0   \n",
       "2              0              0              0              0              0   \n",
       "\n",
       "    ...     TripType_44  TripType_5  TripType_6  TripType_7  TripType_8  \\\n",
       "0   ...        0.012030    0.004663    0.001306    0.006062    0.000000   \n",
       "1   ...        0.068208    0.006558    0.002131    0.004755    0.008198   \n",
       "2   ...        0.044247    0.021969    0.001739    0.004908    0.063142   \n",
       "\n",
       "   TripType_9  TripType_999  VisitNumber  Weekday  Counter  \n",
       "0    0.005689      0.213466            5        0        1  \n",
       "1    0.104279      0.048533            7        0        1  \n",
       "2    0.008173      0.015654            7        0        1  \n",
       "\n",
       "[3 rows x 111 columns]"
      ]
     },
     "execution_count": 81,
     "metadata": {},
     "output_type": "execute_result"
    }
   ],
   "source": [
    "train_builded[:3]"
   ]
  },
  {
   "cell_type": "code",
   "execution_count": 82,
   "metadata": {
    "collapsed": false
   },
   "outputs": [
    {
     "name": "stdout",
     "output_type": "stream",
     "text": [
      "Wall time: 2.56 s\n"
     ]
    }
   ],
   "source": [
    "%%time\n",
    "train_grouped = train_builded.groupby(['VisitNumber', 'Weekday'], as_index=False).sum()\n",
    "test_grouped = test_builded.groupby(['VisitNumber', 'Weekday'], as_index=False).sum()"
   ]
  },
  {
   "cell_type": "code",
   "execution_count": 84,
   "metadata": {
    "collapsed": false
   },
   "outputs": [
    {
     "data": {
      "text/html": [
       "<div>\n",
       "<table border=\"1\" class=\"dataframe\">\n",
       "  <thead>\n",
       "    <tr style=\"text-align: right;\">\n",
       "      <th></th>\n",
       "      <th>VisitNumber</th>\n",
       "      <th>Weekday</th>\n",
       "      <th>Department_0</th>\n",
       "      <th>Department_1</th>\n",
       "      <th>Department_10</th>\n",
       "      <th>Department_11</th>\n",
       "      <th>Department_12</th>\n",
       "      <th>Department_13</th>\n",
       "      <th>Department_14</th>\n",
       "      <th>Department_15</th>\n",
       "      <th>...</th>\n",
       "      <th>TripType_42</th>\n",
       "      <th>TripType_43</th>\n",
       "      <th>TripType_44</th>\n",
       "      <th>TripType_5</th>\n",
       "      <th>TripType_6</th>\n",
       "      <th>TripType_7</th>\n",
       "      <th>TripType_8</th>\n",
       "      <th>TripType_9</th>\n",
       "      <th>TripType_999</th>\n",
       "      <th>Counter</th>\n",
       "    </tr>\n",
       "  </thead>\n",
       "  <tbody>\n",
       "    <tr>\n",
       "      <th>0</th>\n",
       "      <td>5</td>\n",
       "      <td>0</td>\n",
       "      <td>0</td>\n",
       "      <td>0</td>\n",
       "      <td>0</td>\n",
       "      <td>0</td>\n",
       "      <td>0</td>\n",
       "      <td>0</td>\n",
       "      <td>0</td>\n",
       "      <td>0</td>\n",
       "      <td>...</td>\n",
       "      <td>0.011098</td>\n",
       "      <td>0.008580</td>\n",
       "      <td>0.012030</td>\n",
       "      <td>0.004663</td>\n",
       "      <td>0.001306</td>\n",
       "      <td>0.006062</td>\n",
       "      <td>0.000000</td>\n",
       "      <td>0.005689</td>\n",
       "      <td>0.213466</td>\n",
       "      <td>1</td>\n",
       "    </tr>\n",
       "    <tr>\n",
       "      <th>1</th>\n",
       "      <td>7</td>\n",
       "      <td>0</td>\n",
       "      <td>0</td>\n",
       "      <td>0</td>\n",
       "      <td>0</td>\n",
       "      <td>0</td>\n",
       "      <td>0</td>\n",
       "      <td>0</td>\n",
       "      <td>0</td>\n",
       "      <td>0</td>\n",
       "      <td>...</td>\n",
       "      <td>0.121983</td>\n",
       "      <td>0.030497</td>\n",
       "      <td>0.112455</td>\n",
       "      <td>0.028527</td>\n",
       "      <td>0.003871</td>\n",
       "      <td>0.009663</td>\n",
       "      <td>0.071340</td>\n",
       "      <td>0.112452</td>\n",
       "      <td>0.064187</td>\n",
       "      <td>2</td>\n",
       "    </tr>\n",
       "    <tr>\n",
       "      <th>2</th>\n",
       "      <td>8</td>\n",
       "      <td>0</td>\n",
       "      <td>1</td>\n",
       "      <td>0</td>\n",
       "      <td>0</td>\n",
       "      <td>0</td>\n",
       "      <td>0</td>\n",
       "      <td>0</td>\n",
       "      <td>0</td>\n",
       "      <td>0</td>\n",
       "      <td>...</td>\n",
       "      <td>1.855940</td>\n",
       "      <td>0.600150</td>\n",
       "      <td>1.452755</td>\n",
       "      <td>0.144358</td>\n",
       "      <td>0.029211</td>\n",
       "      <td>0.371744</td>\n",
       "      <td>0.538846</td>\n",
       "      <td>1.933242</td>\n",
       "      <td>0.981146</td>\n",
       "      <td>23</td>\n",
       "    </tr>\n",
       "    <tr>\n",
       "      <th>3</th>\n",
       "      <td>9</td>\n",
       "      <td>0</td>\n",
       "      <td>0</td>\n",
       "      <td>0</td>\n",
       "      <td>0</td>\n",
       "      <td>0</td>\n",
       "      <td>0</td>\n",
       "      <td>0</td>\n",
       "      <td>0</td>\n",
       "      <td>0</td>\n",
       "      <td>...</td>\n",
       "      <td>0.057619</td>\n",
       "      <td>0.024438</td>\n",
       "      <td>0.055311</td>\n",
       "      <td>0.035097</td>\n",
       "      <td>0.013697</td>\n",
       "      <td>0.139349</td>\n",
       "      <td>0.163891</td>\n",
       "      <td>0.054436</td>\n",
       "      <td>0.057399</td>\n",
       "      <td>3</td>\n",
       "    </tr>\n",
       "  </tbody>\n",
       "</table>\n",
       "<p>4 rows × 111 columns</p>\n",
       "</div>"
      ],
      "text/plain": [
       "   VisitNumber  Weekday  Department_0  Department_1  Department_10  \\\n",
       "0            5        0             0             0              0   \n",
       "1            7        0             0             0              0   \n",
       "2            8        0             1             0              0   \n",
       "3            9        0             0             0              0   \n",
       "\n",
       "   Department_11  Department_12  Department_13  Department_14  Department_15  \\\n",
       "0              0              0              0              0              0   \n",
       "1              0              0              0              0              0   \n",
       "2              0              0              0              0              0   \n",
       "3              0              0              0              0              0   \n",
       "\n",
       "    ...     TripType_42  TripType_43  TripType_44  TripType_5  TripType_6  \\\n",
       "0   ...        0.011098     0.008580     0.012030    0.004663    0.001306   \n",
       "1   ...        0.121983     0.030497     0.112455    0.028527    0.003871   \n",
       "2   ...        1.855940     0.600150     1.452755    0.144358    0.029211   \n",
       "3   ...        0.057619     0.024438     0.055311    0.035097    0.013697   \n",
       "\n",
       "   TripType_7  TripType_8  TripType_9  TripType_999  Counter  \n",
       "0    0.006062    0.000000    0.005689      0.213466        1  \n",
       "1    0.009663    0.071340    0.112452      0.064187        2  \n",
       "2    0.371744    0.538846    1.933242      0.981146       23  \n",
       "3    0.139349    0.163891    0.054436      0.057399        3  \n",
       "\n",
       "[4 rows x 111 columns]"
      ]
     },
     "execution_count": 84,
     "metadata": {},
     "output_type": "execute_result"
    }
   ],
   "source": [
    "train_grouped[:4]"
   ]
  },
  {
   "cell_type": "code",
   "execution_count": 87,
   "metadata": {
    "collapsed": false
   },
   "outputs": [],
   "source": [
    "train_grouped[train_grouped.columns[72:110]] = train_grouped[train_grouped.columns[72:110]].apply(lambda x: x / train_grouped.Counter)\n",
    "test_grouped[test_grouped.columns[72:110]] = test_grouped[test_grouped.columns[72:110]].apply(lambda x: x / test_grouped.Counter)"
   ]
  },
  {
   "cell_type": "code",
   "execution_count": 101,
   "metadata": {
    "collapsed": true
   },
   "outputs": [],
   "source": [
    "train_grouped['Sat'] = train_grouped['Weekday'].apply(lambda x: int(x == 2))\n",
    "train_grouped['Sun'] = train_grouped['Weekday'].apply(lambda x: int(x == 3))\n",
    "train_grouped['Fri'] = train_grouped['Weekday'].apply(lambda x: int(x == 0))\n",
    "train_grouped['WE'] = train_grouped['Weekday'].apply(lambda x: int(x == 2 or x == 3))\n",
    "\n",
    "test_grouped['Sat'] = test_grouped['Weekday'].apply(lambda x: int(x == 2))\n",
    "test_grouped['Sun'] = test_grouped['Weekday'].apply(lambda x: int(x == 3))\n",
    "test_grouped['Fri'] = test_grouped['Weekday'].apply(lambda x: int(x == 0))\n",
    "test_grouped['WE'] = test_grouped['Weekday'].apply(lambda x: int(x == 2 or x == 3))"
   ]
  },
  {
   "cell_type": "code",
   "execution_count": 108,
   "metadata": {
    "collapsed": true
   },
   "outputs": [],
   "source": [
    "train_answers = pd.read_csv('submit_train.csv')\n",
    "\n",
    "for i in range(38):\n",
    "    train_grouped['Answer_' + str(i)] = train_answers.ix[:, i+1:i+2]"
   ]
  },
  {
   "cell_type": "markdown",
   "metadata": {},
   "source": [
    "## 3. Cross Validation "
   ]
  },
  {
   "cell_type": "code",
   "execution_count": 117,
   "metadata": {
    "collapsed": false
   },
   "outputs": [],
   "source": [
    "columns = list(train_grouped.columns)\n",
    "columns.remove('VisitNumber')\n",
    "columns.remove('Counter')"
   ]
  },
  {
   "cell_type": "code",
   "execution_count": 123,
   "metadata": {
    "collapsed": true
   },
   "outputs": [],
   "source": [
    "xtrain = train_grouped[columns]\n",
    "ytrain = train.groupby(['VisitNumber', 'TripType'], as_index=False).sum().TripType\n",
    "# xtest = test_grouped[test_grouped.columns[1:-1]]"
   ]
  },
  {
   "cell_type": "code",
   "execution_count": 4,
   "metadata": {
    "collapsed": false
   },
   "outputs": [],
   "source": [
    "xtrain = pd.read_csv('data/xtrain.csv')\n",
    "ytrain = pd.read_csv('data/ytrain.csv', names=['TripType']).TripType\n",
    "xtest = pd.read_csv('data/xtest.csv')"
   ]
  },
  {
   "cell_type": "code",
   "execution_count": 124,
   "metadata": {
    "collapsed": true
   },
   "outputs": [],
   "source": [
    "def multiclass_log_loss(y_true, y_pred, eps=1e-15):\n",
    "    classes = np.sort(train.TripType.unique())\n",
    "    Y_true = y_true.apply(lambda x: np.where(classes==x)[0][0]).values\n",
    "    predictions = np.clip(y_pred, eps, 1 - eps)\n",
    "\n",
    "    # normalize row sums to 1\n",
    "    predictions /= predictions.sum(axis=1)[:, np.newaxis]\n",
    "\n",
    "    actual = np.zeros(y_pred.shape)\n",
    "    rows = actual.shape[0]\n",
    "    actual[np.arange(rows), Y_true.astype(int)] = 1\n",
    "    vsota = np.sum(actual * np.log(predictions))\n",
    "    return -1.0 / rows * vsota"
   ]
  },
  {
   "cell_type": "markdown",
   "metadata": {},
   "source": [
    "#### 3.1b. Try Random Forest"
   ]
  },
  {
   "cell_type": "code",
   "execution_count": 125,
   "metadata": {
    "collapsed": false
   },
   "outputs": [
    {
     "name": "stdout",
     "output_type": "stream",
     "text": [
      "Wall time: 181 ms\n"
     ]
    }
   ],
   "source": [
    "%%time\n",
    "from sklearn.cross_validation import train_test_split\n",
    "\n",
    "xtr, xcv, ytr, ycv = train_test_split(xtrain, ytrain, test_size = 0.052,  random_state = 42)"
   ]
  },
  {
   "cell_type": "code",
   "execution_count": 132,
   "metadata": {
    "collapsed": false
   },
   "outputs": [
    {
     "name": "stdout",
     "output_type": "stream",
     "text": [
      "Wall time: 24.8 s\n"
     ]
    }
   ],
   "source": [
    "%%time\n",
    "from sklearn.ensemble import RandomForestClassifier\n",
    "\n",
    "rf = RandomForestClassifier(\n",
    "    n_estimators=100,\n",
    "#     max_depth=10,\n",
    "#     max_features=17,\n",
    "    n_jobs=3,\n",
    "    oob_score=True\n",
    ")\n",
    "rf.fit(xtr, ytr)"
   ]
  },
  {
   "cell_type": "code",
   "execution_count": 133,
   "metadata": {
    "collapsed": false
   },
   "outputs": [
    {
     "name": "stdout",
     "output_type": "stream",
     "text": [
      "1.23035867596\n"
     ]
    }
   ],
   "source": [
    "predictionRF_train = rf.predict_proba(xcv)\n",
    "print multiclass_log_loss(ycv, predictionRF_train)"
   ]
  },
  {
   "cell_type": "code",
   "execution_count": 25,
   "metadata": {
    "collapsed": false
   },
   "outputs": [],
   "source": [
    "predictionRF_test = rf.predict_proba(xtest)"
   ]
  },
  {
   "cell_type": "markdown",
   "metadata": {},
   "source": [
    "#### 2. Try XGBoost multiclass (gbtree)"
   ]
  },
  {
   "cell_type": "code",
   "execution_count": 128,
   "metadata": {
    "collapsed": false
   },
   "outputs": [],
   "source": [
    "# Set params\n",
    "\n",
    "params = {\"objective\": \"multi:softprob\",\n",
    "          \"booster\": \"gbtree\",\n",
    "          \"eta\": 0.02,\n",
    "          \"max_depth\": 12,\n",
    "          \"subsample\": 0.9,\n",
    "          \"colsample_bytree\": 0.7,\n",
    "          \"silent\": 1,\n",
    "          \"num_class\": 38,\n",
    "          \"eval_metric\": 'mlogloss'\n",
    "          }\n",
    "num_trees = 1000\n",
    "stop = 20"
   ]
  },
  {
   "cell_type": "code",
   "execution_count": 129,
   "metadata": {
    "collapsed": false
   },
   "outputs": [],
   "source": [
    "labels = np.sort(ytrain.unique())"
   ]
  },
  {
   "cell_type": "code",
   "execution_count": 130,
   "metadata": {
    "collapsed": false
   },
   "outputs": [],
   "source": [
    "ytr_labeled = pd.Series([np.where(labels==x)[0][0] for x in ytr])\n",
    "ycv_labeled = pd.Series([np.where(labels==x)[0][0] for x in ycv])"
   ]
  },
  {
   "cell_type": "code",
   "execution_count": 131,
   "metadata": {
    "collapsed": false,
    "scrolled": true
   },
   "outputs": [
    {
     "name": "stderr",
     "output_type": "stream",
     "text": [
      "Will train until train error hasn't decreased in 20 rounds.\n",
      "[0]\teval-mlogloss:3.448480\ttrain-mlogloss:3.438576\n",
      "[1]\teval-mlogloss:3.309149\ttrain-mlogloss:3.287743\n",
      "[2]\teval-mlogloss:3.179650\ttrain-mlogloss:3.147759\n",
      "[3]\teval-mlogloss:3.072754\ttrain-mlogloss:3.031006\n",
      "[4]\teval-mlogloss:2.982092\ttrain-mlogloss:2.931877\n",
      "[5]\teval-mlogloss:2.892929\ttrain-mlogloss:2.834865\n",
      "[6]\teval-mlogloss:2.813817\ttrain-mlogloss:2.747912\n",
      "[7]\teval-mlogloss:2.742533\ttrain-mlogloss:2.669620\n",
      "[8]\teval-mlogloss:2.680436\ttrain-mlogloss:2.599904\n",
      "[9]\teval-mlogloss:2.622680\ttrain-mlogloss:2.534653\n",
      "[10]\teval-mlogloss:2.566970\ttrain-mlogloss:2.472409\n",
      "[11]\teval-mlogloss:2.514904\ttrain-mlogloss:2.413132\n",
      "[12]\teval-mlogloss:2.465389\ttrain-mlogloss:2.357791\n",
      "[13]\teval-mlogloss:2.419327\ttrain-mlogloss:2.305848\n",
      "[14]\teval-mlogloss:2.375197\ttrain-mlogloss:2.255863\n",
      "[15]\teval-mlogloss:2.332348\ttrain-mlogloss:2.207612\n",
      "[16]\teval-mlogloss:2.293153\ttrain-mlogloss:2.162899\n",
      "[17]\teval-mlogloss:2.255188\ttrain-mlogloss:2.119705\n",
      "[18]\teval-mlogloss:2.218818\ttrain-mlogloss:2.078079\n",
      "[19]\teval-mlogloss:2.184370\ttrain-mlogloss:2.038738\n",
      "[20]\teval-mlogloss:2.151962\ttrain-mlogloss:2.001376\n",
      "[21]\teval-mlogloss:2.120823\ttrain-mlogloss:1.965361\n",
      "[22]\teval-mlogloss:2.090038\ttrain-mlogloss:1.930008\n",
      "[23]\teval-mlogloss:2.060530\ttrain-mlogloss:1.896341\n",
      "[24]\teval-mlogloss:2.032133\ttrain-mlogloss:1.863345\n",
      "[25]\teval-mlogloss:2.006096\ttrain-mlogloss:1.832639\n",
      "[26]\teval-mlogloss:1.979489\ttrain-mlogloss:1.801670\n",
      "[27]\teval-mlogloss:1.955680\ttrain-mlogloss:1.773631\n",
      "[28]\teval-mlogloss:1.931254\ttrain-mlogloss:1.745041\n",
      "[29]\teval-mlogloss:1.908100\ttrain-mlogloss:1.717855\n",
      "[30]\teval-mlogloss:1.885137\ttrain-mlogloss:1.690892\n",
      "[31]\teval-mlogloss:1.862641\ttrain-mlogloss:1.664466\n",
      "[32]\teval-mlogloss:1.841328\ttrain-mlogloss:1.639440\n",
      "[33]\teval-mlogloss:1.820850\ttrain-mlogloss:1.615374\n",
      "[34]\teval-mlogloss:1.800568\ttrain-mlogloss:1.591443\n",
      "[35]\teval-mlogloss:1.781193\ttrain-mlogloss:1.568209\n",
      "[36]\teval-mlogloss:1.762295\ttrain-mlogloss:1.545948\n",
      "[37]\teval-mlogloss:1.743601\ttrain-mlogloss:1.523519\n",
      "[38]\teval-mlogloss:1.725022\ttrain-mlogloss:1.501723\n",
      "[39]\teval-mlogloss:1.707160\ttrain-mlogloss:1.480630\n",
      "[40]\teval-mlogloss:1.690588\ttrain-mlogloss:1.460641\n",
      "[41]\teval-mlogloss:1.674144\ttrain-mlogloss:1.440820\n",
      "[42]\teval-mlogloss:1.657661\ttrain-mlogloss:1.421190\n",
      "[43]\teval-mlogloss:1.642257\ttrain-mlogloss:1.402449\n",
      "[44]\teval-mlogloss:1.626855\ttrain-mlogloss:1.384067\n",
      "[45]\teval-mlogloss:1.611749\ttrain-mlogloss:1.365974\n",
      "[46]\teval-mlogloss:1.597455\ttrain-mlogloss:1.348501\n",
      "[47]\teval-mlogloss:1.582930\ttrain-mlogloss:1.331137\n",
      "[48]\teval-mlogloss:1.568917\ttrain-mlogloss:1.314119\n",
      "[49]\teval-mlogloss:1.555196\ttrain-mlogloss:1.297471\n",
      "[50]\teval-mlogloss:1.542257\ttrain-mlogloss:1.281884\n",
      "[51]\teval-mlogloss:1.529109\ttrain-mlogloss:1.265980\n",
      "[52]\teval-mlogloss:1.516453\ttrain-mlogloss:1.250884\n",
      "[53]\teval-mlogloss:1.504164\ttrain-mlogloss:1.235953\n",
      "[54]\teval-mlogloss:1.492553\ttrain-mlogloss:1.221642\n",
      "[55]\teval-mlogloss:1.481053\ttrain-mlogloss:1.207377\n",
      "[56]\teval-mlogloss:1.469499\ttrain-mlogloss:1.193227\n",
      "[57]\teval-mlogloss:1.458881\ttrain-mlogloss:1.179861\n",
      "[58]\teval-mlogloss:1.448040\ttrain-mlogloss:1.166456\n",
      "[59]\teval-mlogloss:1.437477\ttrain-mlogloss:1.153229\n",
      "[60]\teval-mlogloss:1.427140\ttrain-mlogloss:1.140383\n",
      "[61]\teval-mlogloss:1.416909\ttrain-mlogloss:1.127643\n",
      "[62]\teval-mlogloss:1.406786\ttrain-mlogloss:1.114925\n",
      "[63]\teval-mlogloss:1.397074\ttrain-mlogloss:1.102613\n",
      "[64]\teval-mlogloss:1.387587\ttrain-mlogloss:1.090616\n",
      "[65]\teval-mlogloss:1.377974\ttrain-mlogloss:1.078681\n",
      "[66]\teval-mlogloss:1.368637\ttrain-mlogloss:1.066991\n",
      "[67]\teval-mlogloss:1.359568\ttrain-mlogloss:1.055815\n",
      "[68]\teval-mlogloss:1.350614\ttrain-mlogloss:1.044623\n",
      "[69]\teval-mlogloss:1.342117\ttrain-mlogloss:1.033799\n",
      "[70]\teval-mlogloss:1.333583\ttrain-mlogloss:1.023063\n",
      "[71]\teval-mlogloss:1.325152\ttrain-mlogloss:1.012568\n",
      "[72]\teval-mlogloss:1.316887\ttrain-mlogloss:1.002024\n",
      "[73]\teval-mlogloss:1.308625\ttrain-mlogloss:0.991781\n",
      "[74]\teval-mlogloss:1.300978\ttrain-mlogloss:0.982092\n",
      "[75]\teval-mlogloss:1.293351\ttrain-mlogloss:0.972193\n",
      "[76]\teval-mlogloss:1.285645\ttrain-mlogloss:0.962394\n",
      "[77]\teval-mlogloss:1.278204\ttrain-mlogloss:0.952912\n",
      "[78]\teval-mlogloss:1.271232\ttrain-mlogloss:0.943768\n",
      "[79]\teval-mlogloss:1.264240\ttrain-mlogloss:0.934789\n",
      "[80]\teval-mlogloss:1.257283\ttrain-mlogloss:0.925767\n",
      "[81]\teval-mlogloss:1.250483\ttrain-mlogloss:0.917213\n",
      "[82]\teval-mlogloss:1.243782\ttrain-mlogloss:0.908568\n",
      "[83]\teval-mlogloss:1.237004\ttrain-mlogloss:0.899953\n",
      "[84]\teval-mlogloss:1.230770\ttrain-mlogloss:0.891861\n",
      "[85]\teval-mlogloss:1.224699\ttrain-mlogloss:0.883890\n",
      "[86]\teval-mlogloss:1.218735\ttrain-mlogloss:0.875964\n",
      "[87]\teval-mlogloss:1.212615\ttrain-mlogloss:0.867966\n",
      "[88]\teval-mlogloss:1.206485\ttrain-mlogloss:0.859985\n",
      "[89]\teval-mlogloss:1.200555\ttrain-mlogloss:0.852193\n",
      "[90]\teval-mlogloss:1.194882\ttrain-mlogloss:0.844783\n",
      "[91]\teval-mlogloss:1.189221\ttrain-mlogloss:0.837404\n",
      "[92]\teval-mlogloss:1.183613\ttrain-mlogloss:0.829880\n",
      "[93]\teval-mlogloss:1.178085\ttrain-mlogloss:0.822712\n",
      "[94]\teval-mlogloss:1.173070\ttrain-mlogloss:0.815770\n",
      "[95]\teval-mlogloss:1.167987\ttrain-mlogloss:0.808901\n",
      "[96]\teval-mlogloss:1.162776\ttrain-mlogloss:0.802073\n",
      "[97]\teval-mlogloss:1.157579\ttrain-mlogloss:0.795234\n",
      "[98]\teval-mlogloss:1.152619\ttrain-mlogloss:0.788544\n",
      "[99]\teval-mlogloss:1.147725\ttrain-mlogloss:0.782053\n",
      "[100]\teval-mlogloss:1.142818\ttrain-mlogloss:0.775563\n",
      "[101]\teval-mlogloss:1.138091\ttrain-mlogloss:0.769422\n",
      "[102]\teval-mlogloss:1.133444\ttrain-mlogloss:0.763190\n",
      "[103]\teval-mlogloss:1.128880\ttrain-mlogloss:0.757074\n",
      "[104]\teval-mlogloss:1.124434\ttrain-mlogloss:0.751098\n",
      "[105]\teval-mlogloss:1.120240\ttrain-mlogloss:0.745295\n",
      "[106]\teval-mlogloss:1.115848\ttrain-mlogloss:0.739240\n",
      "[107]\teval-mlogloss:1.111596\ttrain-mlogloss:0.733385\n",
      "[108]\teval-mlogloss:1.107433\ttrain-mlogloss:0.727695\n",
      "[109]\teval-mlogloss:1.103352\ttrain-mlogloss:0.722144\n",
      "[110]\teval-mlogloss:1.099428\ttrain-mlogloss:0.716594\n",
      "[111]\teval-mlogloss:1.095303\ttrain-mlogloss:0.711067\n",
      "[112]\teval-mlogloss:1.091444\ttrain-mlogloss:0.705644\n",
      "[113]\teval-mlogloss:1.087633\ttrain-mlogloss:0.700480\n",
      "[114]\teval-mlogloss:1.083949\ttrain-mlogloss:0.695423\n",
      "[115]\teval-mlogloss:1.080359\ttrain-mlogloss:0.690456\n",
      "[116]\teval-mlogloss:1.076620\ttrain-mlogloss:0.685297\n",
      "[117]\teval-mlogloss:1.073058\ttrain-mlogloss:0.680264\n",
      "[118]\teval-mlogloss:1.069580\ttrain-mlogloss:0.675543\n",
      "[119]\teval-mlogloss:1.066238\ttrain-mlogloss:0.670827\n",
      "[120]\teval-mlogloss:1.062910\ttrain-mlogloss:0.666054\n",
      "[121]\teval-mlogloss:1.059662\ttrain-mlogloss:0.661402\n",
      "[122]\teval-mlogloss:1.056405\ttrain-mlogloss:0.656722\n",
      "[123]\teval-mlogloss:1.053367\ttrain-mlogloss:0.652357\n",
      "[124]\teval-mlogloss:1.050227\ttrain-mlogloss:0.647792\n",
      "[125]\teval-mlogloss:1.047086\ttrain-mlogloss:0.643340\n",
      "[126]\teval-mlogloss:1.044063\ttrain-mlogloss:0.639094\n",
      "[127]\teval-mlogloss:1.040921\ttrain-mlogloss:0.634726\n",
      "[128]\teval-mlogloss:1.038010\ttrain-mlogloss:0.630601\n",
      "[129]\teval-mlogloss:1.035079\ttrain-mlogloss:0.626266\n",
      "[130]\teval-mlogloss:1.032261\ttrain-mlogloss:0.622134\n",
      "[131]\teval-mlogloss:1.029419\ttrain-mlogloss:0.618125\n",
      "[132]\teval-mlogloss:1.026644\ttrain-mlogloss:0.613996\n",
      "[133]\teval-mlogloss:1.023933\ttrain-mlogloss:0.610009\n",
      "[134]\teval-mlogloss:1.021197\ttrain-mlogloss:0.606085\n",
      "[135]\teval-mlogloss:1.018539\ttrain-mlogloss:0.602172\n",
      "[136]\teval-mlogloss:1.016005\ttrain-mlogloss:0.598419\n",
      "[137]\teval-mlogloss:1.013558\ttrain-mlogloss:0.594684\n",
      "[138]\teval-mlogloss:1.011022\ttrain-mlogloss:0.590984\n",
      "[139]\teval-mlogloss:1.008507\ttrain-mlogloss:0.587276\n",
      "[140]\teval-mlogloss:1.005985\ttrain-mlogloss:0.583561\n",
      "[141]\teval-mlogloss:1.003530\ttrain-mlogloss:0.579972\n",
      "[142]\teval-mlogloss:1.001181\ttrain-mlogloss:0.576463\n",
      "[143]\teval-mlogloss:0.998906\ttrain-mlogloss:0.572983\n",
      "[144]\teval-mlogloss:0.996607\ttrain-mlogloss:0.569501\n",
      "[145]\teval-mlogloss:0.994365\ttrain-mlogloss:0.566248\n",
      "[146]\teval-mlogloss:0.992035\ttrain-mlogloss:0.562860\n",
      "[147]\teval-mlogloss:0.989929\ttrain-mlogloss:0.559626\n",
      "[148]\teval-mlogloss:0.987786\ttrain-mlogloss:0.556429\n",
      "[149]\teval-mlogloss:0.985570\ttrain-mlogloss:0.553099\n",
      "[150]\teval-mlogloss:0.983443\ttrain-mlogloss:0.549796\n",
      "[151]\teval-mlogloss:0.981484\ttrain-mlogloss:0.546585\n",
      "[152]\teval-mlogloss:0.979378\ttrain-mlogloss:0.543450\n",
      "[153]\teval-mlogloss:0.977464\ttrain-mlogloss:0.540454\n",
      "[154]\teval-mlogloss:0.975543\ttrain-mlogloss:0.537573\n",
      "[155]\teval-mlogloss:0.973656\ttrain-mlogloss:0.534493\n",
      "[156]\teval-mlogloss:0.971842\ttrain-mlogloss:0.531657\n",
      "[157]\teval-mlogloss:0.969990\ttrain-mlogloss:0.528633\n",
      "[158]\teval-mlogloss:0.968115\ttrain-mlogloss:0.525848\n",
      "[159]\teval-mlogloss:0.966321\ttrain-mlogloss:0.523085\n",
      "[160]\teval-mlogloss:0.964590\ttrain-mlogloss:0.520345\n",
      "[161]\teval-mlogloss:0.962785\ttrain-mlogloss:0.517542\n",
      "[162]\teval-mlogloss:0.961024\ttrain-mlogloss:0.514720\n",
      "[163]\teval-mlogloss:0.959295\ttrain-mlogloss:0.511901\n",
      "[164]\teval-mlogloss:0.957631\ttrain-mlogloss:0.509129\n",
      "[165]\teval-mlogloss:0.955960\ttrain-mlogloss:0.506625\n",
      "[166]\teval-mlogloss:0.954322\ttrain-mlogloss:0.504007\n",
      "[167]\teval-mlogloss:0.952779\ttrain-mlogloss:0.501582\n",
      "[168]\teval-mlogloss:0.951277\ttrain-mlogloss:0.499128\n",
      "[169]\teval-mlogloss:0.949798\ttrain-mlogloss:0.496657\n",
      "[170]\teval-mlogloss:0.948376\ttrain-mlogloss:0.494116\n",
      "[171]\teval-mlogloss:0.946844\ttrain-mlogloss:0.491657\n",
      "[172]\teval-mlogloss:0.945304\ttrain-mlogloss:0.489089\n",
      "[173]\teval-mlogloss:0.943821\ttrain-mlogloss:0.486603\n",
      "[174]\teval-mlogloss:0.942372\ttrain-mlogloss:0.484169\n",
      "[175]\teval-mlogloss:0.941016\ttrain-mlogloss:0.481867\n",
      "[176]\teval-mlogloss:0.939710\ttrain-mlogloss:0.479521\n",
      "[177]\teval-mlogloss:0.938309\ttrain-mlogloss:0.477242\n",
      "[178]\teval-mlogloss:0.937060\ttrain-mlogloss:0.475081\n",
      "[179]\teval-mlogloss:0.935880\ttrain-mlogloss:0.472825\n",
      "[180]\teval-mlogloss:0.934522\ttrain-mlogloss:0.470564\n",
      "[181]\teval-mlogloss:0.933313\ttrain-mlogloss:0.468337\n",
      "[182]\teval-mlogloss:0.932031\ttrain-mlogloss:0.466002\n",
      "[183]\teval-mlogloss:0.930736\ttrain-mlogloss:0.463739\n",
      "[184]\teval-mlogloss:0.929442\ttrain-mlogloss:0.461642\n",
      "[185]\teval-mlogloss:0.928313\ttrain-mlogloss:0.459522\n",
      "[186]\teval-mlogloss:0.927184\ttrain-mlogloss:0.457438\n",
      "[187]\teval-mlogloss:0.926049\ttrain-mlogloss:0.455455\n",
      "[188]\teval-mlogloss:0.924889\ttrain-mlogloss:0.453531\n",
      "[189]\teval-mlogloss:0.923721\ttrain-mlogloss:0.451578\n",
      "[190]\teval-mlogloss:0.922604\ttrain-mlogloss:0.449532\n",
      "[191]\teval-mlogloss:0.921565\ttrain-mlogloss:0.447586\n",
      "[192]\teval-mlogloss:0.920538\ttrain-mlogloss:0.445725\n",
      "[193]\teval-mlogloss:0.919489\ttrain-mlogloss:0.443780\n",
      "[194]\teval-mlogloss:0.918477\ttrain-mlogloss:0.441903\n",
      "[195]\teval-mlogloss:0.917411\ttrain-mlogloss:0.439959\n",
      "[196]\teval-mlogloss:0.916333\ttrain-mlogloss:0.438097\n",
      "[197]\teval-mlogloss:0.915312\ttrain-mlogloss:0.436259\n",
      "[198]\teval-mlogloss:0.914335\ttrain-mlogloss:0.434501\n",
      "[199]\teval-mlogloss:0.913350\ttrain-mlogloss:0.432669\n",
      "[200]\teval-mlogloss:0.912452\ttrain-mlogloss:0.430801\n",
      "[201]\teval-mlogloss:0.911540\ttrain-mlogloss:0.428990\n",
      "[202]\teval-mlogloss:0.910615\ttrain-mlogloss:0.427158\n",
      "[203]\teval-mlogloss:0.909729\ttrain-mlogloss:0.425366\n",
      "[204]\teval-mlogloss:0.908865\ttrain-mlogloss:0.423615\n",
      "[205]\teval-mlogloss:0.907951\ttrain-mlogloss:0.421935\n",
      "[206]\teval-mlogloss:0.907078\ttrain-mlogloss:0.420324\n"
     ]
    },
    {
     "ename": "KeyboardInterrupt",
     "evalue": "",
     "output_type": "error",
     "traceback": [
      "\u001b[1;31m---------------------------------------------------------------------------\u001b[0m",
      "\u001b[1;31mKeyboardInterrupt\u001b[0m                         Traceback (most recent call last)",
      "\u001b[1;32m<ipython-input-131-5ae478ed7c7c>\u001b[0m in \u001b[0;36m<module>\u001b[1;34m()\u001b[0m\n\u001b[0;32m      4\u001b[0m \u001b[0mdvalid\u001b[0m \u001b[1;33m=\u001b[0m \u001b[0mxgb\u001b[0m\u001b[1;33m.\u001b[0m\u001b[0mDMatrix\u001b[0m\u001b[1;33m(\u001b[0m\u001b[0mxcv\u001b[0m\u001b[1;33m.\u001b[0m\u001b[0mvalues\u001b[0m\u001b[1;33m,\u001b[0m \u001b[0mlabel\u001b[0m\u001b[1;33m=\u001b[0m\u001b[0mycv_labeled\u001b[0m\u001b[1;33m)\u001b[0m\u001b[1;33m\u001b[0m\u001b[0m\n\u001b[0;32m      5\u001b[0m \u001b[0mwatchlist\u001b[0m \u001b[1;33m=\u001b[0m \u001b[1;33m[\u001b[0m\u001b[1;33m(\u001b[0m\u001b[0mdvalid\u001b[0m\u001b[1;33m,\u001b[0m \u001b[1;34m'eval'\u001b[0m\u001b[1;33m)\u001b[0m\u001b[1;33m,\u001b[0m \u001b[1;33m(\u001b[0m\u001b[0mdtrain\u001b[0m\u001b[1;33m,\u001b[0m \u001b[1;34m'train'\u001b[0m\u001b[1;33m)\u001b[0m\u001b[1;33m]\u001b[0m\u001b[1;33m\u001b[0m\u001b[0m\n\u001b[1;32m----> 6\u001b[1;33m \u001b[0mgbm\u001b[0m \u001b[1;33m=\u001b[0m \u001b[0mxgb\u001b[0m\u001b[1;33m.\u001b[0m\u001b[0mtrain\u001b[0m\u001b[1;33m(\u001b[0m\u001b[0mparams\u001b[0m\u001b[1;33m,\u001b[0m \u001b[0mdtrain\u001b[0m\u001b[1;33m,\u001b[0m \u001b[0mnum_trees\u001b[0m\u001b[1;33m,\u001b[0m \u001b[0mevals\u001b[0m\u001b[1;33m=\u001b[0m\u001b[0mwatchlist\u001b[0m\u001b[1;33m,\u001b[0m \u001b[0mearly_stopping_rounds\u001b[0m\u001b[1;33m=\u001b[0m\u001b[0mstop\u001b[0m\u001b[1;33m,\u001b[0m \u001b[0mverbose_eval\u001b[0m\u001b[1;33m=\u001b[0m\u001b[0mTrue\u001b[0m\u001b[1;33m)\u001b[0m\u001b[1;33m\u001b[0m\u001b[0m\n\u001b[0m",
      "\u001b[1;32mC:\\Program Files\\Anaconda\\lib\\site-packages\\xgboost-0.4-py2.7.egg\\xgboost\\training.pyc\u001b[0m in \u001b[0;36mtrain\u001b[1;34m(params, dtrain, num_boost_round, evals, obj, feval, maximize, early_stopping_rounds, evals_result, verbose_eval, learning_rates, xgb_model)\u001b[0m\n\u001b[0;32m    196\u001b[0m                 \u001b[1;32melse\u001b[0m\u001b[1;33m:\u001b[0m\u001b[1;33m\u001b[0m\u001b[0m\n\u001b[0;32m    197\u001b[0m                     \u001b[0mbst\u001b[0m\u001b[1;33m.\u001b[0m\u001b[0mset_param\u001b[0m\u001b[1;33m(\u001b[0m\u001b[1;33m{\u001b[0m\u001b[1;34m'eta'\u001b[0m\u001b[1;33m:\u001b[0m \u001b[0mlearning_rates\u001b[0m\u001b[1;33m(\u001b[0m\u001b[0mi\u001b[0m\u001b[1;33m,\u001b[0m \u001b[0mnum_boost_round\u001b[0m\u001b[1;33m)\u001b[0m\u001b[1;33m}\u001b[0m\u001b[1;33m)\u001b[0m\u001b[1;33m\u001b[0m\u001b[0m\n\u001b[1;32m--> 198\u001b[1;33m             \u001b[0mbst\u001b[0m\u001b[1;33m.\u001b[0m\u001b[0mupdate\u001b[0m\u001b[1;33m(\u001b[0m\u001b[0mdtrain\u001b[0m\u001b[1;33m,\u001b[0m \u001b[0mi\u001b[0m\u001b[1;33m,\u001b[0m \u001b[0mobj\u001b[0m\u001b[1;33m)\u001b[0m\u001b[1;33m\u001b[0m\u001b[0m\n\u001b[0m\u001b[0;32m    199\u001b[0m             \u001b[0mnboost\u001b[0m \u001b[1;33m+=\u001b[0m \u001b[1;36m1\u001b[0m\u001b[1;33m\u001b[0m\u001b[0m\n\u001b[0;32m    200\u001b[0m             \u001b[0mbst_eval_set\u001b[0m \u001b[1;33m=\u001b[0m \u001b[0mbst\u001b[0m\u001b[1;33m.\u001b[0m\u001b[0meval_set\u001b[0m\u001b[1;33m(\u001b[0m\u001b[0mevals\u001b[0m\u001b[1;33m,\u001b[0m \u001b[0mi\u001b[0m\u001b[1;33m,\u001b[0m \u001b[0mfeval\u001b[0m\u001b[1;33m)\u001b[0m\u001b[1;33m\u001b[0m\u001b[0m\n",
      "\u001b[1;32mC:\\Program Files\\Anaconda\\lib\\site-packages\\xgboost-0.4-py2.7.egg\\xgboost\\core.pyc\u001b[0m in \u001b[0;36mupdate\u001b[1;34m(self, dtrain, iteration, fobj)\u001b[0m\n\u001b[0;32m    692\u001b[0m \u001b[1;33m\u001b[0m\u001b[0m\n\u001b[0;32m    693\u001b[0m         \u001b[1;32mif\u001b[0m \u001b[0mfobj\u001b[0m \u001b[1;32mis\u001b[0m \u001b[0mNone\u001b[0m\u001b[1;33m:\u001b[0m\u001b[1;33m\u001b[0m\u001b[0m\n\u001b[1;32m--> 694\u001b[1;33m             \u001b[0m_check_call\u001b[0m\u001b[1;33m(\u001b[0m\u001b[0m_LIB\u001b[0m\u001b[1;33m.\u001b[0m\u001b[0mXGBoosterUpdateOneIter\u001b[0m\u001b[1;33m(\u001b[0m\u001b[0mself\u001b[0m\u001b[1;33m.\u001b[0m\u001b[0mhandle\u001b[0m\u001b[1;33m,\u001b[0m \u001b[0miteration\u001b[0m\u001b[1;33m,\u001b[0m \u001b[0mdtrain\u001b[0m\u001b[1;33m.\u001b[0m\u001b[0mhandle\u001b[0m\u001b[1;33m)\u001b[0m\u001b[1;33m)\u001b[0m\u001b[1;33m\u001b[0m\u001b[0m\n\u001b[0m\u001b[0;32m    695\u001b[0m         \u001b[1;32melse\u001b[0m\u001b[1;33m:\u001b[0m\u001b[1;33m\u001b[0m\u001b[0m\n\u001b[0;32m    696\u001b[0m             \u001b[0mpred\u001b[0m \u001b[1;33m=\u001b[0m \u001b[0mself\u001b[0m\u001b[1;33m.\u001b[0m\u001b[0mpredict\u001b[0m\u001b[1;33m(\u001b[0m\u001b[0mdtrain\u001b[0m\u001b[1;33m)\u001b[0m\u001b[1;33m\u001b[0m\u001b[0m\n",
      "\u001b[1;31mKeyboardInterrupt\u001b[0m: "
     ]
    }
   ],
   "source": [
    "import xgboost as xgb\n",
    "\n",
    "dtrain = xgb.DMatrix(xtr.values, label=ytr_labeled)\n",
    "dvalid = xgb.DMatrix(xcv.values, label=ycv_labeled)\n",
    "watchlist = [(dvalid, 'eval'), (dtrain, 'train')]\n",
    "gbm = xgb.train(params, dtrain, num_trees, evals=watchlist, early_stopping_rounds=stop, verbose_eval=True)"
   ]
  },
  {
   "cell_type": "code",
   "execution_count": 190,
   "metadata": {
    "collapsed": false
   },
   "outputs": [],
   "source": [
    "dcv = xgb.DMatrix(xcv.values)\n",
    "XGB1 = gbm.predict(dcv)\n",
    "indices = XGB1 < 0\n",
    "XGB1[indices] = 0"
   ]
  },
  {
   "cell_type": "code",
   "execution_count": 191,
   "metadata": {
    "collapsed": false
   },
   "outputs": [
    {
     "data": {
      "text/plain": [
       "0.63641752444569921"
      ]
     },
     "execution_count": 191,
     "metadata": {},
     "output_type": "execute_result"
    }
   ],
   "source": [
    "multiclass_log_loss(ycv, XGB1)"
   ]
  },
  {
   "cell_type": "markdown",
   "metadata": {},
   "source": [
    "**The best score is:** 0.45266287447996978"
   ]
  },
  {
   "cell_type": "markdown",
   "metadata": {},
   "source": [
    "## 5. Predict classes probabilities"
   ]
  },
  {
   "cell_type": "markdown",
   "metadata": {},
   "source": [
    "#### Prepare submit with LR "
   ]
  },
  {
   "cell_type": "code",
   "execution_count": 216,
   "metadata": {
    "collapsed": false
   },
   "outputs": [],
   "source": [
    "rf.fit(train_stacked_grouped[cv_columns_tr], train_stacked_grouped.TripType)\n",
    "predictionRF = rf.predict_proba(test_stacked_grouped[cv_columns_te])"
   ]
  },
  {
   "cell_type": "code",
   "execution_count": 217,
   "metadata": {
    "collapsed": false
   },
   "outputs": [],
   "source": [
    "submit_XGB = predictionRF\n",
    "#test_stacked_grouped[:3]"
   ]
  },
  {
   "cell_type": "markdown",
   "metadata": {},
   "source": [
    "#### With XGBoost"
   ]
  },
  {
   "cell_type": "code",
   "execution_count": 50,
   "metadata": {
    "collapsed": false
   },
   "outputs": [],
   "source": [
    "dtest = xgb.DMatrix(test_stacked_grouped[cv_columns_te].as_matrix())\n",
    "predictionXGB = gbm.predict(dtest)\n",
    "indices = predictionXGB < 0\n",
    "predictionXGB[indices] = 0"
   ]
  },
  {
   "cell_type": "code",
   "execution_count": 51,
   "metadata": {
    "collapsed": false
   },
   "outputs": [],
   "source": [
    "submit_XGB = predictionXGB"
   ]
  },
  {
   "cell_type": "code",
   "execution_count": 52,
   "metadata": {
    "collapsed": false
   },
   "outputs": [
    {
     "data": {
      "text/plain": [
       "array([[  1.64106523e-03,   1.30538503e-03,   1.37398229e-03, ...,\n",
       "          1.74849585e-03,   1.49152183e-03,   1.07993763e-02],\n",
       "       [  1.00550351e-04,   9.42308543e-05,   9.79431061e-05, ...,\n",
       "          1.39050113e-04,   1.05309147e-04,   1.89659011e-04],\n",
       "       [  4.80866984e-05,   4.82663418e-05,   5.00364113e-05, ...,\n",
       "          4.78701841e-05,   4.76965142e-05,   9.98090565e-01],\n",
       "       ..., \n",
       "       [  1.03858393e-03,   1.03626784e-03,   1.06251438e-03, ...,\n",
       "          1.03483291e-03,   1.03107875e-03,   1.03711940e-01],\n",
       "       [  4.93862433e-04,   5.00966038e-04,   5.21119975e-04, ...,\n",
       "          1.05963531e-03,   1.96996005e-03,   6.51085167e-04],\n",
       "       [  5.03390438e-05,   5.16264081e-05,   5.40690926e-05, ...,\n",
       "          8.16527972e-05,   7.47916711e-05,   8.40847642e-05]], dtype=float32)"
      ]
     },
     "execution_count": 52,
     "metadata": {},
     "output_type": "execute_result"
    }
   ],
   "source": [
    "submit_XGB"
   ]
  },
  {
   "cell_type": "markdown",
   "metadata": {},
   "source": [
    "## 5. Submit probas "
   ]
  },
  {
   "cell_type": "code",
   "execution_count": 53,
   "metadata": {
    "collapsed": false
   },
   "outputs": [],
   "source": [
    "cl_names = ['VisitNumber']\n",
    "for cls in rf.classes_:\n",
    "    cl_names.append('TripType_' + str(int(cls)))"
   ]
  },
  {
   "cell_type": "code",
   "execution_count": 54,
   "metadata": {
    "collapsed": false
   },
   "outputs": [
    {
     "data": {
      "text/html": [
       "<div>\n",
       "<table border=\"1\" class=\"dataframe\">\n",
       "  <thead>\n",
       "    <tr style=\"text-align: right;\">\n",
       "      <th></th>\n",
       "      <th>VisitNumber</th>\n",
       "      <th>TripType_3</th>\n",
       "      <th>TripType_4</th>\n",
       "      <th>TripType_5</th>\n",
       "      <th>TripType_6</th>\n",
       "      <th>TripType_7</th>\n",
       "      <th>TripType_8</th>\n",
       "      <th>TripType_9</th>\n",
       "      <th>TripType_12</th>\n",
       "      <th>TripType_14</th>\n",
       "      <th>...</th>\n",
       "      <th>TripType_36</th>\n",
       "      <th>TripType_37</th>\n",
       "      <th>TripType_38</th>\n",
       "      <th>TripType_39</th>\n",
       "      <th>TripType_40</th>\n",
       "      <th>TripType_41</th>\n",
       "      <th>TripType_42</th>\n",
       "      <th>TripType_43</th>\n",
       "      <th>TripType_44</th>\n",
       "      <th>TripType_999</th>\n",
       "    </tr>\n",
       "  </thead>\n",
       "  <tbody>\n",
       "    <tr>\n",
       "      <th>0</th>\n",
       "      <td>1</td>\n",
       "      <td>0.001641</td>\n",
       "      <td>0.001305</td>\n",
       "      <td>0.001374</td>\n",
       "      <td>0.001411</td>\n",
       "      <td>0.003621</td>\n",
       "      <td>0.003603</td>\n",
       "      <td>0.002000</td>\n",
       "      <td>0.001282</td>\n",
       "      <td>0.001255</td>\n",
       "      <td>...</td>\n",
       "      <td>0.001380</td>\n",
       "      <td>0.001620</td>\n",
       "      <td>0.816814</td>\n",
       "      <td>0.002736</td>\n",
       "      <td>0.001812</td>\n",
       "      <td>0.001567</td>\n",
       "      <td>0.001990</td>\n",
       "      <td>0.001748</td>\n",
       "      <td>0.001492</td>\n",
       "      <td>0.010799</td>\n",
       "    </tr>\n",
       "    <tr>\n",
       "      <th>1</th>\n",
       "      <td>2</td>\n",
       "      <td>0.000101</td>\n",
       "      <td>0.000094</td>\n",
       "      <td>0.000098</td>\n",
       "      <td>0.000128</td>\n",
       "      <td>0.000231</td>\n",
       "      <td>0.000301</td>\n",
       "      <td>0.000190</td>\n",
       "      <td>0.000101</td>\n",
       "      <td>0.000087</td>\n",
       "      <td>...</td>\n",
       "      <td>0.000147</td>\n",
       "      <td>0.000124</td>\n",
       "      <td>0.000100</td>\n",
       "      <td>0.000148</td>\n",
       "      <td>0.000106</td>\n",
       "      <td>0.000093</td>\n",
       "      <td>0.000101</td>\n",
       "      <td>0.000139</td>\n",
       "      <td>0.000105</td>\n",
       "      <td>0.000190</td>\n",
       "    </tr>\n",
       "    <tr>\n",
       "      <th>2</th>\n",
       "      <td>3</td>\n",
       "      <td>0.000048</td>\n",
       "      <td>0.000048</td>\n",
       "      <td>0.000050</td>\n",
       "      <td>0.000049</td>\n",
       "      <td>0.000056</td>\n",
       "      <td>0.000089</td>\n",
       "      <td>0.000061</td>\n",
       "      <td>0.000049</td>\n",
       "      <td>0.000048</td>\n",
       "      <td>...</td>\n",
       "      <td>0.000086</td>\n",
       "      <td>0.000049</td>\n",
       "      <td>0.000048</td>\n",
       "      <td>0.000048</td>\n",
       "      <td>0.000049</td>\n",
       "      <td>0.000048</td>\n",
       "      <td>0.000048</td>\n",
       "      <td>0.000048</td>\n",
       "      <td>0.000048</td>\n",
       "      <td>0.998091</td>\n",
       "    </tr>\n",
       "    <tr>\n",
       "      <th>3</th>\n",
       "      <td>4</td>\n",
       "      <td>0.000421</td>\n",
       "      <td>0.000423</td>\n",
       "      <td>0.000481</td>\n",
       "      <td>0.000431</td>\n",
       "      <td>0.000496</td>\n",
       "      <td>0.000510</td>\n",
       "      <td>0.836410</td>\n",
       "      <td>0.000429</td>\n",
       "      <td>0.000522</td>\n",
       "      <td>...</td>\n",
       "      <td>0.000430</td>\n",
       "      <td>0.000427</td>\n",
       "      <td>0.000436</td>\n",
       "      <td>0.000429</td>\n",
       "      <td>0.000430</td>\n",
       "      <td>0.000424</td>\n",
       "      <td>0.000455</td>\n",
       "      <td>0.000423</td>\n",
       "      <td>0.000458</td>\n",
       "      <td>0.075559</td>\n",
       "    </tr>\n",
       "    <tr>\n",
       "      <th>4</th>\n",
       "      <td>6</td>\n",
       "      <td>0.000048</td>\n",
       "      <td>0.000048</td>\n",
       "      <td>0.000050</td>\n",
       "      <td>0.000049</td>\n",
       "      <td>0.000055</td>\n",
       "      <td>0.000089</td>\n",
       "      <td>0.000061</td>\n",
       "      <td>0.000049</td>\n",
       "      <td>0.000048</td>\n",
       "      <td>...</td>\n",
       "      <td>0.000049</td>\n",
       "      <td>0.000049</td>\n",
       "      <td>0.000048</td>\n",
       "      <td>0.000048</td>\n",
       "      <td>0.000049</td>\n",
       "      <td>0.000048</td>\n",
       "      <td>0.000048</td>\n",
       "      <td>0.000048</td>\n",
       "      <td>0.000056</td>\n",
       "      <td>0.998081</td>\n",
       "    </tr>\n",
       "  </tbody>\n",
       "</table>\n",
       "<p>5 rows × 39 columns</p>\n",
       "</div>"
      ],
      "text/plain": [
       "   VisitNumber  TripType_3  TripType_4  TripType_5  TripType_6  TripType_7  \\\n",
       "0            1    0.001641    0.001305    0.001374    0.001411    0.003621   \n",
       "1            2    0.000101    0.000094    0.000098    0.000128    0.000231   \n",
       "2            3    0.000048    0.000048    0.000050    0.000049    0.000056   \n",
       "3            4    0.000421    0.000423    0.000481    0.000431    0.000496   \n",
       "4            6    0.000048    0.000048    0.000050    0.000049    0.000055   \n",
       "\n",
       "   TripType_8  TripType_9  TripType_12  TripType_14      ...       \\\n",
       "0    0.003603    0.002000     0.001282     0.001255      ...        \n",
       "1    0.000301    0.000190     0.000101     0.000087      ...        \n",
       "2    0.000089    0.000061     0.000049     0.000048      ...        \n",
       "3    0.000510    0.836410     0.000429     0.000522      ...        \n",
       "4    0.000089    0.000061     0.000049     0.000048      ...        \n",
       "\n",
       "   TripType_36  TripType_37  TripType_38  TripType_39  TripType_40  \\\n",
       "0     0.001380     0.001620     0.816814     0.002736     0.001812   \n",
       "1     0.000147     0.000124     0.000100     0.000148     0.000106   \n",
       "2     0.000086     0.000049     0.000048     0.000048     0.000049   \n",
       "3     0.000430     0.000427     0.000436     0.000429     0.000430   \n",
       "4     0.000049     0.000049     0.000048     0.000048     0.000049   \n",
       "\n",
       "   TripType_41  TripType_42  TripType_43  TripType_44  TripType_999  \n",
       "0     0.001567     0.001990     0.001748     0.001492      0.010799  \n",
       "1     0.000093     0.000101     0.000139     0.000105      0.000190  \n",
       "2     0.000048     0.000048     0.000048     0.000048      0.998091  \n",
       "3     0.000424     0.000455     0.000423     0.000458      0.075559  \n",
       "4     0.000048     0.000048     0.000048     0.000056      0.998081  \n",
       "\n",
       "[5 rows x 39 columns]"
      ]
     },
     "execution_count": 54,
     "metadata": {},
     "output_type": "execute_result"
    }
   ],
   "source": [
    "submit = pd.DataFrame(columns=cl_names)\n",
    "submit['VisitNumber'] = test_stacked_grouped['VisitNumber']\n",
    "submit[cl_names[1:]] = submit_XGB\n",
    "submit[:5]"
   ]
  },
  {
   "cell_type": "code",
   "execution_count": 55,
   "metadata": {
    "collapsed": true
   },
   "outputs": [],
   "source": [
    "submit.to_csv('submit.csv', index=False)"
   ]
  },
  {
   "cell_type": "code",
   "execution_count": null,
   "metadata": {
    "collapsed": true
   },
   "outputs": [],
   "source": []
  }
 ],
 "metadata": {
  "kernelspec": {
   "display_name": "Python 2",
   "language": "python",
   "name": "python2"
  },
  "language_info": {
   "codemirror_mode": {
    "name": "ipython",
    "version": 2
   },
   "file_extension": ".py",
   "mimetype": "text/x-python",
   "name": "python",
   "nbconvert_exporter": "python",
   "pygments_lexer": "ipython2",
   "version": "2.7.10"
  }
 },
 "nbformat": 4,
 "nbformat_minor": 0
}
