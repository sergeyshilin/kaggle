{
 "cells": [
  {
   "cell_type": "code",
   "execution_count": 1,
   "metadata": {
    "collapsed": false
   },
   "outputs": [],
   "source": [
    "import numpy as np\n",
    "import pandas as pd"
   ]
  },
  {
   "cell_type": "code",
   "execution_count": 2,
   "metadata": {
    "collapsed": true
   },
   "outputs": [],
   "source": [
    "import gc\n",
    "gc.enable()"
   ]
  },
  {
   "cell_type": "markdown",
   "metadata": {},
   "source": [
    "## 1. Get the Data "
   ]
  },
  {
   "cell_type": "code",
   "execution_count": 3,
   "metadata": {
    "collapsed": false
   },
   "outputs": [],
   "source": [
    "train = pd.read_csv('data/train.csv')\n",
    "test = pd.read_csv('data/test.csv')"
   ]
  },
  {
   "cell_type": "code",
   "execution_count": 4,
   "metadata": {
    "collapsed": false
   },
   "outputs": [
    {
     "data": {
      "text/html": [
       "<div>\n",
       "<table border=\"1\" class=\"dataframe\">\n",
       "  <thead>\n",
       "    <tr style=\"text-align: right;\">\n",
       "      <th></th>\n",
       "      <th>TripType</th>\n",
       "      <th>VisitNumber</th>\n",
       "      <th>Weekday</th>\n",
       "      <th>Upc</th>\n",
       "      <th>ScanCount</th>\n",
       "      <th>DepartmentDescription</th>\n",
       "      <th>FinelineNumber</th>\n",
       "    </tr>\n",
       "  </thead>\n",
       "  <tbody>\n",
       "    <tr>\n",
       "      <th>0</th>\n",
       "      <td>999</td>\n",
       "      <td>5</td>\n",
       "      <td>Friday</td>\n",
       "      <td>68113152929</td>\n",
       "      <td>-1</td>\n",
       "      <td>FINANCIAL SERVICES</td>\n",
       "      <td>1000</td>\n",
       "    </tr>\n",
       "    <tr>\n",
       "      <th>1</th>\n",
       "      <td>30</td>\n",
       "      <td>7</td>\n",
       "      <td>Friday</td>\n",
       "      <td>60538815980</td>\n",
       "      <td>1</td>\n",
       "      <td>SHOES</td>\n",
       "      <td>8931</td>\n",
       "    </tr>\n",
       "    <tr>\n",
       "      <th>2</th>\n",
       "      <td>30</td>\n",
       "      <td>7</td>\n",
       "      <td>Friday</td>\n",
       "      <td>7410811099</td>\n",
       "      <td>1</td>\n",
       "      <td>PERSONAL CARE</td>\n",
       "      <td>4504</td>\n",
       "    </tr>\n",
       "    <tr>\n",
       "      <th>3</th>\n",
       "      <td>26</td>\n",
       "      <td>8</td>\n",
       "      <td>Friday</td>\n",
       "      <td>2238403510</td>\n",
       "      <td>2</td>\n",
       "      <td>PAINT AND ACCESSORIES</td>\n",
       "      <td>3565</td>\n",
       "    </tr>\n",
       "    <tr>\n",
       "      <th>4</th>\n",
       "      <td>26</td>\n",
       "      <td>8</td>\n",
       "      <td>Friday</td>\n",
       "      <td>2006613744</td>\n",
       "      <td>2</td>\n",
       "      <td>PAINT AND ACCESSORIES</td>\n",
       "      <td>1017</td>\n",
       "    </tr>\n",
       "  </tbody>\n",
       "</table>\n",
       "</div>"
      ],
      "text/plain": [
       "   TripType  VisitNumber Weekday          Upc  ScanCount  \\\n",
       "0       999            5  Friday  68113152929         -1   \n",
       "1        30            7  Friday  60538815980          1   \n",
       "2        30            7  Friday   7410811099          1   \n",
       "3        26            8  Friday   2238403510          2   \n",
       "4        26            8  Friday   2006613744          2   \n",
       "\n",
       "   DepartmentDescription  FinelineNumber  \n",
       "0     FINANCIAL SERVICES            1000  \n",
       "1                  SHOES            8931  \n",
       "2          PERSONAL CARE            4504  \n",
       "3  PAINT AND ACCESSORIES            3565  \n",
       "4  PAINT AND ACCESSORIES            1017  "
      ]
     },
     "execution_count": 4,
     "metadata": {},
     "output_type": "execute_result"
    }
   ],
   "source": [
    "train[:5]"
   ]
  },
  {
   "cell_type": "code",
   "execution_count": 5,
   "metadata": {
    "collapsed": false
   },
   "outputs": [
    {
     "data": {
      "text/plain": [
       "TripType                   int64\n",
       "VisitNumber                int64\n",
       "Weekday                   object\n",
       "Upc                      float64\n",
       "ScanCount                  int64\n",
       "DepartmentDescription     object\n",
       "FinelineNumber           float64\n",
       "dtype: object"
      ]
     },
     "execution_count": 5,
     "metadata": {},
     "output_type": "execute_result"
    }
   ],
   "source": [
    "train.dtypes"
   ]
  },
  {
   "cell_type": "markdown",
   "metadata": {},
   "source": [
    "## 2. Feature Engineering"
   ]
  },
  {
   "cell_type": "code",
   "execution_count": 6,
   "metadata": {
    "collapsed": false
   },
   "outputs": [
    {
     "name": "stderr",
     "output_type": "stream",
     "text": [
      "/usr/local/lib/python2.7/dist-packages/numpy/lib/arraysetops.py:198: FutureWarning: numpy not_equal will not check object identity in the future. The comparison did not return the same result as suggested by the identity (`is`)) and will change.\n",
      "  flag = np.concatenate(([True], aux[1:] != aux[:-1]))\n",
      "/usr/local/lib/python2.7/dist-packages/numpy/lib/arraysetops.py:251: FutureWarning: numpy equal will not check object identity in the future. The comparison did not return the same result as suggested by the identity (`is`)) and will change.\n",
      "  return aux[:-1][aux[1:] == aux[:-1]]\n"
     ]
    },
    {
     "data": {
      "text/html": [
       "<div>\n",
       "<table border=\"1\" class=\"dataframe\">\n",
       "  <thead>\n",
       "    <tr style=\"text-align: right;\">\n",
       "      <th></th>\n",
       "      <th>TripType</th>\n",
       "      <th>VisitNumber</th>\n",
       "      <th>Weekday</th>\n",
       "      <th>Upc</th>\n",
       "      <th>ScanCount</th>\n",
       "      <th>DepartmentDescription</th>\n",
       "      <th>FinelineNumber</th>\n",
       "    </tr>\n",
       "  </thead>\n",
       "  <tbody>\n",
       "    <tr>\n",
       "      <th>0</th>\n",
       "      <td>999</td>\n",
       "      <td>5</td>\n",
       "      <td>0</td>\n",
       "      <td>68113152929</td>\n",
       "      <td>-1</td>\n",
       "      <td>21</td>\n",
       "      <td>1000</td>\n",
       "    </tr>\n",
       "    <tr>\n",
       "      <th>1</th>\n",
       "      <td>30</td>\n",
       "      <td>7</td>\n",
       "      <td>0</td>\n",
       "      <td>60538815980</td>\n",
       "      <td>1</td>\n",
       "      <td>63</td>\n",
       "      <td>8931</td>\n",
       "    </tr>\n",
       "    <tr>\n",
       "      <th>2</th>\n",
       "      <td>30</td>\n",
       "      <td>7</td>\n",
       "      <td>0</td>\n",
       "      <td>7410811099</td>\n",
       "      <td>1</td>\n",
       "      <td>51</td>\n",
       "      <td>4504</td>\n",
       "    </tr>\n",
       "  </tbody>\n",
       "</table>\n",
       "</div>"
      ],
      "text/plain": [
       "   TripType  VisitNumber  Weekday          Upc  ScanCount  \\\n",
       "0       999            5        0  68113152929         -1   \n",
       "1        30            7        0  60538815980          1   \n",
       "2        30            7        0   7410811099          1   \n",
       "\n",
       "   DepartmentDescription  FinelineNumber  \n",
       "0                     21            1000  \n",
       "1                     63            8931  \n",
       "2                     51            4504  "
      ]
     },
     "execution_count": 6,
     "metadata": {},
     "output_type": "execute_result"
    }
   ],
   "source": [
    "# Replace labels with floats\n",
    "from sklearn.preprocessing import LabelEncoder\n",
    "lbl_enc = LabelEncoder()\n",
    "\n",
    "for c in ['Weekday', 'DepartmentDescription']:\n",
    "    train[c] = lbl_enc.fit_transform(train[c])\n",
    "    test[c] = lbl_enc.transform(test[c])\n",
    "    \n",
    "train[:3]"
   ]
  },
  {
   "cell_type": "code",
   "execution_count": 7,
   "metadata": {
    "collapsed": false
   },
   "outputs": [
    {
     "data": {
      "text/plain": [
       "TripType                    0\n",
       "VisitNumber                 0\n",
       "Weekday                     0\n",
       "Upc                      4129\n",
       "ScanCount                   0\n",
       "DepartmentDescription       0\n",
       "FinelineNumber           4129\n",
       "dtype: int64"
      ]
     },
     "execution_count": 7,
     "metadata": {},
     "output_type": "execute_result"
    }
   ],
   "source": [
    "train.isnull().sum(axis=0)"
   ]
  },
  {
   "cell_type": "code",
   "execution_count": 8,
   "metadata": {
    "collapsed": false
   },
   "outputs": [],
   "source": [
    "from sklearn.preprocessing import Imputer\n",
    "imputer = Imputer(strategy='mean')\n",
    "train = pd.DataFrame(imputer.fit_transform(train), columns=train.columns)\n",
    "test = pd.DataFrame(imputer.fit_transform(test), columns=test.columns)"
   ]
  },
  {
   "cell_type": "code",
   "execution_count": 9,
   "metadata": {
    "collapsed": false
   },
   "outputs": [],
   "source": [
    "train = train.astype(int)\n",
    "test = test.astype(int)"
   ]
  },
  {
   "cell_type": "code",
   "execution_count": 10,
   "metadata": {
    "collapsed": false
   },
   "outputs": [
    {
     "data": {
      "text/plain": [
       "TripType                 int64\n",
       "VisitNumber              int64\n",
       "Weekday                  int64\n",
       "Upc                      int64\n",
       "ScanCount                int64\n",
       "DepartmentDescription    int64\n",
       "FinelineNumber           int64\n",
       "dtype: object"
      ]
     },
     "execution_count": 10,
     "metadata": {},
     "output_type": "execute_result"
    }
   ],
   "source": [
    "train.dtypes"
   ]
  },
  {
   "cell_type": "code",
   "execution_count": 11,
   "metadata": {
    "collapsed": false
   },
   "outputs": [
    {
     "name": "stdout",
     "output_type": "stream",
     "text": [
      "CPU times: user 584 ms, sys: 164 ms, total: 748 ms\n",
      "Wall time: 749 ms\n"
     ]
    }
   ],
   "source": [
    "%%time\n",
    "train_builded = pd.get_dummies(train, columns=['TripType'], prefix=['TripType'])\n",
    "# test_builded = pd.get_dummies(test, columns=['DepartmentDescription'], prefix=['Department'])"
   ]
  },
  {
   "cell_type": "code",
   "execution_count": 13,
   "metadata": {
    "collapsed": false
   },
   "outputs": [
    {
     "name": "stdout",
     "output_type": "stream",
     "text": [
      "CPU times: user 88 ms, sys: 0 ns, total: 88 ms\n",
      "Wall time: 88.5 ms\n"
     ]
    }
   ],
   "source": [
    "%%time\n",
    "train_builded.fillna(0, inplace=True)\n",
    "# test_builded.fillna(0, inplace=True)"
   ]
  },
  {
   "cell_type": "code",
   "execution_count": 15,
   "metadata": {
    "collapsed": false
   },
   "outputs": [
    {
     "data": {
      "text/html": [
       "<div>\n",
       "<table border=\"1\" class=\"dataframe\">\n",
       "  <thead>\n",
       "    <tr style=\"text-align: right;\">\n",
       "      <th></th>\n",
       "      <th>VisitNumber</th>\n",
       "      <th>Weekday</th>\n",
       "      <th>Upc</th>\n",
       "      <th>ScanCount</th>\n",
       "      <th>DepartmentDescription</th>\n",
       "      <th>FinelineNumber</th>\n",
       "      <th>TripType_3</th>\n",
       "      <th>TripType_4</th>\n",
       "      <th>TripType_5</th>\n",
       "      <th>TripType_6</th>\n",
       "      <th>...</th>\n",
       "      <th>TripType_36</th>\n",
       "      <th>TripType_37</th>\n",
       "      <th>TripType_38</th>\n",
       "      <th>TripType_39</th>\n",
       "      <th>TripType_40</th>\n",
       "      <th>TripType_41</th>\n",
       "      <th>TripType_42</th>\n",
       "      <th>TripType_43</th>\n",
       "      <th>TripType_44</th>\n",
       "      <th>TripType_999</th>\n",
       "    </tr>\n",
       "  </thead>\n",
       "  <tbody>\n",
       "    <tr>\n",
       "      <th>0</th>\n",
       "      <td>5</td>\n",
       "      <td>0</td>\n",
       "      <td>68113152929</td>\n",
       "      <td>-1</td>\n",
       "      <td>21</td>\n",
       "      <td>1000</td>\n",
       "      <td>0</td>\n",
       "      <td>0</td>\n",
       "      <td>0</td>\n",
       "      <td>0</td>\n",
       "      <td>...</td>\n",
       "      <td>0</td>\n",
       "      <td>0</td>\n",
       "      <td>0</td>\n",
       "      <td>0</td>\n",
       "      <td>0</td>\n",
       "      <td>0</td>\n",
       "      <td>0</td>\n",
       "      <td>0</td>\n",
       "      <td>0</td>\n",
       "      <td>1</td>\n",
       "    </tr>\n",
       "    <tr>\n",
       "      <th>1</th>\n",
       "      <td>7</td>\n",
       "      <td>0</td>\n",
       "      <td>60538815980</td>\n",
       "      <td>1</td>\n",
       "      <td>63</td>\n",
       "      <td>8931</td>\n",
       "      <td>0</td>\n",
       "      <td>0</td>\n",
       "      <td>0</td>\n",
       "      <td>0</td>\n",
       "      <td>...</td>\n",
       "      <td>0</td>\n",
       "      <td>0</td>\n",
       "      <td>0</td>\n",
       "      <td>0</td>\n",
       "      <td>0</td>\n",
       "      <td>0</td>\n",
       "      <td>0</td>\n",
       "      <td>0</td>\n",
       "      <td>0</td>\n",
       "      <td>0</td>\n",
       "    </tr>\n",
       "    <tr>\n",
       "      <th>2</th>\n",
       "      <td>7</td>\n",
       "      <td>0</td>\n",
       "      <td>7410811099</td>\n",
       "      <td>1</td>\n",
       "      <td>51</td>\n",
       "      <td>4504</td>\n",
       "      <td>0</td>\n",
       "      <td>0</td>\n",
       "      <td>0</td>\n",
       "      <td>0</td>\n",
       "      <td>...</td>\n",
       "      <td>0</td>\n",
       "      <td>0</td>\n",
       "      <td>0</td>\n",
       "      <td>0</td>\n",
       "      <td>0</td>\n",
       "      <td>0</td>\n",
       "      <td>0</td>\n",
       "      <td>0</td>\n",
       "      <td>0</td>\n",
       "      <td>0</td>\n",
       "    </tr>\n",
       "  </tbody>\n",
       "</table>\n",
       "<p>3 rows × 44 columns</p>\n",
       "</div>"
      ],
      "text/plain": [
       "   VisitNumber  Weekday          Upc  ScanCount  DepartmentDescription  \\\n",
       "0            5        0  68113152929         -1                     21   \n",
       "1            7        0  60538815980          1                     63   \n",
       "2            7        0   7410811099          1                     51   \n",
       "\n",
       "   FinelineNumber  TripType_3  TripType_4  TripType_5  TripType_6  \\\n",
       "0            1000           0           0           0           0   \n",
       "1            8931           0           0           0           0   \n",
       "2            4504           0           0           0           0   \n",
       "\n",
       "       ...       TripType_36  TripType_37  TripType_38  TripType_39  \\\n",
       "0      ...                 0            0            0            0   \n",
       "1      ...                 0            0            0            0   \n",
       "2      ...                 0            0            0            0   \n",
       "\n",
       "   TripType_40  TripType_41  TripType_42  TripType_43  TripType_44  \\\n",
       "0            0            0            0            0            0   \n",
       "1            0            0            0            0            0   \n",
       "2            0            0            0            0            0   \n",
       "\n",
       "   TripType_999  \n",
       "0             1  \n",
       "1             0  \n",
       "2             0  \n",
       "\n",
       "[3 rows x 44 columns]"
      ]
     },
     "execution_count": 15,
     "metadata": {},
     "output_type": "execute_result"
    }
   ],
   "source": [
    "train_builded[:3]"
   ]
  },
  {
   "cell_type": "code",
   "execution_count": 17,
   "metadata": {
    "collapsed": false
   },
   "outputs": [],
   "source": [
    "cols_tr = list(train_builded.columns)\n",
    "cols_te = list(test.columns)\n",
    "cols_to_remove = ['Upc', 'FinelineNumber']\n",
    "[cols_tr.remove(c) for c in cols_to_remove]\n",
    "[cols_te.remove(c) for c in cols_to_remove]\n",
    "\n",
    "train_builded = train_builded[cols_tr]\n",
    "test_builded = test[cols_te]"
   ]
  },
  {
   "cell_type": "code",
   "execution_count": 18,
   "metadata": {
    "collapsed": false
   },
   "outputs": [
    {
     "name": "stderr",
     "output_type": "stream",
     "text": [
      "/usr/local/lib/python2.7/dist-packages/ipykernel/__main__.py:3: SettingWithCopyWarning: \n",
      "A value is trying to be set on a copy of a slice from a DataFrame.\n",
      "Try using .loc[row_indexer,col_indexer] = value instead\n",
      "\n",
      "See the the caveats in the documentation: http://pandas.pydata.org/pandas-docs/stable/indexing.html#indexing-view-versus-copy\n",
      "  app.launch_new_instance()\n"
     ]
    }
   ],
   "source": [
    "for col in cols_tr:\n",
    "    if col not in cols_te:\n",
    "        test_builded[col] = 0\n",
    "        cols_te.append(col)"
   ]
  },
  {
   "cell_type": "code",
   "execution_count": 19,
   "metadata": {
    "collapsed": true
   },
   "outputs": [],
   "source": [
    "for col in cols_te:\n",
    "    if col not in cols_tr:\n",
    "        train_builded[col] = 0\n",
    "        cols_tr.append(col)"
   ]
  },
  {
   "cell_type": "code",
   "execution_count": 20,
   "metadata": {
    "collapsed": false
   },
   "outputs": [
    {
     "name": "stdout",
     "output_type": "stream",
     "text": [
      "42\n",
      "42\n"
     ]
    }
   ],
   "source": [
    "print len(cols_tr)\n",
    "print len(cols_te)"
   ]
  },
  {
   "cell_type": "code",
   "execution_count": 170,
   "metadata": {
    "collapsed": false
   },
   "outputs": [
    {
     "name": "stdout",
     "output_type": "stream",
     "text": [
      "CPU times: user 3.7 s, sys: 0 ns, total: 3.7 s\n",
      "Wall time: 3.71 s\n"
     ]
    }
   ],
   "source": [
    "%%time\n",
    "sorted_depts = sorted(train.DepartmentDescription.unique())\n",
    "department_means = []\n",
    "for i in range(len(train.DepartmentDescription.unique())):\n",
    "    dep = sorted_depts[i]\n",
    "    group_len = len(train_builded[train_builded.DepartmentDescription == dep])\n",
    "    one_group = train_builded[train_builded.DepartmentDescription == dep].groupby('DepartmentDescription', as_index=False).sum() / group_len\n",
    "    department_means.append(one_group[one_group.columns[4:]].values[0])\n",
    "\n",
    "def get_triptypes_list(dep):\n",
    "    idx = sorted_depts.index(dep)\n",
    "    return department_means[idx]\n",
    "\n",
    "def get_triptypes_pandas(series):\n",
    "    array = []\n",
    "    for el in series.values:\n",
    "        array.append(get_triptypes_list(el))\n",
    "    return np.array(array)"
   ]
  },
  {
   "cell_type": "code",
   "execution_count": 182,
   "metadata": {
    "collapsed": false
   },
   "outputs": [
    {
     "name": "stdout",
     "output_type": "stream",
     "text": [
      "CPU times: user 11.5 s, sys: 4.54 s, total: 16 s\n",
      "Wall time: 18.6 s\n"
     ]
    }
   ],
   "source": [
    "%%time\n",
    "train_builded[train_builded.columns[4:]] = get_triptypes_pandas(train_builded.DepartmentDescription)\n",
    "test_builded[test_builded.columns[4:]] = get_triptypes_pandas(test_builded.DepartmentDescription)"
   ]
  },
  {
   "cell_type": "code",
   "execution_count": 173,
   "metadata": {
    "collapsed": false
   },
   "outputs": [
    {
     "data": {
      "text/html": [
       "<div>\n",
       "<table border=\"1\" class=\"dataframe\">\n",
       "  <thead>\n",
       "    <tr style=\"text-align: right;\">\n",
       "      <th></th>\n",
       "      <th>VisitNumber</th>\n",
       "      <th>Weekday</th>\n",
       "      <th>ScanCount</th>\n",
       "      <th>DepartmentDescription</th>\n",
       "      <th>TripType_3</th>\n",
       "      <th>TripType_4</th>\n",
       "      <th>TripType_5</th>\n",
       "      <th>TripType_6</th>\n",
       "      <th>TripType_7</th>\n",
       "      <th>TripType_8</th>\n",
       "      <th>...</th>\n",
       "      <th>TripType_36</th>\n",
       "      <th>TripType_37</th>\n",
       "      <th>TripType_38</th>\n",
       "      <th>TripType_39</th>\n",
       "      <th>TripType_40</th>\n",
       "      <th>TripType_41</th>\n",
       "      <th>TripType_42</th>\n",
       "      <th>TripType_43</th>\n",
       "      <th>TripType_44</th>\n",
       "      <th>TripType_999</th>\n",
       "    </tr>\n",
       "  </thead>\n",
       "  <tbody>\n",
       "    <tr>\n",
       "      <th>0</th>\n",
       "      <td>5</td>\n",
       "      <td>0</td>\n",
       "      <td>-1</td>\n",
       "      <td>21</td>\n",
       "      <td>0.500699</td>\n",
       "      <td>0.000466</td>\n",
       "      <td>0.004663</td>\n",
       "      <td>0.001306</td>\n",
       "      <td>0.006062</td>\n",
       "      <td>0.000000</td>\n",
       "      <td>...</td>\n",
       "      <td>0.011564</td>\n",
       "      <td>0.011377</td>\n",
       "      <td>0.010072</td>\n",
       "      <td>0.041033</td>\n",
       "      <td>0.048774</td>\n",
       "      <td>0.003637</td>\n",
       "      <td>0.011098</td>\n",
       "      <td>0.008580</td>\n",
       "      <td>0.012030</td>\n",
       "      <td>0.213466</td>\n",
       "    </tr>\n",
       "    <tr>\n",
       "      <th>1</th>\n",
       "      <td>7</td>\n",
       "      <td>0</td>\n",
       "      <td>1</td>\n",
       "      <td>63</td>\n",
       "      <td>0.000984</td>\n",
       "      <td>0.000164</td>\n",
       "      <td>0.006558</td>\n",
       "      <td>0.002131</td>\n",
       "      <td>0.004755</td>\n",
       "      <td>0.008198</td>\n",
       "      <td>...</td>\n",
       "      <td>0.013445</td>\n",
       "      <td>0.010985</td>\n",
       "      <td>0.006886</td>\n",
       "      <td>0.082145</td>\n",
       "      <td>0.087883</td>\n",
       "      <td>0.055747</td>\n",
       "      <td>0.101492</td>\n",
       "      <td>0.018036</td>\n",
       "      <td>0.068208</td>\n",
       "      <td>0.048533</td>\n",
       "    </tr>\n",
       "    <tr>\n",
       "      <th>2</th>\n",
       "      <td>7</td>\n",
       "      <td>0</td>\n",
       "      <td>1</td>\n",
       "      <td>51</td>\n",
       "      <td>0.000953</td>\n",
       "      <td>0.000762</td>\n",
       "      <td>0.021969</td>\n",
       "      <td>0.001739</td>\n",
       "      <td>0.004908</td>\n",
       "      <td>0.063142</td>\n",
       "      <td>...</td>\n",
       "      <td>0.205747</td>\n",
       "      <td>0.016584</td>\n",
       "      <td>0.013987</td>\n",
       "      <td>0.193619</td>\n",
       "      <td>0.236150</td>\n",
       "      <td>0.007768</td>\n",
       "      <td>0.020491</td>\n",
       "      <td>0.012462</td>\n",
       "      <td>0.044247</td>\n",
       "      <td>0.015654</td>\n",
       "    </tr>\n",
       "    <tr>\n",
       "      <th>3</th>\n",
       "      <td>8</td>\n",
       "      <td>0</td>\n",
       "      <td>2</td>\n",
       "      <td>50</td>\n",
       "      <td>0.001744</td>\n",
       "      <td>0.000581</td>\n",
       "      <td>0.005814</td>\n",
       "      <td>0.000581</td>\n",
       "      <td>0.006977</td>\n",
       "      <td>0.013953</td>\n",
       "      <td>...</td>\n",
       "      <td>0.011628</td>\n",
       "      <td>0.010465</td>\n",
       "      <td>0.012791</td>\n",
       "      <td>0.070349</td>\n",
       "      <td>0.081977</td>\n",
       "      <td>0.014535</td>\n",
       "      <td>0.109884</td>\n",
       "      <td>0.034302</td>\n",
       "      <td>0.077907</td>\n",
       "      <td>0.045930</td>\n",
       "    </tr>\n",
       "    <tr>\n",
       "      <th>4</th>\n",
       "      <td>8</td>\n",
       "      <td>0</td>\n",
       "      <td>2</td>\n",
       "      <td>50</td>\n",
       "      <td>0.001744</td>\n",
       "      <td>0.000581</td>\n",
       "      <td>0.005814</td>\n",
       "      <td>0.000581</td>\n",
       "      <td>0.006977</td>\n",
       "      <td>0.013953</td>\n",
       "      <td>...</td>\n",
       "      <td>0.011628</td>\n",
       "      <td>0.010465</td>\n",
       "      <td>0.012791</td>\n",
       "      <td>0.070349</td>\n",
       "      <td>0.081977</td>\n",
       "      <td>0.014535</td>\n",
       "      <td>0.109884</td>\n",
       "      <td>0.034302</td>\n",
       "      <td>0.077907</td>\n",
       "      <td>0.045930</td>\n",
       "    </tr>\n",
       "  </tbody>\n",
       "</table>\n",
       "<p>5 rows × 42 columns</p>\n",
       "</div>"
      ],
      "text/plain": [
       "   VisitNumber  Weekday  ScanCount  DepartmentDescription  TripType_3  \\\n",
       "0            5        0         -1                     21    0.500699   \n",
       "1            7        0          1                     63    0.000984   \n",
       "2            7        0          1                     51    0.000953   \n",
       "3            8        0          2                     50    0.001744   \n",
       "4            8        0          2                     50    0.001744   \n",
       "\n",
       "   TripType_4  TripType_5  TripType_6  TripType_7  TripType_8      ...       \\\n",
       "0    0.000466    0.004663    0.001306    0.006062    0.000000      ...        \n",
       "1    0.000164    0.006558    0.002131    0.004755    0.008198      ...        \n",
       "2    0.000762    0.021969    0.001739    0.004908    0.063142      ...        \n",
       "3    0.000581    0.005814    0.000581    0.006977    0.013953      ...        \n",
       "4    0.000581    0.005814    0.000581    0.006977    0.013953      ...        \n",
       "\n",
       "   TripType_36  TripType_37  TripType_38  TripType_39  TripType_40  \\\n",
       "0     0.011564     0.011377     0.010072     0.041033     0.048774   \n",
       "1     0.013445     0.010985     0.006886     0.082145     0.087883   \n",
       "2     0.205747     0.016584     0.013987     0.193619     0.236150   \n",
       "3     0.011628     0.010465     0.012791     0.070349     0.081977   \n",
       "4     0.011628     0.010465     0.012791     0.070349     0.081977   \n",
       "\n",
       "   TripType_41  TripType_42  TripType_43  TripType_44  TripType_999  \n",
       "0     0.003637     0.011098     0.008580     0.012030      0.213466  \n",
       "1     0.055747     0.101492     0.018036     0.068208      0.048533  \n",
       "2     0.007768     0.020491     0.012462     0.044247      0.015654  \n",
       "3     0.014535     0.109884     0.034302     0.077907      0.045930  \n",
       "4     0.014535     0.109884     0.034302     0.077907      0.045930  \n",
       "\n",
       "[5 rows x 42 columns]"
      ]
     },
     "execution_count": 173,
     "metadata": {},
     "output_type": "execute_result"
    }
   ],
   "source": [
    "train_builded[:5]"
   ]
  },
  {
   "cell_type": "raw",
   "metadata": {
    "collapsed": false
   },
   "source": [
    "%%time\n",
    "train_builded = train_builded.reindex_axis(sorted(cols_tr), axis=1)\n",
    "test_builded = test_builded.reindex_axis(sorted(cols_tr), axis=1)"
   ]
  },
  {
   "cell_type": "markdown",
   "metadata": {},
   "source": [
    "#### Make grouped data "
   ]
  },
  {
   "cell_type": "code",
   "execution_count": 184,
   "metadata": {
    "collapsed": true
   },
   "outputs": [],
   "source": [
    "train_builded['Counter'] = 1\n",
    "test_builded['Counter'] = 1\n",
    "\n",
    "newcols = list(train_builded.columns)\n",
    "newcols.remove('DepartmentDescription')\n",
    "train_builded = train_builded[newcols]\n",
    "test_builded = test_builded[newcols]"
   ]
  },
  {
   "cell_type": "code",
   "execution_count": 185,
   "metadata": {
    "collapsed": false
   },
   "outputs": [
    {
     "data": {
      "text/html": [
       "<div>\n",
       "<table border=\"1\" class=\"dataframe\">\n",
       "  <thead>\n",
       "    <tr style=\"text-align: right;\">\n",
       "      <th></th>\n",
       "      <th>VisitNumber</th>\n",
       "      <th>Weekday</th>\n",
       "      <th>ScanCount</th>\n",
       "      <th>TripType_3</th>\n",
       "      <th>TripType_4</th>\n",
       "      <th>TripType_5</th>\n",
       "      <th>TripType_6</th>\n",
       "      <th>TripType_7</th>\n",
       "      <th>TripType_8</th>\n",
       "      <th>TripType_9</th>\n",
       "      <th>...</th>\n",
       "      <th>TripType_37</th>\n",
       "      <th>TripType_38</th>\n",
       "      <th>TripType_39</th>\n",
       "      <th>TripType_40</th>\n",
       "      <th>TripType_41</th>\n",
       "      <th>TripType_42</th>\n",
       "      <th>TripType_43</th>\n",
       "      <th>TripType_44</th>\n",
       "      <th>TripType_999</th>\n",
       "      <th>Counter</th>\n",
       "    </tr>\n",
       "  </thead>\n",
       "  <tbody>\n",
       "    <tr>\n",
       "      <th>0</th>\n",
       "      <td>5</td>\n",
       "      <td>0</td>\n",
       "      <td>-1</td>\n",
       "      <td>0.500699</td>\n",
       "      <td>0.000466</td>\n",
       "      <td>0.004663</td>\n",
       "      <td>0.001306</td>\n",
       "      <td>0.006062</td>\n",
       "      <td>0.000000</td>\n",
       "      <td>0.005689</td>\n",
       "      <td>...</td>\n",
       "      <td>0.011377</td>\n",
       "      <td>0.010072</td>\n",
       "      <td>0.041033</td>\n",
       "      <td>0.048774</td>\n",
       "      <td>0.003637</td>\n",
       "      <td>0.011098</td>\n",
       "      <td>0.008580</td>\n",
       "      <td>0.012030</td>\n",
       "      <td>0.213466</td>\n",
       "      <td>1</td>\n",
       "    </tr>\n",
       "    <tr>\n",
       "      <th>1</th>\n",
       "      <td>7</td>\n",
       "      <td>0</td>\n",
       "      <td>1</td>\n",
       "      <td>0.000984</td>\n",
       "      <td>0.000164</td>\n",
       "      <td>0.006558</td>\n",
       "      <td>0.002131</td>\n",
       "      <td>0.004755</td>\n",
       "      <td>0.008198</td>\n",
       "      <td>0.104279</td>\n",
       "      <td>...</td>\n",
       "      <td>0.010985</td>\n",
       "      <td>0.006886</td>\n",
       "      <td>0.082145</td>\n",
       "      <td>0.087883</td>\n",
       "      <td>0.055747</td>\n",
       "      <td>0.101492</td>\n",
       "      <td>0.018036</td>\n",
       "      <td>0.068208</td>\n",
       "      <td>0.048533</td>\n",
       "      <td>1</td>\n",
       "    </tr>\n",
       "    <tr>\n",
       "      <th>2</th>\n",
       "      <td>7</td>\n",
       "      <td>0</td>\n",
       "      <td>1</td>\n",
       "      <td>0.000953</td>\n",
       "      <td>0.000762</td>\n",
       "      <td>0.021969</td>\n",
       "      <td>0.001739</td>\n",
       "      <td>0.004908</td>\n",
       "      <td>0.063142</td>\n",
       "      <td>0.008173</td>\n",
       "      <td>...</td>\n",
       "      <td>0.016584</td>\n",
       "      <td>0.013987</td>\n",
       "      <td>0.193619</td>\n",
       "      <td>0.236150</td>\n",
       "      <td>0.007768</td>\n",
       "      <td>0.020491</td>\n",
       "      <td>0.012462</td>\n",
       "      <td>0.044247</td>\n",
       "      <td>0.015654</td>\n",
       "      <td>1</td>\n",
       "    </tr>\n",
       "  </tbody>\n",
       "</table>\n",
       "<p>3 rows × 42 columns</p>\n",
       "</div>"
      ],
      "text/plain": [
       "   VisitNumber  Weekday  ScanCount  TripType_3  TripType_4  TripType_5  \\\n",
       "0            5        0         -1    0.500699    0.000466    0.004663   \n",
       "1            7        0          1    0.000984    0.000164    0.006558   \n",
       "2            7        0          1    0.000953    0.000762    0.021969   \n",
       "\n",
       "   TripType_6  TripType_7  TripType_8  TripType_9   ...     TripType_37  \\\n",
       "0    0.001306    0.006062    0.000000    0.005689   ...        0.011377   \n",
       "1    0.002131    0.004755    0.008198    0.104279   ...        0.010985   \n",
       "2    0.001739    0.004908    0.063142    0.008173   ...        0.016584   \n",
       "\n",
       "   TripType_38  TripType_39  TripType_40  TripType_41  TripType_42  \\\n",
       "0     0.010072     0.041033     0.048774     0.003637     0.011098   \n",
       "1     0.006886     0.082145     0.087883     0.055747     0.101492   \n",
       "2     0.013987     0.193619     0.236150     0.007768     0.020491   \n",
       "\n",
       "   TripType_43  TripType_44  TripType_999  Counter  \n",
       "0     0.008580     0.012030      0.213466        1  \n",
       "1     0.018036     0.068208      0.048533        1  \n",
       "2     0.012462     0.044247      0.015654        1  \n",
       "\n",
       "[3 rows x 42 columns]"
      ]
     },
     "execution_count": 185,
     "metadata": {},
     "output_type": "execute_result"
    }
   ],
   "source": [
    "train_builded[:3]"
   ]
  },
  {
   "cell_type": "code",
   "execution_count": 187,
   "metadata": {
    "collapsed": false
   },
   "outputs": [
    {
     "name": "stdout",
     "output_type": "stream",
     "text": [
      "CPU times: user 1.08 s, sys: 452 ms, total: 1.53 s\n",
      "Wall time: 1.6 s\n"
     ]
    }
   ],
   "source": [
    "%%time\n",
    "train_grouped = train_builded.groupby(['VisitNumber', 'Weekday'], as_index=False).sum()\n",
    "test_grouped = test_builded.groupby(['VisitNumber', 'Weekday'], as_index=False).sum()"
   ]
  },
  {
   "cell_type": "code",
   "execution_count": 189,
   "metadata": {
    "collapsed": true
   },
   "outputs": [],
   "source": [
    "counts = train_grouped['Counter']\n",
    "train_grouped.drop(labels=['Counter'], axis=1,inplace = True)\n",
    "train_grouped.insert(0, 'Counter', counts)\n",
    "\n",
    "counts = test_grouped['Counter']\n",
    "test_grouped.drop(labels=['Counter'], axis=1,inplace = True)\n",
    "test_grouped.insert(0, 'Counter', counts)"
   ]
  },
  {
   "cell_type": "code",
   "execution_count": 190,
   "metadata": {
    "collapsed": false
   },
   "outputs": [
    {
     "data": {
      "text/html": [
       "<div>\n",
       "<table border=\"1\" class=\"dataframe\">\n",
       "  <thead>\n",
       "    <tr style=\"text-align: right;\">\n",
       "      <th></th>\n",
       "      <th>Counter</th>\n",
       "      <th>VisitNumber</th>\n",
       "      <th>Weekday</th>\n",
       "      <th>ScanCount</th>\n",
       "      <th>TripType_3</th>\n",
       "      <th>TripType_4</th>\n",
       "      <th>TripType_5</th>\n",
       "      <th>TripType_6</th>\n",
       "      <th>TripType_7</th>\n",
       "      <th>TripType_8</th>\n",
       "      <th>...</th>\n",
       "      <th>TripType_36</th>\n",
       "      <th>TripType_37</th>\n",
       "      <th>TripType_38</th>\n",
       "      <th>TripType_39</th>\n",
       "      <th>TripType_40</th>\n",
       "      <th>TripType_41</th>\n",
       "      <th>TripType_42</th>\n",
       "      <th>TripType_43</th>\n",
       "      <th>TripType_44</th>\n",
       "      <th>TripType_999</th>\n",
       "    </tr>\n",
       "  </thead>\n",
       "  <tbody>\n",
       "    <tr>\n",
       "      <th>0</th>\n",
       "      <td>1</td>\n",
       "      <td>5</td>\n",
       "      <td>0</td>\n",
       "      <td>-1</td>\n",
       "      <td>0.500699</td>\n",
       "      <td>0.000466</td>\n",
       "      <td>0.004663</td>\n",
       "      <td>0.001306</td>\n",
       "      <td>0.006062</td>\n",
       "      <td>0.000000</td>\n",
       "      <td>...</td>\n",
       "      <td>0.011564</td>\n",
       "      <td>0.011377</td>\n",
       "      <td>0.010072</td>\n",
       "      <td>0.041033</td>\n",
       "      <td>0.048774</td>\n",
       "      <td>0.003637</td>\n",
       "      <td>0.011098</td>\n",
       "      <td>0.008580</td>\n",
       "      <td>0.012030</td>\n",
       "      <td>0.213466</td>\n",
       "    </tr>\n",
       "    <tr>\n",
       "      <th>1</th>\n",
       "      <td>2</td>\n",
       "      <td>7</td>\n",
       "      <td>0</td>\n",
       "      <td>2</td>\n",
       "      <td>0.001937</td>\n",
       "      <td>0.000926</td>\n",
       "      <td>0.028527</td>\n",
       "      <td>0.003871</td>\n",
       "      <td>0.009663</td>\n",
       "      <td>0.071340</td>\n",
       "      <td>...</td>\n",
       "      <td>0.219192</td>\n",
       "      <td>0.027569</td>\n",
       "      <td>0.020873</td>\n",
       "      <td>0.275764</td>\n",
       "      <td>0.324034</td>\n",
       "      <td>0.063514</td>\n",
       "      <td>0.121983</td>\n",
       "      <td>0.030497</td>\n",
       "      <td>0.112455</td>\n",
       "      <td>0.064187</td>\n",
       "    </tr>\n",
       "    <tr>\n",
       "      <th>2</th>\n",
       "      <td>23</td>\n",
       "      <td>8</td>\n",
       "      <td>0</td>\n",
       "      <td>28</td>\n",
       "      <td>0.035301</td>\n",
       "      <td>0.012073</td>\n",
       "      <td>0.144358</td>\n",
       "      <td>0.029211</td>\n",
       "      <td>0.371744</td>\n",
       "      <td>0.538846</td>\n",
       "      <td>...</td>\n",
       "      <td>0.280678</td>\n",
       "      <td>0.690316</td>\n",
       "      <td>0.528986</td>\n",
       "      <td>2.199031</td>\n",
       "      <td>3.444934</td>\n",
       "      <td>0.267353</td>\n",
       "      <td>1.855940</td>\n",
       "      <td>0.600150</td>\n",
       "      <td>1.452755</td>\n",
       "      <td>0.981146</td>\n",
       "    </tr>\n",
       "    <tr>\n",
       "      <th>3</th>\n",
       "      <td>3</td>\n",
       "      <td>9</td>\n",
       "      <td>0</td>\n",
       "      <td>3</td>\n",
       "      <td>0.028863</td>\n",
       "      <td>0.003085</td>\n",
       "      <td>0.035097</td>\n",
       "      <td>0.013697</td>\n",
       "      <td>0.139349</td>\n",
       "      <td>0.163891</td>\n",
       "      <td>...</td>\n",
       "      <td>0.062126</td>\n",
       "      <td>0.550497</td>\n",
       "      <td>0.113776</td>\n",
       "      <td>0.396735</td>\n",
       "      <td>0.796591</td>\n",
       "      <td>0.014476</td>\n",
       "      <td>0.057619</td>\n",
       "      <td>0.024438</td>\n",
       "      <td>0.055311</td>\n",
       "      <td>0.057399</td>\n",
       "    </tr>\n",
       "  </tbody>\n",
       "</table>\n",
       "<p>4 rows × 42 columns</p>\n",
       "</div>"
      ],
      "text/plain": [
       "   Counter  VisitNumber  Weekday  ScanCount  TripType_3  TripType_4  \\\n",
       "0        1            5        0         -1    0.500699    0.000466   \n",
       "1        2            7        0          2    0.001937    0.000926   \n",
       "2       23            8        0         28    0.035301    0.012073   \n",
       "3        3            9        0          3    0.028863    0.003085   \n",
       "\n",
       "   TripType_5  TripType_6  TripType_7  TripType_8      ...       TripType_36  \\\n",
       "0    0.004663    0.001306    0.006062    0.000000      ...          0.011564   \n",
       "1    0.028527    0.003871    0.009663    0.071340      ...          0.219192   \n",
       "2    0.144358    0.029211    0.371744    0.538846      ...          0.280678   \n",
       "3    0.035097    0.013697    0.139349    0.163891      ...          0.062126   \n",
       "\n",
       "   TripType_37  TripType_38  TripType_39  TripType_40  TripType_41  \\\n",
       "0     0.011377     0.010072     0.041033     0.048774     0.003637   \n",
       "1     0.027569     0.020873     0.275764     0.324034     0.063514   \n",
       "2     0.690316     0.528986     2.199031     3.444934     0.267353   \n",
       "3     0.550497     0.113776     0.396735     0.796591     0.014476   \n",
       "\n",
       "   TripType_42  TripType_43  TripType_44  TripType_999  \n",
       "0     0.011098     0.008580     0.012030      0.213466  \n",
       "1     0.121983     0.030497     0.112455      0.064187  \n",
       "2     1.855940     0.600150     1.452755      0.981146  \n",
       "3     0.057619     0.024438     0.055311      0.057399  \n",
       "\n",
       "[4 rows x 42 columns]"
      ]
     },
     "execution_count": 190,
     "metadata": {},
     "output_type": "execute_result"
    }
   ],
   "source": [
    "train_grouped[:4]"
   ]
  },
  {
   "cell_type": "code",
   "execution_count": 199,
   "metadata": {
    "collapsed": false
   },
   "outputs": [
    {
     "ename": "MemoryError",
     "evalue": "",
     "output_type": "error",
     "traceback": [
      "\u001b[1;31m---------------------------------------------------------------------------\u001b[0m",
      "\u001b[1;31mMemoryError\u001b[0m                               Traceback (most recent call last)",
      "\u001b[1;32m<ipython-input-199-49e058f1a67d>\u001b[0m in \u001b[0;36m<module>\u001b[1;34m()\u001b[0m\n\u001b[1;32m----> 1\u001b[1;33m \u001b[0mtrain_grouped\u001b[0m\u001b[1;33m[\u001b[0m\u001b[0mtrain_grouped\u001b[0m\u001b[1;33m.\u001b[0m\u001b[0mcolumns\u001b[0m\u001b[1;33m[\u001b[0m\u001b[1;36m4\u001b[0m\u001b[1;33m:\u001b[0m\u001b[1;33m]\u001b[0m\u001b[1;33m]\u001b[0m \u001b[1;33m=\u001b[0m \u001b[0mtrain_grouped\u001b[0m\u001b[1;33m[\u001b[0m\u001b[0mtrain_grouped\u001b[0m\u001b[1;33m.\u001b[0m\u001b[0mcolumns\u001b[0m\u001b[1;33m[\u001b[0m\u001b[1;36m4\u001b[0m\u001b[1;33m:\u001b[0m\u001b[1;33m]\u001b[0m\u001b[1;33m]\u001b[0m \u001b[1;33m/\u001b[0m \u001b[0mtrain_grouped\u001b[0m\u001b[1;33m.\u001b[0m\u001b[0mCounter\u001b[0m\u001b[1;33m\u001b[0m\u001b[0m\n\u001b[0m",
      "\u001b[1;32m/usr/local/lib/python2.7/dist-packages/pandas/core/ops.pyc\u001b[0m in \u001b[0;36mf\u001b[1;34m(self, other, axis, level, fill_value)\u001b[0m\n\u001b[0;32m    887\u001b[0m             \u001b[1;32mreturn\u001b[0m \u001b[0mself\u001b[0m\u001b[1;33m.\u001b[0m\u001b[0m_combine_frame\u001b[0m\u001b[1;33m(\u001b[0m\u001b[0mother\u001b[0m\u001b[1;33m,\u001b[0m \u001b[0mna_op\u001b[0m\u001b[1;33m,\u001b[0m \u001b[0mfill_value\u001b[0m\u001b[1;33m,\u001b[0m \u001b[0mlevel\u001b[0m\u001b[1;33m)\u001b[0m\u001b[1;33m\u001b[0m\u001b[0m\n\u001b[0;32m    888\u001b[0m         \u001b[1;32melif\u001b[0m \u001b[0misinstance\u001b[0m\u001b[1;33m(\u001b[0m\u001b[0mother\u001b[0m\u001b[1;33m,\u001b[0m \u001b[0mpd\u001b[0m\u001b[1;33m.\u001b[0m\u001b[0mSeries\u001b[0m\u001b[1;33m)\u001b[0m\u001b[1;33m:\u001b[0m\u001b[1;33m\u001b[0m\u001b[0m\n\u001b[1;32m--> 889\u001b[1;33m             \u001b[1;32mreturn\u001b[0m \u001b[0mself\u001b[0m\u001b[1;33m.\u001b[0m\u001b[0m_combine_series\u001b[0m\u001b[1;33m(\u001b[0m\u001b[0mother\u001b[0m\u001b[1;33m,\u001b[0m \u001b[0mna_op\u001b[0m\u001b[1;33m,\u001b[0m \u001b[0mfill_value\u001b[0m\u001b[1;33m,\u001b[0m \u001b[0maxis\u001b[0m\u001b[1;33m,\u001b[0m \u001b[0mlevel\u001b[0m\u001b[1;33m)\u001b[0m\u001b[1;33m\u001b[0m\u001b[0m\n\u001b[0m\u001b[0;32m    890\u001b[0m         \u001b[1;32melif\u001b[0m \u001b[0misinstance\u001b[0m\u001b[1;33m(\u001b[0m\u001b[0mother\u001b[0m\u001b[1;33m,\u001b[0m \u001b[1;33m(\u001b[0m\u001b[0mlist\u001b[0m\u001b[1;33m,\u001b[0m \u001b[0mtuple\u001b[0m\u001b[1;33m)\u001b[0m\u001b[1;33m)\u001b[0m\u001b[1;33m:\u001b[0m\u001b[1;33m\u001b[0m\u001b[0m\n\u001b[0;32m    891\u001b[0m             \u001b[1;32mif\u001b[0m \u001b[0maxis\u001b[0m \u001b[1;32mis\u001b[0m \u001b[1;32mnot\u001b[0m \u001b[0mNone\u001b[0m \u001b[1;32mand\u001b[0m \u001b[0mself\u001b[0m\u001b[1;33m.\u001b[0m\u001b[0m_get_axis_name\u001b[0m\u001b[1;33m(\u001b[0m\u001b[0maxis\u001b[0m\u001b[1;33m)\u001b[0m \u001b[1;33m==\u001b[0m \u001b[1;34m'index'\u001b[0m\u001b[1;33m:\u001b[0m\u001b[1;33m\u001b[0m\u001b[0m\n",
      "\u001b[1;32m/usr/local/lib/python2.7/dist-packages/pandas/core/frame.pyc\u001b[0m in \u001b[0;36m_combine_series\u001b[1;34m(self, other, func, fill_value, axis, level)\u001b[0m\n\u001b[0;32m   3181\u001b[0m             \u001b[1;32melse\u001b[0m\u001b[1;33m:\u001b[0m\u001b[1;33m\u001b[0m\u001b[0m\n\u001b[0;32m   3182\u001b[0m                 \u001b[1;32mreturn\u001b[0m \u001b[0mself\u001b[0m\u001b[1;33m.\u001b[0m\u001b[0m_combine_match_columns\u001b[0m\u001b[1;33m(\u001b[0m\u001b[0mother\u001b[0m\u001b[1;33m,\u001b[0m \u001b[0mfunc\u001b[0m\u001b[1;33m,\u001b[0m \u001b[0mlevel\u001b[0m\u001b[1;33m=\u001b[0m\u001b[0mlevel\u001b[0m\u001b[1;33m,\u001b[0m \u001b[0mfill_value\u001b[0m\u001b[1;33m=\u001b[0m\u001b[0mfill_value\u001b[0m\u001b[1;33m)\u001b[0m\u001b[1;33m\u001b[0m\u001b[0m\n\u001b[1;32m-> 3183\u001b[1;33m         \u001b[1;32mreturn\u001b[0m \u001b[0mself\u001b[0m\u001b[1;33m.\u001b[0m\u001b[0m_combine_series_infer\u001b[0m\u001b[1;33m(\u001b[0m\u001b[0mother\u001b[0m\u001b[1;33m,\u001b[0m \u001b[0mfunc\u001b[0m\u001b[1;33m,\u001b[0m \u001b[0mlevel\u001b[0m\u001b[1;33m=\u001b[0m\u001b[0mlevel\u001b[0m\u001b[1;33m,\u001b[0m \u001b[0mfill_value\u001b[0m\u001b[1;33m=\u001b[0m\u001b[0mfill_value\u001b[0m\u001b[1;33m)\u001b[0m\u001b[1;33m\u001b[0m\u001b[0m\n\u001b[0m\u001b[0;32m   3184\u001b[0m \u001b[1;33m\u001b[0m\u001b[0m\n\u001b[0;32m   3185\u001b[0m     \u001b[1;32mdef\u001b[0m \u001b[0m_combine_series_infer\u001b[0m\u001b[1;33m(\u001b[0m\u001b[0mself\u001b[0m\u001b[1;33m,\u001b[0m \u001b[0mother\u001b[0m\u001b[1;33m,\u001b[0m \u001b[0mfunc\u001b[0m\u001b[1;33m,\u001b[0m \u001b[0mlevel\u001b[0m\u001b[1;33m=\u001b[0m\u001b[0mNone\u001b[0m\u001b[1;33m,\u001b[0m \u001b[0mfill_value\u001b[0m\u001b[1;33m=\u001b[0m\u001b[0mNone\u001b[0m\u001b[1;33m)\u001b[0m\u001b[1;33m:\u001b[0m\u001b[1;33m\u001b[0m\u001b[0m\n",
      "\u001b[1;32m/usr/local/lib/python2.7/dist-packages/pandas/core/frame.pyc\u001b[0m in \u001b[0;36m_combine_series_infer\u001b[1;34m(self, other, func, level, fill_value)\u001b[0m\n\u001b[0;32m   3201\u001b[0m             \u001b[1;32mreturn\u001b[0m \u001b[0mself\u001b[0m\u001b[1;33m.\u001b[0m\u001b[0m_combine_match_index\u001b[0m\u001b[1;33m(\u001b[0m\u001b[0mother\u001b[0m\u001b[1;33m,\u001b[0m \u001b[0mfunc\u001b[0m\u001b[1;33m,\u001b[0m \u001b[0mlevel\u001b[0m\u001b[1;33m=\u001b[0m\u001b[0mlevel\u001b[0m\u001b[1;33m,\u001b[0m \u001b[0mfill_value\u001b[0m\u001b[1;33m=\u001b[0m\u001b[0mfill_value\u001b[0m\u001b[1;33m)\u001b[0m\u001b[1;33m\u001b[0m\u001b[0m\n\u001b[0;32m   3202\u001b[0m         \u001b[1;32melse\u001b[0m\u001b[1;33m:\u001b[0m\u001b[1;33m\u001b[0m\u001b[0m\n\u001b[1;32m-> 3203\u001b[1;33m             \u001b[1;32mreturn\u001b[0m \u001b[0mself\u001b[0m\u001b[1;33m.\u001b[0m\u001b[0m_combine_match_columns\u001b[0m\u001b[1;33m(\u001b[0m\u001b[0mother\u001b[0m\u001b[1;33m,\u001b[0m \u001b[0mfunc\u001b[0m\u001b[1;33m,\u001b[0m \u001b[0mlevel\u001b[0m\u001b[1;33m=\u001b[0m\u001b[0mlevel\u001b[0m\u001b[1;33m,\u001b[0m \u001b[0mfill_value\u001b[0m\u001b[1;33m=\u001b[0m\u001b[0mfill_value\u001b[0m\u001b[1;33m)\u001b[0m\u001b[1;33m\u001b[0m\u001b[0m\n\u001b[0m\u001b[0;32m   3204\u001b[0m \u001b[1;33m\u001b[0m\u001b[0m\n\u001b[0;32m   3205\u001b[0m     \u001b[1;32mdef\u001b[0m \u001b[0m_combine_match_index\u001b[0m\u001b[1;33m(\u001b[0m\u001b[0mself\u001b[0m\u001b[1;33m,\u001b[0m \u001b[0mother\u001b[0m\u001b[1;33m,\u001b[0m \u001b[0mfunc\u001b[0m\u001b[1;33m,\u001b[0m \u001b[0mlevel\u001b[0m\u001b[1;33m=\u001b[0m\u001b[0mNone\u001b[0m\u001b[1;33m,\u001b[0m \u001b[0mfill_value\u001b[0m\u001b[1;33m=\u001b[0m\u001b[0mNone\u001b[0m\u001b[1;33m)\u001b[0m\u001b[1;33m:\u001b[0m\u001b[1;33m\u001b[0m\u001b[0m\n",
      "\u001b[1;32m/usr/local/lib/python2.7/dist-packages/pandas/core/frame.pyc\u001b[0m in \u001b[0;36m_combine_match_columns\u001b[1;34m(self, other, func, level, fill_value)\u001b[0m\n\u001b[0;32m   3213\u001b[0m \u001b[1;33m\u001b[0m\u001b[0m\n\u001b[0;32m   3214\u001b[0m     \u001b[1;32mdef\u001b[0m \u001b[0m_combine_match_columns\u001b[0m\u001b[1;33m(\u001b[0m\u001b[0mself\u001b[0m\u001b[1;33m,\u001b[0m \u001b[0mother\u001b[0m\u001b[1;33m,\u001b[0m \u001b[0mfunc\u001b[0m\u001b[1;33m,\u001b[0m \u001b[0mlevel\u001b[0m\u001b[1;33m=\u001b[0m\u001b[0mNone\u001b[0m\u001b[1;33m,\u001b[0m \u001b[0mfill_value\u001b[0m\u001b[1;33m=\u001b[0m\u001b[0mNone\u001b[0m\u001b[1;33m)\u001b[0m\u001b[1;33m:\u001b[0m\u001b[1;33m\u001b[0m\u001b[0m\n\u001b[1;32m-> 3215\u001b[1;33m         \u001b[0mleft\u001b[0m\u001b[1;33m,\u001b[0m \u001b[0mright\u001b[0m \u001b[1;33m=\u001b[0m \u001b[0mself\u001b[0m\u001b[1;33m.\u001b[0m\u001b[0malign\u001b[0m\u001b[1;33m(\u001b[0m\u001b[0mother\u001b[0m\u001b[1;33m,\u001b[0m \u001b[0mjoin\u001b[0m\u001b[1;33m=\u001b[0m\u001b[1;34m'outer'\u001b[0m\u001b[1;33m,\u001b[0m \u001b[0maxis\u001b[0m\u001b[1;33m=\u001b[0m\u001b[1;36m1\u001b[0m\u001b[1;33m,\u001b[0m \u001b[0mlevel\u001b[0m\u001b[1;33m=\u001b[0m\u001b[0mlevel\u001b[0m\u001b[1;33m,\u001b[0m \u001b[0mcopy\u001b[0m\u001b[1;33m=\u001b[0m\u001b[0mFalse\u001b[0m\u001b[1;33m)\u001b[0m\u001b[1;33m\u001b[0m\u001b[0m\n\u001b[0m\u001b[0;32m   3216\u001b[0m         \u001b[1;32mif\u001b[0m \u001b[0mfill_value\u001b[0m \u001b[1;32mis\u001b[0m \u001b[1;32mnot\u001b[0m \u001b[0mNone\u001b[0m\u001b[1;33m:\u001b[0m\u001b[1;33m\u001b[0m\u001b[0m\n\u001b[0;32m   3217\u001b[0m             raise NotImplementedError(\"fill_value %r not supported\" %\n",
      "\u001b[1;32m/usr/local/lib/python2.7/dist-packages/pandas/core/generic.pyc\u001b[0m in \u001b[0;36malign\u001b[1;34m(self, other, join, axis, level, copy, fill_value, method, limit, fill_axis)\u001b[0m\n\u001b[0;32m   3377\u001b[0m                                       \u001b[0mcopy\u001b[0m\u001b[1;33m=\u001b[0m\u001b[0mcopy\u001b[0m\u001b[1;33m,\u001b[0m \u001b[0mfill_value\u001b[0m\u001b[1;33m=\u001b[0m\u001b[0mfill_value\u001b[0m\u001b[1;33m,\u001b[0m\u001b[1;33m\u001b[0m\u001b[0m\n\u001b[0;32m   3378\u001b[0m                                       \u001b[0mmethod\u001b[0m\u001b[1;33m=\u001b[0m\u001b[0mmethod\u001b[0m\u001b[1;33m,\u001b[0m \u001b[0mlimit\u001b[0m\u001b[1;33m=\u001b[0m\u001b[0mlimit\u001b[0m\u001b[1;33m,\u001b[0m\u001b[1;33m\u001b[0m\u001b[0m\n\u001b[1;32m-> 3379\u001b[1;33m                                       fill_axis=fill_axis)\n\u001b[0m\u001b[0;32m   3380\u001b[0m         \u001b[1;32melse\u001b[0m\u001b[1;33m:\u001b[0m  \u001b[1;31m# pragma: no cover\u001b[0m\u001b[1;33m\u001b[0m\u001b[0m\n\u001b[0;32m   3381\u001b[0m             \u001b[1;32mraise\u001b[0m \u001b[0mTypeError\u001b[0m\u001b[1;33m(\u001b[0m\u001b[1;34m'unsupported type: %s'\u001b[0m \u001b[1;33m%\u001b[0m \u001b[0mtype\u001b[0m\u001b[1;33m(\u001b[0m\u001b[0mother\u001b[0m\u001b[1;33m)\u001b[0m\u001b[1;33m)\u001b[0m\u001b[1;33m\u001b[0m\u001b[0m\n",
      "\u001b[1;32m/usr/local/lib/python2.7/dist-packages/pandas/core/generic.pyc\u001b[0m in \u001b[0;36m_align_series\u001b[1;34m(self, other, join, axis, level, copy, fill_value, method, limit, fill_axis)\u001b[0m\n\u001b[0;32m   3461\u001b[0m \u001b[1;33m\u001b[0m\u001b[0m\n\u001b[0;32m   3462\u001b[0m                 \u001b[1;32mif\u001b[0m \u001b[0mlidx\u001b[0m \u001b[1;32mis\u001b[0m \u001b[1;32mnot\u001b[0m \u001b[0mNone\u001b[0m\u001b[1;33m:\u001b[0m\u001b[1;33m\u001b[0m\u001b[0m\n\u001b[1;32m-> 3463\u001b[1;33m                     \u001b[0mfdata\u001b[0m \u001b[1;33m=\u001b[0m \u001b[0mfdata\u001b[0m\u001b[1;33m.\u001b[0m\u001b[0mreindex_indexer\u001b[0m\u001b[1;33m(\u001b[0m\u001b[0mjoin_index\u001b[0m\u001b[1;33m,\u001b[0m \u001b[0mlidx\u001b[0m\u001b[1;33m,\u001b[0m \u001b[0maxis\u001b[0m\u001b[1;33m=\u001b[0m\u001b[1;36m0\u001b[0m\u001b[1;33m)\u001b[0m\u001b[1;33m\u001b[0m\u001b[0m\n\u001b[0m\u001b[0;32m   3464\u001b[0m             \u001b[1;32melse\u001b[0m\u001b[1;33m:\u001b[0m\u001b[1;33m\u001b[0m\u001b[0m\n\u001b[0;32m   3465\u001b[0m                 \u001b[1;32mraise\u001b[0m \u001b[0mValueError\u001b[0m\u001b[1;33m(\u001b[0m\u001b[1;34m'Must specify axis=0 or 1'\u001b[0m\u001b[1;33m)\u001b[0m\u001b[1;33m\u001b[0m\u001b[0m\n",
      "\u001b[1;32m/usr/local/lib/python2.7/dist-packages/pandas/core/internals.pyc\u001b[0m in \u001b[0;36mreindex_indexer\u001b[1;34m(self, new_axis, indexer, axis, fill_value, allow_dups, copy)\u001b[0m\n\u001b[0;32m   3155\u001b[0m         \u001b[1;32mif\u001b[0m \u001b[0maxis\u001b[0m \u001b[1;33m==\u001b[0m \u001b[1;36m0\u001b[0m\u001b[1;33m:\u001b[0m\u001b[1;33m\u001b[0m\u001b[0m\n\u001b[0;32m   3156\u001b[0m             new_blocks = self._slice_take_blocks_ax0(\n\u001b[1;32m-> 3157\u001b[1;33m                 indexer, fill_tuple=(fill_value,))\n\u001b[0m\u001b[0;32m   3158\u001b[0m         \u001b[1;32melse\u001b[0m\u001b[1;33m:\u001b[0m\u001b[1;33m\u001b[0m\u001b[0m\n\u001b[0;32m   3159\u001b[0m             new_blocks = [blk.take_nd(indexer, axis=axis,\n",
      "\u001b[1;32m/usr/local/lib/python2.7/dist-packages/pandas/core/internals.pyc\u001b[0m in \u001b[0;36m_slice_take_blocks_ax0\u001b[1;34m(self, slice_or_indexer, fill_tuple)\u001b[0m\n\u001b[0;32m   3220\u001b[0m \u001b[1;33m\u001b[0m\u001b[0m\n\u001b[0;32m   3221\u001b[0m                 blocks.append(self._make_na_block(\n\u001b[1;32m-> 3222\u001b[1;33m                     placement=mgr_locs, fill_value=fill_value))\n\u001b[0m\u001b[0;32m   3223\u001b[0m             \u001b[1;32melse\u001b[0m\u001b[1;33m:\u001b[0m\u001b[1;33m\u001b[0m\u001b[0m\n\u001b[0;32m   3224\u001b[0m                 \u001b[0mblk\u001b[0m \u001b[1;33m=\u001b[0m \u001b[0mself\u001b[0m\u001b[1;33m.\u001b[0m\u001b[0mblocks\u001b[0m\u001b[1;33m[\u001b[0m\u001b[0mblkno\u001b[0m\u001b[1;33m]\u001b[0m\u001b[1;33m\u001b[0m\u001b[0m\n",
      "\u001b[1;32m/usr/local/lib/python2.7/dist-packages/pandas/core/internals.pyc\u001b[0m in \u001b[0;36m_make_na_block\u001b[1;34m(self, placement, fill_value)\u001b[0m\n\u001b[0;32m   3249\u001b[0m \u001b[1;33m\u001b[0m\u001b[0m\n\u001b[0;32m   3250\u001b[0m         \u001b[0mdtype\u001b[0m\u001b[1;33m,\u001b[0m \u001b[0mfill_value\u001b[0m \u001b[1;33m=\u001b[0m \u001b[0mcom\u001b[0m\u001b[1;33m.\u001b[0m\u001b[0m_infer_dtype_from_scalar\u001b[0m\u001b[1;33m(\u001b[0m\u001b[0mfill_value\u001b[0m\u001b[1;33m)\u001b[0m\u001b[1;33m\u001b[0m\u001b[0m\n\u001b[1;32m-> 3251\u001b[1;33m         \u001b[0mblock_values\u001b[0m \u001b[1;33m=\u001b[0m \u001b[0mnp\u001b[0m\u001b[1;33m.\u001b[0m\u001b[0mempty\u001b[0m\u001b[1;33m(\u001b[0m\u001b[0mblock_shape\u001b[0m\u001b[1;33m,\u001b[0m \u001b[0mdtype\u001b[0m\u001b[1;33m=\u001b[0m\u001b[0mdtype\u001b[0m\u001b[1;33m)\u001b[0m\u001b[1;33m\u001b[0m\u001b[0m\n\u001b[0m\u001b[0;32m   3252\u001b[0m         \u001b[0mblock_values\u001b[0m\u001b[1;33m.\u001b[0m\u001b[0mfill\u001b[0m\u001b[1;33m(\u001b[0m\u001b[0mfill_value\u001b[0m\u001b[1;33m)\u001b[0m\u001b[1;33m\u001b[0m\u001b[0m\n\u001b[0;32m   3253\u001b[0m         \u001b[1;32mreturn\u001b[0m \u001b[0mmake_block\u001b[0m\u001b[1;33m(\u001b[0m\u001b[0mblock_values\u001b[0m\u001b[1;33m,\u001b[0m \u001b[0mplacement\u001b[0m\u001b[1;33m=\u001b[0m\u001b[0mplacement\u001b[0m\u001b[1;33m)\u001b[0m\u001b[1;33m\u001b[0m\u001b[0m\n",
      "\u001b[1;31mMemoryError\u001b[0m: "
     ]
    }
   ],
   "source": [
    "train_grouped[train_grouped.columns[4:]] = train_grouped[train_grouped.columns[4:]] / train_grouped.Counter"
   ]
  },
  {
   "cell_type": "markdown",
   "metadata": {},
   "source": [
    "## 3. Cross Validation "
   ]
  },
  {
   "cell_type": "code",
   "execution_count": 99,
   "metadata": {
    "collapsed": true
   },
   "outputs": [],
   "source": [
    "xtrain = train_grouped[train_grouped.columns[2:]]\n",
    "ytrain = train_grouped.TripType\n",
    "# xtest = test_grouped[test_grouped.columns[2:]]"
   ]
  },
  {
   "cell_type": "code",
   "execution_count": 100,
   "metadata": {
    "collapsed": true
   },
   "outputs": [],
   "source": [
    "def multiclass_log_loss(y_true, y_pred, eps=1e-15):\n",
    "    classes = np.sort(train.TripType.unique())\n",
    "    Y_true = y_true.apply(lambda x: np.where(classes==x)[0][0]).values\n",
    "    predictions = np.clip(y_pred, eps, 1 - eps)\n",
    "\n",
    "    # normalize row sums to 1\n",
    "    predictions /= predictions.sum(axis=1)[:, np.newaxis]\n",
    "\n",
    "    actual = np.zeros(y_pred.shape)\n",
    "    rows = actual.shape[0]\n",
    "    actual[np.arange(rows), Y_true.astype(int)] = 1\n",
    "    vsota = np.sum(actual * np.log(predictions))\n",
    "    return -1.0 / rows * vsota"
   ]
  },
  {
   "cell_type": "markdown",
   "metadata": {},
   "source": [
    "#### 3.1b. Try Random Forest"
   ]
  },
  {
   "cell_type": "code",
   "execution_count": 101,
   "metadata": {
    "collapsed": false
   },
   "outputs": [
    {
     "name": "stdout",
     "output_type": "stream",
     "text": [
      "CPU times: user 192 ms, sys: 4 ms, total: 196 ms\n",
      "Wall time: 202 ms\n"
     ]
    }
   ],
   "source": [
    "%%time\n",
    "from sklearn.cross_validation import train_test_split\n",
    "\n",
    "xtr, xcv, ytr, ycv = train_test_split(xtrain, ytrain, test_size = 0.052,  random_state = 42)"
   ]
  },
  {
   "cell_type": "code",
   "execution_count": 102,
   "metadata": {
    "collapsed": false
   },
   "outputs": [
    {
     "name": "stdout",
     "output_type": "stream",
     "text": [
      "CPU times: user 1min 9s, sys: 1.21 s, total: 1min 11s\n",
      "Wall time: 28.9 s\n"
     ]
    }
   ],
   "source": [
    "%%time\n",
    "from sklearn.ensemble import RandomForestClassifier\n",
    "\n",
    "rf = RandomForestClassifier(\n",
    "    n_estimators=100,\n",
    "#     max_depth=10,\n",
    "#     max_features=17,\n",
    "    n_jobs=3,\n",
    "    oob_score=True\n",
    ")\n",
    "rf.fit(xtr, ytr)"
   ]
  },
  {
   "cell_type": "code",
   "execution_count": 103,
   "metadata": {
    "collapsed": false
   },
   "outputs": [
    {
     "name": "stdout",
     "output_type": "stream",
     "text": [
      "1.65725816178\n"
     ]
    }
   ],
   "source": [
    "predictionRF_train = rf.predict_proba(xcv)\n",
    "print multiclass_log_loss(ycv, predictionRF_train)"
   ]
  },
  {
   "cell_type": "code",
   "execution_count": 25,
   "metadata": {
    "collapsed": false
   },
   "outputs": [],
   "source": [
    "predictionRF_test = rf.predict_proba(xtest)"
   ]
  },
  {
   "cell_type": "markdown",
   "metadata": {},
   "source": [
    "#### 2. Try XGBoost multiclass (gbtree)"
   ]
  },
  {
   "cell_type": "code",
   "execution_count": 58,
   "metadata": {
    "collapsed": false
   },
   "outputs": [],
   "source": [
    "# Set params\n",
    "\n",
    "params = {\"objective\": \"multi:softprob\",\n",
    "          \"booster\": \"gbtree\",\n",
    "          \"eta\": 0.2,\n",
    "          \"max_depth\": 12,\n",
    "          \"subsample\": 0.9,\n",
    "          \"colsample_bytree\": 0.7,\n",
    "          \"silent\": 1,\n",
    "          \"num_class\": 38,\n",
    "          \"eval_metric\": 'mlogloss'\n",
    "          }\n",
    "num_trees = 30\n",
    "stop = 20"
   ]
  },
  {
   "cell_type": "code",
   "execution_count": 59,
   "metadata": {
    "collapsed": true
   },
   "outputs": [],
   "source": [
    "labels = np.sort(ytrain.unique())"
   ]
  },
  {
   "cell_type": "code",
   "execution_count": 60,
   "metadata": {
    "collapsed": false
   },
   "outputs": [],
   "source": [
    "ytr_labeled = pd.Series([np.where(labels==x)[0][0] for x in ytr])\n",
    "ycv_labeled = pd.Series([np.where(labels==x)[0][0] for x in ycv])"
   ]
  },
  {
   "cell_type": "code",
   "execution_count": 61,
   "metadata": {
    "collapsed": false,
    "scrolled": true
   },
   "outputs": [
    {
     "name": "stderr",
     "output_type": "stream",
     "text": [
      "Will train until train error hasn't decreased in 20 rounds.\n",
      "[0]\teval-mlogloss:2.575728\ttrain-mlogloss:2.531678\n",
      "[1]\teval-mlogloss:2.123851\ttrain-mlogloss:2.059191\n",
      "[2]\teval-mlogloss:1.892758\ttrain-mlogloss:1.804875\n",
      "[3]\teval-mlogloss:1.734165\ttrain-mlogloss:1.628652\n",
      "[4]\teval-mlogloss:1.618486\ttrain-mlogloss:1.498755\n",
      "[5]\teval-mlogloss:1.521860\ttrain-mlogloss:1.388196\n",
      "[6]\teval-mlogloss:1.443562\ttrain-mlogloss:1.297639\n",
      "[7]\teval-mlogloss:1.380058\ttrain-mlogloss:1.222997\n",
      "[8]\teval-mlogloss:1.323348\ttrain-mlogloss:1.155505\n",
      "[9]\teval-mlogloss:1.276912\ttrain-mlogloss:1.097176\n",
      "[10]\teval-mlogloss:1.237518\ttrain-mlogloss:1.047907\n",
      "[11]\teval-mlogloss:1.199751\ttrain-mlogloss:1.002025\n",
      "[12]\teval-mlogloss:1.170364\ttrain-mlogloss:0.964045\n",
      "[13]\teval-mlogloss:1.141127\ttrain-mlogloss:0.925700\n",
      "[14]\teval-mlogloss:1.118379\ttrain-mlogloss:0.895007\n",
      "[15]\teval-mlogloss:1.098366\ttrain-mlogloss:0.867117\n",
      "[16]\teval-mlogloss:1.079650\ttrain-mlogloss:0.840764\n",
      "[17]\teval-mlogloss:1.063020\ttrain-mlogloss:0.815802\n",
      "[18]\teval-mlogloss:1.048020\ttrain-mlogloss:0.794737\n",
      "[19]\teval-mlogloss:1.034287\ttrain-mlogloss:0.774574\n",
      "[20]\teval-mlogloss:1.021533\ttrain-mlogloss:0.756377\n",
      "[21]\teval-mlogloss:1.011995\ttrain-mlogloss:0.741104\n",
      "[22]\teval-mlogloss:1.004393\ttrain-mlogloss:0.726634\n",
      "[23]\teval-mlogloss:0.995010\ttrain-mlogloss:0.711537\n",
      "[24]\teval-mlogloss:0.987315\ttrain-mlogloss:0.698437\n",
      "[25]\teval-mlogloss:0.980511\ttrain-mlogloss:0.686640\n",
      "[26]\teval-mlogloss:0.973611\ttrain-mlogloss:0.674813\n",
      "[27]\teval-mlogloss:0.967911\ttrain-mlogloss:0.663697\n",
      "[28]\teval-mlogloss:0.963341\ttrain-mlogloss:0.654067\n",
      "[29]\teval-mlogloss:0.958587\ttrain-mlogloss:0.644131\n"
     ]
    }
   ],
   "source": [
    "import xgboost as xgb\n",
    "from sklearn.cross_validation import train_test_split\n",
    "\n",
    "dtrain = xgb.DMatrix(xtr.values, label=ytr_labeled)\n",
    "dvalid = xgb.DMatrix(xcv.values, label=ycv_labeled)\n",
    "watchlist = [(dvalid, 'eval'), (dtrain, 'train')]\n",
    "gbm = xgb.train(params, dtrain, num_trees, evals=watchlist, early_stopping_rounds=stop, verbose_eval=True)"
   ]
  },
  {
   "cell_type": "code",
   "execution_count": 190,
   "metadata": {
    "collapsed": false
   },
   "outputs": [],
   "source": [
    "dcv = xgb.DMatrix(xcv.values)\n",
    "XGB1 = gbm.predict(dcv)\n",
    "indices = XGB1 < 0\n",
    "XGB1[indices] = 0"
   ]
  },
  {
   "cell_type": "code",
   "execution_count": 191,
   "metadata": {
    "collapsed": false
   },
   "outputs": [
    {
     "data": {
      "text/plain": [
       "0.63641752444569921"
      ]
     },
     "execution_count": 191,
     "metadata": {},
     "output_type": "execute_result"
    }
   ],
   "source": [
    "multiclass_log_loss(ycv, XGB1)"
   ]
  },
  {
   "cell_type": "markdown",
   "metadata": {},
   "source": [
    "**The best score is:** 0.45266287447996978"
   ]
  },
  {
   "cell_type": "markdown",
   "metadata": {},
   "source": [
    "## 5. Predict classes probabilities"
   ]
  },
  {
   "cell_type": "markdown",
   "metadata": {},
   "source": [
    "#### Prepare submit with LR "
   ]
  },
  {
   "cell_type": "code",
   "execution_count": 216,
   "metadata": {
    "collapsed": false
   },
   "outputs": [],
   "source": [
    "rf.fit(train_stacked_grouped[cv_columns_tr], train_stacked_grouped.TripType)\n",
    "predictionRF = rf.predict_proba(test_stacked_grouped[cv_columns_te])"
   ]
  },
  {
   "cell_type": "code",
   "execution_count": 217,
   "metadata": {
    "collapsed": false
   },
   "outputs": [],
   "source": [
    "submit_XGB = predictionRF\n",
    "#test_stacked_grouped[:3]"
   ]
  },
  {
   "cell_type": "markdown",
   "metadata": {},
   "source": [
    "#### With XGBoost"
   ]
  },
  {
   "cell_type": "code",
   "execution_count": 50,
   "metadata": {
    "collapsed": false
   },
   "outputs": [],
   "source": [
    "dtest = xgb.DMatrix(test_stacked_grouped[cv_columns_te].as_matrix())\n",
    "predictionXGB = gbm.predict(dtest)\n",
    "indices = predictionXGB < 0\n",
    "predictionXGB[indices] = 0"
   ]
  },
  {
   "cell_type": "code",
   "execution_count": 51,
   "metadata": {
    "collapsed": false
   },
   "outputs": [],
   "source": [
    "submit_XGB = predictionXGB"
   ]
  },
  {
   "cell_type": "code",
   "execution_count": 52,
   "metadata": {
    "collapsed": false
   },
   "outputs": [
    {
     "data": {
      "text/plain": [
       "array([[  1.64106523e-03,   1.30538503e-03,   1.37398229e-03, ...,\n",
       "          1.74849585e-03,   1.49152183e-03,   1.07993763e-02],\n",
       "       [  1.00550351e-04,   9.42308543e-05,   9.79431061e-05, ...,\n",
       "          1.39050113e-04,   1.05309147e-04,   1.89659011e-04],\n",
       "       [  4.80866984e-05,   4.82663418e-05,   5.00364113e-05, ...,\n",
       "          4.78701841e-05,   4.76965142e-05,   9.98090565e-01],\n",
       "       ..., \n",
       "       [  1.03858393e-03,   1.03626784e-03,   1.06251438e-03, ...,\n",
       "          1.03483291e-03,   1.03107875e-03,   1.03711940e-01],\n",
       "       [  4.93862433e-04,   5.00966038e-04,   5.21119975e-04, ...,\n",
       "          1.05963531e-03,   1.96996005e-03,   6.51085167e-04],\n",
       "       [  5.03390438e-05,   5.16264081e-05,   5.40690926e-05, ...,\n",
       "          8.16527972e-05,   7.47916711e-05,   8.40847642e-05]], dtype=float32)"
      ]
     },
     "execution_count": 52,
     "metadata": {},
     "output_type": "execute_result"
    }
   ],
   "source": [
    "submit_XGB"
   ]
  },
  {
   "cell_type": "markdown",
   "metadata": {},
   "source": [
    "## 5. Submit probas "
   ]
  },
  {
   "cell_type": "code",
   "execution_count": 53,
   "metadata": {
    "collapsed": false
   },
   "outputs": [],
   "source": [
    "cl_names = ['VisitNumber']\n",
    "for cls in rf.classes_:\n",
    "    cl_names.append('TripType_' + str(int(cls)))"
   ]
  },
  {
   "cell_type": "code",
   "execution_count": 54,
   "metadata": {
    "collapsed": false
   },
   "outputs": [
    {
     "data": {
      "text/html": [
       "<div>\n",
       "<table border=\"1\" class=\"dataframe\">\n",
       "  <thead>\n",
       "    <tr style=\"text-align: right;\">\n",
       "      <th></th>\n",
       "      <th>VisitNumber</th>\n",
       "      <th>TripType_3</th>\n",
       "      <th>TripType_4</th>\n",
       "      <th>TripType_5</th>\n",
       "      <th>TripType_6</th>\n",
       "      <th>TripType_7</th>\n",
       "      <th>TripType_8</th>\n",
       "      <th>TripType_9</th>\n",
       "      <th>TripType_12</th>\n",
       "      <th>TripType_14</th>\n",
       "      <th>...</th>\n",
       "      <th>TripType_36</th>\n",
       "      <th>TripType_37</th>\n",
       "      <th>TripType_38</th>\n",
       "      <th>TripType_39</th>\n",
       "      <th>TripType_40</th>\n",
       "      <th>TripType_41</th>\n",
       "      <th>TripType_42</th>\n",
       "      <th>TripType_43</th>\n",
       "      <th>TripType_44</th>\n",
       "      <th>TripType_999</th>\n",
       "    </tr>\n",
       "  </thead>\n",
       "  <tbody>\n",
       "    <tr>\n",
       "      <th>0</th>\n",
       "      <td>1</td>\n",
       "      <td>0.001641</td>\n",
       "      <td>0.001305</td>\n",
       "      <td>0.001374</td>\n",
       "      <td>0.001411</td>\n",
       "      <td>0.003621</td>\n",
       "      <td>0.003603</td>\n",
       "      <td>0.002000</td>\n",
       "      <td>0.001282</td>\n",
       "      <td>0.001255</td>\n",
       "      <td>...</td>\n",
       "      <td>0.001380</td>\n",
       "      <td>0.001620</td>\n",
       "      <td>0.816814</td>\n",
       "      <td>0.002736</td>\n",
       "      <td>0.001812</td>\n",
       "      <td>0.001567</td>\n",
       "      <td>0.001990</td>\n",
       "      <td>0.001748</td>\n",
       "      <td>0.001492</td>\n",
       "      <td>0.010799</td>\n",
       "    </tr>\n",
       "    <tr>\n",
       "      <th>1</th>\n",
       "      <td>2</td>\n",
       "      <td>0.000101</td>\n",
       "      <td>0.000094</td>\n",
       "      <td>0.000098</td>\n",
       "      <td>0.000128</td>\n",
       "      <td>0.000231</td>\n",
       "      <td>0.000301</td>\n",
       "      <td>0.000190</td>\n",
       "      <td>0.000101</td>\n",
       "      <td>0.000087</td>\n",
       "      <td>...</td>\n",
       "      <td>0.000147</td>\n",
       "      <td>0.000124</td>\n",
       "      <td>0.000100</td>\n",
       "      <td>0.000148</td>\n",
       "      <td>0.000106</td>\n",
       "      <td>0.000093</td>\n",
       "      <td>0.000101</td>\n",
       "      <td>0.000139</td>\n",
       "      <td>0.000105</td>\n",
       "      <td>0.000190</td>\n",
       "    </tr>\n",
       "    <tr>\n",
       "      <th>2</th>\n",
       "      <td>3</td>\n",
       "      <td>0.000048</td>\n",
       "      <td>0.000048</td>\n",
       "      <td>0.000050</td>\n",
       "      <td>0.000049</td>\n",
       "      <td>0.000056</td>\n",
       "      <td>0.000089</td>\n",
       "      <td>0.000061</td>\n",
       "      <td>0.000049</td>\n",
       "      <td>0.000048</td>\n",
       "      <td>...</td>\n",
       "      <td>0.000086</td>\n",
       "      <td>0.000049</td>\n",
       "      <td>0.000048</td>\n",
       "      <td>0.000048</td>\n",
       "      <td>0.000049</td>\n",
       "      <td>0.000048</td>\n",
       "      <td>0.000048</td>\n",
       "      <td>0.000048</td>\n",
       "      <td>0.000048</td>\n",
       "      <td>0.998091</td>\n",
       "    </tr>\n",
       "    <tr>\n",
       "      <th>3</th>\n",
       "      <td>4</td>\n",
       "      <td>0.000421</td>\n",
       "      <td>0.000423</td>\n",
       "      <td>0.000481</td>\n",
       "      <td>0.000431</td>\n",
       "      <td>0.000496</td>\n",
       "      <td>0.000510</td>\n",
       "      <td>0.836410</td>\n",
       "      <td>0.000429</td>\n",
       "      <td>0.000522</td>\n",
       "      <td>...</td>\n",
       "      <td>0.000430</td>\n",
       "      <td>0.000427</td>\n",
       "      <td>0.000436</td>\n",
       "      <td>0.000429</td>\n",
       "      <td>0.000430</td>\n",
       "      <td>0.000424</td>\n",
       "      <td>0.000455</td>\n",
       "      <td>0.000423</td>\n",
       "      <td>0.000458</td>\n",
       "      <td>0.075559</td>\n",
       "    </tr>\n",
       "    <tr>\n",
       "      <th>4</th>\n",
       "      <td>6</td>\n",
       "      <td>0.000048</td>\n",
       "      <td>0.000048</td>\n",
       "      <td>0.000050</td>\n",
       "      <td>0.000049</td>\n",
       "      <td>0.000055</td>\n",
       "      <td>0.000089</td>\n",
       "      <td>0.000061</td>\n",
       "      <td>0.000049</td>\n",
       "      <td>0.000048</td>\n",
       "      <td>...</td>\n",
       "      <td>0.000049</td>\n",
       "      <td>0.000049</td>\n",
       "      <td>0.000048</td>\n",
       "      <td>0.000048</td>\n",
       "      <td>0.000049</td>\n",
       "      <td>0.000048</td>\n",
       "      <td>0.000048</td>\n",
       "      <td>0.000048</td>\n",
       "      <td>0.000056</td>\n",
       "      <td>0.998081</td>\n",
       "    </tr>\n",
       "  </tbody>\n",
       "</table>\n",
       "<p>5 rows × 39 columns</p>\n",
       "</div>"
      ],
      "text/plain": [
       "   VisitNumber  TripType_3  TripType_4  TripType_5  TripType_6  TripType_7  \\\n",
       "0            1    0.001641    0.001305    0.001374    0.001411    0.003621   \n",
       "1            2    0.000101    0.000094    0.000098    0.000128    0.000231   \n",
       "2            3    0.000048    0.000048    0.000050    0.000049    0.000056   \n",
       "3            4    0.000421    0.000423    0.000481    0.000431    0.000496   \n",
       "4            6    0.000048    0.000048    0.000050    0.000049    0.000055   \n",
       "\n",
       "   TripType_8  TripType_9  TripType_12  TripType_14      ...       \\\n",
       "0    0.003603    0.002000     0.001282     0.001255      ...        \n",
       "1    0.000301    0.000190     0.000101     0.000087      ...        \n",
       "2    0.000089    0.000061     0.000049     0.000048      ...        \n",
       "3    0.000510    0.836410     0.000429     0.000522      ...        \n",
       "4    0.000089    0.000061     0.000049     0.000048      ...        \n",
       "\n",
       "   TripType_36  TripType_37  TripType_38  TripType_39  TripType_40  \\\n",
       "0     0.001380     0.001620     0.816814     0.002736     0.001812   \n",
       "1     0.000147     0.000124     0.000100     0.000148     0.000106   \n",
       "2     0.000086     0.000049     0.000048     0.000048     0.000049   \n",
       "3     0.000430     0.000427     0.000436     0.000429     0.000430   \n",
       "4     0.000049     0.000049     0.000048     0.000048     0.000049   \n",
       "\n",
       "   TripType_41  TripType_42  TripType_43  TripType_44  TripType_999  \n",
       "0     0.001567     0.001990     0.001748     0.001492      0.010799  \n",
       "1     0.000093     0.000101     0.000139     0.000105      0.000190  \n",
       "2     0.000048     0.000048     0.000048     0.000048      0.998091  \n",
       "3     0.000424     0.000455     0.000423     0.000458      0.075559  \n",
       "4     0.000048     0.000048     0.000048     0.000056      0.998081  \n",
       "\n",
       "[5 rows x 39 columns]"
      ]
     },
     "execution_count": 54,
     "metadata": {},
     "output_type": "execute_result"
    }
   ],
   "source": [
    "submit = pd.DataFrame(columns=cl_names)\n",
    "submit['VisitNumber'] = test_stacked_grouped['VisitNumber']\n",
    "submit[cl_names[1:]] = submit_XGB\n",
    "submit[:5]"
   ]
  },
  {
   "cell_type": "code",
   "execution_count": 55,
   "metadata": {
    "collapsed": true
   },
   "outputs": [],
   "source": [
    "submit.to_csv('submit.csv', index=False)"
   ]
  },
  {
   "cell_type": "code",
   "execution_count": null,
   "metadata": {
    "collapsed": true
   },
   "outputs": [],
   "source": []
  }
 ],
 "metadata": {
  "kernelspec": {
   "display_name": "Python 2",
   "language": "python",
   "name": "python2"
  },
  "language_info": {
   "codemirror_mode": {
    "name": "ipython",
    "version": 2
   },
   "file_extension": ".py",
   "mimetype": "text/x-python",
   "name": "python",
   "nbconvert_exporter": "python",
   "pygments_lexer": "ipython2",
   "version": "2.7.6"
  }
 },
 "nbformat": 4,
 "nbformat_minor": 0
}
