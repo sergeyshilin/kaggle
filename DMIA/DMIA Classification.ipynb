{
 "cells": [
  {
   "cell_type": "code",
   "execution_count": 1,
   "metadata": {
    "collapsed": true
   },
   "outputs": [],
   "source": [
    "import sys\n",
    "reload(sys)\n",
    "sys.setdefaultencoding(\"utf-8\")"
   ]
  },
  {
   "cell_type": "code",
   "execution_count": 2,
   "metadata": {
    "collapsed": true
   },
   "outputs": [],
   "source": [
    "%matplotlib inline\n",
    "import numpy as np\n",
    "import pandas as pd\n",
    "import matplotlib.pyplot as plt\n",
    "import itertools"
   ]
  },
  {
   "cell_type": "markdown",
   "metadata": {},
   "source": [
    "## 1. Get the Data "
   ]
  },
  {
   "cell_type": "code",
   "execution_count": 3,
   "metadata": {
    "collapsed": false
   },
   "outputs": [],
   "source": [
    "train = pd.read_csv('data/train.csv', names=['Word', 'Label'])\n",
    "test = pd.read_csv('data/test.csv', names=['Word'])"
   ]
  },
  {
   "cell_type": "markdown",
   "metadata": {},
   "source": [
    "## 2. Feature Engineering"
   ]
  },
  {
   "cell_type": "code",
   "execution_count": 4,
   "metadata": {
    "collapsed": true
   },
   "outputs": [],
   "source": [
    "surname_endings = [\n",
    "    \"ба\", \"уа\", \"ипа\", \"заде\", \"ли\",\"лы\", \"оглу\", \"кызы\", \"ян\", \\\n",
    "    \"янц\", \"уни\", \"ич\", \"ов\", \"ук\", \"ик\", \"ски\", \"ка\", \"ев\", \"ов\",\\\n",
    "    \"огло\", \"пулос\", \"кос\", \"иди\", \"швили\", \"дзе\", \"ури\", \"иа\",\\\n",
    "    \"уа\", \"ава\" \"ли\", \"си\", \"ни\", \"ини\", \"те\", \"ис\", \"не\", \\\n",
    "    \"ску\", \"ан\", \"ул\", \"ын\", \"ин\", \"шкин\", \"кин\", \"ман\", \"ер\"\\\n",
    "    \"ти\", \"ски\", \"цки\", \"дзки\", \"ских\", \"ич\", \"джи\", \"оглу\", \"ин\",\\\n",
    "    \"ишин\", \"ко\", \"ук\" \"юк\", \"ун\", \"ний\" \"ный\", \"чай\", \"ий\",\\\n",
    "    \"ский\", \"цкий\", \"ская\", \"цкая\"\n",
    "]\n",
    "\n",
    "# surname_endings = ['шкин']\n",
    "\n",
    "for i, el in enumerate(surname_endings):\n",
    "    surname_endings[i] = \".*\" + surname_endings[i] + \".?.?$\""
   ]
  },
  {
   "cell_type": "code",
   "execution_count": 5,
   "metadata": {
    "collapsed": true
   },
   "outputs": [],
   "source": [
    "labels_for_remove = []"
   ]
  },
  {
   "cell_type": "code",
   "execution_count": 6,
   "metadata": {
    "collapsed": true
   },
   "outputs": [],
   "source": [
    "import re\n",
    "\n",
    "def countDoubles(word):\n",
    "    l = [let for let in word.lower()]\n",
    "    return len([(x,y) for x,y in itertools.izip(l, l[1:]) if x == y])\n",
    "\n",
    "def build_features(data):\n",
    "    for i, substr in enumerate(surname_endings):\n",
    "        data['has_re_end_{}'.format(i)] = data['Word'].apply(lambda x: re.match(substr, x, re.UNICODE) is not None)\n",
    "        labels_for_remove.append('has_re_end_{}'.format(i))\n",
    "    \n",
    "    for i, substr in enumerate(['^Дж.*']):\n",
    "        data['has_start_Dj{}'.format(i)] = data['Word'].apply(lambda x: re.match(substr, x, re.UNICODE) is not None)\n",
    "        \n",
    "    data['Word'] = data['Word'].apply(lambda word: word.decode('utf-8'))\n",
    "    data['Length'] = data['Word'].apply(lambda word: len(word))\n",
    "    \n",
    "    vowels = [ 'а',  'я', 'ё', 'у','е', 'о', 'э', 'ю', 'и', 'ы', 'Ё', 'У', 'Е', 'Ы','А', 'О', 'Э', 'Ю', 'И', 'Я' ]\n",
    "    vowels = [let.decode('utf-8') for let in vowels]\n",
    "    data['Vowels'] = data['Word'].apply(lambda word: len([letter for letter in word if letter in vowels]))\n",
    "    data['Consonants'] = data['Length'] - data['Vowels']\n",
    "    \n",
    "    data['is_lower'] = data['Word'].apply(lambda word: int( word[0] >= 'а'.decode('utf-8')))\n",
    "    \n",
    "    data['Double'] = data['Word'].apply(lambda word: countDoubles(word))\n",
    "    data['Caps'] = data['Word'].apply(lambda x: x.upper() == x)\n",
    "    data['Frac_vowels'] = data['Vowels'].apply(float) / data['Length']\n",
    "    for i, substr in enumerate(['сон', 'ы', 'э', 'щ', 'ъ', 'й', 'ф']):\n",
    "        s = substr.decode('utf-8')\n",
    "        data['has_{}'.format(i)] = data['Word'].apply(lambda x: x.find(s) >= 0)\n",
    "        \n",
    "    data.fillna(0)"
   ]
  },
  {
   "cell_type": "code",
   "execution_count": 7,
   "metadata": {
    "collapsed": false
   },
   "outputs": [],
   "source": [
    "build_features(train)\n",
    "build_features(test)"
   ]
  },
  {
   "cell_type": "code",
   "execution_count": 8,
   "metadata": {
    "collapsed": false
   },
   "outputs": [],
   "source": [
    "train['Ends'] = train[labels_for_remove].sum(axis=1).apply(lambda x: x > 0)\n",
    "test['Ends'] = test[labels_for_remove].sum(axis=1).apply(lambda x: x > 0)"
   ]
  },
  {
   "cell_type": "markdown",
   "metadata": {},
   "source": [
    "### N-gramms"
   ]
  },
  {
   "cell_type": "code",
   "execution_count": 5,
   "metadata": {
    "collapsed": false
   },
   "outputs": [],
   "source": [
    "import marisa_trie\n",
    "from sklearn.feature_extraction.text import CountVectorizer\n",
    "from sklearn.externals import six\n",
    "\n",
    "class MarisaCountVectorizer(CountVectorizer):\n",
    "\n",
    "    # ``CountVectorizer.fit`` method calls ``fit_transform`` so\n",
    "    # ``fit`` is not provided\n",
    "    def fit_transform(self, raw_documents, y=None):\n",
    "        X = super(MarisaCountVectorizer, self).fit_transform(raw_documents)\n",
    "        X = self._freeze_vocabulary(X)\n",
    "        return X\n",
    "\n",
    "    def _freeze_vocabulary(self, X=None):\n",
    "        if not self.fixed_vocabulary_:\n",
    "            frozen = marisa_trie.Trie(six.iterkeys(self.vocabulary_))\n",
    "            if X is not None:\n",
    "                X = self._reorder_features(X, self.vocabulary_, frozen)\n",
    "            self.vocabulary_ = frozen\n",
    "            self.fixed_vocabulary_ = True\n",
    "            del self.stop_words_\n",
    "        return X\n",
    "\n",
    "    def _reorder_features(self, X, old_vocabulary, new_vocabulary):\n",
    "        map_index = np.empty(len(old_vocabulary), dtype=np.int32)\n",
    "        for term, new_val in six.iteritems(new_vocabulary):\n",
    "            map_index[new_val] = old_vocabulary[term]\n",
    "        return X[:, map_index]"
   ]
  },
  {
   "cell_type": "code",
   "execution_count": 301,
   "metadata": {
    "collapsed": false
   },
   "outputs": [],
   "source": [
    "ngram_vectorizer = MarisaCountVectorizer(\n",
    "    analyzer='char_wb', \n",
    "    ngram_range=(2, 6), \n",
    "    min_df=1, \n",
    "    max_features=250000,\n",
    "    lowercase=False\n",
    ") \n",
    "ngram_train = ngram_vectorizer.fit_transform(train.Word)\n",
    "ngram_test = ngram_vectorizer.transform(test.Word)"
   ]
  },
  {
   "cell_type": "code",
   "execution_count": 270,
   "metadata": {
    "collapsed": false
   },
   "outputs": [
    {
     "data": {
      "text/plain": [
       "(101408, 250000)"
      ]
     },
     "execution_count": 270,
     "metadata": {},
     "output_type": "execute_result"
    }
   ],
   "source": [
    "ngram_train.shape"
   ]
  },
  {
   "cell_type": "code",
   "execution_count": 271,
   "metadata": {
    "collapsed": false
   },
   "outputs": [
    {
     "data": {
      "text/html": [
       "<div>\n",
       "<table border=\"1\" class=\"dataframe\">\n",
       "  <thead>\n",
       "    <tr style=\"text-align: right;\">\n",
       "      <th></th>\n",
       "      <th>Word</th>\n",
       "      <th>Label</th>\n",
       "    </tr>\n",
       "  </thead>\n",
       "  <tbody>\n",
       "    <tr>\n",
       "      <th>0</th>\n",
       "      <td>Аалтонен</td>\n",
       "      <td>1</td>\n",
       "    </tr>\n",
       "    <tr>\n",
       "      <th>1</th>\n",
       "      <td>Аар</td>\n",
       "      <td>0</td>\n",
       "    </tr>\n",
       "    <tr>\n",
       "      <th>2</th>\n",
       "      <td>Аарон</td>\n",
       "      <td>0</td>\n",
       "    </tr>\n",
       "    <tr>\n",
       "      <th>3</th>\n",
       "      <td>ААРОН</td>\n",
       "      <td>0</td>\n",
       "    </tr>\n",
       "    <tr>\n",
       "      <th>4</th>\n",
       "      <td>Аарона</td>\n",
       "      <td>0</td>\n",
       "    </tr>\n",
       "  </tbody>\n",
       "</table>\n",
       "</div>"
      ],
      "text/plain": [
       "       Word  Label\n",
       "0  Аалтонен      1\n",
       "1       Аар      0\n",
       "2     Аарон      0\n",
       "3     ААРОН      0\n",
       "4    Аарона      0"
      ]
     },
     "execution_count": 271,
     "metadata": {},
     "output_type": "execute_result"
    }
   ],
   "source": [
    "train[['Word', 'Label']][:5]"
   ]
  },
  {
   "cell_type": "markdown",
   "metadata": {},
   "source": [
    "## 3. Cross validation "
   ]
  },
  {
   "cell_type": "code",
   "execution_count": 272,
   "metadata": {
    "collapsed": false
   },
   "outputs": [],
   "source": [
    "from sklearn.cross_validation import train_test_split\n",
    "\n",
    "xtrain, xcv, ytrain, ycv = train_test_split(ngram_train, train['Label'], test_size = 0.1,  random_state = 10)"
   ]
  },
  {
   "cell_type": "markdown",
   "metadata": {},
   "source": [
    "#### a) Try Logistic Regression "
   ]
  },
  {
   "cell_type": "code",
   "execution_count": 332,
   "metadata": {
    "collapsed": false
   },
   "outputs": [],
   "source": [
    "from sklearn.linear_model import LogisticRegression\n",
    "\n",
    "lr = LogisticRegression(\n",
    "    penalty='l2',\n",
    "    C=0.45,\n",
    "    fit_intercept=False,\n",
    "    solver='lbfgs',\n",
    "    multi_class='ovr'\n",
    ")\n",
    "\n",
    "lr.fit(xtrain, ytrain)\n",
    "predictionLR = lr.predict_proba(xcv)"
   ]
  },
  {
   "cell_type": "code",
   "execution_count": 333,
   "metadata": {
    "collapsed": false
   },
   "outputs": [
    {
     "data": {
      "text/plain": [
       "0.92774537770233123"
      ]
     },
     "execution_count": 333,
     "metadata": {},
     "output_type": "execute_result"
    }
   ],
   "source": [
    "from sklearn.metrics import roc_auc_score\n",
    "\n",
    "roc_auc_score(ycv, predictionLR[:,1])"
   ]
  },
  {
   "cell_type": "markdown",
   "metadata": {},
   "source": [
    "The best is: 0.92774537770233123"
   ]
  },
  {
   "cell_type": "markdown",
   "metadata": {},
   "source": [
    "#### b) Try Random Forest "
   ]
  },
  {
   "cell_type": "code",
   "execution_count": 313,
   "metadata": {
    "collapsed": false
   },
   "outputs": [
    {
     "data": {
      "text/plain": [
       "0.85567480931027162"
      ]
     },
     "execution_count": 313,
     "metadata": {},
     "output_type": "execute_result"
    }
   ],
   "source": [
    "from sklearn.ensemble import RandomForestClassifier\n",
    "\n",
    "rf = RandomForestClassifier(n_estimators = 10)\n",
    "rf.fit(xtrain, ytrain)\n",
    "predictionRF = rf.predict_proba(xcv)\n",
    "\n",
    "roc_auc_score(ycv, predictionRF[:,1])"
   ]
  },
  {
   "cell_type": "markdown",
   "metadata": {},
   "source": [
    "## 4. Make prediction "
   ]
  },
  {
   "cell_type": "code",
   "execution_count": 302,
   "metadata": {
    "collapsed": false
   },
   "outputs": [],
   "source": [
    "lr = LogisticRegression(\n",
    "    penalty='l2',\n",
    "    C=0.45,\n",
    "    fit_intercept=False,\n",
    "    random_state=42,\n",
    "    solver='lbfgs',\n",
    "    multi_class='ovr'\n",
    ")\n",
    "\n",
    "lr.fit(ngram_train, train['Label'])\n",
    "submitLR = lr.predict_proba(ngram_test)"
   ]
  },
  {
   "cell_type": "code",
   "execution_count": 303,
   "metadata": {
    "collapsed": false,
    "scrolled": true
   },
   "outputs": [
    {
     "data": {
      "text/html": [
       "<div>\n",
       "<table border=\"1\" class=\"dataframe\">\n",
       "  <thead>\n",
       "    <tr style=\"text-align: right;\">\n",
       "      <th></th>\n",
       "      <th>Id</th>\n",
       "      <th>Answer</th>\n",
       "    </tr>\n",
       "  </thead>\n",
       "  <tbody>\n",
       "    <tr>\n",
       "      <th>0</th>\n",
       "      <td>0</td>\n",
       "      <td>0.431873</td>\n",
       "    </tr>\n",
       "    <tr>\n",
       "      <th>1</th>\n",
       "      <td>1</td>\n",
       "      <td>0.318784</td>\n",
       "    </tr>\n",
       "    <tr>\n",
       "      <th>2</th>\n",
       "      <td>2</td>\n",
       "      <td>0.170162</td>\n",
       "    </tr>\n",
       "    <tr>\n",
       "      <th>3</th>\n",
       "      <td>3</td>\n",
       "      <td>0.079178</td>\n",
       "    </tr>\n",
       "    <tr>\n",
       "      <th>4</th>\n",
       "      <td>4</td>\n",
       "      <td>0.168515</td>\n",
       "    </tr>\n",
       "  </tbody>\n",
       "</table>\n",
       "</div>"
      ],
      "text/plain": [
       "   Id    Answer\n",
       "0   0  0.431873\n",
       "1   1  0.318784\n",
       "2   2  0.170162\n",
       "3   3  0.079178\n",
       "4   4  0.168515"
      ]
     },
     "execution_count": 303,
     "metadata": {},
     "output_type": "execute_result"
    }
   ],
   "source": [
    "submit = pd.DataFrame()\n",
    "submit['Id'] = xrange(len(test))\n",
    "submit['Answer'] = submitLR[:, 1]\n",
    "submit[:5]"
   ]
  },
  {
   "cell_type": "code",
   "execution_count": 306,
   "metadata": {
    "collapsed": true
   },
   "outputs": [],
   "source": [
    "submit.to_csv('submit.csv', index = False)"
   ]
  },
  {
   "cell_type": "code",
   "execution_count": null,
   "metadata": {
    "collapsed": true
   },
   "outputs": [],
   "source": []
  }
 ],
 "metadata": {
  "kernelspec": {
   "display_name": "Python 2",
   "language": "python",
   "name": "python2"
  },
  "language_info": {
   "codemirror_mode": {
    "name": "ipython",
    "version": 2
   },
   "file_extension": ".py",
   "mimetype": "text/x-python",
   "name": "python",
   "nbconvert_exporter": "python",
   "pygments_lexer": "ipython2",
   "version": "2.7.6"
  }
 },
 "nbformat": 4,
 "nbformat_minor": 0
}
