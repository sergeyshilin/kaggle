{
 "cells": [
  {
   "cell_type": "code",
   "execution_count": 2,
   "metadata": {
    "collapsed": true
   },
   "outputs": [],
   "source": [
    "import pandas as pd\n",
    "import numpy as np"
   ]
  },
  {
   "cell_type": "markdown",
   "metadata": {},
   "source": [
    "### Read the data"
   ]
  },
  {
   "cell_type": "code",
   "execution_count": 39,
   "metadata": {
    "collapsed": false
   },
   "outputs": [],
   "source": [
    "train = pd.read_csv('data/train.csv')\n",
    "test = pd.read_csv('data/test.csv')"
   ]
  },
  {
   "cell_type": "code",
   "execution_count": 40,
   "metadata": {
    "collapsed": false
   },
   "outputs": [
    {
     "name": "stdout",
     "output_type": "stream",
     "text": [
      "(114321, 133)\n",
      "(114393, 132)\n"
     ]
    }
   ],
   "source": [
    "print train.shape\n",
    "print test.shape"
   ]
  },
  {
   "cell_type": "code",
   "execution_count": 41,
   "metadata": {
    "collapsed": false
   },
   "outputs": [
    {
     "data": {
      "text/html": [
       "<div>\n",
       "<table border=\"1\" class=\"dataframe\">\n",
       "  <thead>\n",
       "    <tr style=\"text-align: right;\">\n",
       "      <th></th>\n",
       "      <th>ID</th>\n",
       "      <th>target</th>\n",
       "      <th>v1</th>\n",
       "      <th>v2</th>\n",
       "      <th>v3</th>\n",
       "      <th>v4</th>\n",
       "      <th>v5</th>\n",
       "      <th>v6</th>\n",
       "      <th>v7</th>\n",
       "      <th>v8</th>\n",
       "      <th>...</th>\n",
       "      <th>v122</th>\n",
       "      <th>v123</th>\n",
       "      <th>v124</th>\n",
       "      <th>v125</th>\n",
       "      <th>v126</th>\n",
       "      <th>v127</th>\n",
       "      <th>v128</th>\n",
       "      <th>v129</th>\n",
       "      <th>v130</th>\n",
       "      <th>v131</th>\n",
       "    </tr>\n",
       "  </thead>\n",
       "  <tbody>\n",
       "    <tr>\n",
       "      <th>0</th>\n",
       "      <td>3</td>\n",
       "      <td>1</td>\n",
       "      <td>1.335739</td>\n",
       "      <td>8.727474</td>\n",
       "      <td>C</td>\n",
       "      <td>3.921026</td>\n",
       "      <td>7.915266</td>\n",
       "      <td>2.599278</td>\n",
       "      <td>3.176895</td>\n",
       "      <td>0.012941</td>\n",
       "      <td>...</td>\n",
       "      <td>8.000000</td>\n",
       "      <td>1.989780</td>\n",
       "      <td>0.035754</td>\n",
       "      <td>AU</td>\n",
       "      <td>1.804126</td>\n",
       "      <td>3.113719</td>\n",
       "      <td>2.024285</td>\n",
       "      <td>0</td>\n",
       "      <td>0.636365</td>\n",
       "      <td>2.857144</td>\n",
       "    </tr>\n",
       "    <tr>\n",
       "      <th>1</th>\n",
       "      <td>4</td>\n",
       "      <td>1</td>\n",
       "      <td>NaN</td>\n",
       "      <td>NaN</td>\n",
       "      <td>C</td>\n",
       "      <td>NaN</td>\n",
       "      <td>9.191265</td>\n",
       "      <td>NaN</td>\n",
       "      <td>NaN</td>\n",
       "      <td>2.301630</td>\n",
       "      <td>...</td>\n",
       "      <td>NaN</td>\n",
       "      <td>NaN</td>\n",
       "      <td>0.598896</td>\n",
       "      <td>AF</td>\n",
       "      <td>NaN</td>\n",
       "      <td>NaN</td>\n",
       "      <td>1.957825</td>\n",
       "      <td>0</td>\n",
       "      <td>NaN</td>\n",
       "      <td>NaN</td>\n",
       "    </tr>\n",
       "    <tr>\n",
       "      <th>2</th>\n",
       "      <td>5</td>\n",
       "      <td>1</td>\n",
       "      <td>0.943877</td>\n",
       "      <td>5.310079</td>\n",
       "      <td>C</td>\n",
       "      <td>4.410969</td>\n",
       "      <td>5.326159</td>\n",
       "      <td>3.979592</td>\n",
       "      <td>3.928571</td>\n",
       "      <td>0.019645</td>\n",
       "      <td>...</td>\n",
       "      <td>9.333333</td>\n",
       "      <td>2.477596</td>\n",
       "      <td>0.013452</td>\n",
       "      <td>AE</td>\n",
       "      <td>1.773709</td>\n",
       "      <td>3.922193</td>\n",
       "      <td>1.120468</td>\n",
       "      <td>2</td>\n",
       "      <td>0.883118</td>\n",
       "      <td>1.176472</td>\n",
       "    </tr>\n",
       "  </tbody>\n",
       "</table>\n",
       "<p>3 rows × 133 columns</p>\n",
       "</div>"
      ],
      "text/plain": [
       "   ID  target        v1        v2 v3        v4        v5        v6        v7  \\\n",
       "0   3       1  1.335739  8.727474  C  3.921026  7.915266  2.599278  3.176895   \n",
       "1   4       1       NaN       NaN  C       NaN  9.191265       NaN       NaN   \n",
       "2   5       1  0.943877  5.310079  C  4.410969  5.326159  3.979592  3.928571   \n",
       "\n",
       "         v8    ...         v122      v123      v124  v125      v126      v127  \\\n",
       "0  0.012941    ...     8.000000  1.989780  0.035754    AU  1.804126  3.113719   \n",
       "1  2.301630    ...          NaN       NaN  0.598896    AF       NaN       NaN   \n",
       "2  0.019645    ...     9.333333  2.477596  0.013452    AE  1.773709  3.922193   \n",
       "\n",
       "       v128  v129      v130      v131  \n",
       "0  2.024285     0  0.636365  2.857144  \n",
       "1  1.957825     0       NaN       NaN  \n",
       "2  1.120468     2  0.883118  1.176472  \n",
       "\n",
       "[3 rows x 133 columns]"
      ]
     },
     "execution_count": 41,
     "metadata": {},
     "output_type": "execute_result"
    }
   ],
   "source": [
    "train[:3]"
   ]
  },
  {
   "cell_type": "markdown",
   "metadata": {},
   "source": [
    "### Prepare the data"
   ]
  },
  {
   "cell_type": "code",
   "execution_count": 42,
   "metadata": {
    "collapsed": true
   },
   "outputs": [],
   "source": [
    "def prepare_features(data):\n",
    "    data['NaNCount'] = data.isnull().sum(axis=1)\n",
    "    data.fillna(-1, inplace=True)"
   ]
  },
  {
   "cell_type": "code",
   "execution_count": 43,
   "metadata": {
    "collapsed": false
   },
   "outputs": [],
   "source": [
    "prepare_features(train)\n",
    "prepare_features(test)"
   ]
  },
  {
   "cell_type": "code",
   "execution_count": 44,
   "metadata": {
    "collapsed": false
   },
   "outputs": [],
   "source": [
    "# Replace labels with floats\n",
    "from sklearn.preprocessing import LabelEncoder\n",
    "lbl_enc = LabelEncoder()\n",
    "\n",
    "for f in test.columns:\n",
    "    if train[f].dtype=='object':\n",
    "        lbl_enc.fit(list(train[f])+list(test[f]))\n",
    "        train[f] = lbl_enc.transform(list(train[f].values))\n",
    "        test[f] = lbl_enc.transform(list(test[f].values))"
   ]
  },
  {
   "cell_type": "markdown",
   "metadata": {},
   "source": [
    "### Try Random Forest "
   ]
  },
  {
   "cell_type": "code",
   "execution_count": 34,
   "metadata": {
    "collapsed": false
   },
   "outputs": [],
   "source": [
    "train.target = train.target.apply(lambda x: 0.999 if x == 1 else 0.001)"
   ]
  },
  {
   "cell_type": "code",
   "execution_count": 45,
   "metadata": {
    "collapsed": true
   },
   "outputs": [],
   "source": [
    "from sklearn.cross_validation import train_test_split\n",
    "x_tr, x_cv, y_tr, y_cv = train_test_split(train[test.columns], train.target, test_size = 0.05,  random_state = 42)"
   ]
  },
  {
   "cell_type": "code",
   "execution_count": 46,
   "metadata": {
    "collapsed": false
   },
   "outputs": [
    {
     "name": "stdout",
     "output_type": "stream",
     "text": [
      "Wall time: 1min 9s\n"
     ]
    }
   ],
   "source": [
    "%%time\n",
    "from sklearn.ensemble import RandomForestRegressor\n",
    "\n",
    "rf = RandomForestRegressor(\n",
    "    n_estimators=25,\n",
    "    max_depth=10,\n",
    "    n_jobs=3,\n",
    "    random_state=42,\n",
    "    oob_score=True\n",
    ")\n",
    "rf.fit(x_tr, y_tr)"
   ]
  },
  {
   "cell_type": "code",
   "execution_count": 48,
   "metadata": {
    "collapsed": false
   },
   "outputs": [
    {
     "data": {
      "text/plain": [
       "0.46744541977734927"
      ]
     },
     "execution_count": 48,
     "metadata": {},
     "output_type": "execute_result"
    }
   ],
   "source": [
    "from sklearn.metrics import log_loss\n",
    "pred_RF = rf.predict(x_cv)\n",
    "log_loss(y_cv, pred_RF)"
   ]
  },
  {
   "cell_type": "code",
   "execution_count": 49,
   "metadata": {
    "collapsed": false
   },
   "outputs": [
    {
     "data": {
      "text/plain": [
       "array([ 0.98407463,  0.85708072,  0.28018602,  0.92764624,  0.91947151,\n",
       "        0.69316745,  0.76303922,  0.97515948,  0.85550994,  0.88023081])"
      ]
     },
     "execution_count": 49,
     "metadata": {},
     "output_type": "execute_result"
    }
   ],
   "source": [
    "pred_RF[:10]"
   ]
  },
  {
   "cell_type": "markdown",
   "metadata": {},
   "source": [
    "The best: 0.46744541977734927"
   ]
  },
  {
   "cell_type": "code",
   "execution_count": 50,
   "metadata": {
    "collapsed": false
   },
   "outputs": [],
   "source": [
    "%matplotlib inline\n",
    "import matplotlib as mpl\n",
    "import pylab as plt\n",
    "import scipy"
   ]
  },
  {
   "cell_type": "code",
   "execution_count": 51,
   "metadata": {
    "collapsed": false
   },
   "outputs": [
    {
     "name": "stdout",
     "output_type": "stream",
     "text": [
      "Feature ranking:\n"
     ]
    },
    {
     "name": "stderr",
     "output_type": "stream",
     "text": [
      "C:\\Program Files\\Anaconda\\lib\\site-packages\\matplotlib\\figure.py:387: UserWarning: matplotlib is currently using a non-GUI backend, so cannot show the figure\n",
      "  \"matplotlib is currently using a non-GUI backend, \"\n"
     ]
    },
    {
     "data": {
      "image/png": "[encoded data removed]",
      "text/plain": [
       "<matplotlib.figure.Figure at 0x13d906d8>"
      ]
     },
     "metadata": {},
     "output_type": "display_data"
    }
   ],
   "source": [
    "# Show feature importances\n",
    "importances = rf.feature_importances_\n",
    "low_value = 0.010\n",
    "# std = np.std([tree.feature_importances_ for tree in clf.estimators_], axis=0)\n",
    "indices = np.argsort(importances)[::-1]\n",
    "inds = [i for i in indices if importances[i] > low_value]\n",
    "\n",
    "print(\"Feature ranking:\")\n",
    "\n",
    "labels = [list(test.columns)[i] for i in indices.tolist() if importances[i] > low_value]\n",
    "x = scipy.array(xrange(len(inds)))\n",
    "y = scipy.array(importances[inds])\n",
    "f = plt.figure(figsize=(12,5))\n",
    "ax = f.add_axes([1, 1, 1, 1])\n",
    "ax.bar(x, y, align='center')\n",
    "ax.set_xticks(x)\n",
    "ax.set_xticklabels(labels, rotation=90)\n",
    "f.show()"
   ]
  },
  {
   "cell_type": "markdown",
   "metadata": {},
   "source": [
    "### Submit RF "
   ]
  },
  {
   "cell_type": "code",
   "execution_count": 52,
   "metadata": {
    "collapsed": true
   },
   "outputs": [],
   "source": [
    "RF = rf.predict(test)"
   ]
  },
  {
   "cell_type": "code",
   "execution_count": 54,
   "metadata": {
    "collapsed": true
   },
   "outputs": [],
   "source": [
    "submit = pd.read_csv('data/sample_submission.csv')\n",
    "submit.PredictedProb = RF\n",
    "submit.to_csv('submit.csv', index=False)"
   ]
  },
  {
   "cell_type": "markdown",
   "metadata": {},
   "source": [
    "### Try XGB "
   ]
  },
  {
   "cell_type": "code",
   "execution_count": 58,
   "metadata": {
    "collapsed": true
   },
   "outputs": [],
   "source": [
    "# Set params\n",
    "\n",
    "params = {\"objective\": \"binary:logistic\",\n",
    "          \"booster\": \"gbtree\",\n",
    "          \"eval_metric\": \"logloss\",\n",
    "          \"eta\": 0.01,\n",
    "          \"max_depth\": 7,\n",
    "          \"subsample\": 0.75,\n",
    "          \"colsample_bytree\": 0.68,\n",
    "          \"silent\": 1\n",
    "          }\n",
    "num_trees = 1800\n",
    "stop = 30\n",
    "boost_round = 1800"
   ]
  },
  {
   "cell_type": "code",
   "execution_count": null,
   "metadata": {
    "collapsed": false,
    "scrolled": true
   },
   "outputs": [
    {
     "name": "stderr",
     "output_type": "stream",
     "text": [
      "Will train until train error hasn't decreased in 30 rounds.\n",
      "[0]\teval-logloss:0.689351\ttrain-logloss:0.689323\n",
      "[1]\teval-logloss:0.685639\ttrain-logloss:0.685567\n",
      "[2]\teval-logloss:0.682160\ttrain-logloss:0.682053\n",
      "[3]\teval-logloss:0.678603\ttrain-logloss:0.678458\n",
      "[4]\teval-logloss:0.675530\ttrain-logloss:0.675310\n",
      "[5]\teval-logloss:0.672549\ttrain-logloss:0.672245\n",
      "[6]\teval-logloss:0.669340\ttrain-logloss:0.668984\n",
      "[7]\teval-logloss:0.666042\ttrain-logloss:0.665636\n",
      "[8]\teval-logloss:0.662766\ttrain-logloss:0.662324\n",
      "[9]\teval-logloss:0.659986\ttrain-logloss:0.659472\n",
      "[10]\teval-logloss:0.657294\ttrain-logloss:0.656721\n",
      "[11]\teval-logloss:0.654358\ttrain-logloss:0.653729\n",
      "[12]\teval-logloss:0.651591\ttrain-logloss:0.650935\n",
      "[13]\teval-logloss:0.648925\ttrain-logloss:0.648227\n",
      "[14]\teval-logloss:0.646220\ttrain-logloss:0.645474\n",
      "[15]\teval-logloss:0.643351\ttrain-logloss:0.642566\n",
      "[16]\teval-logloss:0.640627\ttrain-logloss:0.639819\n",
      "[17]\teval-logloss:0.638249\ttrain-logloss:0.637418\n",
      "[18]\teval-logloss:0.635496\ttrain-logloss:0.634616\n",
      "[19]\teval-logloss:0.632979\ttrain-logloss:0.632075\n",
      "[20]\teval-logloss:0.630346\ttrain-logloss:0.629371\n",
      "[21]\teval-logloss:0.627730\ttrain-logloss:0.626713\n",
      "[22]\teval-logloss:0.625170\ttrain-logloss:0.624116\n",
      "[23]\teval-logloss:0.622647\ttrain-logloss:0.621561\n",
      "[24]\teval-logloss:0.620545\ttrain-logloss:0.619418\n",
      "[25]\teval-logloss:0.618515\ttrain-logloss:0.617316\n",
      "[26]\teval-logloss:0.616238\ttrain-logloss:0.614996\n",
      "[27]\teval-logloss:0.613869\ttrain-logloss:0.612592\n",
      "[28]\teval-logloss:0.611528\ttrain-logloss:0.610225\n",
      "[29]\teval-logloss:0.609259\ttrain-logloss:0.607911\n",
      "[30]\teval-logloss:0.607185\ttrain-logloss:0.605788\n",
      "[31]\teval-logloss:0.605106\ttrain-logloss:0.603659\n",
      "[32]\teval-logloss:0.603145\ttrain-logloss:0.601652\n",
      "[33]\teval-logloss:0.601343\ttrain-logloss:0.599788\n",
      "[34]\teval-logloss:0.599240\ttrain-logloss:0.597655\n",
      "[35]\teval-logloss:0.597156\ttrain-logloss:0.595534\n",
      "[36]\teval-logloss:0.595110\ttrain-logloss:0.593458\n",
      "[37]\teval-logloss:0.593409\ttrain-logloss:0.591686\n",
      "[38]\teval-logloss:0.591710\ttrain-logloss:0.589931\n",
      "[39]\teval-logloss:0.589857\ttrain-logloss:0.588058\n",
      "[40]\teval-logloss:0.588146\ttrain-logloss:0.586294\n",
      "[41]\teval-logloss:0.586440\ttrain-logloss:0.584561\n",
      "[42]\teval-logloss:0.584576\ttrain-logloss:0.582664\n",
      "[43]\teval-logloss:0.582742\ttrain-logloss:0.580787\n",
      "[44]\teval-logloss:0.580952\ttrain-logloss:0.578961\n",
      "[45]\teval-logloss:0.579177\ttrain-logloss:0.577154\n",
      "[46]\teval-logloss:0.577449\ttrain-logloss:0.575382\n",
      "[47]\teval-logloss:0.575989\ttrain-logloss:0.573859\n",
      "[48]\teval-logloss:0.574300\ttrain-logloss:0.572131\n",
      "[49]\teval-logloss:0.572763\ttrain-logloss:0.570544\n",
      "[50]\teval-logloss:0.571135\ttrain-logloss:0.568884\n",
      "[51]\teval-logloss:0.569533\ttrain-logloss:0.567249\n",
      "[52]\teval-logloss:0.567961\ttrain-logloss:0.565655\n",
      "[53]\teval-logloss:0.566644\ttrain-logloss:0.564274\n",
      "[54]\teval-logloss:0.565121\ttrain-logloss:0.562695\n",
      "[55]\teval-logloss:0.563863\ttrain-logloss:0.561377\n",
      "[56]\teval-logloss:0.562413\ttrain-logloss:0.559884\n",
      "[57]\teval-logloss:0.561056\ttrain-logloss:0.558492\n",
      "[58]\teval-logloss:0.559782\ttrain-logloss:0.557179\n",
      "[59]\teval-logloss:0.558581\ttrain-logloss:0.555940\n",
      "[60]\teval-logloss:0.557190\ttrain-logloss:0.554506\n",
      "[61]\teval-logloss:0.555824\ttrain-logloss:0.553097\n",
      "[62]\teval-logloss:0.554692\ttrain-logloss:0.551924\n",
      "[63]\teval-logloss:0.553364\ttrain-logloss:0.550566\n",
      "[64]\teval-logloss:0.552041\ttrain-logloss:0.549214\n",
      "[65]\teval-logloss:0.550741\ttrain-logloss:0.547879\n",
      "[66]\teval-logloss:0.549592\ttrain-logloss:0.546710\n",
      "[67]\teval-logloss:0.548350\ttrain-logloss:0.545416\n",
      "[68]\teval-logloss:0.547315\ttrain-logloss:0.544336\n",
      "[69]\teval-logloss:0.546102\ttrain-logloss:0.543082\n",
      "[70]\teval-logloss:0.544910\ttrain-logloss:0.541844\n",
      "[71]\teval-logloss:0.543797\ttrain-logloss:0.540705\n",
      "[72]\teval-logloss:0.542631\ttrain-logloss:0.539507\n",
      "[73]\teval-logloss:0.541604\ttrain-logloss:0.538433\n",
      "[74]\teval-logloss:0.540660\ttrain-logloss:0.537427\n",
      "[75]\teval-logloss:0.539780\ttrain-logloss:0.536515\n",
      "[76]\teval-logloss:0.538841\ttrain-logloss:0.535511\n",
      "[77]\teval-logloss:0.537771\ttrain-logloss:0.534398\n",
      "[78]\teval-logloss:0.536817\ttrain-logloss:0.533428\n",
      "[79]\teval-logloss:0.535781\ttrain-logloss:0.532353\n",
      "[80]\teval-logloss:0.534780\ttrain-logloss:0.531306\n",
      "[81]\teval-logloss:0.533761\ttrain-logloss:0.530246\n",
      "[82]\teval-logloss:0.532842\ttrain-logloss:0.529280\n",
      "[83]\teval-logloss:0.531927\ttrain-logloss:0.528316\n",
      "[84]\teval-logloss:0.530951\ttrain-logloss:0.527301\n",
      "[85]\teval-logloss:0.530105\ttrain-logloss:0.526440\n",
      "[86]\teval-logloss:0.529165\ttrain-logloss:0.525454\n",
      "[87]\teval-logloss:0.528231\ttrain-logloss:0.524481\n",
      "[88]\teval-logloss:0.527393\ttrain-logloss:0.523618\n",
      "[89]\teval-logloss:0.526476\ttrain-logloss:0.522675\n",
      "[90]\teval-logloss:0.525596\ttrain-logloss:0.521754\n",
      "[91]\teval-logloss:0.524815\ttrain-logloss:0.520921\n",
      "[92]\teval-logloss:0.523947\ttrain-logloss:0.520021\n",
      "[93]\teval-logloss:0.523103\ttrain-logloss:0.519138\n",
      "[94]\teval-logloss:0.522337\ttrain-logloss:0.518332\n",
      "[95]\teval-logloss:0.521549\ttrain-logloss:0.517523\n",
      "[96]\teval-logloss:0.520886\ttrain-logloss:0.516806\n",
      "[97]\teval-logloss:0.520077\ttrain-logloss:0.515965\n",
      "[98]\teval-logloss:0.519280\ttrain-logloss:0.515141\n",
      "[99]\teval-logloss:0.518680\ttrain-logloss:0.514475\n",
      "[100]\teval-logloss:0.517919\ttrain-logloss:0.513671\n",
      "[101]\teval-logloss:0.517196\ttrain-logloss:0.512930\n",
      "[102]\teval-logloss:0.516565\ttrain-logloss:0.512250\n",
      "[103]\teval-logloss:0.515823\ttrain-logloss:0.511472\n",
      "[104]\teval-logloss:0.515088\ttrain-logloss:0.510710\n",
      "[105]\teval-logloss:0.514420\ttrain-logloss:0.510010\n",
      "[106]\teval-logloss:0.513713\ttrain-logloss:0.509269\n",
      "[107]\teval-logloss:0.513008\ttrain-logloss:0.508546\n",
      "[108]\teval-logloss:0.512328\ttrain-logloss:0.507836\n",
      "[109]\teval-logloss:0.511728\ttrain-logloss:0.507209\n",
      "[110]\teval-logloss:0.511126\ttrain-logloss:0.506559\n",
      "[111]\teval-logloss:0.510586\ttrain-logloss:0.505980\n",
      "[112]\teval-logloss:0.509936\ttrain-logloss:0.505279\n",
      "[113]\teval-logloss:0.509481\ttrain-logloss:0.504765\n",
      "[114]\teval-logloss:0.508835\ttrain-logloss:0.504091\n",
      "[115]\teval-logloss:0.508208\ttrain-logloss:0.503423\n",
      "[116]\teval-logloss:0.507606\ttrain-logloss:0.502777\n",
      "[117]\teval-logloss:0.507113\ttrain-logloss:0.502232\n",
      "[118]\teval-logloss:0.506637\ttrain-logloss:0.501713\n",
      "[119]\teval-logloss:0.506044\ttrain-logloss:0.501089\n",
      "[120]\teval-logloss:0.505596\ttrain-logloss:0.500607\n",
      "[121]\teval-logloss:0.505163\ttrain-logloss:0.500093\n",
      "[122]\teval-logloss:0.504607\ttrain-logloss:0.499489\n",
      "[123]\teval-logloss:0.504051\ttrain-logloss:0.498888\n",
      "[124]\teval-logloss:0.503631\ttrain-logloss:0.498431\n",
      "[125]\teval-logloss:0.503142\ttrain-logloss:0.497889\n",
      "[126]\teval-logloss:0.502686\ttrain-logloss:0.497380\n",
      "[127]\teval-logloss:0.502226\ttrain-logloss:0.496855\n",
      "[128]\teval-logloss:0.501849\ttrain-logloss:0.496425\n",
      "[129]\teval-logloss:0.501389\ttrain-logloss:0.495916\n",
      "[130]\teval-logloss:0.500965\ttrain-logloss:0.495441\n",
      "[131]\teval-logloss:0.500467\ttrain-logloss:0.494902\n",
      "[132]\teval-logloss:0.499981\ttrain-logloss:0.494373\n",
      "[133]\teval-logloss:0.499539\ttrain-logloss:0.493887\n",
      "[134]\teval-logloss:0.499141\ttrain-logloss:0.493443\n",
      "[135]\teval-logloss:0.498727\ttrain-logloss:0.492969\n",
      "[136]\teval-logloss:0.498264\ttrain-logloss:0.492475\n",
      "[137]\teval-logloss:0.497794\ttrain-logloss:0.491979\n",
      "[138]\teval-logloss:0.497424\ttrain-logloss:0.491556\n",
      "[139]\teval-logloss:0.497071\ttrain-logloss:0.491134\n",
      "[140]\teval-logloss:0.496713\ttrain-logloss:0.490722\n",
      "[141]\teval-logloss:0.496387\ttrain-logloss:0.490342\n",
      "[142]\teval-logloss:0.496031\ttrain-logloss:0.489935\n",
      "[143]\teval-logloss:0.495587\ttrain-logloss:0.489459\n",
      "[144]\teval-logloss:0.495242\ttrain-logloss:0.489055\n",
      "[145]\teval-logloss:0.494814\ttrain-logloss:0.488590\n",
      "[146]\teval-logloss:0.494398\ttrain-logloss:0.488142\n",
      "[147]\teval-logloss:0.493981\ttrain-logloss:0.487697\n",
      "[148]\teval-logloss:0.493584\ttrain-logloss:0.487253\n",
      "[149]\teval-logloss:0.493163\ttrain-logloss:0.486807\n",
      "[150]\teval-logloss:0.492824\ttrain-logloss:0.486416\n",
      "[151]\teval-logloss:0.492510\ttrain-logloss:0.486058\n",
      "[152]\teval-logloss:0.492188\ttrain-logloss:0.485677\n",
      "[153]\teval-logloss:0.491818\ttrain-logloss:0.485263\n",
      "[154]\teval-logloss:0.491446\ttrain-logloss:0.484848\n",
      "[155]\teval-logloss:0.491168\ttrain-logloss:0.484523\n",
      "[156]\teval-logloss:0.490799\ttrain-logloss:0.484113\n",
      "[157]\teval-logloss:0.490518\ttrain-logloss:0.483804\n",
      "[158]\teval-logloss:0.490201\ttrain-logloss:0.483459\n",
      "[159]\teval-logloss:0.489854\ttrain-logloss:0.483072\n",
      "[160]\teval-logloss:0.489497\ttrain-logloss:0.482684\n",
      "[161]\teval-logloss:0.489220\ttrain-logloss:0.482360\n",
      "[162]\teval-logloss:0.488898\ttrain-logloss:0.481985\n",
      "[163]\teval-logloss:0.488601\ttrain-logloss:0.481658\n",
      "[164]\teval-logloss:0.488372\ttrain-logloss:0.481373\n",
      "[165]\teval-logloss:0.488091\ttrain-logloss:0.481047\n",
      "[166]\teval-logloss:0.487791\ttrain-logloss:0.480684\n",
      "[167]\teval-logloss:0.487446\ttrain-logloss:0.480326\n",
      "[168]\teval-logloss:0.487134\ttrain-logloss:0.479982\n",
      "[169]\teval-logloss:0.486898\ttrain-logloss:0.479707\n",
      "[170]\teval-logloss:0.486588\ttrain-logloss:0.479360\n",
      "[171]\teval-logloss:0.486335\ttrain-logloss:0.479048\n",
      "[172]\teval-logloss:0.486043\ttrain-logloss:0.478713\n",
      "[173]\teval-logloss:0.485795\ttrain-logloss:0.478418\n",
      "[174]\teval-logloss:0.485498\ttrain-logloss:0.478083\n",
      "[175]\teval-logloss:0.485262\ttrain-logloss:0.477795\n",
      "[176]\teval-logloss:0.485032\ttrain-logloss:0.477505\n",
      "[177]\teval-logloss:0.484836\ttrain-logloss:0.477236\n",
      "[178]\teval-logloss:0.484588\ttrain-logloss:0.476944\n",
      "[179]\teval-logloss:0.484315\ttrain-logloss:0.476649\n",
      "[180]\teval-logloss:0.484089\ttrain-logloss:0.476382\n",
      "[181]\teval-logloss:0.483824\ttrain-logloss:0.476073\n",
      "[182]\teval-logloss:0.483621\ttrain-logloss:0.475841\n",
      "[183]\teval-logloss:0.483440\ttrain-logloss:0.475602\n",
      "[184]\teval-logloss:0.483189\ttrain-logloss:0.475315\n",
      "[185]\teval-logloss:0.482969\ttrain-logloss:0.475050\n",
      "[186]\teval-logloss:0.482719\ttrain-logloss:0.474760\n",
      "[187]\teval-logloss:0.482517\ttrain-logloss:0.474502\n",
      "[188]\teval-logloss:0.482301\ttrain-logloss:0.474220\n",
      "[189]\teval-logloss:0.482059\ttrain-logloss:0.473929\n",
      "[190]\teval-logloss:0.481894\ttrain-logloss:0.473711\n",
      "[191]\teval-logloss:0.481639\ttrain-logloss:0.473434\n",
      "[192]\teval-logloss:0.481418\ttrain-logloss:0.473178\n",
      "[193]\teval-logloss:0.481231\ttrain-logloss:0.472944\n",
      "[194]\teval-logloss:0.481032\ttrain-logloss:0.472681\n",
      "[195]\teval-logloss:0.480854\ttrain-logloss:0.472444\n",
      "[196]\teval-logloss:0.480672\ttrain-logloss:0.472225\n",
      "[197]\teval-logloss:0.480471\ttrain-logloss:0.471966\n",
      "[198]\teval-logloss:0.480259\ttrain-logloss:0.471712\n",
      "[199]\teval-logloss:0.480081\ttrain-logloss:0.471492\n",
      "[200]\teval-logloss:0.479878\ttrain-logloss:0.471241\n",
      "[201]\teval-logloss:0.479764\ttrain-logloss:0.471062\n",
      "[202]\teval-logloss:0.479594\ttrain-logloss:0.470855\n",
      "[203]\teval-logloss:0.479442\ttrain-logloss:0.470653\n",
      "[204]\teval-logloss:0.479289\ttrain-logloss:0.470459\n",
      "[205]\teval-logloss:0.479164\ttrain-logloss:0.470272\n",
      "[206]\teval-logloss:0.479045\ttrain-logloss:0.470106\n",
      "[207]\teval-logloss:0.478860\ttrain-logloss:0.469869\n",
      "[208]\teval-logloss:0.478667\ttrain-logloss:0.469632\n",
      "[209]\teval-logloss:0.478543\ttrain-logloss:0.469438\n",
      "[210]\teval-logloss:0.478396\ttrain-logloss:0.469232\n",
      "[211]\teval-logloss:0.478250\ttrain-logloss:0.469053\n",
      "[212]\teval-logloss:0.478100\ttrain-logloss:0.468846\n",
      "[213]\teval-logloss:0.477926\ttrain-logloss:0.468626\n",
      "[214]\teval-logloss:0.477795\ttrain-logloss:0.468439\n",
      "[215]\teval-logloss:0.477628\ttrain-logloss:0.468225\n",
      "[216]\teval-logloss:0.477464\ttrain-logloss:0.468005\n",
      "[217]\teval-logloss:0.477337\ttrain-logloss:0.467809\n",
      "[218]\teval-logloss:0.477173\ttrain-logloss:0.467608\n",
      "[219]\teval-logloss:0.477022\ttrain-logloss:0.467407\n",
      "[220]\teval-logloss:0.476895\ttrain-logloss:0.467241\n",
      "[221]\teval-logloss:0.476769\ttrain-logloss:0.467084\n",
      "[222]\teval-logloss:0.476656\ttrain-logloss:0.466917\n",
      "[223]\teval-logloss:0.476481\ttrain-logloss:0.466715\n",
      "[224]\teval-logloss:0.476321\ttrain-logloss:0.466502\n",
      "[225]\teval-logloss:0.476144\ttrain-logloss:0.466295\n",
      "[226]\teval-logloss:0.476015\ttrain-logloss:0.466113\n",
      "[227]\teval-logloss:0.475867\ttrain-logloss:0.465918\n",
      "[228]\teval-logloss:0.475746\ttrain-logloss:0.465746\n",
      "[229]\teval-logloss:0.475652\ttrain-logloss:0.465574\n",
      "[230]\teval-logloss:0.475526\ttrain-logloss:0.465400\n",
      "[231]\teval-logloss:0.475378\ttrain-logloss:0.465229\n",
      "[232]\teval-logloss:0.475244\ttrain-logloss:0.465043\n",
      "[233]\teval-logloss:0.475097\ttrain-logloss:0.464843\n",
      "[234]\teval-logloss:0.474953\ttrain-logloss:0.464649\n",
      "[235]\teval-logloss:0.474857\ttrain-logloss:0.464509\n",
      "[236]\teval-logloss:0.474713\ttrain-logloss:0.464330\n",
      "[237]\teval-logloss:0.474580\ttrain-logloss:0.464145\n",
      "[238]\teval-logloss:0.474438\ttrain-logloss:0.463960\n",
      "[239]\teval-logloss:0.474278\ttrain-logloss:0.463779\n",
      "[240]\teval-logloss:0.474140\ttrain-logloss:0.463600\n",
      "[241]\teval-logloss:0.474011\ttrain-logloss:0.463406\n",
      "[242]\teval-logloss:0.473915\ttrain-logloss:0.463259\n",
      "[243]\teval-logloss:0.473796\ttrain-logloss:0.463082\n",
      "[244]\teval-logloss:0.473684\ttrain-logloss:0.462929\n",
      "[245]\teval-logloss:0.473553\ttrain-logloss:0.462755\n",
      "[246]\teval-logloss:0.473436\ttrain-logloss:0.462594\n",
      "[247]\teval-logloss:0.473311\ttrain-logloss:0.462432\n",
      "[248]\teval-logloss:0.473225\ttrain-logloss:0.462300\n",
      "[249]\teval-logloss:0.473149\ttrain-logloss:0.462177\n",
      "[250]\teval-logloss:0.473025\ttrain-logloss:0.462017\n",
      "[251]\teval-logloss:0.472948\ttrain-logloss:0.461877\n",
      "[252]\teval-logloss:0.472821\ttrain-logloss:0.461711\n",
      "[253]\teval-logloss:0.472700\ttrain-logloss:0.461553\n",
      "[254]\teval-logloss:0.472585\ttrain-logloss:0.461405\n",
      "[255]\teval-logloss:0.472471\ttrain-logloss:0.461271\n",
      "[256]\teval-logloss:0.472367\ttrain-logloss:0.461116\n",
      "[257]\teval-logloss:0.472268\ttrain-logloss:0.460942\n",
      "[258]\teval-logloss:0.472162\ttrain-logloss:0.460781\n",
      "[259]\teval-logloss:0.472051\ttrain-logloss:0.460629\n",
      "[260]\teval-logloss:0.471957\ttrain-logloss:0.460503\n",
      "[261]\teval-logloss:0.471861\ttrain-logloss:0.460368\n",
      "[262]\teval-logloss:0.471741\ttrain-logloss:0.460224\n",
      "[263]\teval-logloss:0.471639\ttrain-logloss:0.460075\n",
      "[264]\teval-logloss:0.471564\ttrain-logloss:0.459940\n",
      "[265]\teval-logloss:0.471472\ttrain-logloss:0.459796\n",
      "[266]\teval-logloss:0.471405\ttrain-logloss:0.459669\n",
      "[267]\teval-logloss:0.471309\ttrain-logloss:0.459552\n",
      "[268]\teval-logloss:0.471229\ttrain-logloss:0.459429\n",
      "[269]\teval-logloss:0.471168\ttrain-logloss:0.459327\n",
      "[270]\teval-logloss:0.471070\ttrain-logloss:0.459175\n",
      "[271]\teval-logloss:0.470986\ttrain-logloss:0.459043\n",
      "[272]\teval-logloss:0.470913\ttrain-logloss:0.458912\n",
      "[273]\teval-logloss:0.470832\ttrain-logloss:0.458788\n",
      "[274]\teval-logloss:0.470734\ttrain-logloss:0.458635\n",
      "[275]\teval-logloss:0.470629\ttrain-logloss:0.458489\n",
      "[276]\teval-logloss:0.470597\ttrain-logloss:0.458365\n",
      "[277]\teval-logloss:0.470539\ttrain-logloss:0.458253\n",
      "[278]\teval-logloss:0.470441\ttrain-logloss:0.458107\n",
      "[279]\teval-logloss:0.470340\ttrain-logloss:0.457974\n",
      "[280]\teval-logloss:0.470265\ttrain-logloss:0.457871\n",
      "[281]\teval-logloss:0.470171\ttrain-logloss:0.457749\n",
      "[282]\teval-logloss:0.470068\ttrain-logloss:0.457598\n",
      "[283]\teval-logloss:0.470006\ttrain-logloss:0.457458\n",
      "[284]\teval-logloss:0.469917\ttrain-logloss:0.457337\n",
      "[285]\teval-logloss:0.469868\ttrain-logloss:0.457215\n",
      "[286]\teval-logloss:0.469799\ttrain-logloss:0.457096\n",
      "[287]\teval-logloss:0.469709\ttrain-logloss:0.456973\n",
      "[288]\teval-logloss:0.469644\ttrain-logloss:0.456863\n",
      "[289]\teval-logloss:0.469589\ttrain-logloss:0.456739\n",
      "[290]\teval-logloss:0.469526\ttrain-logloss:0.456606\n",
      "[291]\teval-logloss:0.469436\ttrain-logloss:0.456488\n",
      "[292]\teval-logloss:0.469386\ttrain-logloss:0.456383\n",
      "[293]\teval-logloss:0.469295\ttrain-logloss:0.456256\n",
      "[294]\teval-logloss:0.469214\ttrain-logloss:0.456125\n",
      "[295]\teval-logloss:0.469141\ttrain-logloss:0.456035\n",
      "[296]\teval-logloss:0.469080\ttrain-logloss:0.455948\n",
      "[297]\teval-logloss:0.469009\ttrain-logloss:0.455814\n",
      "[298]\teval-logloss:0.468971\ttrain-logloss:0.455723\n",
      "[299]\teval-logloss:0.468934\ttrain-logloss:0.455619\n",
      "[300]\teval-logloss:0.468893\ttrain-logloss:0.455500\n",
      "[301]\teval-logloss:0.468824\ttrain-logloss:0.455381\n",
      "[302]\teval-logloss:0.468760\ttrain-logloss:0.455262\n",
      "[303]\teval-logloss:0.468722\ttrain-logloss:0.455159\n",
      "[304]\teval-logloss:0.468703\ttrain-logloss:0.455074\n",
      "[305]\teval-logloss:0.468643\ttrain-logloss:0.454981\n",
      "[306]\teval-logloss:0.468599\ttrain-logloss:0.454863\n",
      "[307]\teval-logloss:0.468551\ttrain-logloss:0.454754\n",
      "[308]\teval-logloss:0.468475\ttrain-logloss:0.454628\n",
      "[309]\teval-logloss:0.468406\ttrain-logloss:0.454499\n",
      "[310]\teval-logloss:0.468346\ttrain-logloss:0.454386\n",
      "[311]\teval-logloss:0.468280\ttrain-logloss:0.454279\n",
      "[312]\teval-logloss:0.468231\ttrain-logloss:0.454169\n",
      "[313]\teval-logloss:0.468187\ttrain-logloss:0.454087\n",
      "[314]\teval-logloss:0.468121\ttrain-logloss:0.453971\n",
      "[315]\teval-logloss:0.468076\ttrain-logloss:0.453871\n",
      "[316]\teval-logloss:0.468028\ttrain-logloss:0.453765\n",
      "[317]\teval-logloss:0.467985\ttrain-logloss:0.453666\n",
      "[318]\teval-logloss:0.467925\ttrain-logloss:0.453549\n",
      "[319]\teval-logloss:0.467889\ttrain-logloss:0.453460\n",
      "[320]\teval-logloss:0.467868\ttrain-logloss:0.453358\n",
      "[321]\teval-logloss:0.467818\ttrain-logloss:0.453260\n",
      "[322]\teval-logloss:0.467782\ttrain-logloss:0.453147\n",
      "[323]\teval-logloss:0.467739\ttrain-logloss:0.453037\n",
      "[324]\teval-logloss:0.467699\ttrain-logloss:0.452946\n",
      "[325]\teval-logloss:0.467629\ttrain-logloss:0.452840\n",
      "[326]\teval-logloss:0.467579\ttrain-logloss:0.452733\n",
      "[327]\teval-logloss:0.467505\ttrain-logloss:0.452628\n",
      "[328]\teval-logloss:0.467440\ttrain-logloss:0.452502\n",
      "[329]\teval-logloss:0.467387\ttrain-logloss:0.452395\n",
      "[330]\teval-logloss:0.467344\ttrain-logloss:0.452310\n",
      "[331]\teval-logloss:0.467260\ttrain-logloss:0.452188\n",
      "[332]\teval-logloss:0.467203\ttrain-logloss:0.452096\n",
      "[333]\teval-logloss:0.467172\ttrain-logloss:0.451996\n",
      "[334]\teval-logloss:0.467125\ttrain-logloss:0.451912\n",
      "[335]\teval-logloss:0.467096\ttrain-logloss:0.451819\n",
      "[336]\teval-logloss:0.467078\ttrain-logloss:0.451729\n",
      "[337]\teval-logloss:0.467059\ttrain-logloss:0.451629\n",
      "[338]\teval-logloss:0.467012\ttrain-logloss:0.451516\n",
      "[339]\teval-logloss:0.466965\ttrain-logloss:0.451403\n",
      "[340]\teval-logloss:0.466934\ttrain-logloss:0.451321\n",
      "[341]\teval-logloss:0.466856\ttrain-logloss:0.451217\n",
      "[342]\teval-logloss:0.466842\ttrain-logloss:0.451136\n",
      "[343]\teval-logloss:0.466779\ttrain-logloss:0.451061\n",
      "[344]\teval-logloss:0.466745\ttrain-logloss:0.450965\n",
      "[345]\teval-logloss:0.466715\ttrain-logloss:0.450864\n",
      "[346]\teval-logloss:0.466665\ttrain-logloss:0.450764\n",
      "[347]\teval-logloss:0.466609\ttrain-logloss:0.450663\n",
      "[348]\teval-logloss:0.466581\ttrain-logloss:0.450557\n",
      "[349]\teval-logloss:0.466561\ttrain-logloss:0.450475\n",
      "[350]\teval-logloss:0.466526\ttrain-logloss:0.450382\n",
      "[351]\teval-logloss:0.466472\ttrain-logloss:0.450286\n",
      "[352]\teval-logloss:0.466450\ttrain-logloss:0.450209\n",
      "[353]\teval-logloss:0.466414\ttrain-logloss:0.450126\n",
      "[354]\teval-logloss:0.466337\ttrain-logloss:0.450033\n",
      "[355]\teval-logloss:0.466293\ttrain-logloss:0.449934\n",
      "[356]\teval-logloss:0.466257\ttrain-logloss:0.449834\n",
      "[357]\teval-logloss:0.466221\ttrain-logloss:0.449741\n",
      "[358]\teval-logloss:0.466204\ttrain-logloss:0.449648\n",
      "[359]\teval-logloss:0.466142\ttrain-logloss:0.449546\n",
      "[360]\teval-logloss:0.466119\ttrain-logloss:0.449459\n",
      "[361]\teval-logloss:0.466114\ttrain-logloss:0.449383\n",
      "[362]\teval-logloss:0.466093\ttrain-logloss:0.449282\n",
      "[363]\teval-logloss:0.466066\ttrain-logloss:0.449189\n",
      "[364]\teval-logloss:0.466053\ttrain-logloss:0.449100\n",
      "[365]\teval-logloss:0.466032\ttrain-logloss:0.449026\n",
      "[366]\teval-logloss:0.465999\ttrain-logloss:0.448945\n",
      "[367]\teval-logloss:0.465981\ttrain-logloss:0.448879\n",
      "[368]\teval-logloss:0.465975\ttrain-logloss:0.448821\n",
      "[369]\teval-logloss:0.465937\ttrain-logloss:0.448736\n",
      "[370]\teval-logloss:0.465890\ttrain-logloss:0.448654\n",
      "[371]\teval-logloss:0.465853\ttrain-logloss:0.448568\n",
      "[372]\teval-logloss:0.465801\ttrain-logloss:0.448473\n",
      "[373]\teval-logloss:0.465775\ttrain-logloss:0.448388\n",
      "[374]\teval-logloss:0.465751\ttrain-logloss:0.448299\n",
      "[375]\teval-logloss:0.465718\ttrain-logloss:0.448210\n",
      "[376]\teval-logloss:0.465692\ttrain-logloss:0.448133\n",
      "[377]\teval-logloss:0.465627\ttrain-logloss:0.448044\n",
      "[378]\teval-logloss:0.465592\ttrain-logloss:0.447958\n",
      "[379]\teval-logloss:0.465566\ttrain-logloss:0.447877\n",
      "[380]\teval-logloss:0.465528\ttrain-logloss:0.447797\n",
      "[381]\teval-logloss:0.465500\ttrain-logloss:0.447727\n",
      "[382]\teval-logloss:0.465449\ttrain-logloss:0.447627\n",
      "[383]\teval-logloss:0.465399\ttrain-logloss:0.447544\n",
      "[384]\teval-logloss:0.465379\ttrain-logloss:0.447451\n",
      "[385]\teval-logloss:0.465342\ttrain-logloss:0.447348\n",
      "[386]\teval-logloss:0.465318\ttrain-logloss:0.447264\n",
      "[387]\teval-logloss:0.465310\ttrain-logloss:0.447168\n",
      "[388]\teval-logloss:0.465300\ttrain-logloss:0.447115\n",
      "[389]\teval-logloss:0.465280\ttrain-logloss:0.447036\n",
      "[390]\teval-logloss:0.465221\ttrain-logloss:0.446965\n",
      "[391]\teval-logloss:0.465194\ttrain-logloss:0.446874\n",
      "[392]\teval-logloss:0.465163\ttrain-logloss:0.446799\n",
      "[393]\teval-logloss:0.465112\ttrain-logloss:0.446717\n",
      "[394]\teval-logloss:0.465078\ttrain-logloss:0.446645\n",
      "[395]\teval-logloss:0.465053\ttrain-logloss:0.446563\n",
      "[396]\teval-logloss:0.465033\ttrain-logloss:0.446488\n",
      "[397]\teval-logloss:0.465015\ttrain-logloss:0.446400\n",
      "[398]\teval-logloss:0.464998\ttrain-logloss:0.446310\n",
      "[399]\teval-logloss:0.464981\ttrain-logloss:0.446241\n",
      "[400]\teval-logloss:0.464973\ttrain-logloss:0.446145\n",
      "[401]\teval-logloss:0.464936\ttrain-logloss:0.446055\n",
      "[402]\teval-logloss:0.464921\ttrain-logloss:0.445986\n",
      "[403]\teval-logloss:0.464903\ttrain-logloss:0.445919\n",
      "[404]\teval-logloss:0.464869\ttrain-logloss:0.445863\n",
      "[405]\teval-logloss:0.464859\ttrain-logloss:0.445789\n",
      "[406]\teval-logloss:0.464838\ttrain-logloss:0.445719\n",
      "[407]\teval-logloss:0.464816\ttrain-logloss:0.445653\n",
      "[408]\teval-logloss:0.464827\ttrain-logloss:0.445584\n",
      "[409]\teval-logloss:0.464810\ttrain-logloss:0.445513\n",
      "[410]\teval-logloss:0.464800\ttrain-logloss:0.445446\n",
      "[411]\teval-logloss:0.464775\ttrain-logloss:0.445379\n",
      "[412]\teval-logloss:0.464746\ttrain-logloss:0.445302\n"
     ]
    }
   ],
   "source": [
    "import xgboost as xgb\n",
    "\n",
    "dtrain = xgb.DMatrix(x_tr.values, y_tr)\n",
    "dvalid = xgb.DMatrix(x_cv.values, y_cv)\n",
    "watchlist = [(dvalid, 'eval'), (dtrain, 'train')]\n",
    "gbm = xgb.train(params, dtrain, num_boost_round=boost_round, evals=watchlist, early_stopping_rounds=stop, verbose_eval=True)"
   ]
  },
  {
   "cell_type": "markdown",
   "metadata": {},
   "source": [
    "The best score: "
   ]
  },
  {
   "cell_type": "code",
   "execution_count": 15,
   "metadata": {
    "collapsed": true
   },
   "outputs": [],
   "source": [
    "dtest = xgb.DMatrix(test.as_matrix())\n",
    "XGB = gbm.predict(dtest)\n",
    "indices = XGB < 0\n",
    "XGB[indices] = 0"
   ]
  },
  {
   "cell_type": "code",
   "execution_count": 17,
   "metadata": {
    "collapsed": false
   },
   "outputs": [],
   "source": [
    "submit = pd.read_csv('data/sample_submission.csv')\n",
    "submit.PredictedProb = XGB\n",
    "submit.to_csv('submit.csv', index=False)"
   ]
  },
  {
   "cell_type": "code",
   "execution_count": null,
   "metadata": {
    "collapsed": true
   },
   "outputs": [],
   "source": []
  }
 ],
 "metadata": {
  "kernelspec": {
   "display_name": "Python 2",
   "language": "python",
   "name": "python2"
  },
  "language_info": {
   "codemirror_mode": {
    "name": "ipython",
    "version": 2
   },
   "file_extension": ".py",
   "mimetype": "text/x-python",
   "name": "python",
   "nbconvert_exporter": "python",
   "pygments_lexer": "ipython2",
   "version": "2.7.10"
  }
 },
 "nbformat": 4,
 "nbformat_minor": 0
}
