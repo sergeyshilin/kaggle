{
 "cells": [
  {
   "cell_type": "code",
   "execution_count": 1,
   "metadata": {
    "collapsed": false,
    "scrolled": false
   },
   "outputs": [],
   "source": [
    "%matplotlib inline\n",
    "import numpy as np\n",
    "import pandas as pd\n",
    "import matplotlib.pyplot as plt\n",
    "from datetime import datetime\n",
    "from sklearn import cross_validation\n",
    "import seaborn as sns\n",
    "import xgboost as xgb"
   ]
  },
  {
   "cell_type": "markdown",
   "metadata": {},
   "source": [
    "## Get the data"
   ]
  },
  {
   "cell_type": "code",
   "execution_count": 183,
   "metadata": {
    "collapsed": false
   },
   "outputs": [],
   "source": [
    "# dateparse = lambda x: datetime.strptime(x, '%Y-%m-%d')\n",
    "train = pd.read_csv('data/train.csv', low_memory=False, parse_dates = ['Date'])\n",
    "test = pd.read_csv('data/test.csv', low_memory=False, parse_dates = ['Date'])\n",
    "stores = pd.read_csv('data/store.csv', low_memory=False)"
   ]
  },
  {
   "cell_type": "code",
   "execution_count": 184,
   "metadata": {
    "collapsed": false
   },
   "outputs": [
    {
     "name": "stdout",
     "output_type": "stream",
     "text": [
      "Store            0\n",
      "DayOfWeek        0\n",
      "Date             0\n",
      "Sales            0\n",
      "Customers        0\n",
      "Open             0\n",
      "Promo            0\n",
      "StateHoliday     0\n",
      "SchoolHoliday    0\n",
      "dtype: int64\n",
      "Id                0\n",
      "Store             0\n",
      "DayOfWeek         0\n",
      "Date              0\n",
      "Open             11\n",
      "Promo             0\n",
      "StateHoliday      0\n",
      "SchoolHoliday     0\n",
      "dtype: int64\n",
      "Store                          0\n",
      "StoreType                      0\n",
      "Assortment                     0\n",
      "CompetitionDistance            3\n",
      "CompetitionOpenSinceMonth    354\n",
      "CompetitionOpenSinceYear     354\n",
      "Promo2                         0\n",
      "Promo2SinceWeek              544\n",
      "Promo2SinceYear              544\n",
      "PromoInterval                544\n",
      "dtype: int64\n"
     ]
    }
   ],
   "source": [
    "print train.isnull().sum(axis=0)\n",
    "print test.isnull().sum(axis=0)\n",
    "print stores.isnull().sum(axis=0)"
   ]
  },
  {
   "cell_type": "markdown",
   "metadata": {},
   "source": [
    "## Researches "
   ]
  },
  {
   "cell_type": "code",
   "execution_count": 185,
   "metadata": {
    "collapsed": false
   },
   "outputs": [
    {
     "data": {
      "text/plain": [
       "<matplotlib.axes._subplots.AxesSubplot at 0x7fc9ddfcef50>"
      ]
     },
     "execution_count": 185,
     "metadata": {},
     "output_type": "execute_result"
    },
    {
     "data": {
      "image/png": "[encoded data removed]",
      "text/plain": [
       "<matplotlib.figure.Figure at 0x7fc9ddecc410>"
      ]
     },
     "metadata": {},
     "output_type": "display_data"
    }
   ],
   "source": [
    "train.Sales.hist(bins=50, figsize=(14, 5))"
   ]
  },
  {
   "cell_type": "code",
   "execution_count": 186,
   "metadata": {
    "collapsed": false
   },
   "outputs": [
    {
     "data": {
      "text/plain": [
       "0.16994639253093513"
      ]
     },
     "execution_count": 186,
     "metadata": {},
     "output_type": "execute_result"
    }
   ],
   "source": [
    "# Percentage of zero Sales -- 17%  !!!\n",
    "(train.Sales == 0).mean()"
   ]
  },
  {
   "cell_type": "markdown",
   "metadata": {},
   "source": [
    "## Prepare the data"
   ]
  },
  {
   "cell_type": "code",
   "execution_count": 187,
   "metadata": {
    "collapsed": true
   },
   "outputs": [],
   "source": [
    "test.fillna(1, inplace=True)\n",
    "# train = train.loc[train[\"Open\"] != 0]"
   ]
  },
  {
   "cell_type": "code",
   "execution_count": 188,
   "metadata": {
    "collapsed": true
   },
   "outputs": [],
   "source": [
    "# merge datasets with Stores data\n",
    "train = pd.merge(train, stores, on='Store')\n",
    "test = pd.merge(test, stores, on='Store')"
   ]
  },
  {
   "cell_type": "markdown",
   "metadata": {},
   "source": [
    "### 1. Feature engineering"
   ]
  },
  {
   "cell_type": "code",
   "execution_count": 189,
   "metadata": {
    "collapsed": false
   },
   "outputs": [],
   "source": [
    "def build_features(data):\n",
    "    data.fillna(0, inplace=True)\n",
    "    # data.loc[data.Open.isnull(), 'Open'] = 1\n",
    "    \n",
    "    dates = pd.DatetimeIndex(data.Date)\n",
    "    data['Day'] = data.Date.apply(lambda x: x.day)\n",
    "    data['Month'] = data.Date.apply(lambda x: x.month)\n",
    "    data['Year'] = data.Date.apply(lambda x: x.year)\n",
    "    data['DayOfYear'] = data.Date.map(lambda x: x.dayofyear)\n",
    "    data['WeekOfYear'] = data.Date.apply(lambda x: x.weekofyear)\n",
    "    \n",
    "    data['CompetitionOpen'] = 12 * (data.Year - data.CompetitionOpenSinceYear) + (data.Month - data.CompetitionOpenSinceMonth)\n",
    "    data['CompetitionOpen'] = data.CompetitionOpen.apply(lambda x: x if x > 0 else 0)\n",
    "\n",
    "    data['PromoOpen'] = 12 * (data.Year - data.Promo2SinceYear) + (data.WeekOfYear - data.Promo2SinceWeek) / float(4)\n",
    "    data['PromoOpen'] = data.PromoOpen.apply(lambda x: x if x > 0 else 0)\n",
    "    \n",
    "    data['p_1'] = data.PromoInterval.apply(lambda x: x[:3] if type(x) == str else 0)\n",
    "    data['p_2'] = data.PromoInterval.apply(lambda x: x[4:7] if type(x) == str else 0)\n",
    "    data['p_3'] = data.PromoInterval.apply(lambda x: x[8:11] if type(x) == str else 0)\n",
    "    data['p_4'] = data.PromoInterval.apply(lambda x: x[12:15] if type(x) == str else 0)\n",
    "    \n",
    "    data['Promo_Jan'] = data.PromoInterval.apply(lambda x: 1 if type(x) == str and \"Jan\" in x else 0)\n",
    "    data['Promo_Feb'] = data.PromoInterval.apply(lambda x: 1 if type(x) == str and \"Feb\" in x else 0)\n",
    "    data['Promo_Mar'] = data.PromoInterval.apply(lambda x: 1 if type(x) == str and \"Mar\" in x else 0)\n",
    "    data['Promo_Apr'] = data.PromoInterval.apply(lambda x: 1 if type(x) == str and \"Apr\" in x else 0)\n",
    "    data['Promo_May'] = data.PromoInterval.apply(lambda x: 1 if type(x) == str and \"May\" in x else 0)\n",
    "    data['Promo_Jun'] = data.PromoInterval.apply(lambda x: 1 if type(x) == str and \"Jun\" in x else 0)\n",
    "    data['Promo_Jul'] = data.PromoInterval.apply(lambda x: 1 if type(x) == str and \"Jul\" in x else 0)\n",
    "    data['Promo_Aug'] = data.PromoInterval.apply(lambda x: 1 if type(x) == str and \"Aug\" in x else 0)\n",
    "    data['Promo_Sep'] = data.PromoInterval.apply(lambda x: 1 if type(x) == str and \"Sep\" in x else 0)\n",
    "    data['Promo_Oct'] = data.PromoInterval.apply(lambda x: 1 if type(x) == str and \"Oct\" in x else 0)\n",
    "    data['Promo_Nov'] = data.PromoInterval.apply(lambda x: 1 if type(x) == str and \"Nov\" in x else 0)\n",
    "    data['Promo_Dec'] = data.PromoInterval.apply(lambda x: 1 if type(x) == str and \"Dec\" in x else 0)\n",
    "    \n",
    "    data['Distance_1'] = data.CompetitionDistance.apply(lambda x: 1 if x < 1000 else 0)\n",
    "    data['Distance_2'] = data.CompetitionDistance.apply(lambda x: 1 if x >= 1000 and x < 3000 else 0)\n",
    "    data['Distance_3'] = data.CompetitionDistance.apply(lambda x: 1 if x >= 3000 and x < 5000 else 0)\n",
    "    data['Distance_4'] = data.CompetitionDistance.apply(lambda x: 1 if x >= 5000 and x < 10000 else 0)\n",
    "    data['Distance_5'] = data.CompetitionDistance.apply(lambda x: 1 if x >= 10000 and x < 25000 else 0)\n",
    "    data['Distance_6'] = data.CompetitionDistance.apply(lambda x: 1 if x >= 25000 else 0)"
   ]
  },
  {
   "cell_type": "code",
   "execution_count": 190,
   "metadata": {
    "collapsed": false
   },
   "outputs": [
    {
     "name": "stdout",
     "output_type": "stream",
     "text": [
      "CPU times: user 1min 44s, sys: 2.32 s, total: 1min 46s\n",
      "Wall time: 1min 43s\n"
     ]
    }
   ],
   "source": [
    "%%time\n",
    "build_features(train)\n",
    "build_features(test)"
   ]
  },
  {
   "cell_type": "code",
   "execution_count": 191,
   "metadata": {
    "collapsed": false
   },
   "outputs": [
    {
     "name": "stdout",
     "output_type": "stream",
     "text": [
      "CPU times: user 1.83 s, sys: 1.75 s, total: 3.58 s\n",
      "Wall time: 5.2 s\n"
     ]
    }
   ],
   "source": [
    "%%time\n",
    "train = pd.get_dummies(train, columns=['StateHoliday', 'SchoolHoliday', 'StoreType', 'Assortment'])\n",
    "test = pd.get_dummies(test, columns=['StateHoliday', 'SchoolHoliday', 'StoreType', 'Assortment'])"
   ]
  },
  {
   "cell_type": "code",
   "execution_count": 192,
   "metadata": {
    "collapsed": false
   },
   "outputs": [],
   "source": [
    "test.insert(test.columns.get_loc(\"StateHoliday_a\") + 1, \"StateHoliday_b\", 0)\n",
    "test.insert(test.columns.get_loc(\"StateHoliday_b\") + 1, \"StateHoliday_c\", 0)"
   ]
  },
  {
   "cell_type": "code",
   "execution_count": 193,
   "metadata": {
    "collapsed": false
   },
   "outputs": [],
   "source": [
    "# Replace labels with floats\n",
    "from sklearn.preprocessing import LabelEncoder\n",
    "lbl_enc = LabelEncoder()\n",
    "\n",
    "for c in ['p_1', 'p_2', 'p_3', 'p_4']:\n",
    "    train[c] = lbl_enc.fit_transform(train[c])\n",
    "    test[c] = lbl_enc.transform(test[c])"
   ]
  },
  {
   "cell_type": "code",
   "execution_count": 194,
   "metadata": {
    "collapsed": false
   },
   "outputs": [
    {
     "name": "stdout",
     "output_type": "stream",
     "text": [
      "Features: \n",
      "['Store', 'DayOfWeek', 'Open', 'Promo', 'CompetitionDistance', 'Promo2', 'Day', 'Month', 'Year', 'DayOfYear', 'WeekOfYear', 'CompetitionOpen', 'PromoOpen', 'p_1', 'p_2', 'p_3', 'p_4', 'Promo_Jan', 'Promo_Feb', 'Promo_Mar', 'Promo_Apr', 'Promo_May', 'Promo_Jun', 'Promo_Jul', 'Promo_Aug', 'Promo_Sep', 'Promo_Oct', 'Promo_Nov', 'Promo_Dec', 'Distance_1', 'Distance_2', 'Distance_3', 'Distance_4', 'Distance_5', 'Distance_6', 'StateHoliday_0', 'StateHoliday_a', 'StateHoliday_b', 'StateHoliday_c', 'SchoolHoliday_0', 'SchoolHoliday_1', 'StoreType_a', 'StoreType_b', 'StoreType_c', 'StoreType_d', 'Assortment_a', 'Assortment_b', 'Assortment_c']\n"
     ]
    }
   ],
   "source": [
    "# Choose columns\n",
    "features = list(train.columns)\n",
    "[features.remove(c) for c in ['Sales', 'Date', 'Customers', 'PromoInterval', 'CompetitionOpenSinceMonth', 'CompetitionOpenSinceYear', 'Promo2SinceYear', 'Promo2SinceWeek']]\n",
    "print \"Features: \"\n",
    "print features"
   ]
  },
  {
   "cell_type": "code",
   "execution_count": 127,
   "metadata": {
    "collapsed": false
   },
   "outputs": [
    {
     "data": {
      "text/plain": [
       "Store                    int64\n",
       "DayOfWeek                int64\n",
       "Open                     int64\n",
       "Promo                    int64\n",
       "CompetitionDistance    float64\n",
       "Promo2                   int64\n",
       "Day                      int64\n",
       "Month                    int64\n",
       "Year                     int64\n",
       "DayOfYear                int64\n",
       "WeekOfYear               int64\n",
       "CompetitionOpen        float64\n",
       "PromoOpen              float64\n",
       "p_1                      int64\n",
       "p_2                      int64\n",
       "p_3                      int64\n",
       "p_4                      int64\n",
       "Promo_Jan                int64\n",
       "Promo_Feb                int64\n",
       "Promo_Mar                int64\n",
       "Promo_Apr                int64\n",
       "Promo_May                int64\n",
       "Promo_Jun                int64\n",
       "Promo_Jul                int64\n",
       "Promo_Aug                int64\n",
       "Promo_Sep                int64\n",
       "Promo_Oct                int64\n",
       "Promo_Nov                int64\n",
       "Promo_Dec                int64\n",
       "Distance_1               int64\n",
       "Distance_2               int64\n",
       "Distance_3               int64\n",
       "Distance_4               int64\n",
       "Distance_5               int64\n",
       "Distance_6               int64\n",
       "StateHoliday_0         float64\n",
       "StateHoliday_a         float64\n",
       "StateHoliday_b         float64\n",
       "StateHoliday_c         float64\n",
       "SchoolHoliday_0        float64\n",
       "SchoolHoliday_1        float64\n",
       "StoreType_a            float64\n",
       "StoreType_b            float64\n",
       "StoreType_c            float64\n",
       "StoreType_d            float64\n",
       "Assortment_a           float64\n",
       "Assortment_b           float64\n",
       "Assortment_c           float64\n",
       "dtype: object"
      ]
     },
     "execution_count": 127,
     "metadata": {},
     "output_type": "execute_result"
    }
   ],
   "source": [
    "train[features].dtypes"
   ]
  },
  {
   "cell_type": "code",
   "execution_count": 128,
   "metadata": {
    "collapsed": false
   },
   "outputs": [
    {
     "data": {
      "text/plain": [
       "Index([u'Store', u'DayOfWeek', u'Open', u'Promo', u'CompetitionDistance',\n",
       "       u'Promo2', u'Day', u'Month', u'Year', u'DayOfYear', u'WeekOfYear',\n",
       "       u'CompetitionOpen', u'PromoOpen', u'p_1', u'p_2', u'p_3', u'p_4',\n",
       "       u'Promo_Jan', u'Promo_Feb', u'Promo_Mar', u'Promo_Apr', u'Promo_May',\n",
       "       u'Promo_Jun', u'Promo_Jul', u'Promo_Aug', u'Promo_Sep', u'Promo_Oct',\n",
       "       u'Promo_Nov', u'Promo_Dec', u'Distance_1', u'Distance_2', u'Distance_3',\n",
       "       u'Distance_4', u'Distance_5', u'Distance_6', u'StateHoliday_0',\n",
       "       u'StateHoliday_a', u'StateHoliday_b', u'StateHoliday_c',\n",
       "       u'SchoolHoliday_0', u'SchoolHoliday_1', u'StoreType_a', u'StoreType_b',\n",
       "       u'StoreType_c', u'StoreType_d', u'Assortment_a', u'Assortment_b',\n",
       "       u'Assortment_c'],\n",
       "      dtype='object')"
      ]
     },
     "execution_count": 128,
     "metadata": {},
     "output_type": "execute_result"
    }
   ],
   "source": [
    "train[features].columns"
   ]
  },
  {
   "cell_type": "code",
   "execution_count": 287,
   "metadata": {
    "collapsed": false
   },
   "outputs": [
    {
     "data": {
      "image/png": "[encoded data removed]",
      "text/plain": [
       "<matplotlib.figure.Figure at 0x7f1dd41e4990>"
      ]
     },
     "metadata": {},
     "output_type": "display_data"
    }
   ],
   "source": [
    "sns.jointplot(x='CompetitionDistance', y='Sales', data=train[train.CompetitionDistance != 0].groupby('Store').mean(), size=10);"
   ]
  },
  {
   "cell_type": "markdown",
   "metadata": {},
   "source": [
    "## Train XGBoost and predict sales "
   ]
  },
  {
   "cell_type": "markdown",
   "metadata": {},
   "source": [
    "### 0. Cross Validation "
   ]
  },
  {
   "cell_type": "code",
   "execution_count": 195,
   "metadata": {
    "collapsed": false
   },
   "outputs": [],
   "source": [
    "from sklearn.cross_validation import train_test_split\n",
    "xtrain = train[train.Sales != 0][features]\n",
    "ytrain = train[train.Sales != 0].Sales\n",
    "x_tr, x_cv, y_tr, y_cv = train_test_split(xtrain, ytrain, test_size = 0.05,  random_state = 42)"
   ]
  },
  {
   "cell_type": "code",
   "execution_count": 229,
   "metadata": {
    "collapsed": false
   },
   "outputs": [],
   "source": [
    "x_tr = train.loc[(train.Sales != 0) & (train.Date < np.datetime64('2015-06-01T00:00:00.000000000+0000'))]\n",
    "x_cv = train.loc[(train.Sales != 0) & (train.Date >= np.datetime64('2015-06-01T00:00:00.000000000+0000'))]\n",
    "y_tr = x_tr.Sales\n",
    "y_cv = x_cv.Sales\n",
    "x_tr = x_tr[features]\n",
    "x_cv = x_cv[features]"
   ]
  },
  {
   "cell_type": "code",
   "execution_count": 196,
   "metadata": {
    "collapsed": true
   },
   "outputs": [],
   "source": [
    "# Thanks to Chenglong Chen for providing this in the forum\n",
    "def ToWeight(y):\n",
    "    w = np.zeros(y.shape, dtype=float)\n",
    "    ind = y != 0\n",
    "    w[ind] = 1./(y[ind]**2)\n",
    "    return w\n",
    "\n",
    "\n",
    "def rmspe(yhat, y):\n",
    "    w = ToWeight(y)\n",
    "    rmspe = np.sqrt(np.mean( w * (y - yhat)**2 ))\n",
    "    return rmspe\n",
    "\n",
    "\n",
    "def rmspe_xg(yhat, y):\n",
    "    # y = y.values\n",
    "    y = y.get_label()\n",
    "    y = np.exp(y) - 1\n",
    "    yhat = np.exp(yhat) - 1\n",
    "    w = ToWeight(y)\n",
    "    rmspe = np.sqrt(np.mean(w * (y - yhat)**2))\n",
    "    return \"rmspe\", rmspe"
   ]
  },
  {
   "cell_type": "code",
   "execution_count": 218,
   "metadata": {
    "collapsed": false
   },
   "outputs": [
    {
     "name": "stdout",
     "output_type": "stream",
     "text": [
      "CPU times: user 3min 29s, sys: 1.25 s, total: 3min 30s\n",
      "Wall time: 1min 29s\n"
     ]
    }
   ],
   "source": [
    "%%time\n",
    "from sklearn.ensemble import RandomForestRegressor\n",
    "clf = RandomForestRegressor(n_estimators=10, n_jobs=3, random_state=42, oob_score=True)\n",
    "clf.fit(x_tr, y_tr)\n",
    "pred_RF = clf.predict(x_cv)"
   ]
  },
  {
   "cell_type": "code",
   "execution_count": 217,
   "metadata": {
    "collapsed": false
   },
   "outputs": [
    {
     "data": {
      "text/plain": [
       "0.12859339047224744"
      ]
     },
     "execution_count": 217,
     "metadata": {},
     "output_type": "execute_result"
    }
   ],
   "source": [
    "rmspe(y_cv, pred_RF)"
   ]
  },
  {
   "cell_type": "code",
   "execution_count": 200,
   "metadata": {
    "collapsed": false
   },
   "outputs": [
    {
     "name": "stdout",
     "output_type": "stream",
     "text": [
      "Feature ranking:\n"
     ]
    },
    {
     "data": {
      "image/png": "[encoded data removed]",
      "text/plain": [
       "<matplotlib.figure.Figure at 0x7fc9d246b450>"
      ]
     },
     "metadata": {},
     "output_type": "display_data"
    }
   ],
   "source": [
    "# Show feature importances\n",
    "import pylab\n",
    "import scipy\n",
    "\n",
    "importances = clf.feature_importances_\n",
    "# std = np.std([tree.feature_importances_ for tree in clf.estimators_], axis=0)\n",
    "indices = np.argsort(importances)[::-1]\n",
    "\n",
    "print(\"Feature ranking:\")\n",
    "\n",
    "labels = [features[i] for i in indices.tolist()]\n",
    "x = scipy.array(indices)\n",
    "y = scipy.array(importances[indices])\n",
    "f = pylab.figure(figsize=(16,5))\n",
    "ax = f.add_axes([0.1, 0.1, 0.8, 0.8])\n",
    "ax.bar(x, y, align='center')\n",
    "ax.set_xticks(x)\n",
    "ax.set_xticklabels(labels, rotation=90)\n",
    "f.show()"
   ]
  },
  {
   "cell_type": "markdown",
   "metadata": {},
   "source": [
    "### 1. Check XGB score "
   ]
  },
  {
   "cell_type": "code",
   "execution_count": 139,
   "metadata": {
    "collapsed": false
   },
   "outputs": [],
   "source": [
    "# Set params\n",
    "\n",
    "params = {\"objective\": \"reg:linear\",\n",
    "          \"booster\": \"gbtree\",\n",
    "          \"eta\": 0.2,\n",
    "          \"max_depth\": 10,\n",
    "          \"subsample\": 0.9,\n",
    "          \"colsample_bytree\": 0.7,\n",
    "          \"silent\": 1\n",
    "          }\n",
    "num_trees = 300\n",
    "stop = 20"
   ]
  },
  {
   "cell_type": "code",
   "execution_count": 203,
   "metadata": {
    "collapsed": false,
    "scrolled": true
   },
   "outputs": [
    {
     "name": "stderr",
     "output_type": "stream",
     "text": [
      "Will train until train error hasn't decreased in 20 rounds.\n",
      "[0]\teval-rmspe:0.998703\ttrain-rmspe:0.998706\n",
      "[1]\teval-rmspe:0.994692\ttrain-rmspe:0.994707\n",
      "[2]\teval-rmspe:0.984477\ttrain-rmspe:0.984519\n",
      "[3]\teval-rmspe:0.963981\ttrain-rmspe:0.964073\n",
      "[4]\teval-rmspe:0.929669\ttrain-rmspe:0.929785\n",
      "[5]\teval-rmspe:0.880163\ttrain-rmspe:0.880290\n",
      "[6]\teval-rmspe:0.816942\ttrain-rmspe:0.817082\n",
      "[7]\teval-rmspe:0.743612\ttrain-rmspe:0.743705\n",
      "[8]\teval-rmspe:0.665579\ttrain-rmspe:0.665582\n",
      "[9]\teval-rmspe:0.588589\ttrain-rmspe:0.588430\n",
      "[10]\teval-rmspe:0.516435\ttrain-rmspe:0.516249\n",
      "[11]\teval-rmspe:0.453389\ttrain-rmspe:0.452934\n",
      "[12]\teval-rmspe:0.401050\ttrain-rmspe:0.400209\n",
      "[13]\teval-rmspe:0.359406\ttrain-rmspe:0.358302\n",
      "[14]\teval-rmspe:0.330699\ttrain-rmspe:0.328325\n",
      "[15]\teval-rmspe:0.309726\ttrain-rmspe:0.307296\n",
      "[16]\teval-rmspe:0.297693\ttrain-rmspe:0.294705\n",
      "[17]\teval-rmspe:0.283630\ttrain-rmspe:0.280310\n",
      "[18]\teval-rmspe:0.279123\ttrain-rmspe:0.276210\n",
      "[19]\teval-rmspe:0.275750\ttrain-rmspe:0.272872\n",
      "[20]\teval-rmspe:0.274341\ttrain-rmspe:0.272095\n",
      "[21]\teval-rmspe:0.269760\ttrain-rmspe:0.265502\n",
      "[22]\teval-rmspe:0.268295\ttrain-rmspe:0.264915\n",
      "[23]\teval-rmspe:0.269272\ttrain-rmspe:0.265997\n",
      "[24]\teval-rmspe:0.266757\ttrain-rmspe:0.263453\n",
      "[25]\teval-rmspe:0.259172\ttrain-rmspe:0.254753\n",
      "[26]\teval-rmspe:0.257609\ttrain-rmspe:0.253434\n",
      "[27]\teval-rmspe:0.256725\ttrain-rmspe:0.252917\n",
      "[28]\teval-rmspe:0.256505\ttrain-rmspe:0.252703\n",
      "[29]\teval-rmspe:0.248401\ttrain-rmspe:0.244496\n",
      "[30]\teval-rmspe:0.248701\ttrain-rmspe:0.244177\n",
      "[31]\teval-rmspe:0.247773\ttrain-rmspe:0.241751\n",
      "[32]\teval-rmspe:0.244238\ttrain-rmspe:0.235727\n",
      "[33]\teval-rmspe:0.243477\ttrain-rmspe:0.234666\n",
      "[34]\teval-rmspe:0.240744\ttrain-rmspe:0.231782\n",
      "[35]\teval-rmspe:0.238895\ttrain-rmspe:0.229621\n",
      "[36]\teval-rmspe:0.236959\ttrain-rmspe:0.227802\n",
      "[37]\teval-rmspe:0.232935\ttrain-rmspe:0.223873\n",
      "[38]\teval-rmspe:0.231438\ttrain-rmspe:0.221889\n",
      "[39]\teval-rmspe:0.230747\ttrain-rmspe:0.216142\n",
      "[40]\teval-rmspe:0.229431\ttrain-rmspe:0.214073\n",
      "[41]\teval-rmspe:0.227903\ttrain-rmspe:0.212334\n",
      "[42]\teval-rmspe:0.227273\ttrain-rmspe:0.211700\n",
      "[43]\teval-rmspe:0.223995\ttrain-rmspe:0.208322\n",
      "[44]\teval-rmspe:0.221140\ttrain-rmspe:0.207720\n",
      "[45]\teval-rmspe:0.218750\ttrain-rmspe:0.207417\n",
      "[46]\teval-rmspe:0.217371\ttrain-rmspe:0.206165\n",
      "[47]\teval-rmspe:0.216371\ttrain-rmspe:0.204858\n",
      "[48]\teval-rmspe:0.215433\ttrain-rmspe:0.203442\n",
      "[49]\teval-rmspe:0.214478\ttrain-rmspe:0.202440\n",
      "[50]\teval-rmspe:0.213933\ttrain-rmspe:0.201807\n",
      "[51]\teval-rmspe:0.213035\ttrain-rmspe:0.200869\n",
      "[52]\teval-rmspe:0.210238\ttrain-rmspe:0.197952\n",
      "[53]\teval-rmspe:0.206411\ttrain-rmspe:0.195008\n",
      "[54]\teval-rmspe:0.204425\ttrain-rmspe:0.192018\n",
      "[55]\teval-rmspe:0.200956\ttrain-rmspe:0.188155\n",
      "[56]\teval-rmspe:0.200445\ttrain-rmspe:0.187459\n",
      "[57]\teval-rmspe:0.199798\ttrain-rmspe:0.186792\n",
      "[58]\teval-rmspe:0.198463\ttrain-rmspe:0.185408\n",
      "[59]\teval-rmspe:0.198094\ttrain-rmspe:0.184995\n",
      "[60]\teval-rmspe:0.197196\ttrain-rmspe:0.184015\n",
      "[61]\teval-rmspe:0.196504\ttrain-rmspe:0.183458\n",
      "[62]\teval-rmspe:0.196023\ttrain-rmspe:0.182576\n",
      "[63]\teval-rmspe:0.194895\ttrain-rmspe:0.181411\n",
      "[64]\teval-rmspe:0.193477\ttrain-rmspe:0.179945\n",
      "[65]\teval-rmspe:0.192757\ttrain-rmspe:0.179207\n",
      "[66]\teval-rmspe:0.191690\ttrain-rmspe:0.179516\n",
      "[67]\teval-rmspe:0.191519\ttrain-rmspe:0.177339\n",
      "[68]\teval-rmspe:0.190839\ttrain-rmspe:0.174897\n",
      "[69]\teval-rmspe:0.190596\ttrain-rmspe:0.173917\n",
      "[70]\teval-rmspe:0.189908\ttrain-rmspe:0.173009\n",
      "[71]\teval-rmspe:0.189208\ttrain-rmspe:0.172204\n",
      "[72]\teval-rmspe:0.188937\ttrain-rmspe:0.171912\n",
      "[73]\teval-rmspe:0.187854\ttrain-rmspe:0.170727\n",
      "[74]\teval-rmspe:0.186970\ttrain-rmspe:0.169530\n",
      "[75]\teval-rmspe:0.183555\ttrain-rmspe:0.168512\n",
      "[76]\teval-rmspe:0.183171\ttrain-rmspe:0.168014\n",
      "[77]\teval-rmspe:0.182548\ttrain-rmspe:0.167363\n",
      "[78]\teval-rmspe:0.182111\ttrain-rmspe:0.166917\n",
      "[79]\teval-rmspe:0.181801\ttrain-rmspe:0.166285\n",
      "[80]\teval-rmspe:0.180844\ttrain-rmspe:0.165264\n",
      "[81]\teval-rmspe:0.180741\ttrain-rmspe:0.164892\n",
      "[82]\teval-rmspe:0.180115\ttrain-rmspe:0.164191\n",
      "[83]\teval-rmspe:0.179491\ttrain-rmspe:0.163510\n",
      "[84]\teval-rmspe:0.179086\ttrain-rmspe:0.163020\n",
      "[85]\teval-rmspe:0.178526\ttrain-rmspe:0.161420\n",
      "[86]\teval-rmspe:0.178394\ttrain-rmspe:0.161218\n",
      "[87]\teval-rmspe:0.177986\ttrain-rmspe:0.160015\n",
      "[88]\teval-rmspe:0.177313\ttrain-rmspe:0.159193\n",
      "[89]\teval-rmspe:0.173051\ttrain-rmspe:0.159877\n",
      "[90]\teval-rmspe:0.171841\ttrain-rmspe:0.158651\n",
      "[91]\teval-rmspe:0.170873\ttrain-rmspe:0.157444\n",
      "[92]\teval-rmspe:0.170638\ttrain-rmspe:0.157157\n",
      "[93]\teval-rmspe:0.170371\ttrain-rmspe:0.156819\n",
      "[94]\teval-rmspe:0.169742\ttrain-rmspe:0.156230\n",
      "[95]\teval-rmspe:0.169621\ttrain-rmspe:0.156084\n",
      "[96]\teval-rmspe:0.169336\ttrain-rmspe:0.155796\n",
      "[97]\teval-rmspe:0.169067\ttrain-rmspe:0.155290\n",
      "[98]\teval-rmspe:0.168968\ttrain-rmspe:0.155151\n",
      "[99]\teval-rmspe:0.168919\ttrain-rmspe:0.155043\n",
      "[100]\teval-rmspe:0.168156\ttrain-rmspe:0.154174\n",
      "[101]\teval-rmspe:0.167904\ttrain-rmspe:0.153757\n",
      "[102]\teval-rmspe:0.167754\ttrain-rmspe:0.153503\n",
      "[103]\teval-rmspe:0.167336\ttrain-rmspe:0.153008\n",
      "[104]\teval-rmspe:0.166250\ttrain-rmspe:0.153241\n",
      "[105]\teval-rmspe:0.165892\ttrain-rmspe:0.152808\n",
      "[106]\teval-rmspe:0.165538\ttrain-rmspe:0.152307\n",
      "[107]\teval-rmspe:0.163252\ttrain-rmspe:0.151419\n",
      "[108]\teval-rmspe:0.162855\ttrain-rmspe:0.151165\n",
      "[109]\teval-rmspe:0.162722\ttrain-rmspe:0.150918\n",
      "[110]\teval-rmspe:0.162494\ttrain-rmspe:0.150683\n",
      "[111]\teval-rmspe:0.162341\ttrain-rmspe:0.150127\n",
      "[112]\teval-rmspe:0.162280\ttrain-rmspe:0.150022\n",
      "[113]\teval-rmspe:0.162178\ttrain-rmspe:0.149870\n",
      "[114]\teval-rmspe:0.162053\ttrain-rmspe:0.149768\n",
      "[115]\teval-rmspe:0.161769\ttrain-rmspe:0.149365\n",
      "[116]\teval-rmspe:0.161746\ttrain-rmspe:0.149286\n",
      "[117]\teval-rmspe:0.161639\ttrain-rmspe:0.149066\n",
      "[118]\teval-rmspe:0.161494\ttrain-rmspe:0.148888\n",
      "[119]\teval-rmspe:0.161322\ttrain-rmspe:0.148735\n",
      "[120]\teval-rmspe:0.160799\ttrain-rmspe:0.147945\n",
      "[121]\teval-rmspe:0.160721\ttrain-rmspe:0.147545\n",
      "[122]\teval-rmspe:0.161003\ttrain-rmspe:0.147212\n",
      "[123]\teval-rmspe:0.160771\ttrain-rmspe:0.146927\n",
      "[124]\teval-rmspe:0.160755\ttrain-rmspe:0.146859\n",
      "[125]\teval-rmspe:0.160629\ttrain-rmspe:0.146645\n",
      "[126]\teval-rmspe:0.160533\ttrain-rmspe:0.146524\n",
      "[127]\teval-rmspe:0.160400\ttrain-rmspe:0.146360\n",
      "[128]\teval-rmspe:0.160302\ttrain-rmspe:0.146251\n",
      "[129]\teval-rmspe:0.160228\ttrain-rmspe:0.146129\n",
      "[130]\teval-rmspe:0.159908\ttrain-rmspe:0.145851\n",
      "[131]\teval-rmspe:0.159702\ttrain-rmspe:0.145616\n",
      "[132]\teval-rmspe:0.159611\ttrain-rmspe:0.145382\n",
      "[133]\teval-rmspe:0.159562\ttrain-rmspe:0.145329\n",
      "[134]\teval-rmspe:0.159495\ttrain-rmspe:0.145213\n",
      "[135]\teval-rmspe:0.159638\ttrain-rmspe:0.145535\n",
      "[136]\teval-rmspe:0.159667\ttrain-rmspe:0.145372\n",
      "[137]\teval-rmspe:0.159450\ttrain-rmspe:0.144626\n",
      "[138]\teval-rmspe:0.159271\ttrain-rmspe:0.144356\n",
      "[139]\teval-rmspe:0.159082\ttrain-rmspe:0.144079\n",
      "[140]\teval-rmspe:0.159014\ttrain-rmspe:0.143911\n",
      "[141]\teval-rmspe:0.158929\ttrain-rmspe:0.143731\n",
      "[142]\teval-rmspe:0.158834\ttrain-rmspe:0.143562\n",
      "[143]\teval-rmspe:0.158755\ttrain-rmspe:0.143414\n",
      "[144]\teval-rmspe:0.158483\ttrain-rmspe:0.143163\n",
      "[145]\teval-rmspe:0.158386\ttrain-rmspe:0.142799\n",
      "[146]\teval-rmspe:0.158211\ttrain-rmspe:0.142663\n",
      "[147]\teval-rmspe:0.158135\ttrain-rmspe:0.142542\n",
      "[148]\teval-rmspe:0.158046\ttrain-rmspe:0.142484\n",
      "[149]\teval-rmspe:0.158001\ttrain-rmspe:0.142360\n",
      "[150]\teval-rmspe:0.155313\ttrain-rmspe:0.142127\n",
      "[151]\teval-rmspe:0.153028\ttrain-rmspe:0.141677\n",
      "[152]\teval-rmspe:0.153013\ttrain-rmspe:0.141637\n",
      "[153]\teval-rmspe:0.152931\ttrain-rmspe:0.141506\n",
      "[154]\teval-rmspe:0.152888\ttrain-rmspe:0.141437\n",
      "[155]\teval-rmspe:0.152816\ttrain-rmspe:0.141309\n",
      "[156]\teval-rmspe:0.152747\ttrain-rmspe:0.141206\n",
      "[157]\teval-rmspe:0.152683\ttrain-rmspe:0.141122\n",
      "[158]\teval-rmspe:0.152514\ttrain-rmspe:0.140818\n",
      "[159]\teval-rmspe:0.151330\ttrain-rmspe:0.140719\n",
      "[160]\teval-rmspe:0.151417\ttrain-rmspe:0.140475\n",
      "[161]\teval-rmspe:0.151247\ttrain-rmspe:0.140279\n",
      "[162]\teval-rmspe:0.151269\ttrain-rmspe:0.140210\n",
      "[163]\teval-rmspe:0.151228\ttrain-rmspe:0.140161\n",
      "[164]\teval-rmspe:0.151029\ttrain-rmspe:0.140003\n",
      "[165]\teval-rmspe:0.150764\ttrain-rmspe:0.139723\n",
      "[166]\teval-rmspe:0.150697\ttrain-rmspe:0.139608\n",
      "[167]\teval-rmspe:0.150488\ttrain-rmspe:0.119971\n",
      "[168]\teval-rmspe:0.150322\ttrain-rmspe:0.119817\n",
      "[169]\teval-rmspe:0.150168\ttrain-rmspe:0.119602\n",
      "[170]\teval-rmspe:0.149905\ttrain-rmspe:0.119317\n",
      "[171]\teval-rmspe:0.149858\ttrain-rmspe:0.119180\n",
      "[172]\teval-rmspe:0.149767\ttrain-rmspe:0.119056\n",
      "[173]\teval-rmspe:0.149696\ttrain-rmspe:0.118922\n",
      "[174]\teval-rmspe:0.149468\ttrain-rmspe:0.118606\n",
      "[175]\teval-rmspe:0.149445\ttrain-rmspe:0.118544\n",
      "[176]\teval-rmspe:0.149438\ttrain-rmspe:0.118484\n",
      "[177]\teval-rmspe:0.149396\ttrain-rmspe:0.118033\n",
      "[178]\teval-rmspe:0.149375\ttrain-rmspe:0.117905\n",
      "[179]\teval-rmspe:0.149169\ttrain-rmspe:0.117693\n",
      "[180]\teval-rmspe:0.149104\ttrain-rmspe:0.117587\n",
      "[181]\teval-rmspe:0.148974\ttrain-rmspe:0.117379\n",
      "[182]\teval-rmspe:0.148869\ttrain-rmspe:0.117249\n",
      "[183]\teval-rmspe:0.148793\ttrain-rmspe:0.117116\n",
      "[184]\teval-rmspe:0.148761\ttrain-rmspe:0.117059\n",
      "[185]\teval-rmspe:0.148731\ttrain-rmspe:0.116958\n",
      "[186]\teval-rmspe:0.149530\ttrain-rmspe:0.116850\n",
      "[187]\teval-rmspe:0.148177\ttrain-rmspe:0.116566\n",
      "[188]\teval-rmspe:0.148031\ttrain-rmspe:0.116453\n",
      "[189]\teval-rmspe:0.147993\ttrain-rmspe:0.116317\n",
      "[190]\teval-rmspe:0.147792\ttrain-rmspe:0.116173\n",
      "[191]\teval-rmspe:0.147751\ttrain-rmspe:0.116071\n",
      "[192]\teval-rmspe:0.147692\ttrain-rmspe:0.115949\n",
      "[193]\teval-rmspe:0.147606\ttrain-rmspe:0.115838\n",
      "[194]\teval-rmspe:0.147563\ttrain-rmspe:0.115755\n",
      "[195]\teval-rmspe:0.147348\ttrain-rmspe:0.115371\n",
      "[196]\teval-rmspe:0.147770\ttrain-rmspe:0.115288\n",
      "[197]\teval-rmspe:0.147762\ttrain-rmspe:0.115224\n",
      "[198]\teval-rmspe:0.147640\ttrain-rmspe:0.115047\n",
      "[199]\teval-rmspe:0.147530\ttrain-rmspe:0.114807\n",
      "[200]\teval-rmspe:0.147465\ttrain-rmspe:0.114671\n",
      "[201]\teval-rmspe:0.147448\ttrain-rmspe:0.114526\n",
      "[202]\teval-rmspe:0.147416\ttrain-rmspe:0.114417\n",
      "[203]\teval-rmspe:0.147310\ttrain-rmspe:0.114295\n",
      "[204]\teval-rmspe:0.147250\ttrain-rmspe:0.114195\n",
      "[205]\teval-rmspe:0.147229\ttrain-rmspe:0.114138\n",
      "[206]\teval-rmspe:0.147266\ttrain-rmspe:0.113604\n",
      "[207]\teval-rmspe:0.147257\ttrain-rmspe:0.113581\n",
      "[208]\teval-rmspe:0.147150\ttrain-rmspe:0.113177\n",
      "[209]\teval-rmspe:0.147122\ttrain-rmspe:0.113013\n",
      "[210]\teval-rmspe:0.147106\ttrain-rmspe:0.112981\n",
      "[211]\teval-rmspe:0.147003\ttrain-rmspe:0.112858\n",
      "[212]\teval-rmspe:0.146936\ttrain-rmspe:0.112779\n",
      "[213]\teval-rmspe:0.146868\ttrain-rmspe:0.112650\n",
      "[214]\teval-rmspe:0.146821\ttrain-rmspe:0.112268\n",
      "[215]\teval-rmspe:0.146751\ttrain-rmspe:0.112091\n",
      "[216]\teval-rmspe:0.146746\ttrain-rmspe:0.112044\n",
      "[217]\teval-rmspe:0.146655\ttrain-rmspe:0.111901\n",
      "[218]\teval-rmspe:0.146632\ttrain-rmspe:0.111800\n",
      "[219]\teval-rmspe:0.146583\ttrain-rmspe:0.111723\n",
      "[220]\teval-rmspe:0.146557\ttrain-rmspe:0.111633\n",
      "[221]\teval-rmspe:0.146519\ttrain-rmspe:0.111595\n",
      "[222]\teval-rmspe:0.146505\ttrain-rmspe:0.111567\n",
      "[223]\teval-rmspe:0.146411\ttrain-rmspe:0.111472\n",
      "[224]\teval-rmspe:0.146213\ttrain-rmspe:0.110719\n",
      "[225]\teval-rmspe:0.146124\ttrain-rmspe:0.110505\n",
      "[226]\teval-rmspe:0.145664\ttrain-rmspe:0.110218\n",
      "[227]\teval-rmspe:0.145746\ttrain-rmspe:0.110036\n",
      "[228]\teval-rmspe:0.145692\ttrain-rmspe:0.109907\n",
      "[229]\teval-rmspe:0.145681\ttrain-rmspe:0.109596\n",
      "[230]\teval-rmspe:0.145534\ttrain-rmspe:0.109450\n",
      "[231]\teval-rmspe:0.145444\ttrain-rmspe:0.109286\n",
      "[232]\teval-rmspe:0.145407\ttrain-rmspe:0.109176\n",
      "[233]\teval-rmspe:0.145384\ttrain-rmspe:0.109109\n",
      "[234]\teval-rmspe:0.145354\ttrain-rmspe:0.109018\n",
      "[235]\teval-rmspe:0.145182\ttrain-rmspe:0.107195\n",
      "[236]\teval-rmspe:0.145141\ttrain-rmspe:0.107085\n",
      "[237]\teval-rmspe:0.145106\ttrain-rmspe:0.106885\n",
      "[238]\teval-rmspe:0.145079\ttrain-rmspe:0.106311\n",
      "[239]\teval-rmspe:0.145071\ttrain-rmspe:0.106141\n",
      "[240]\teval-rmspe:0.145049\ttrain-rmspe:0.106034\n",
      "[241]\teval-rmspe:0.144980\ttrain-rmspe:0.105948\n",
      "[242]\teval-rmspe:0.144898\ttrain-rmspe:0.105790\n",
      "[243]\teval-rmspe:0.144140\ttrain-rmspe:0.098036\n",
      "[244]\teval-rmspe:0.144120\ttrain-rmspe:0.097958\n",
      "[245]\teval-rmspe:0.144140\ttrain-rmspe:0.097854\n",
      "[246]\teval-rmspe:0.144068\ttrain-rmspe:0.097738\n",
      "[247]\teval-rmspe:0.144121\ttrain-rmspe:0.097647\n",
      "[248]\teval-rmspe:0.144060\ttrain-rmspe:0.097520\n",
      "[249]\teval-rmspe:0.144016\ttrain-rmspe:0.097434\n",
      "[250]\teval-rmspe:0.143980\ttrain-rmspe:0.097297\n",
      "[251]\teval-rmspe:0.143956\ttrain-rmspe:0.097185\n",
      "[252]\teval-rmspe:0.143894\ttrain-rmspe:0.097078\n",
      "[253]\teval-rmspe:0.143324\ttrain-rmspe:0.096984\n",
      "[254]\teval-rmspe:0.143068\ttrain-rmspe:0.096898\n",
      "[255]\teval-rmspe:0.142967\ttrain-rmspe:0.096774\n",
      "[256]\teval-rmspe:0.142881\ttrain-rmspe:0.096559\n",
      "[257]\teval-rmspe:0.142864\ttrain-rmspe:0.096508\n",
      "[258]\teval-rmspe:0.142568\ttrain-rmspe:0.095390\n",
      "[259]\teval-rmspe:0.142446\ttrain-rmspe:0.095307\n",
      "[260]\teval-rmspe:0.142445\ttrain-rmspe:0.095243\n",
      "[261]\teval-rmspe:0.142433\ttrain-rmspe:0.095204\n",
      "[262]\teval-rmspe:0.142432\ttrain-rmspe:0.095148\n",
      "[263]\teval-rmspe:0.142435\ttrain-rmspe:0.095003\n",
      "[264]\teval-rmspe:0.142367\ttrain-rmspe:0.094822\n",
      "[265]\teval-rmspe:0.141720\ttrain-rmspe:0.094780\n",
      "[266]\teval-rmspe:0.141752\ttrain-rmspe:0.094557\n",
      "[267]\teval-rmspe:0.141736\ttrain-rmspe:0.094492\n",
      "[268]\teval-rmspe:0.141731\ttrain-rmspe:0.094115\n",
      "[269]\teval-rmspe:0.141667\ttrain-rmspe:0.094012\n",
      "[270]\teval-rmspe:0.141647\ttrain-rmspe:0.093963\n",
      "[271]\teval-rmspe:0.141563\ttrain-rmspe:0.093851\n",
      "[272]\teval-rmspe:0.141533\ttrain-rmspe:0.093782\n",
      "[273]\teval-rmspe:0.141434\ttrain-rmspe:0.093687\n",
      "[274]\teval-rmspe:0.141397\ttrain-rmspe:0.093604\n",
      "[275]\teval-rmspe:0.141388\ttrain-rmspe:0.093559\n",
      "[276]\teval-rmspe:0.141335\ttrain-rmspe:0.093505\n",
      "[277]\teval-rmspe:0.141332\ttrain-rmspe:0.093452\n",
      "[278]\teval-rmspe:0.141316\ttrain-rmspe:0.093351\n",
      "[279]\teval-rmspe:0.141298\ttrain-rmspe:0.093220\n",
      "[280]\teval-rmspe:0.141278\ttrain-rmspe:0.093144\n",
      "[281]\teval-rmspe:0.141249\ttrain-rmspe:0.093054\n",
      "[282]\teval-rmspe:0.141376\ttrain-rmspe:0.092988\n",
      "[283]\teval-rmspe:0.141254\ttrain-rmspe:0.092913\n",
      "[284]\teval-rmspe:0.141168\ttrain-rmspe:0.092616\n",
      "[285]\teval-rmspe:0.141159\ttrain-rmspe:0.092576\n",
      "[286]\teval-rmspe:0.141070\ttrain-rmspe:0.092516\n",
      "[287]\teval-rmspe:0.141049\ttrain-rmspe:0.092458\n",
      "[288]\teval-rmspe:0.141036\ttrain-rmspe:0.092411\n",
      "[289]\teval-rmspe:0.140997\ttrain-rmspe:0.092314\n",
      "[290]\teval-rmspe:0.140814\ttrain-rmspe:0.092177\n",
      "[291]\teval-rmspe:0.140767\ttrain-rmspe:0.092095\n",
      "[292]\teval-rmspe:0.140749\ttrain-rmspe:0.092039\n",
      "[293]\teval-rmspe:0.140814\ttrain-rmspe:0.091994\n",
      "[294]\teval-rmspe:0.140652\ttrain-rmspe:0.091898\n",
      "[295]\teval-rmspe:0.140734\ttrain-rmspe:0.091539\n",
      "[296]\teval-rmspe:0.140671\ttrain-rmspe:0.091446\n",
      "[297]\teval-rmspe:0.140595\ttrain-rmspe:0.091295\n",
      "[298]\teval-rmspe:0.140550\ttrain-rmspe:0.091182\n",
      "[299]\teval-rmspe:0.140538\ttrain-rmspe:0.091134\n"
     ]
    }
   ],
   "source": [
    "dtrain = xgb.DMatrix(x_tr.values, np.log(y_tr + 1))\n",
    "dvalid = xgb.DMatrix(x_cv.values, np.log(y_cv + 1))\n",
    "watchlist = [(dvalid, 'eval'), (dtrain, 'train')]\n",
    "gbm = xgb.train(params, dtrain, num_trees, evals=watchlist, early_stopping_rounds=stop, feval=rmspe_xg, verbose_eval=True)"
   ]
  },
  {
   "cell_type": "markdown",
   "metadata": {},
   "source": [
    "### 2. Prepare test data and predict "
   ]
  },
  {
   "cell_type": "code",
   "execution_count": 154,
   "metadata": {
    "collapsed": false
   },
   "outputs": [],
   "source": [
    "#Make predictions on the test set\n",
    "dtest = xgb.DMatrix(test[features].as_matrix())\n",
    "XGB = gbm.predict(dtest)\n",
    "indices = XGB < 0\n",
    "XGB[indices] = 0"
   ]
  },
  {
   "cell_type": "code",
   "execution_count": 182,
   "metadata": {
    "collapsed": false
   },
   "outputs": [],
   "source": [
    "submission = pd.DataFrame({\"Id\": test[\"Id\"], \"Sales\": np.exp(XGB) - 1})\n",
    "submission.to_csv(\"submit.csv\", index=False)"
   ]
  },
  {
   "cell_type": "code",
   "execution_count": null,
   "metadata": {
    "collapsed": true
   },
   "outputs": [],
   "source": []
  }
 ],
 "metadata": {
  "kernelspec": {
   "display_name": "Python 2",
   "language": "python",
   "name": "python2"
  },
  "language_info": {
   "codemirror_mode": {
    "name": "ipython",
    "version": 2
   },
   "file_extension": ".py",
   "mimetype": "text/x-python",
   "name": "python",
   "nbconvert_exporter": "python",
   "pygments_lexer": "ipython2",
   "version": "2.7.6"
  }
 },
 "nbformat": 4,
 "nbformat_minor": 0
}
