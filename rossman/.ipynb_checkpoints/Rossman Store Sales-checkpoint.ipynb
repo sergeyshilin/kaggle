{
 "cells": [
  {
   "cell_type": "code",
   "execution_count": 1,
   "metadata": {
    "collapsed": false,
    "scrolled": false
   },
   "outputs": [],
   "source": [
    "%matplotlib inline\n",
    "import numpy as np\n",
    "import pandas as pd\n",
    "import matplotlib.pyplot as plt\n",
    "from datetime import datetime\n",
    "from sklearn import cross_validation\n",
    "import seaborn as sns\n",
    "import xgboost as xgb"
   ]
  },
  {
   "cell_type": "markdown",
   "metadata": {},
   "source": [
    "## Get the data"
   ]
  },
  {
   "cell_type": "code",
   "execution_count": 2,
   "metadata": {
    "collapsed": false
   },
   "outputs": [],
   "source": [
    "# dateparse = lambda x: datetime.strptime(x, '%Y-%m-%d')\n",
    "train = pd.read_csv('data/train.csv', low_memory=False, parse_dates = ['Date'])\n",
    "test = pd.read_csv('data/test.csv', low_memory=False, parse_dates = ['Date'])\n",
    "stores = pd.read_csv('data/store.csv', low_memory=False)"
   ]
  },
  {
   "cell_type": "code",
   "execution_count": 3,
   "metadata": {
    "collapsed": false
   },
   "outputs": [
    {
     "name": "stdout",
     "output_type": "stream",
     "text": [
      "Store            0\n",
      "DayOfWeek        0\n",
      "Date             0\n",
      "Sales            0\n",
      "Customers        0\n",
      "Open             0\n",
      "Promo            0\n",
      "StateHoliday     0\n",
      "SchoolHoliday    0\n",
      "dtype: int64\n",
      "Id                0\n",
      "Store             0\n",
      "DayOfWeek         0\n",
      "Date              0\n",
      "Open             11\n",
      "Promo             0\n",
      "StateHoliday      0\n",
      "SchoolHoliday     0\n",
      "dtype: int64\n",
      "Store                          0\n",
      "StoreType                      0\n",
      "Assortment                     0\n",
      "CompetitionDistance            3\n",
      "CompetitionOpenSinceMonth    354\n",
      "CompetitionOpenSinceYear     354\n",
      "Promo2                         0\n",
      "Promo2SinceWeek              544\n",
      "Promo2SinceYear              544\n",
      "PromoInterval                544\n",
      "dtype: int64\n"
     ]
    }
   ],
   "source": [
    "print train.isnull().sum(axis=0)\n",
    "print test.isnull().sum(axis=0)\n",
    "print stores.isnull().sum(axis=0)"
   ]
  },
  {
   "cell_type": "markdown",
   "metadata": {},
   "source": [
    "## Researches "
   ]
  },
  {
   "cell_type": "code",
   "execution_count": 4,
   "metadata": {
    "collapsed": false
   },
   "outputs": [
    {
     "data": {
      "text/plain": [
       "<matplotlib.axes._subplots.AxesSubplot at 0x7fc9df4e9dd0>"
      ]
     },
     "execution_count": 4,
     "metadata": {},
     "output_type": "execute_result"
    },
    {
     "data": {
      "image/png": "[encoded data removed]",
      "text/plain": [
       "<matplotlib.figure.Figure at 0x7fc9df4e9410>"
      ]
     },
     "metadata": {},
     "output_type": "display_data"
    }
   ],
   "source": [
    "train.Sales.hist(bins=50, figsize=(14, 5))"
   ]
  },
  {
   "cell_type": "code",
   "execution_count": 5,
   "metadata": {
    "collapsed": false
   },
   "outputs": [
    {
     "data": {
      "text/plain": [
       "0.16994639253093513"
      ]
     },
     "execution_count": 5,
     "metadata": {},
     "output_type": "execute_result"
    }
   ],
   "source": [
    "# Percentage of zero Sales -- 17%  !!!\n",
    "(train.Sales == 0).mean()"
   ]
  },
  {
   "cell_type": "markdown",
   "metadata": {},
   "source": [
    "## Prepare the data"
   ]
  },
  {
   "cell_type": "code",
   "execution_count": 6,
   "metadata": {
    "collapsed": true
   },
   "outputs": [],
   "source": [
    "test.fillna(1, inplace=True)\n",
    "# train = train.loc[train[\"Open\"] != 0]"
   ]
  },
  {
   "cell_type": "code",
   "execution_count": 7,
   "metadata": {
    "collapsed": true
   },
   "outputs": [],
   "source": [
    "# merge datasets with Stores data\n",
    "train = pd.merge(train, stores, on='Store')\n",
    "test = pd.merge(test, stores, on='Store')"
   ]
  },
  {
   "cell_type": "markdown",
   "metadata": {},
   "source": [
    "### 1. Feature engineering"
   ]
  },
  {
   "cell_type": "code",
   "execution_count": 8,
   "metadata": {
    "collapsed": false
   },
   "outputs": [],
   "source": [
    "def build_features(data):\n",
    "    data.fillna(0, inplace=True)\n",
    "    # data.loc[data.Open.isnull(), 'Open'] = 1\n",
    "    \n",
    "    dates = pd.DatetimeIndex(data.Date)\n",
    "    data['Day'] = data.Date.apply(lambda x: x.day)\n",
    "    data['Month'] = data.Date.apply(lambda x: x.month)\n",
    "    data['Year'] = data.Date.apply(lambda x: x.year)\n",
    "    data['DayOfYear'] = data.Date.map(lambda x: x.dayofyear)\n",
    "    data['WeekOfYear'] = data.Date.apply(lambda x: x.weekofyear)\n",
    "    \n",
    "    data['CompetitionOpen'] = 12 * (data.Year - data.CompetitionOpenSinceYear) + (data.Month - data.CompetitionOpenSinceMonth)\n",
    "    data['CompetitionOpen'] = data.CompetitionOpen.apply(lambda x: x if x > 0 else 0)\n",
    "\n",
    "    data['PromoOpen'] = 12 * (data.Year - data.Promo2SinceYear) + (data.WeekOfYear - data.Promo2SinceWeek) / float(4)\n",
    "    data['PromoOpen'] = data.PromoOpen.apply(lambda x: x if x > 0 else 0)\n",
    "    \n",
    "    data['p_1'] = data.PromoInterval.apply(lambda x: x[:3] if type(x) == str else 0)\n",
    "    data['p_2'] = data.PromoInterval.apply(lambda x: x[4:7] if type(x) == str else 0)\n",
    "    data['p_3'] = data.PromoInterval.apply(lambda x: x[8:11] if type(x) == str else 0)\n",
    "    data['p_4'] = data.PromoInterval.apply(lambda x: x[12:15] if type(x) == str else 0)\n",
    "    \n",
    "    data['Promo_Jan'] = data.PromoInterval.apply(lambda x: 1 if type(x) == str and \"Jan\" in x else 0)\n",
    "    data['Promo_Feb'] = data.PromoInterval.apply(lambda x: 1 if type(x) == str and \"Feb\" in x else 0)\n",
    "    data['Promo_Mar'] = data.PromoInterval.apply(lambda x: 1 if type(x) == str and \"Mar\" in x else 0)\n",
    "    data['Promo_Apr'] = data.PromoInterval.apply(lambda x: 1 if type(x) == str and \"Apr\" in x else 0)\n",
    "    data['Promo_May'] = data.PromoInterval.apply(lambda x: 1 if type(x) == str and \"May\" in x else 0)\n",
    "    data['Promo_Jun'] = data.PromoInterval.apply(lambda x: 1 if type(x) == str and \"Jun\" in x else 0)\n",
    "    data['Promo_Jul'] = data.PromoInterval.apply(lambda x: 1 if type(x) == str and \"Jul\" in x else 0)\n",
    "    data['Promo_Aug'] = data.PromoInterval.apply(lambda x: 1 if type(x) == str and \"Aug\" in x else 0)\n",
    "    data['Promo_Sep'] = data.PromoInterval.apply(lambda x: 1 if type(x) == str and \"Sep\" in x else 0)\n",
    "    data['Promo_Oct'] = data.PromoInterval.apply(lambda x: 1 if type(x) == str and \"Oct\" in x else 0)\n",
    "    data['Promo_Nov'] = data.PromoInterval.apply(lambda x: 1 if type(x) == str and \"Nov\" in x else 0)\n",
    "    data['Promo_Dec'] = data.PromoInterval.apply(lambda x: 1 if type(x) == str and \"Dec\" in x else 0)\n",
    "    \n",
    "    data['Distance_1'] = data.CompetitionDistance.apply(lambda x: 1 if x < 1000 else 0)\n",
    "    data['Distance_2'] = data.CompetitionDistance.apply(lambda x: 1 if x >= 1000 and x < 3000 else 0)\n",
    "    data['Distance_3'] = data.CompetitionDistance.apply(lambda x: 1 if x >= 3000 and x < 5000 else 0)\n",
    "    data['Distance_4'] = data.CompetitionDistance.apply(lambda x: 1 if x >= 5000 and x < 10000 else 0)\n",
    "    data['Distance_5'] = data.CompetitionDistance.apply(lambda x: 1 if x >= 10000 and x < 25000 else 0)\n",
    "    data['Distance_6'] = data.CompetitionDistance.apply(lambda x: 1 if x >= 25000 else 0)"
   ]
  },
  {
   "cell_type": "code",
   "execution_count": 9,
   "metadata": {
    "collapsed": false
   },
   "outputs": [
    {
     "name": "stdout",
     "output_type": "stream",
     "text": [
      "CPU times: user 1min 43s, sys: 1.87 s, total: 1min 45s\n",
      "Wall time: 1min 42s\n"
     ]
    }
   ],
   "source": [
    "%%time\n",
    "build_features(train)\n",
    "build_features(test)"
   ]
  },
  {
   "cell_type": "code",
   "execution_count": 10,
   "metadata": {
    "collapsed": false
   },
   "outputs": [],
   "source": [
    "train['ZeroSales'] = train.Sales.apply(lambda x: 1 if x == 0 else 0)"
   ]
  },
  {
   "cell_type": "code",
   "execution_count": 11,
   "metadata": {
    "collapsed": false
   },
   "outputs": [
    {
     "name": "stdout",
     "output_type": "stream",
     "text": [
      "CPU times: user 1.65 s, sys: 356 ms, total: 2.01 s\n",
      "Wall time: 2.01 s\n"
     ]
    }
   ],
   "source": [
    "%%time\n",
    "train = pd.get_dummies(train, columns=['StateHoliday', 'SchoolHoliday', 'StoreType', 'Assortment'])\n",
    "test = pd.get_dummies(test, columns=['StateHoliday', 'SchoolHoliday', 'StoreType', 'Assortment'])"
   ]
  },
  {
   "cell_type": "code",
   "execution_count": 82,
   "metadata": {
    "collapsed": false
   },
   "outputs": [],
   "source": [
    "test.insert(test.columns.get_loc(\"StateHoliday_a\") + 1, \"StateHoliday_b\", 0)\n",
    "test.insert(test.columns.get_loc(\"StateHoliday_b\") + 1, \"StateHoliday_c\", 0)"
   ]
  },
  {
   "cell_type": "code",
   "execution_count": 12,
   "metadata": {
    "collapsed": false
   },
   "outputs": [],
   "source": [
    "# Replace labels with floats\n",
    "from sklearn.preprocessing import LabelEncoder\n",
    "lbl_enc = LabelEncoder()\n",
    "\n",
    "for c in ['p_1', 'p_2', 'p_3', 'p_4']:\n",
    "    train[c] = lbl_enc.fit_transform(train[c])\n",
    "    test[c] = lbl_enc.transform(test[c])"
   ]
  },
  {
   "cell_type": "code",
   "execution_count": 13,
   "metadata": {
    "collapsed": false
   },
   "outputs": [
    {
     "name": "stdout",
     "output_type": "stream",
     "text": [
      "Features: \n",
      "['Store', 'DayOfWeek', 'Open', 'Promo', 'CompetitionDistance', 'Promo2', 'Day', 'Month', 'Year', 'DayOfYear', 'WeekOfYear', 'CompetitionOpen', 'PromoOpen', 'p_1', 'p_2', 'p_3', 'p_4', 'Promo_Jan', 'Promo_Feb', 'Promo_Mar', 'Promo_Apr', 'Promo_May', 'Promo_Jun', 'Promo_Jul', 'Promo_Aug', 'Promo_Sep', 'Promo_Oct', 'Promo_Nov', 'Promo_Dec', 'Distance_1', 'Distance_2', 'Distance_3', 'Distance_4', 'Distance_5', 'Distance_6', 'StateHoliday_0', 'StateHoliday_a', 'StateHoliday_b', 'StateHoliday_c', 'SchoolHoliday_0', 'SchoolHoliday_1', 'StoreType_a', 'StoreType_b', 'StoreType_c', 'StoreType_d', 'Assortment_a', 'Assortment_b', 'Assortment_c']\n"
     ]
    }
   ],
   "source": [
    "# Choose columns\n",
    "features = list(train.columns)\n",
    "[features.remove(c) for c in ['Sales', 'ZeroSales', 'Date', 'Customers', 'PromoInterval', 'CompetitionOpenSinceMonth', 'CompetitionOpenSinceYear', 'Promo2SinceYear', 'Promo2SinceWeek']]\n",
    "print \"Features: \"\n",
    "print features"
   ]
  },
  {
   "cell_type": "code",
   "execution_count": 14,
   "metadata": {
    "collapsed": false
   },
   "outputs": [
    {
     "data": {
      "text/plain": [
       "Store                    int64\n",
       "DayOfWeek                int64\n",
       "Open                     int64\n",
       "Promo                    int64\n",
       "CompetitionDistance    float64\n",
       "Promo2                   int64\n",
       "Day                      int64\n",
       "Month                    int64\n",
       "Year                     int64\n",
       "DayOfYear                int64\n",
       "WeekOfYear               int64\n",
       "CompetitionOpen        float64\n",
       "PromoOpen              float64\n",
       "p_1                      int64\n",
       "p_2                      int64\n",
       "p_3                      int64\n",
       "p_4                      int64\n",
       "Promo_Jan                int64\n",
       "Promo_Feb                int64\n",
       "Promo_Mar                int64\n",
       "Promo_Apr                int64\n",
       "Promo_May                int64\n",
       "Promo_Jun                int64\n",
       "Promo_Jul                int64\n",
       "Promo_Aug                int64\n",
       "Promo_Sep                int64\n",
       "Promo_Oct                int64\n",
       "Promo_Nov                int64\n",
       "Promo_Dec                int64\n",
       "Distance_1               int64\n",
       "Distance_2               int64\n",
       "Distance_3               int64\n",
       "Distance_4               int64\n",
       "Distance_5               int64\n",
       "Distance_6               int64\n",
       "StateHoliday_0         float64\n",
       "StateHoliday_a         float64\n",
       "StateHoliday_b         float64\n",
       "StateHoliday_c         float64\n",
       "SchoolHoliday_0        float64\n",
       "SchoolHoliday_1        float64\n",
       "StoreType_a            float64\n",
       "StoreType_b            float64\n",
       "StoreType_c            float64\n",
       "StoreType_d            float64\n",
       "Assortment_a           float64\n",
       "Assortment_b           float64\n",
       "Assortment_c           float64\n",
       "dtype: object"
      ]
     },
     "execution_count": 14,
     "metadata": {},
     "output_type": "execute_result"
    }
   ],
   "source": [
    "train[features].dtypes"
   ]
  },
  {
   "cell_type": "code",
   "execution_count": 15,
   "metadata": {
    "collapsed": false
   },
   "outputs": [
    {
     "data": {
      "text/plain": [
       "Index([u'Store', u'DayOfWeek', u'Open', u'Promo', u'CompetitionDistance',\n",
       "       u'Promo2', u'Day', u'Month', u'Year', u'DayOfYear', u'WeekOfYear',\n",
       "       u'CompetitionOpen', u'PromoOpen', u'p_1', u'p_2', u'p_3', u'p_4',\n",
       "       u'Promo_Jan', u'Promo_Feb', u'Promo_Mar', u'Promo_Apr', u'Promo_May',\n",
       "       u'Promo_Jun', u'Promo_Jul', u'Promo_Aug', u'Promo_Sep', u'Promo_Oct',\n",
       "       u'Promo_Nov', u'Promo_Dec', u'Distance_1', u'Distance_2', u'Distance_3',\n",
       "       u'Distance_4', u'Distance_5', u'Distance_6', u'StateHoliday_0',\n",
       "       u'StateHoliday_a', u'StateHoliday_b', u'StateHoliday_c',\n",
       "       u'SchoolHoliday_0', u'SchoolHoliday_1', u'StoreType_a', u'StoreType_b',\n",
       "       u'StoreType_c', u'StoreType_d', u'Assortment_a', u'Assortment_b',\n",
       "       u'Assortment_c'],\n",
       "      dtype='object')"
      ]
     },
     "execution_count": 15,
     "metadata": {},
     "output_type": "execute_result"
    }
   ],
   "source": [
    "train[features].columns"
   ]
  },
  {
   "cell_type": "code",
   "execution_count": 287,
   "metadata": {
    "collapsed": false
   },
   "outputs": [
    {
     "data": {
      "image/png": "[encoded data removed]",
      "text/plain": [
       "<matplotlib.figure.Figure at 0x7f1dd41e4990>"
      ]
     },
     "metadata": {},
     "output_type": "display_data"
    }
   ],
   "source": [
    "sns.jointplot(x='CompetitionDistance', y='Sales', data=train[train.CompetitionDistance != 0].groupby('Store').mean(), size=10);"
   ]
  },
  {
   "cell_type": "markdown",
   "metadata": {},
   "source": [
    "## Predict whether Sales is zero"
   ]
  },
  {
   "cell_type": "code",
   "execution_count": 19,
   "metadata": {
    "collapsed": true
   },
   "outputs": [],
   "source": [
    "from sklearn.cross_validation import train_test_split\n",
    "xtrain = train\n",
    "ytrain = train.ZeroSales\n",
    "x_tr, x_cv, y_tr, y_cv = train_test_split(xtrain, ytrain, test_size = 0.05,  random_state = 42)\n",
    "sales_tr = x_tr.Sales\n",
    "sales_cv = x_cv.Sales\n",
    "x_tr = x_tr[features]\n",
    "x_cv = x_cv[features]"
   ]
  },
  {
   "cell_type": "code",
   "execution_count": 20,
   "metadata": {
    "collapsed": false
   },
   "outputs": [
    {
     "name": "stdout",
     "output_type": "stream",
     "text": [
      "CPU times: user 30.4 s, sys: 484 ms, total: 30.9 s\n",
      "Wall time: 11.5 s\n"
     ]
    }
   ],
   "source": [
    "%%time\n",
    "from sklearn.ensemble import RandomForestClassifier\n",
    "clf = RandomForestClassifier(n_estimators=10, n_jobs=3, random_state=42)\n",
    "clf.fit(x_tr, y_tr)\n",
    "zeros = clf.predict(x_cv)"
   ]
  },
  {
   "cell_type": "code",
   "execution_count": 22,
   "metadata": {
    "collapsed": false
   },
   "outputs": [],
   "source": [
    "x_tr['ZeroSales'] = y_tr\n",
    "x_cv['ZeroSales'] = zeros\n",
    "y_tr = sales_tr\n",
    "y_cv = sales_cv"
   ]
  },
  {
   "cell_type": "code",
   "execution_count": 27,
   "metadata": {
    "collapsed": false
   },
   "outputs": [],
   "source": [
    "train_ws = pd.concat([x_tr, y_tr], axis=1)\n",
    "cv_ws = pd.concat([x_cv, y_cv], axis=1)"
   ]
  },
  {
   "cell_type": "code",
   "execution_count": 32,
   "metadata": {
    "collapsed": false
   },
   "outputs": [],
   "source": [
    "x_tr = train_ws[train_ws.columns[:-1]].loc[train_ws.ZeroSales == 0]\n",
    "y_tr = train_ws[train_ws.ZeroSales == 0].Sales\n",
    "x_cv = cv_ws[cv_ws.columns[:-1]].loc[cv_ws.ZeroSales == 0]\n",
    "y_cv = cv_ws[cv_ws.ZeroSales == 0].Sales"
   ]
  },
  {
   "cell_type": "markdown",
   "metadata": {},
   "source": [
    "## Train XGBoost and predict sales "
   ]
  },
  {
   "cell_type": "markdown",
   "metadata": {},
   "source": [
    "### 0. Cross Validation "
   ]
  },
  {
   "cell_type": "code",
   "execution_count": 16,
   "metadata": {
    "collapsed": false
   },
   "outputs": [],
   "source": [
    "from sklearn.cross_validation import train_test_split\n",
    "xtrain = train[train.Sales != 0][features]\n",
    "ytrain = train[train.Sales != 0].Sales\n",
    "x_tr, x_cv, y_tr, y_cv = train_test_split(xtrain, ytrain, test_size = 0.05,  random_state = 42)"
   ]
  },
  {
   "cell_type": "code",
   "execution_count": 229,
   "metadata": {
    "collapsed": false
   },
   "outputs": [],
   "source": [
    "x_tr = train.loc[(train.Sales != 0) & (train.Date < np.datetime64('2015-06-01T00:00:00.000000000+0000'))]\n",
    "x_cv = train.loc[(train.Sales != 0) & (train.Date >= np.datetime64('2015-06-01T00:00:00.000000000+0000'))]\n",
    "y_tr = x_tr.Sales\n",
    "y_cv = x_cv.Sales\n",
    "x_tr = x_tr[features]\n",
    "x_cv = x_cv[features]"
   ]
  },
  {
   "cell_type": "code",
   "execution_count": 23,
   "metadata": {
    "collapsed": true
   },
   "outputs": [],
   "source": [
    "# Thanks to Chenglong Chen for providing this in the forum\n",
    "def ToWeight(y):\n",
    "    w = np.zeros(y.shape, dtype=float)\n",
    "    ind = y != 0\n",
    "    w[ind] = 1./(y[ind]**2)\n",
    "    return w\n",
    "\n",
    "\n",
    "def rmspe(yhat, y):\n",
    "    w = ToWeight(y)\n",
    "    rmspe = np.sqrt(np.mean( w * (y - yhat)**2 ))\n",
    "    return rmspe\n",
    "\n",
    "\n",
    "def rmspe_xg(yhat, y):\n",
    "    # y = y.values\n",
    "    y = y.get_label()\n",
    "    y = np.exp(y) - 1\n",
    "    yhat = np.exp(yhat) - 1\n",
    "    w = ToWeight(y)\n",
    "    rmspe = np.sqrt(np.mean(w * (y - yhat)**2))\n",
    "    return \"rmspe\", rmspe"
   ]
  },
  {
   "cell_type": "code",
   "execution_count": 33,
   "metadata": {
    "collapsed": false
   },
   "outputs": [
    {
     "name": "stdout",
     "output_type": "stream",
     "text": [
      "CPU times: user 6min 26s, sys: 688 ms, total: 6min 27s\n",
      "Wall time: 2min 34s\n"
     ]
    },
    {
     "name": "stderr",
     "output_type": "stream",
     "text": [
      "/usr/local/lib/python2.7/dist-packages/sklearn/ensemble/forest.py:659: UserWarning: Some inputs do not have OOB scores. This probably means too few trees were used to compute any reliable oob estimates.\n",
      "  warn(\"Some inputs do not have OOB scores. \"\n"
     ]
    }
   ],
   "source": [
    "%%time\n",
    "from sklearn.ensemble import RandomForestRegressor\n",
    "clf = RandomForestRegressor(n_estimators=10, n_jobs=3, random_state=42, oob_score=True)\n",
    "clf.fit(x_tr, y_tr)\n",
    "pred_RF = clf.predict(x_cv)"
   ]
  },
  {
   "cell_type": "code",
   "execution_count": 34,
   "metadata": {
    "collapsed": true
   },
   "outputs": [],
   "source": [
    "y_valid = cv_ws.Sales\n",
    "cv_ws.loc[cv_ws.ZeroSales == 1, 'Sales'] = 0\n",
    "cv_ws.loc[cv_ws.ZeroSales != 1, 'Sales'] = pred_RF"
   ]
  },
  {
   "cell_type": "code",
   "execution_count": 53,
   "metadata": {
    "collapsed": false
   },
   "outputs": [
    {
     "data": {
      "text/plain": [
       "0.11515092777604378"
      ]
     },
     "execution_count": 53,
     "metadata": {},
     "output_type": "execute_result"
    }
   ],
   "source": [
    "rmspe(y_valid.values, cv_ws.Sales.values)"
   ]
  },
  {
   "cell_type": "code",
   "execution_count": 61,
   "metadata": {
    "collapsed": false
   },
   "outputs": [],
   "source": [
    "features.append('ZeroSales')"
   ]
  },
  {
   "cell_type": "code",
   "execution_count": 63,
   "metadata": {
    "collapsed": false
   },
   "outputs": [
    {
     "name": "stdout",
     "output_type": "stream",
     "text": [
      "Feature ranking:\n"
     ]
    },
    {
     "name": "stderr",
     "output_type": "stream",
     "text": [
      "/usr/local/lib/python2.7/dist-packages/matplotlib/figure.py:387: UserWarning: matplotlib is currently using a non-GUI backend, so cannot show the figure\n",
      "  \"matplotlib is currently using a non-GUI backend, \"\n"
     ]
    },
    {
     "data": {
      "image/png": "[encoded data removed]",
      "text/plain": [
       "<matplotlib.figure.Figure at 0x7fc9d9b289d0>"
      ]
     },
     "metadata": {},
     "output_type": "display_data"
    }
   ],
   "source": [
    "# Show feature importances\n",
    "import pylab\n",
    "import scipy\n",
    "\n",
    "importances = clf.feature_importances_\n",
    "# std = np.std([tree.feature_importances_ for tree in clf.estimators_], axis=0)\n",
    "indices = np.argsort(importances)[::-1]\n",
    "\n",
    "print(\"Feature ranking:\")\n",
    "\n",
    "labels = [features[i] for i in indices.tolist()]\n",
    "x = scipy.array(indices)\n",
    "y = scipy.array(importances[indices])\n",
    "f = pylab.figure(figsize=(16,5))\n",
    "ax = f.add_axes([0.1, 0.1, 0.8, 0.8])\n",
    "ax.bar(x, y, align='center')\n",
    "ax.set_xticks(x)\n",
    "ax.set_xticklabels(labels, rotation=90)\n",
    "f.show()"
   ]
  },
  {
   "cell_type": "markdown",
   "metadata": {},
   "source": [
    "### 1. Check XGB score "
   ]
  },
  {
   "cell_type": "code",
   "execution_count": 64,
   "metadata": {
    "collapsed": false
   },
   "outputs": [],
   "source": [
    "# Set params\n",
    "\n",
    "params = {\"objective\": \"reg:linear\",\n",
    "          \"booster\": \"gbtree\",\n",
    "          \"eta\": 0.2,\n",
    "          \"max_depth\": 10,\n",
    "          \"subsample\": 0.9,\n",
    "          \"colsample_bytree\": 0.7,\n",
    "          \"silent\": 1\n",
    "          }\n",
    "num_trees = 300\n",
    "stop = 20"
   ]
  },
  {
   "cell_type": "code",
   "execution_count": 67,
   "metadata": {
    "collapsed": false,
    "scrolled": true
   },
   "outputs": [
    {
     "name": "stderr",
     "output_type": "stream",
     "text": [
      "Will train until train error hasn't decreased in 20 rounds.\n",
      "[0]\teval-rmspe:0.998686\ttrain-rmspe:0.998706\n",
      "[1]\teval-rmspe:0.994709\ttrain-rmspe:0.994721\n",
      "[2]\teval-rmspe:0.984618\ttrain-rmspe:0.984610\n",
      "[3]\teval-rmspe:0.964231\ttrain-rmspe:0.964198\n",
      "[4]\teval-rmspe:0.929991\ttrain-rmspe:0.929938\n",
      "[5]\teval-rmspe:0.880358\ttrain-rmspe:0.880343\n",
      "[6]\teval-rmspe:0.816645\ttrain-rmspe:0.816799\n",
      "[7]\teval-rmspe:0.742770\ttrain-rmspe:0.743347\n",
      "[8]\teval-rmspe:0.664195\ttrain-rmspe:0.665509\n",
      "[9]\teval-rmspe:0.585495\ttrain-rmspe:0.588131\n",
      "[10]\teval-rmspe:0.511894\ttrain-rmspe:0.516413\n",
      "[11]\teval-rmspe:0.446062\ttrain-rmspe:0.453549\n",
      "[12]\teval-rmspe:0.391100\ttrain-rmspe:0.402060\n",
      "[13]\teval-rmspe:0.347207\ttrain-rmspe:0.362299\n",
      "[14]\teval-rmspe:0.314064\ttrain-rmspe:0.333297\n",
      "[15]\teval-rmspe:0.289940\ttrain-rmspe:0.313155\n",
      "[16]\teval-rmspe:0.272880\ttrain-rmspe:0.299137\n",
      "[17]\teval-rmspe:0.259483\ttrain-rmspe:0.289121\n",
      "[18]\teval-rmspe:0.254763\ttrain-rmspe:0.285960\n",
      "[19]\teval-rmspe:0.247699\ttrain-rmspe:0.281894\n",
      "[20]\teval-rmspe:0.246673\ttrain-rmspe:0.281484\n",
      "[21]\teval-rmspe:0.243616\ttrain-rmspe:0.279623\n",
      "[22]\teval-rmspe:0.238164\ttrain-rmspe:0.275583\n",
      "[23]\teval-rmspe:0.238262\ttrain-rmspe:0.276306\n",
      "[24]\teval-rmspe:0.234903\ttrain-rmspe:0.274703\n",
      "[25]\teval-rmspe:0.232517\ttrain-rmspe:0.271611\n",
      "[26]\teval-rmspe:0.227275\ttrain-rmspe:0.266357\n",
      "[27]\teval-rmspe:0.221646\ttrain-rmspe:0.261624\n",
      "[28]\teval-rmspe:0.215802\ttrain-rmspe:0.256084\n",
      "[29]\teval-rmspe:0.214357\ttrain-rmspe:0.254288\n",
      "[30]\teval-rmspe:0.213670\ttrain-rmspe:0.254533\n",
      "[31]\teval-rmspe:0.211226\ttrain-rmspe:0.252448\n",
      "[32]\teval-rmspe:0.207823\ttrain-rmspe:0.249571\n",
      "[33]\teval-rmspe:0.204058\ttrain-rmspe:0.245741\n",
      "[34]\teval-rmspe:0.202718\ttrain-rmspe:0.244591\n",
      "[35]\teval-rmspe:0.197315\ttrain-rmspe:0.239020\n",
      "[36]\teval-rmspe:0.194817\ttrain-rmspe:0.236837\n",
      "[37]\teval-rmspe:0.193118\ttrain-rmspe:0.235012\n",
      "[38]\teval-rmspe:0.191783\ttrain-rmspe:0.235266\n",
      "[39]\teval-rmspe:0.190173\ttrain-rmspe:0.232658\n",
      "[40]\teval-rmspe:0.185463\ttrain-rmspe:0.228695\n",
      "[41]\teval-rmspe:0.184626\ttrain-rmspe:0.228168\n",
      "[42]\teval-rmspe:0.184300\ttrain-rmspe:0.220312\n",
      "[43]\teval-rmspe:0.183037\ttrain-rmspe:0.219140\n",
      "[44]\teval-rmspe:0.182364\ttrain-rmspe:0.218405\n",
      "[45]\teval-rmspe:0.178910\ttrain-rmspe:0.215332\n",
      "[46]\teval-rmspe:0.177698\ttrain-rmspe:0.214287\n",
      "[47]\teval-rmspe:0.177261\ttrain-rmspe:0.214031\n",
      "[48]\teval-rmspe:0.173971\ttrain-rmspe:0.209015\n",
      "[49]\teval-rmspe:0.171619\ttrain-rmspe:0.206766\n",
      "[50]\teval-rmspe:0.168755\ttrain-rmspe:0.204316\n",
      "[51]\teval-rmspe:0.166554\ttrain-rmspe:0.198793\n",
      "[52]\teval-rmspe:0.165867\ttrain-rmspe:0.195616\n",
      "[53]\teval-rmspe:0.162048\ttrain-rmspe:0.192420\n",
      "[54]\teval-rmspe:0.160198\ttrain-rmspe:0.190810\n",
      "[55]\teval-rmspe:0.158966\ttrain-rmspe:0.189716\n",
      "[56]\teval-rmspe:0.157932\ttrain-rmspe:0.188762\n",
      "[57]\teval-rmspe:0.154842\ttrain-rmspe:0.187405\n",
      "[58]\teval-rmspe:0.153303\ttrain-rmspe:0.186069\n",
      "[59]\teval-rmspe:0.152860\ttrain-rmspe:0.185620\n",
      "[60]\teval-rmspe:0.151962\ttrain-rmspe:0.184574\n",
      "[61]\teval-rmspe:0.151542\ttrain-rmspe:0.184177\n",
      "[62]\teval-rmspe:0.151331\ttrain-rmspe:0.182854\n",
      "[63]\teval-rmspe:0.149618\ttrain-rmspe:0.181354\n",
      "[64]\teval-rmspe:0.148520\ttrain-rmspe:0.180186\n",
      "[65]\teval-rmspe:0.146140\ttrain-rmspe:0.178245\n",
      "[66]\teval-rmspe:0.145448\ttrain-rmspe:0.166618\n",
      "[67]\teval-rmspe:0.144168\ttrain-rmspe:0.165546\n",
      "[68]\teval-rmspe:0.142958\ttrain-rmspe:0.160419\n",
      "[69]\teval-rmspe:0.142178\ttrain-rmspe:0.159412\n",
      "[70]\teval-rmspe:0.141395\ttrain-rmspe:0.158637\n",
      "[71]\teval-rmspe:0.140768\ttrain-rmspe:0.158028\n",
      "[72]\teval-rmspe:0.140168\ttrain-rmspe:0.157324\n",
      "[73]\teval-rmspe:0.139947\ttrain-rmspe:0.157107\n",
      "[74]\teval-rmspe:0.139452\ttrain-rmspe:0.156534\n",
      "[75]\teval-rmspe:0.138848\ttrain-rmspe:0.155896\n",
      "[76]\teval-rmspe:0.138462\ttrain-rmspe:0.148918\n",
      "[77]\teval-rmspe:0.138263\ttrain-rmspe:0.147619\n",
      "[78]\teval-rmspe:0.136917\ttrain-rmspe:0.145717\n",
      "[79]\teval-rmspe:0.136164\ttrain-rmspe:0.144943\n",
      "[80]\teval-rmspe:0.135586\ttrain-rmspe:0.144353\n",
      "[81]\teval-rmspe:0.135051\ttrain-rmspe:0.143700\n",
      "[82]\teval-rmspe:0.134485\ttrain-rmspe:0.143070\n",
      "[83]\teval-rmspe:0.133694\ttrain-rmspe:0.142193\n",
      "[84]\teval-rmspe:0.133188\ttrain-rmspe:0.141574\n",
      "[85]\teval-rmspe:0.132436\ttrain-rmspe:0.140843\n",
      "[86]\teval-rmspe:0.132137\ttrain-rmspe:0.140565\n",
      "[87]\teval-rmspe:0.131185\ttrain-rmspe:0.139619\n",
      "[88]\teval-rmspe:0.130916\ttrain-rmspe:0.136738\n",
      "[89]\teval-rmspe:0.130637\ttrain-rmspe:0.136445\n",
      "[90]\teval-rmspe:0.129770\ttrain-rmspe:0.135536\n",
      "[91]\teval-rmspe:0.129542\ttrain-rmspe:0.135090\n",
      "[92]\teval-rmspe:0.129269\ttrain-rmspe:0.133966\n",
      "[93]\teval-rmspe:0.128441\ttrain-rmspe:0.133048\n",
      "[94]\teval-rmspe:0.128203\ttrain-rmspe:0.132733\n",
      "[95]\teval-rmspe:0.128014\ttrain-rmspe:0.132425\n",
      "[96]\teval-rmspe:0.127892\ttrain-rmspe:0.132256\n",
      "[97]\teval-rmspe:0.127749\ttrain-rmspe:0.132094\n",
      "[98]\teval-rmspe:0.127238\ttrain-rmspe:0.131564\n",
      "[99]\teval-rmspe:0.126957\ttrain-rmspe:0.131286\n",
      "[100]\teval-rmspe:0.126586\ttrain-rmspe:0.130854\n",
      "[101]\teval-rmspe:0.126124\ttrain-rmspe:0.130373\n",
      "[102]\teval-rmspe:0.125793\ttrain-rmspe:0.129987\n",
      "[103]\teval-rmspe:0.125540\ttrain-rmspe:0.129748\n",
      "[104]\teval-rmspe:0.124946\ttrain-rmspe:0.128990\n",
      "[105]\teval-rmspe:0.124572\ttrain-rmspe:0.128478\n",
      "[106]\teval-rmspe:0.123947\ttrain-rmspe:0.127759\n",
      "[107]\teval-rmspe:0.123716\ttrain-rmspe:0.127472\n",
      "[108]\teval-rmspe:0.123309\ttrain-rmspe:0.127038\n",
      "[109]\teval-rmspe:0.122718\ttrain-rmspe:0.126391\n",
      "[110]\teval-rmspe:0.122574\ttrain-rmspe:0.126256\n",
      "[111]\teval-rmspe:0.122499\ttrain-rmspe:0.126154\n",
      "[112]\teval-rmspe:0.122276\ttrain-rmspe:0.125901\n",
      "[113]\teval-rmspe:0.122118\ttrain-rmspe:0.125709\n",
      "[114]\teval-rmspe:0.121093\ttrain-rmspe:0.124739\n",
      "[115]\teval-rmspe:0.120977\ttrain-rmspe:0.124598\n",
      "[116]\teval-rmspe:0.120701\ttrain-rmspe:0.124248\n",
      "[117]\teval-rmspe:0.120473\ttrain-rmspe:0.123828\n",
      "[118]\teval-rmspe:0.120258\ttrain-rmspe:0.123588\n",
      "[119]\teval-rmspe:0.120020\ttrain-rmspe:0.123309\n",
      "[120]\teval-rmspe:0.119854\ttrain-rmspe:0.122798\n",
      "[121]\teval-rmspe:0.119676\ttrain-rmspe:0.122579\n",
      "[122]\teval-rmspe:0.119567\ttrain-rmspe:0.122334\n",
      "[123]\teval-rmspe:0.119429\ttrain-rmspe:0.121976\n",
      "[124]\teval-rmspe:0.118892\ttrain-rmspe:0.121419\n",
      "[125]\teval-rmspe:0.118749\ttrain-rmspe:0.121259\n",
      "[126]\teval-rmspe:0.118524\ttrain-rmspe:0.120835\n",
      "[127]\teval-rmspe:0.118277\ttrain-rmspe:0.120517\n",
      "[128]\teval-rmspe:0.118212\ttrain-rmspe:0.120419\n",
      "[129]\teval-rmspe:0.118024\ttrain-rmspe:0.119984\n",
      "[130]\teval-rmspe:0.117924\ttrain-rmspe:0.119172\n",
      "[131]\teval-rmspe:0.118105\ttrain-rmspe:0.118774\n",
      "[132]\teval-rmspe:0.117822\ttrain-rmspe:0.118439\n",
      "[133]\teval-rmspe:0.117658\ttrain-rmspe:0.118234\n",
      "[134]\teval-rmspe:0.117492\ttrain-rmspe:0.118063\n",
      "[135]\teval-rmspe:0.117432\ttrain-rmspe:0.117902\n",
      "[136]\teval-rmspe:0.117214\ttrain-rmspe:0.117617\n",
      "[137]\teval-rmspe:0.117054\ttrain-rmspe:0.117353\n",
      "[138]\teval-rmspe:0.116707\ttrain-rmspe:0.116939\n",
      "[139]\teval-rmspe:0.116395\ttrain-rmspe:0.116602\n",
      "[140]\teval-rmspe:0.116259\ttrain-rmspe:0.116416\n",
      "[141]\teval-rmspe:0.116139\ttrain-rmspe:0.116273\n",
      "[142]\teval-rmspe:0.115910\ttrain-rmspe:0.115912\n",
      "[143]\teval-rmspe:0.115632\ttrain-rmspe:0.115587\n",
      "[144]\teval-rmspe:0.115596\ttrain-rmspe:0.115469\n",
      "[145]\teval-rmspe:0.115551\ttrain-rmspe:0.115380\n",
      "[146]\teval-rmspe:0.115419\ttrain-rmspe:0.115196\n",
      "[147]\teval-rmspe:0.115180\ttrain-rmspe:0.114865\n",
      "[148]\teval-rmspe:0.114845\ttrain-rmspe:0.114447\n",
      "[149]\teval-rmspe:0.114807\ttrain-rmspe:0.114397\n",
      "[150]\teval-rmspe:0.114582\ttrain-rmspe:0.114138\n",
      "[151]\teval-rmspe:0.114496\ttrain-rmspe:0.114034\n",
      "[152]\teval-rmspe:0.114018\ttrain-rmspe:0.113557\n",
      "[153]\teval-rmspe:0.113868\ttrain-rmspe:0.113343\n",
      "[154]\teval-rmspe:0.113745\ttrain-rmspe:0.113191\n",
      "[155]\teval-rmspe:0.113525\ttrain-rmspe:0.112908\n",
      "[156]\teval-rmspe:0.113404\ttrain-rmspe:0.112653\n",
      "[157]\teval-rmspe:0.113155\ttrain-rmspe:0.112238\n",
      "[158]\teval-rmspe:0.113062\ttrain-rmspe:0.111954\n",
      "[159]\teval-rmspe:0.112901\ttrain-rmspe:0.111758\n",
      "[160]\teval-rmspe:0.112842\ttrain-rmspe:0.111663\n",
      "[161]\teval-rmspe:0.112694\ttrain-rmspe:0.111376\n",
      "[162]\teval-rmspe:0.112574\ttrain-rmspe:0.111195\n",
      "[163]\teval-rmspe:0.112308\ttrain-rmspe:0.110887\n",
      "[164]\teval-rmspe:0.112221\ttrain-rmspe:0.110602\n",
      "[165]\teval-rmspe:0.112045\ttrain-rmspe:0.110354\n",
      "[166]\teval-rmspe:0.111994\ttrain-rmspe:0.110274\n",
      "[167]\teval-rmspe:0.111822\ttrain-rmspe:0.110013\n",
      "[168]\teval-rmspe:0.111673\ttrain-rmspe:0.109841\n",
      "[169]\teval-rmspe:0.111581\ttrain-rmspe:0.109685\n",
      "[170]\teval-rmspe:0.111459\ttrain-rmspe:0.109507\n",
      "[171]\teval-rmspe:0.111189\ttrain-rmspe:0.109012\n",
      "[172]\teval-rmspe:0.111004\ttrain-rmspe:0.108783\n",
      "[173]\teval-rmspe:0.110873\ttrain-rmspe:0.107515\n",
      "[174]\teval-rmspe:0.110476\ttrain-rmspe:0.107117\n",
      "[175]\teval-rmspe:0.110314\ttrain-rmspe:0.106904\n",
      "[176]\teval-rmspe:0.110049\ttrain-rmspe:0.106667\n",
      "[177]\teval-rmspe:0.109991\ttrain-rmspe:0.106544\n",
      "[178]\teval-rmspe:0.109922\ttrain-rmspe:0.106395\n",
      "[179]\teval-rmspe:0.109843\ttrain-rmspe:0.106236\n",
      "[180]\teval-rmspe:0.109726\ttrain-rmspe:0.106090\n",
      "[181]\teval-rmspe:0.109700\ttrain-rmspe:0.105975\n",
      "[182]\teval-rmspe:0.109613\ttrain-rmspe:0.105731\n",
      "[183]\teval-rmspe:0.109530\ttrain-rmspe:0.105508\n",
      "[184]\teval-rmspe:0.109385\ttrain-rmspe:0.105316\n",
      "[185]\teval-rmspe:0.109331\ttrain-rmspe:0.105216\n",
      "[186]\teval-rmspe:0.109136\ttrain-rmspe:0.104971\n",
      "[187]\teval-rmspe:0.109119\ttrain-rmspe:0.104773\n",
      "[188]\teval-rmspe:0.109073\ttrain-rmspe:0.104656\n",
      "[189]\teval-rmspe:0.109029\ttrain-rmspe:0.104562\n",
      "[190]\teval-rmspe:0.108816\ttrain-rmspe:0.104312\n",
      "[191]\teval-rmspe:0.108763\ttrain-rmspe:0.104196\n",
      "[192]\teval-rmspe:0.108742\ttrain-rmspe:0.104131\n",
      "[193]\teval-rmspe:0.108568\ttrain-rmspe:0.103927\n",
      "[194]\teval-rmspe:0.108448\ttrain-rmspe:0.103740\n",
      "[195]\teval-rmspe:0.108411\ttrain-rmspe:0.103623\n",
      "[196]\teval-rmspe:0.108348\ttrain-rmspe:0.103017\n",
      "[197]\teval-rmspe:0.108296\ttrain-rmspe:0.102912\n",
      "[198]\teval-rmspe:0.108238\ttrain-rmspe:0.102826\n",
      "[199]\teval-rmspe:0.108198\ttrain-rmspe:0.102185\n",
      "[200]\teval-rmspe:0.108162\ttrain-rmspe:0.101998\n",
      "[201]\teval-rmspe:0.108092\ttrain-rmspe:0.101803\n",
      "[202]\teval-rmspe:0.107891\ttrain-rmspe:0.101559\n",
      "[203]\teval-rmspe:0.107782\ttrain-rmspe:0.101365\n",
      "[204]\teval-rmspe:0.107686\ttrain-rmspe:0.101220\n",
      "[205]\teval-rmspe:0.107338\ttrain-rmspe:0.100734\n",
      "[206]\teval-rmspe:0.107334\ttrain-rmspe:0.100701\n",
      "[207]\teval-rmspe:0.107309\ttrain-rmspe:0.100638\n",
      "[208]\teval-rmspe:0.107181\ttrain-rmspe:0.100467\n",
      "[209]\teval-rmspe:0.106917\ttrain-rmspe:0.100216\n",
      "[210]\teval-rmspe:0.106811\ttrain-rmspe:0.100010\n",
      "[211]\teval-rmspe:0.106777\ttrain-rmspe:0.099944\n",
      "[212]\teval-rmspe:0.106432\ttrain-rmspe:0.099561\n",
      "[213]\teval-rmspe:0.106375\ttrain-rmspe:0.099477\n",
      "[214]\teval-rmspe:0.106315\ttrain-rmspe:0.099381\n",
      "[215]\teval-rmspe:0.106263\ttrain-rmspe:0.099295\n",
      "[216]\teval-rmspe:0.106250\ttrain-rmspe:0.099229\n",
      "[217]\teval-rmspe:0.106127\ttrain-rmspe:0.099010\n",
      "[218]\teval-rmspe:0.106107\ttrain-rmspe:0.098971\n",
      "[219]\teval-rmspe:0.106010\ttrain-rmspe:0.098832\n",
      "[220]\teval-rmspe:0.105948\ttrain-rmspe:0.098354\n",
      "[221]\teval-rmspe:0.105908\ttrain-rmspe:0.098261\n",
      "[222]\teval-rmspe:0.105883\ttrain-rmspe:0.098214\n",
      "[223]\teval-rmspe:0.105831\ttrain-rmspe:0.098122\n",
      "[224]\teval-rmspe:0.105780\ttrain-rmspe:0.097999\n",
      "[225]\teval-rmspe:0.105769\ttrain-rmspe:0.097882\n",
      "[226]\teval-rmspe:0.105658\ttrain-rmspe:0.097726\n",
      "[227]\teval-rmspe:0.105636\ttrain-rmspe:0.097548\n",
      "[228]\teval-rmspe:0.105588\ttrain-rmspe:0.097422\n",
      "[229]\teval-rmspe:0.105522\ttrain-rmspe:0.097277\n",
      "[230]\teval-rmspe:0.105442\ttrain-rmspe:0.097101\n",
      "[231]\teval-rmspe:0.105369\ttrain-rmspe:0.096979\n",
      "[232]\teval-rmspe:0.105338\ttrain-rmspe:0.096935\n",
      "[233]\teval-rmspe:0.105237\ttrain-rmspe:0.096766\n",
      "[234]\teval-rmspe:0.105181\ttrain-rmspe:0.096624\n",
      "[235]\teval-rmspe:0.105107\ttrain-rmspe:0.096535\n",
      "[236]\teval-rmspe:0.104917\ttrain-rmspe:0.096345\n",
      "[237]\teval-rmspe:0.104834\ttrain-rmspe:0.095903\n",
      "[238]\teval-rmspe:0.104817\ttrain-rmspe:0.095867\n",
      "[239]\teval-rmspe:0.104749\ttrain-rmspe:0.095735\n",
      "[240]\teval-rmspe:0.104679\ttrain-rmspe:0.095624\n",
      "[241]\teval-rmspe:0.104618\ttrain-rmspe:0.095522\n",
      "[242]\teval-rmspe:0.104560\ttrain-rmspe:0.095386\n",
      "[243]\teval-rmspe:0.104521\ttrain-rmspe:0.094871\n",
      "[244]\teval-rmspe:0.104450\ttrain-rmspe:0.094768\n",
      "[245]\teval-rmspe:0.104415\ttrain-rmspe:0.094631\n",
      "[246]\teval-rmspe:0.104380\ttrain-rmspe:0.094564\n",
      "[247]\teval-rmspe:0.104358\ttrain-rmspe:0.094509\n",
      "[248]\teval-rmspe:0.104318\ttrain-rmspe:0.094436\n",
      "[249]\teval-rmspe:0.104245\ttrain-rmspe:0.094305\n",
      "[250]\teval-rmspe:0.104225\ttrain-rmspe:0.094226\n",
      "[251]\teval-rmspe:0.104128\ttrain-rmspe:0.094050\n",
      "[252]\teval-rmspe:0.104099\ttrain-rmspe:0.094000\n",
      "[253]\teval-rmspe:0.104033\ttrain-rmspe:0.093904\n",
      "[254]\teval-rmspe:0.103977\ttrain-rmspe:0.093781\n",
      "[255]\teval-rmspe:0.103948\ttrain-rmspe:0.093704\n",
      "[256]\teval-rmspe:0.103889\ttrain-rmspe:0.093497\n",
      "[257]\teval-rmspe:0.103878\ttrain-rmspe:0.093370\n",
      "[258]\teval-rmspe:0.103763\ttrain-rmspe:0.093197\n",
      "[259]\teval-rmspe:0.103701\ttrain-rmspe:0.093094\n",
      "[260]\teval-rmspe:0.103631\ttrain-rmspe:0.092835\n",
      "[261]\teval-rmspe:0.103474\ttrain-rmspe:0.092458\n",
      "[262]\teval-rmspe:0.103377\ttrain-rmspe:0.092311\n",
      "[263]\teval-rmspe:0.103337\ttrain-rmspe:0.092205\n",
      "[264]\teval-rmspe:0.103283\ttrain-rmspe:0.091981\n",
      "[265]\teval-rmspe:0.103237\ttrain-rmspe:0.091897\n",
      "[266]\teval-rmspe:0.103219\ttrain-rmspe:0.091401\n",
      "[267]\teval-rmspe:0.102933\ttrain-rmspe:0.091173\n",
      "[268]\teval-rmspe:0.102925\ttrain-rmspe:0.091049\n",
      "[269]\teval-rmspe:0.102763\ttrain-rmspe:0.090787\n",
      "[270]\teval-rmspe:0.102709\ttrain-rmspe:0.090681\n",
      "[271]\teval-rmspe:0.102527\ttrain-rmspe:0.090399\n",
      "[272]\teval-rmspe:0.102503\ttrain-rmspe:0.090336\n",
      "[273]\teval-rmspe:0.102473\ttrain-rmspe:0.090216\n",
      "[274]\teval-rmspe:0.102447\ttrain-rmspe:0.090156\n",
      "[275]\teval-rmspe:0.102362\ttrain-rmspe:0.090028\n",
      "[276]\teval-rmspe:0.102301\ttrain-rmspe:0.089850\n",
      "[277]\teval-rmspe:0.102239\ttrain-rmspe:0.089670\n",
      "[278]\teval-rmspe:0.102230\ttrain-rmspe:0.089587\n",
      "[279]\teval-rmspe:0.102210\ttrain-rmspe:0.089507\n",
      "[280]\teval-rmspe:0.102201\ttrain-rmspe:0.089295\n",
      "[281]\teval-rmspe:0.102183\ttrain-rmspe:0.089215\n",
      "[282]\teval-rmspe:0.102062\ttrain-rmspe:0.089075\n",
      "[283]\teval-rmspe:0.101935\ttrain-rmspe:0.088841\n",
      "[284]\teval-rmspe:0.101873\ttrain-rmspe:0.088706\n",
      "[285]\teval-rmspe:0.101824\ttrain-rmspe:0.088632\n",
      "[286]\teval-rmspe:0.101802\ttrain-rmspe:0.088498\n",
      "[287]\teval-rmspe:0.101772\ttrain-rmspe:0.088415\n",
      "[288]\teval-rmspe:0.101769\ttrain-rmspe:0.088356\n",
      "[289]\teval-rmspe:0.101747\ttrain-rmspe:0.088287\n",
      "[290]\teval-rmspe:0.101651\ttrain-rmspe:0.088175\n",
      "[291]\teval-rmspe:0.101631\ttrain-rmspe:0.088130\n",
      "[292]\teval-rmspe:0.101616\ttrain-rmspe:0.088092\n",
      "[293]\teval-rmspe:0.101556\ttrain-rmspe:0.087995\n",
      "[294]\teval-rmspe:0.101516\ttrain-rmspe:0.087941\n",
      "[295]\teval-rmspe:0.101628\ttrain-rmspe:0.087749\n",
      "[296]\teval-rmspe:0.101600\ttrain-rmspe:0.087611\n",
      "[297]\teval-rmspe:0.101593\ttrain-rmspe:0.087582\n",
      "[298]\teval-rmspe:0.101568\ttrain-rmspe:0.087490\n",
      "[299]\teval-rmspe:0.101488\ttrain-rmspe:0.087390\n"
     ]
    }
   ],
   "source": [
    "# X_train, X_test = cross_validation.train_test_split(train, test_size=0.0118)\n",
    "dtrain = xgb.DMatrix(x_tr.values, np.log(y_tr.values + 1))\n",
    "dvalid = xgb.DMatrix(x_cv.values, np.log(y_cv.values + 1))\n",
    "# dtest = xgb.DMatrix(test[features].as_matrix())\n",
    "watchlist = [(dvalid, 'eval'), (dtrain, 'train')]\n",
    "gbm = xgb.train(params, dtrain, num_trees, evals=watchlist, early_stopping_rounds=stop, feval=rmspe_xg, verbose_eval=True)"
   ]
  },
  {
   "cell_type": "markdown",
   "metadata": {},
   "source": [
    "### 2. Prepare test data and predict "
   ]
  },
  {
   "cell_type": "code",
   "execution_count": 86,
   "metadata": {
    "collapsed": false
   },
   "outputs": [
    {
     "name": "stdout",
     "output_type": "stream",
     "text": [
      "CPU times: user 24.4 s, sys: 696 ms, total: 25.1 s\n",
      "Wall time: 10.1 s\n"
     ]
    }
   ],
   "source": [
    "%%time\n",
    "from sklearn.ensemble import RandomForestClassifier\n",
    "clf = RandomForestClassifier(n_estimators=10, n_jobs=3, random_state=42)\n",
    "clf.fit(train[features[:-1]], train.ZeroSales)\n",
    "zeros = clf.predict(test[features[:-1]])"
   ]
  },
  {
   "cell_type": "code",
   "execution_count": 95,
   "metadata": {
    "collapsed": false
   },
   "outputs": [
    {
     "name": "stderr",
     "output_type": "stream",
     "text": [
      "/usr/local/lib/python2.7/dist-packages/ipykernel/__main__.py:4: SettingWithCopyWarning: \n",
      "A value is trying to be set on a copy of a slice from a DataFrame.\n",
      "Try using .loc[row_indexer,col_indexer] = value instead\n",
      "\n",
      "See the the caveats in the documentation: http://pandas.pydata.org/pandas-docs/stable/indexing.html#indexing-view-versus-copy\n"
     ]
    }
   ],
   "source": [
    "test['ZeroSales'] = zeros\n",
    "train_ws = pd.concat([train[features], train.Sales], axis=1)\n",
    "test_ws = test[features]\n",
    "test_ws['Sales'] = 0"
   ]
  },
  {
   "cell_type": "code",
   "execution_count": 48,
   "metadata": {
    "collapsed": false
   },
   "outputs": [
    {
     "name": "stdout",
     "output_type": "stream",
     "text": [
      "('error', 0.10810610696646081)\n"
     ]
    }
   ],
   "source": [
    "# Validate predictions\n",
    "train_probs = gbm.predict(xgb.DMatrix(X_test[features].as_matrix()))\n",
    "indices = train_probs < 0\n",
    "train_probs[indices] = 0\n",
    "error = rmspe(np.exp(train_probs) - 1, X_test['Sales'].values)\n",
    "print('error', error)"
   ]
  },
  {
   "cell_type": "code",
   "execution_count": 49,
   "metadata": {
    "collapsed": false
   },
   "outputs": [],
   "source": [
    "#Make predictions on the test set\n",
    "test_probs = gbm.predict(xgb.DMatrix(test[features].as_matrix()))\n",
    "indices = test_probs < 0\n",
    "test_probs[indices] = 0"
   ]
  },
  {
   "cell_type": "code",
   "execution_count": 50,
   "metadata": {
    "collapsed": false
   },
   "outputs": [],
   "source": [
    "submission = pd.DataFrame({\"Id\": test[\"Id\"], \"Sales\": np.exp(test_probs) - 1})\n",
    "submission.to_csv(\"submit.csv\", index=False)"
   ]
  },
  {
   "cell_type": "code",
   "execution_count": null,
   "metadata": {
    "collapsed": true
   },
   "outputs": [],
   "source": []
  }
 ],
 "metadata": {
  "kernelspec": {
   "display_name": "Python 2",
   "language": "python",
   "name": "python2"
  },
  "language_info": {
   "codemirror_mode": {
    "name": "ipython",
    "version": 2
   },
   "file_extension": ".py",
   "mimetype": "text/x-python",
   "name": "python",
   "nbconvert_exporter": "python",
   "pygments_lexer": "ipython2",
   "version": "2.7.6"
  }
 },
 "nbformat": 4,
 "nbformat_minor": 0
}
